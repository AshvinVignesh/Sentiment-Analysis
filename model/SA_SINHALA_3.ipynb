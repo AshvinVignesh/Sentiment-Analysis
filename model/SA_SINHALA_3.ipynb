{
  "nbformat": 4,
  "nbformat_minor": 0,
  "metadata": {
    "colab": {
      "provenance": [],
      "authorship_tag": "ABX9TyMS9cVHhSVb5KSaIZ8S9mhE",
      "include_colab_link": true
    },
    "kernelspec": {
      "name": "python3",
      "display_name": "Python 3"
    },
    "language_info": {
      "name": "python"
    }
  },
  "cells": [
    {
      "cell_type": "markdown",
      "metadata": {
        "id": "view-in-github",
        "colab_type": "text"
      },
      "source": [
        "<a href=\"https://colab.research.google.com/github/AshvinVignesh/Sentiment-Analysis/blob/master/model/SA_SINHALA_3.ipynb\" target=\"_parent\"><img src=\"https://colab.research.google.com/assets/colab-badge.svg\" alt=\"Open In Colab\"/></a>"
      ]
    },
    {
      "cell_type": "code",
      "source": [
        "!pip install emoji==1.2.0"
      ],
      "metadata": {
        "colab": {
          "base_uri": "https://localhost:8080/"
        },
        "id": "k65O7NBUZj4Y",
        "outputId": "15289bf8-9690-4d29-c907-3776e64beae0"
      },
      "execution_count": 1,
      "outputs": [
        {
          "output_type": "stream",
          "name": "stdout",
          "text": [
            "Looking in indexes: https://pypi.org/simple, https://us-python.pkg.dev/colab-wheels/public/simple/\n",
            "Collecting emoji==1.2.0\n",
            "  Downloading emoji-1.2.0-py3-none-any.whl (131 kB)\n",
            "\u001b[2K     \u001b[90m━━━━━━━━━━━━━━━━━━━━━━━━━━━━━━━━━━━━━━━\u001b[0m \u001b[32m131.3/131.3 KB\u001b[0m \u001b[31m5.2 MB/s\u001b[0m eta \u001b[36m0:00:00\u001b[0m\n",
            "\u001b[?25hInstalling collected packages: emoji\n",
            "Successfully installed emoji-1.2.0\n"
          ]
        }
      ]
    },
    {
      "cell_type": "code",
      "execution_count": 2,
      "metadata": {
        "colab": {
          "base_uri": "https://localhost:8080/"
        },
        "id": "8vMPVEgpyi7k",
        "outputId": "a5321e7f-49f5-4e65-9d44-806dcffdbfde"
      },
      "outputs": [
        {
          "output_type": "stream",
          "name": "stdout",
          "text": [
            "Looking in indexes: https://pypi.org/simple, https://us-python.pkg.dev/colab-wheels/public/simple/\n",
            "Collecting sinling\n",
            "  Downloading sinling-0.3.6-py3-none-any.whl (20.0 MB)\n",
            "\u001b[2K     \u001b[90m━━━━━━━━━━━━━━━━━━━━━━━━━━━━━━━━━━━━━━━━\u001b[0m \u001b[32m20.0/20.0 MB\u001b[0m \u001b[31m68.0 MB/s\u001b[0m eta \u001b[36m0:00:00\u001b[0m\n",
            "\u001b[?25hRequirement already satisfied: nltk in /usr/local/lib/python3.9/dist-packages (from sinling) (3.8.1)\n",
            "Collecting pygtrie\n",
            "  Downloading pygtrie-2.5.0-py3-none-any.whl (25 kB)\n",
            "Requirement already satisfied: emoji in /usr/local/lib/python3.9/dist-packages (from sinling) (1.2.0)\n",
            "Collecting sklearn-crfsuite\n",
            "  Downloading sklearn_crfsuite-0.3.6-py2.py3-none-any.whl (12 kB)\n",
            "Requirement already satisfied: joblib in /usr/local/lib/python3.9/dist-packages (from sinling) (1.1.1)\n",
            "Requirement already satisfied: tqdm in /usr/local/lib/python3.9/dist-packages (from nltk->sinling) (4.65.0)\n",
            "Requirement already satisfied: click in /usr/local/lib/python3.9/dist-packages (from nltk->sinling) (8.1.3)\n",
            "Requirement already satisfied: regex>=2021.8.3 in /usr/local/lib/python3.9/dist-packages (from nltk->sinling) (2022.10.31)\n",
            "Requirement already satisfied: tabulate in /usr/local/lib/python3.9/dist-packages (from sklearn-crfsuite->sinling) (0.8.10)\n",
            "Collecting python-crfsuite>=0.8.3\n",
            "  Downloading python_crfsuite-0.9.9-cp39-cp39-manylinux_2_17_x86_64.manylinux2014_x86_64.whl (1.0 MB)\n",
            "\u001b[2K     \u001b[90m━━━━━━━━━━━━━━━━━━━━━━━━━━━━━━━━━━━━━━━━\u001b[0m \u001b[32m1.0/1.0 MB\u001b[0m \u001b[31m60.3 MB/s\u001b[0m eta \u001b[36m0:00:00\u001b[0m\n",
            "\u001b[?25hRequirement already satisfied: six in /usr/local/lib/python3.9/dist-packages (from sklearn-crfsuite->sinling) (1.16.0)\n",
            "Installing collected packages: python-crfsuite, pygtrie, sklearn-crfsuite, sinling\n",
            "Successfully installed pygtrie-2.5.0 python-crfsuite-0.9.9 sinling-0.3.6 sklearn-crfsuite-0.3.6\n"
          ]
        }
      ],
      "source": [
        "!pip install sinling"
      ]
    },
    {
      "cell_type": "code",
      "source": [
        "!pip install advertools"
      ],
      "metadata": {
        "colab": {
          "base_uri": "https://localhost:8080/"
        },
        "id": "rEUMYrpqzMxu",
        "outputId": "2ad16071-b876-480b-9921-235b7ac7fa35"
      },
      "execution_count": 3,
      "outputs": [
        {
          "output_type": "stream",
          "name": "stdout",
          "text": [
            "Looking in indexes: https://pypi.org/simple, https://us-python.pkg.dev/colab-wheels/public/simple/\n",
            "Collecting advertools\n",
            "  Downloading advertools-0.13.2-py2.py3-none-any.whl (310 kB)\n",
            "\u001b[2K     \u001b[90m━━━━━━━━━━━━━━━━━━━━━━━━━━━━━━━━━━━━━━━\u001b[0m \u001b[32m310.1/310.1 KB\u001b[0m \u001b[31m6.0 MB/s\u001b[0m eta \u001b[36m0:00:00\u001b[0m\n",
            "\u001b[?25hCollecting scrapy>=2.5.0\n",
            "  Downloading Scrapy-2.8.0-py2.py3-none-any.whl (272 kB)\n",
            "\u001b[2K     \u001b[90m━━━━━━━━━━━━━━━━━━━━━━━━━━━━━━━━━━━━━━\u001b[0m \u001b[32m272.9/272.9 KB\u001b[0m \u001b[31m23.4 MB/s\u001b[0m eta \u001b[36m0:00:00\u001b[0m\n",
            "\u001b[?25hCollecting twython>=3.8.0\n",
            "  Downloading twython-3.9.1-py3-none-any.whl (33 kB)\n",
            "Requirement already satisfied: pyarrow>=5.0.0 in /usr/local/lib/python3.9/dist-packages (from advertools) (9.0.0)\n",
            "Requirement already satisfied: pyasn1>=0.4 in /usr/local/lib/python3.9/dist-packages (from advertools) (0.4.8)\n",
            "Requirement already satisfied: pandas>=1.1.0 in /usr/local/lib/python3.9/dist-packages (from advertools) (1.4.4)\n",
            "Requirement already satisfied: numpy>=1.18.5 in /usr/local/lib/python3.9/dist-packages (from pandas>=1.1.0->advertools) (1.22.4)\n",
            "Requirement already satisfied: python-dateutil>=2.8.1 in /usr/local/lib/python3.9/dist-packages (from pandas>=1.1.0->advertools) (2.8.2)\n",
            "Requirement already satisfied: pytz>=2020.1 in /usr/local/lib/python3.9/dist-packages (from pandas>=1.1.0->advertools) (2022.7.1)\n",
            "Collecting tldextract\n",
            "  Downloading tldextract-3.4.0-py3-none-any.whl (93 kB)\n",
            "\u001b[2K     \u001b[90m━━━━━━━━━━━━━━━━━━━━━━━━━━━━━━━━━━━━━━━━\u001b[0m \u001b[32m93.9/93.9 KB\u001b[0m \u001b[31m11.6 MB/s\u001b[0m eta \u001b[36m0:00:00\u001b[0m\n",
            "\u001b[?25hRequirement already satisfied: packaging in /usr/local/lib/python3.9/dist-packages (from scrapy>=2.5.0->advertools) (23.0)\n",
            "Collecting w3lib>=1.17.0\n",
            "  Downloading w3lib-2.1.1-py3-none-any.whl (21 kB)\n",
            "Collecting service-identity>=18.1.0\n",
            "  Downloading service_identity-21.1.0-py2.py3-none-any.whl (12 kB)\n",
            "Collecting zope.interface>=5.1.0\n",
            "  Downloading zope.interface-6.0-cp39-cp39-manylinux_2_5_x86_64.manylinux1_x86_64.manylinux_2_17_x86_64.manylinux2014_x86_64.whl (246 kB)\n",
            "\u001b[2K     \u001b[90m━━━━━━━━━━━━━━━━━━━━━━━━━━━━━━━━━━━━━━\u001b[0m \u001b[32m246.1/246.1 KB\u001b[0m \u001b[31m19.5 MB/s\u001b[0m eta \u001b[36m0:00:00\u001b[0m\n",
            "\u001b[?25hCollecting itemloaders>=1.0.1\n",
            "  Downloading itemloaders-1.0.6-py3-none-any.whl (11 kB)\n",
            "Collecting pyOpenSSL>=21.0.0\n",
            "  Downloading pyOpenSSL-23.1.1-py3-none-any.whl (57 kB)\n",
            "\u001b[2K     \u001b[90m━━━━━━━━━━━━━━━━━━━━━━━━━━━━━━━━━━━━━━━━\u001b[0m \u001b[32m57.9/57.9 KB\u001b[0m \u001b[31m6.7 MB/s\u001b[0m eta \u001b[36m0:00:00\u001b[0m\n",
            "\u001b[?25hCollecting queuelib>=1.4.2\n",
            "  Downloading queuelib-1.6.2-py2.py3-none-any.whl (13 kB)\n",
            "Collecting protego>=0.1.15\n",
            "  Downloading Protego-0.2.1-py2.py3-none-any.whl (8.2 kB)\n",
            "Collecting PyDispatcher>=2.0.5\n",
            "  Downloading PyDispatcher-2.0.7-py3-none-any.whl (12 kB)\n",
            "Requirement already satisfied: lxml>=4.3.0 in /usr/local/lib/python3.9/dist-packages (from scrapy>=2.5.0->advertools) (4.9.2)\n",
            "Collecting Twisted>=18.9.0\n",
            "  Downloading Twisted-22.10.0-py3-none-any.whl (3.1 MB)\n",
            "\u001b[2K     \u001b[90m━━━━━━━━━━━━━━━━━━━━━━━━━━━━━━━━━━━━━━━━\u001b[0m \u001b[32m3.1/3.1 MB\u001b[0m \u001b[31m34.1 MB/s\u001b[0m eta \u001b[36m0:00:00\u001b[0m\n",
            "\u001b[?25hCollecting itemadapter>=0.1.0\n",
            "  Downloading itemadapter-0.8.0-py3-none-any.whl (11 kB)\n",
            "Requirement already satisfied: setuptools in /usr/local/lib/python3.9/dist-packages (from scrapy>=2.5.0->advertools) (67.6.1)\n",
            "Collecting cssselect>=0.9.1\n",
            "  Downloading cssselect-1.2.0-py2.py3-none-any.whl (18 kB)\n",
            "Requirement already satisfied: cryptography>=3.4.6 in /usr/local/lib/python3.9/dist-packages (from scrapy>=2.5.0->advertools) (40.0.1)\n",
            "Collecting parsel>=1.5.0\n",
            "  Downloading parsel-1.7.0-py2.py3-none-any.whl (14 kB)\n",
            "Requirement already satisfied: requests-oauthlib>=0.4.0 in /usr/local/lib/python3.9/dist-packages (from twython>=3.8.0->advertools) (1.3.1)\n",
            "Requirement already satisfied: requests>=2.1.0 in /usr/local/lib/python3.9/dist-packages (from twython>=3.8.0->advertools) (2.27.1)\n",
            "Requirement already satisfied: cffi>=1.12 in /usr/local/lib/python3.9/dist-packages (from cryptography>=3.4.6->scrapy>=2.5.0->advertools) (1.15.1)\n",
            "Collecting jmespath>=0.9.5\n",
            "  Downloading jmespath-1.0.1-py3-none-any.whl (20 kB)\n",
            "Requirement already satisfied: six in /usr/local/lib/python3.9/dist-packages (from protego>=0.1.15->scrapy>=2.5.0->advertools) (1.16.0)\n",
            "Requirement already satisfied: urllib3<1.27,>=1.21.1 in /usr/local/lib/python3.9/dist-packages (from requests>=2.1.0->twython>=3.8.0->advertools) (1.26.15)\n",
            "Requirement already satisfied: idna<4,>=2.5 in /usr/local/lib/python3.9/dist-packages (from requests>=2.1.0->twython>=3.8.0->advertools) (3.4)\n",
            "Requirement already satisfied: certifi>=2017.4.17 in /usr/local/lib/python3.9/dist-packages (from requests>=2.1.0->twython>=3.8.0->advertools) (2022.12.7)\n",
            "Requirement already satisfied: charset-normalizer~=2.0.0 in /usr/local/lib/python3.9/dist-packages (from requests>=2.1.0->twython>=3.8.0->advertools) (2.0.12)\n",
            "Requirement already satisfied: oauthlib>=3.0.0 in /usr/local/lib/python3.9/dist-packages (from requests-oauthlib>=0.4.0->twython>=3.8.0->advertools) (3.2.2)\n",
            "Requirement already satisfied: attrs>=19.1.0 in /usr/local/lib/python3.9/dist-packages (from service-identity>=18.1.0->scrapy>=2.5.0->advertools) (22.2.0)\n",
            "Requirement already satisfied: pyasn1-modules in /usr/local/lib/python3.9/dist-packages (from service-identity>=18.1.0->scrapy>=2.5.0->advertools) (0.2.8)\n",
            "Collecting hyperlink>=17.1.1\n",
            "  Downloading hyperlink-21.0.0-py2.py3-none-any.whl (74 kB)\n",
            "\u001b[2K     \u001b[90m━━━━━━━━━━━━━━━━━━━━━━━━━━━━━━━━━━━━━━━━\u001b[0m \u001b[32m74.6/74.6 KB\u001b[0m \u001b[31m8.5 MB/s\u001b[0m eta \u001b[36m0:00:00\u001b[0m\n",
            "\u001b[?25hRequirement already satisfied: typing-extensions>=3.6.5 in /usr/local/lib/python3.9/dist-packages (from Twisted>=18.9.0->scrapy>=2.5.0->advertools) (4.5.0)\n",
            "Collecting incremental>=21.3.0\n",
            "  Downloading incremental-22.10.0-py2.py3-none-any.whl (16 kB)\n",
            "Collecting constantly>=15.1\n",
            "  Downloading constantly-15.1.0-py2.py3-none-any.whl (7.9 kB)\n",
            "Collecting Automat>=0.8.0\n",
            "  Downloading Automat-22.10.0-py2.py3-none-any.whl (26 kB)\n",
            "Requirement already satisfied: filelock>=3.0.8 in /usr/local/lib/python3.9/dist-packages (from tldextract->scrapy>=2.5.0->advertools) (3.10.7)\n",
            "Collecting requests-file>=1.4\n",
            "  Downloading requests_file-1.5.1-py2.py3-none-any.whl (3.7 kB)\n",
            "Requirement already satisfied: pycparser in /usr/local/lib/python3.9/dist-packages (from cffi>=1.12->cryptography>=3.4.6->scrapy>=2.5.0->advertools) (2.21)\n",
            "Installing collected packages: PyDispatcher, incremental, constantly, zope.interface, w3lib, queuelib, protego, jmespath, itemadapter, hyperlink, cssselect, Automat, Twisted, requests-file, parsel, twython, tldextract, service-identity, pyOpenSSL, itemloaders, scrapy, advertools\n",
            "Successfully installed Automat-22.10.0 PyDispatcher-2.0.7 Twisted-22.10.0 advertools-0.13.2 constantly-15.1.0 cssselect-1.2.0 hyperlink-21.0.0 incremental-22.10.0 itemadapter-0.8.0 itemloaders-1.0.6 jmespath-1.0.1 parsel-1.7.0 protego-0.2.1 pyOpenSSL-23.1.1 queuelib-1.6.2 requests-file-1.5.1 scrapy-2.8.0 service-identity-21.1.0 tldextract-3.4.0 twython-3.9.1 w3lib-2.1.1 zope.interface-6.0\n"
          ]
        }
      ]
    },
    {
      "cell_type": "code",
      "source": [
        "!pip install translate"
      ],
      "metadata": {
        "colab": {
          "base_uri": "https://localhost:8080/"
        },
        "id": "uzm_tdnzzpLZ",
        "outputId": "e178ed2d-c018-4554-b319-acca2fa27c60"
      },
      "execution_count": 4,
      "outputs": [
        {
          "output_type": "stream",
          "name": "stdout",
          "text": [
            "Looking in indexes: https://pypi.org/simple, https://us-python.pkg.dev/colab-wheels/public/simple/\n",
            "Collecting translate\n",
            "  Downloading translate-3.6.1-py2.py3-none-any.whl (12 kB)\n",
            "Collecting libretranslatepy==2.1.1\n",
            "  Downloading libretranslatepy-2.1.1-py3-none-any.whl (3.2 kB)\n",
            "Requirement already satisfied: click in /usr/local/lib/python3.9/dist-packages (from translate) (8.1.3)\n",
            "Requirement already satisfied: requests in /usr/local/lib/python3.9/dist-packages (from translate) (2.27.1)\n",
            "Requirement already satisfied: lxml in /usr/local/lib/python3.9/dist-packages (from translate) (4.9.2)\n",
            "Requirement already satisfied: urllib3<1.27,>=1.21.1 in /usr/local/lib/python3.9/dist-packages (from requests->translate) (1.26.15)\n",
            "Requirement already satisfied: certifi>=2017.4.17 in /usr/local/lib/python3.9/dist-packages (from requests->translate) (2022.12.7)\n",
            "Requirement already satisfied: charset-normalizer~=2.0.0 in /usr/local/lib/python3.9/dist-packages (from requests->translate) (2.0.12)\n",
            "Requirement already satisfied: idna<4,>=2.5 in /usr/local/lib/python3.9/dist-packages (from requests->translate) (3.4)\n",
            "Installing collected packages: libretranslatepy, translate\n",
            "Successfully installed libretranslatepy-2.1.1 translate-3.6.1\n"
          ]
        }
      ]
    },
    {
      "cell_type": "code",
      "source": [
        "!pip install pyenchant  "
      ],
      "metadata": {
        "colab": {
          "base_uri": "https://localhost:8080/"
        },
        "id": "OPXSRyjIzxI2",
        "outputId": "5b240722-f515-4322-b920-df725dffcacc"
      },
      "execution_count": 5,
      "outputs": [
        {
          "output_type": "stream",
          "name": "stdout",
          "text": [
            "Looking in indexes: https://pypi.org/simple, https://us-python.pkg.dev/colab-wheels/public/simple/\n",
            "Collecting pyenchant\n",
            "  Downloading pyenchant-3.2.2-py3-none-any.whl (55 kB)\n",
            "\u001b[?25l     \u001b[90m━━━━━━━━━━━━━━━━━━━━━━━━━━━━━━━━━━━━━━━━\u001b[0m \u001b[32m0.0/55.7 KB\u001b[0m \u001b[31m?\u001b[0m eta \u001b[36m-:--:--\u001b[0m\r\u001b[2K     \u001b[90m━━━━━━━━━━━━━━━━━━━━━━━━━━━━━━━━━━━━━━━━\u001b[0m \u001b[32m55.7/55.7 KB\u001b[0m \u001b[31m6.1 MB/s\u001b[0m eta \u001b[36m0:00:00\u001b[0m\n",
            "\u001b[?25hInstalling collected packages: pyenchant\n",
            "Successfully installed pyenchant-3.2.2\n"
          ]
        }
      ]
    },
    {
      "cell_type": "code",
      "source": [
        "!pip install demoji"
      ],
      "metadata": {
        "colab": {
          "base_uri": "https://localhost:8080/"
        },
        "id": "4SujFhsCYeX8",
        "outputId": "cec16886-7728-44f8-977c-501c8ec8479f"
      },
      "execution_count": 6,
      "outputs": [
        {
          "output_type": "stream",
          "name": "stdout",
          "text": [
            "Looking in indexes: https://pypi.org/simple, https://us-python.pkg.dev/colab-wheels/public/simple/\n",
            "Collecting demoji\n",
            "  Downloading demoji-1.1.0-py3-none-any.whl (42 kB)\n",
            "\u001b[2K     \u001b[90m━━━━━━━━━━━━━━━━━━━━━━━━━━━━━━━━━━━━━━━━\u001b[0m \u001b[32m42.9/42.9 KB\u001b[0m \u001b[31m2.4 MB/s\u001b[0m eta \u001b[36m0:00:00\u001b[0m\n",
            "\u001b[?25hInstalling collected packages: demoji\n",
            "Successfully installed demoji-1.1.0\n"
          ]
        }
      ]
    },
    {
      "cell_type": "code",
      "source": [
        "# nltk.download('wordnet')"
      ],
      "metadata": {
        "id": "fadkDxIXBZv8"
      },
      "execution_count": 7,
      "outputs": []
    },
    {
      "cell_type": "code",
      "source": [
        "from sinling import SinhalaTokenizer as tokenizer,SinhalaStemmer as stemmer, POSTagger,preprocess, word_joiner,word_splitter\n",
        "# from nltk.tokenize import sent_tokenize,word_tokenize,TweetTokenizer\n",
        "# from nltk.probability import FreqDist\n",
        "# import advertools as adv\n",
        "# from pathlib import Path\n",
        "import string\n",
        "\n",
        "import numpy as np\n",
        "import pandas as pd\n",
        "\n",
        "import matplotlib.pyplot as plt\n",
        "import seaborn as sns\n",
        "\n",
        "from sklearn.linear_model import LogisticRegression\n",
        "from sklearn.model_selection import train_test_split, GridSearchCV\n",
        "from sklearn.pipeline import Pipeline\n",
        "from sklearn import metrics\n",
        "from sklearn.metrics import accuracy_score, recall_score, precision_score, confusion_matrix,classification_report,ConfusionMatrixDisplay\n",
        "\n",
        "from sklearn.feature_extraction.text import TfidfVectorizer,CountVectorizer\n",
        "from sklearn.naive_bayes import MultinomialNB,GaussianNB,BernoulliNB\n",
        "from sklearn import linear_model\n",
        "\n",
        "import codecs\n",
        "import nltk\n",
        "nltk.download('punkt')\n",
        "import re\n",
        "\n",
        "from nltk.corpus import stopwords\n",
        "from collections import Counter\n",
        "\n",
        "from nltk.tokenize.treebank import TreebankWordDetokenizer as Detok\n",
        "from nltk.tokenize.treebank import TreebankWordDetokenizer\n"
      ],
      "metadata": {
        "colab": {
          "base_uri": "https://localhost:8080/"
        },
        "id": "FRP4GHA8z2DH",
        "outputId": "6c857267-4437-451a-d8a9-7433e1834f99"
      },
      "execution_count": 107,
      "outputs": [
        {
          "output_type": "stream",
          "name": "stderr",
          "text": [
            "[nltk_data] Downloading package punkt to /root/nltk_data...\n",
            "[nltk_data]   Package punkt is already up-to-date!\n"
          ]
        }
      ]
    },
    {
      "cell_type": "code",
      "source": [
        "tweet = pd.read_csv('/content/NewDatasets.txt')"
      ],
      "metadata": {
        "id": "pg1Sfy410d85"
      },
      "execution_count": 9,
      "outputs": []
    },
    {
      "cell_type": "code",
      "source": [
        "tweet.head(10)"
      ],
      "metadata": {
        "id": "6ytKM-AgRQ7B",
        "outputId": "d5add15a-71be-44ef-b1df-5b98bac5164a",
        "colab": {
          "base_uri": "https://localhost:8080/",
          "height": 363
        }
      },
      "execution_count": 10,
      "outputs": [
        {
          "output_type": "execute_result",
          "data": {
            "text/plain": [
              "                                                Text      Class\n",
              "0  \"RT @IndrajithLk: \"ඝරසරප\" චිත්‍රපටය, පහළ තියෙන...    Neutral\n",
              "1  \"@NightWingzzz @lishwebber @Nimezzz මොකක් හරි ...    Neutral\n",
              "2  \"@dead_mans_creed @Wind_Desika කිමද මේ තරම් කො...    Neutral\n",
              "3  \"@MrThila_ @maalupaan @punchi_kella @anuwa01 @...    Neutral\n",
              "4  \"විමලයා ගොනෙක් වගෙ stage එකෙ මෑරෙන්න හදනවා.......  Political\n",
              "5  \"RT @SaliyaT_R: @fernandoharin ලැජ්ජයි ස⁣හෝදරය...     Racist\n",
              "6  \"@fernandoharin ලැජ්ජයි ස⁣හෝදරයා මේ යන විදිහ ද...     Racist\n",
              "7  \"@She_is_Nu @nthathsaranii ඇයි මං තම්බි වගේද ප...    Neutral\n",
              "8  \"@Sagara_9 ඉටිම් බං උතුර ඉල්ලනසෙට් එකයි නැගෙනහ...     Racist\n",
              "9  \"RT @SaliyaT_R: පේනවානේ තම්බි කවදත් ඉන්නේ උන්ට...     Racist"
            ],
            "text/html": [
              "\n",
              "  <div id=\"df-45693ec2-fbf3-4f6c-a28a-e8d808ddd184\">\n",
              "    <div class=\"colab-df-container\">\n",
              "      <div>\n",
              "<style scoped>\n",
              "    .dataframe tbody tr th:only-of-type {\n",
              "        vertical-align: middle;\n",
              "    }\n",
              "\n",
              "    .dataframe tbody tr th {\n",
              "        vertical-align: top;\n",
              "    }\n",
              "\n",
              "    .dataframe thead th {\n",
              "        text-align: right;\n",
              "    }\n",
              "</style>\n",
              "<table border=\"1\" class=\"dataframe\">\n",
              "  <thead>\n",
              "    <tr style=\"text-align: right;\">\n",
              "      <th></th>\n",
              "      <th>Text</th>\n",
              "      <th>Class</th>\n",
              "    </tr>\n",
              "  </thead>\n",
              "  <tbody>\n",
              "    <tr>\n",
              "      <th>0</th>\n",
              "      <td>\"RT @IndrajithLk: \"ඝරසරප\" චිත්‍රපටය, පහළ තියෙන...</td>\n",
              "      <td>Neutral</td>\n",
              "    </tr>\n",
              "    <tr>\n",
              "      <th>1</th>\n",
              "      <td>\"@NightWingzzz @lishwebber @Nimezzz මොකක් හරි ...</td>\n",
              "      <td>Neutral</td>\n",
              "    </tr>\n",
              "    <tr>\n",
              "      <th>2</th>\n",
              "      <td>\"@dead_mans_creed @Wind_Desika කිමද මේ තරම් කො...</td>\n",
              "      <td>Neutral</td>\n",
              "    </tr>\n",
              "    <tr>\n",
              "      <th>3</th>\n",
              "      <td>\"@MrThila_ @maalupaan @punchi_kella @anuwa01 @...</td>\n",
              "      <td>Neutral</td>\n",
              "    </tr>\n",
              "    <tr>\n",
              "      <th>4</th>\n",
              "      <td>\"විමලයා ගොනෙක් වගෙ stage එකෙ මෑරෙන්න හදනවා.......</td>\n",
              "      <td>Political</td>\n",
              "    </tr>\n",
              "    <tr>\n",
              "      <th>5</th>\n",
              "      <td>\"RT @SaliyaT_R: @fernandoharin ලැජ්ජයි ස⁣හෝදරය...</td>\n",
              "      <td>Racist</td>\n",
              "    </tr>\n",
              "    <tr>\n",
              "      <th>6</th>\n",
              "      <td>\"@fernandoharin ලැජ්ජයි ස⁣හෝදරයා මේ යන විදිහ ද...</td>\n",
              "      <td>Racist</td>\n",
              "    </tr>\n",
              "    <tr>\n",
              "      <th>7</th>\n",
              "      <td>\"@She_is_Nu @nthathsaranii ඇයි මං තම්බි වගේද ප...</td>\n",
              "      <td>Neutral</td>\n",
              "    </tr>\n",
              "    <tr>\n",
              "      <th>8</th>\n",
              "      <td>\"@Sagara_9 ඉටිම් බං උතුර ඉල්ලනසෙට් එකයි නැගෙනහ...</td>\n",
              "      <td>Racist</td>\n",
              "    </tr>\n",
              "    <tr>\n",
              "      <th>9</th>\n",
              "      <td>\"RT @SaliyaT_R: පේනවානේ තම්බි කවදත් ඉන්නේ උන්ට...</td>\n",
              "      <td>Racist</td>\n",
              "    </tr>\n",
              "  </tbody>\n",
              "</table>\n",
              "</div>\n",
              "      <button class=\"colab-df-convert\" onclick=\"convertToInteractive('df-45693ec2-fbf3-4f6c-a28a-e8d808ddd184')\"\n",
              "              title=\"Convert this dataframe to an interactive table.\"\n",
              "              style=\"display:none;\">\n",
              "        \n",
              "  <svg xmlns=\"http://www.w3.org/2000/svg\" height=\"24px\"viewBox=\"0 0 24 24\"\n",
              "       width=\"24px\">\n",
              "    <path d=\"M0 0h24v24H0V0z\" fill=\"none\"/>\n",
              "    <path d=\"M18.56 5.44l.94 2.06.94-2.06 2.06-.94-2.06-.94-.94-2.06-.94 2.06-2.06.94zm-11 1L8.5 8.5l.94-2.06 2.06-.94-2.06-.94L8.5 2.5l-.94 2.06-2.06.94zm10 10l.94 2.06.94-2.06 2.06-.94-2.06-.94-.94-2.06-.94 2.06-2.06.94z\"/><path d=\"M17.41 7.96l-1.37-1.37c-.4-.4-.92-.59-1.43-.59-.52 0-1.04.2-1.43.59L10.3 9.45l-7.72 7.72c-.78.78-.78 2.05 0 2.83L4 21.41c.39.39.9.59 1.41.59.51 0 1.02-.2 1.41-.59l7.78-7.78 2.81-2.81c.8-.78.8-2.07 0-2.86zM5.41 20L4 18.59l7.72-7.72 1.47 1.35L5.41 20z\"/>\n",
              "  </svg>\n",
              "      </button>\n",
              "      \n",
              "  <style>\n",
              "    .colab-df-container {\n",
              "      display:flex;\n",
              "      flex-wrap:wrap;\n",
              "      gap: 12px;\n",
              "    }\n",
              "\n",
              "    .colab-df-convert {\n",
              "      background-color: #E8F0FE;\n",
              "      border: none;\n",
              "      border-radius: 50%;\n",
              "      cursor: pointer;\n",
              "      display: none;\n",
              "      fill: #1967D2;\n",
              "      height: 32px;\n",
              "      padding: 0 0 0 0;\n",
              "      width: 32px;\n",
              "    }\n",
              "\n",
              "    .colab-df-convert:hover {\n",
              "      background-color: #E2EBFA;\n",
              "      box-shadow: 0px 1px 2px rgba(60, 64, 67, 0.3), 0px 1px 3px 1px rgba(60, 64, 67, 0.15);\n",
              "      fill: #174EA6;\n",
              "    }\n",
              "\n",
              "    [theme=dark] .colab-df-convert {\n",
              "      background-color: #3B4455;\n",
              "      fill: #D2E3FC;\n",
              "    }\n",
              "\n",
              "    [theme=dark] .colab-df-convert:hover {\n",
              "      background-color: #434B5C;\n",
              "      box-shadow: 0px 1px 3px 1px rgba(0, 0, 0, 0.15);\n",
              "      filter: drop-shadow(0px 1px 2px rgba(0, 0, 0, 0.3));\n",
              "      fill: #FFFFFF;\n",
              "    }\n",
              "  </style>\n",
              "\n",
              "      <script>\n",
              "        const buttonEl =\n",
              "          document.querySelector('#df-45693ec2-fbf3-4f6c-a28a-e8d808ddd184 button.colab-df-convert');\n",
              "        buttonEl.style.display =\n",
              "          google.colab.kernel.accessAllowed ? 'block' : 'none';\n",
              "\n",
              "        async function convertToInteractive(key) {\n",
              "          const element = document.querySelector('#df-45693ec2-fbf3-4f6c-a28a-e8d808ddd184');\n",
              "          const dataTable =\n",
              "            await google.colab.kernel.invokeFunction('convertToInteractive',\n",
              "                                                     [key], {});\n",
              "          if (!dataTable) return;\n",
              "\n",
              "          const docLinkHtml = 'Like what you see? Visit the ' +\n",
              "            '<a target=\"_blank\" href=https://colab.research.google.com/notebooks/data_table.ipynb>data table notebook</a>'\n",
              "            + ' to learn more about interactive tables.';\n",
              "          element.innerHTML = '';\n",
              "          dataTable['output_type'] = 'display_data';\n",
              "          await google.colab.output.renderOutput(dataTable, element);\n",
              "          const docLink = document.createElement('div');\n",
              "          docLink.innerHTML = docLinkHtml;\n",
              "          element.appendChild(docLink);\n",
              "        }\n",
              "      </script>\n",
              "    </div>\n",
              "  </div>\n",
              "  "
            ]
          },
          "metadata": {},
          "execution_count": 10
        }
      ]
    },
    {
      "cell_type": "code",
      "source": [
        "#load the crawed data\n",
        "#tweet = tweet[tweet.type != 'Text']#due to mistake when scraping, some rows are written as header repeatedly by mistake\n",
        "tweet = tweet.drop_duplicates() #drop duplicated rows\n",
        "print('We crawed {} Tweets which contain at least one concerned emoji from 2022-04-15 to 2022-05-28:'.format(len(tweet)))\n",
        "tweet"
      ],
      "metadata": {
        "colab": {
          "base_uri": "https://localhost:8080/",
          "height": 441
        },
        "id": "GDNitf-IRW48",
        "outputId": "1a6c01f4-1a89-4405-81bd-35fead15dee6"
      },
      "execution_count": 11,
      "outputs": [
        {
          "output_type": "stream",
          "name": "stdout",
          "text": [
            "We crawed 1679 Tweets which contain at least one concerned emoji from 2022-04-15 to 2022-05-28:\n"
          ]
        },
        {
          "output_type": "execute_result",
          "data": {
            "text/plain": [
              "                                                   Text      Class\n",
              "0     \"RT @IndrajithLk: \"ඝරසරප\" චිත්‍රපටය, පහළ තියෙන...    Neutral\n",
              "1     \"@NightWingzzz @lishwebber @Nimezzz මොකක් හරි ...    Neutral\n",
              "2     \"@dead_mans_creed @Wind_Desika කිමද මේ තරම් කො...    Neutral\n",
              "3     \"@MrThila_ @maalupaan @punchi_kella @anuwa01 @...    Neutral\n",
              "4     \"විමලයා ගොනෙක් වගෙ stage එකෙ මෑරෙන්න හදනවා.......  Political\n",
              "...                                                 ...        ...\n",
              "1705  \"පීටීඒ සහ අයිසීසීපීආර් පනත යටතේ වැරදි ලෙස ගොනු...     Racist\n",
              "1706  \"අරාබි රටවල් මුස්ලිම් නොවන සඳහා සුපිරි වෙළඳසැල...     Racist\n",
              "1707  \"22 හැවිරිදි මුස්ලිම් පිරිමි ළමයෙක් ඉස්ලාම් භී...     Racist\n",
              "1708  \"# ශ්‍රී ලංකාවේ මුස්ලිම් ප්‍රජාව වෙත එල්ල කරන ...     Racist\n",
              "1709  \"රාජ්‍ය අංශයේ කාන්තා ඇඳුම් පැළඳුම් සංග්‍රහය පි...     Racist\n",
              "\n",
              "[1679 rows x 2 columns]"
            ],
            "text/html": [
              "\n",
              "  <div id=\"df-437f6c71-8a25-4050-9451-ecf92265031d\">\n",
              "    <div class=\"colab-df-container\">\n",
              "      <div>\n",
              "<style scoped>\n",
              "    .dataframe tbody tr th:only-of-type {\n",
              "        vertical-align: middle;\n",
              "    }\n",
              "\n",
              "    .dataframe tbody tr th {\n",
              "        vertical-align: top;\n",
              "    }\n",
              "\n",
              "    .dataframe thead th {\n",
              "        text-align: right;\n",
              "    }\n",
              "</style>\n",
              "<table border=\"1\" class=\"dataframe\">\n",
              "  <thead>\n",
              "    <tr style=\"text-align: right;\">\n",
              "      <th></th>\n",
              "      <th>Text</th>\n",
              "      <th>Class</th>\n",
              "    </tr>\n",
              "  </thead>\n",
              "  <tbody>\n",
              "    <tr>\n",
              "      <th>0</th>\n",
              "      <td>\"RT @IndrajithLk: \"ඝරසරප\" චිත්‍රපටය, පහළ තියෙන...</td>\n",
              "      <td>Neutral</td>\n",
              "    </tr>\n",
              "    <tr>\n",
              "      <th>1</th>\n",
              "      <td>\"@NightWingzzz @lishwebber @Nimezzz මොකක් හරි ...</td>\n",
              "      <td>Neutral</td>\n",
              "    </tr>\n",
              "    <tr>\n",
              "      <th>2</th>\n",
              "      <td>\"@dead_mans_creed @Wind_Desika කිමද මේ තරම් කො...</td>\n",
              "      <td>Neutral</td>\n",
              "    </tr>\n",
              "    <tr>\n",
              "      <th>3</th>\n",
              "      <td>\"@MrThila_ @maalupaan @punchi_kella @anuwa01 @...</td>\n",
              "      <td>Neutral</td>\n",
              "    </tr>\n",
              "    <tr>\n",
              "      <th>4</th>\n",
              "      <td>\"විමලයා ගොනෙක් වගෙ stage එකෙ මෑරෙන්න හදනවා.......</td>\n",
              "      <td>Political</td>\n",
              "    </tr>\n",
              "    <tr>\n",
              "      <th>...</th>\n",
              "      <td>...</td>\n",
              "      <td>...</td>\n",
              "    </tr>\n",
              "    <tr>\n",
              "      <th>1705</th>\n",
              "      <td>\"පීටීඒ සහ අයිසීසීපීආර් පනත යටතේ වැරදි ලෙස ගොනු...</td>\n",
              "      <td>Racist</td>\n",
              "    </tr>\n",
              "    <tr>\n",
              "      <th>1706</th>\n",
              "      <td>\"අරාබි රටවල් මුස්ලිම් නොවන සඳහා සුපිරි වෙළඳසැල...</td>\n",
              "      <td>Racist</td>\n",
              "    </tr>\n",
              "    <tr>\n",
              "      <th>1707</th>\n",
              "      <td>\"22 හැවිරිදි මුස්ලිම් පිරිමි ළමයෙක් ඉස්ලාම් භී...</td>\n",
              "      <td>Racist</td>\n",
              "    </tr>\n",
              "    <tr>\n",
              "      <th>1708</th>\n",
              "      <td>\"# ශ්‍රී ලංකාවේ මුස්ලිම් ප්‍රජාව වෙත එල්ල කරන ...</td>\n",
              "      <td>Racist</td>\n",
              "    </tr>\n",
              "    <tr>\n",
              "      <th>1709</th>\n",
              "      <td>\"රාජ්‍ය අංශයේ කාන්තා ඇඳුම් පැළඳුම් සංග්‍රහය පි...</td>\n",
              "      <td>Racist</td>\n",
              "    </tr>\n",
              "  </tbody>\n",
              "</table>\n",
              "<p>1679 rows × 2 columns</p>\n",
              "</div>\n",
              "      <button class=\"colab-df-convert\" onclick=\"convertToInteractive('df-437f6c71-8a25-4050-9451-ecf92265031d')\"\n",
              "              title=\"Convert this dataframe to an interactive table.\"\n",
              "              style=\"display:none;\">\n",
              "        \n",
              "  <svg xmlns=\"http://www.w3.org/2000/svg\" height=\"24px\"viewBox=\"0 0 24 24\"\n",
              "       width=\"24px\">\n",
              "    <path d=\"M0 0h24v24H0V0z\" fill=\"none\"/>\n",
              "    <path d=\"M18.56 5.44l.94 2.06.94-2.06 2.06-.94-2.06-.94-.94-2.06-.94 2.06-2.06.94zm-11 1L8.5 8.5l.94-2.06 2.06-.94-2.06-.94L8.5 2.5l-.94 2.06-2.06.94zm10 10l.94 2.06.94-2.06 2.06-.94-2.06-.94-.94-2.06-.94 2.06-2.06.94z\"/><path d=\"M17.41 7.96l-1.37-1.37c-.4-.4-.92-.59-1.43-.59-.52 0-1.04.2-1.43.59L10.3 9.45l-7.72 7.72c-.78.78-.78 2.05 0 2.83L4 21.41c.39.39.9.59 1.41.59.51 0 1.02-.2 1.41-.59l7.78-7.78 2.81-2.81c.8-.78.8-2.07 0-2.86zM5.41 20L4 18.59l7.72-7.72 1.47 1.35L5.41 20z\"/>\n",
              "  </svg>\n",
              "      </button>\n",
              "      \n",
              "  <style>\n",
              "    .colab-df-container {\n",
              "      display:flex;\n",
              "      flex-wrap:wrap;\n",
              "      gap: 12px;\n",
              "    }\n",
              "\n",
              "    .colab-df-convert {\n",
              "      background-color: #E8F0FE;\n",
              "      border: none;\n",
              "      border-radius: 50%;\n",
              "      cursor: pointer;\n",
              "      display: none;\n",
              "      fill: #1967D2;\n",
              "      height: 32px;\n",
              "      padding: 0 0 0 0;\n",
              "      width: 32px;\n",
              "    }\n",
              "\n",
              "    .colab-df-convert:hover {\n",
              "      background-color: #E2EBFA;\n",
              "      box-shadow: 0px 1px 2px rgba(60, 64, 67, 0.3), 0px 1px 3px 1px rgba(60, 64, 67, 0.15);\n",
              "      fill: #174EA6;\n",
              "    }\n",
              "\n",
              "    [theme=dark] .colab-df-convert {\n",
              "      background-color: #3B4455;\n",
              "      fill: #D2E3FC;\n",
              "    }\n",
              "\n",
              "    [theme=dark] .colab-df-convert:hover {\n",
              "      background-color: #434B5C;\n",
              "      box-shadow: 0px 1px 3px 1px rgba(0, 0, 0, 0.15);\n",
              "      filter: drop-shadow(0px 1px 2px rgba(0, 0, 0, 0.3));\n",
              "      fill: #FFFFFF;\n",
              "    }\n",
              "  </style>\n",
              "\n",
              "      <script>\n",
              "        const buttonEl =\n",
              "          document.querySelector('#df-437f6c71-8a25-4050-9451-ecf92265031d button.colab-df-convert');\n",
              "        buttonEl.style.display =\n",
              "          google.colab.kernel.accessAllowed ? 'block' : 'none';\n",
              "\n",
              "        async function convertToInteractive(key) {\n",
              "          const element = document.querySelector('#df-437f6c71-8a25-4050-9451-ecf92265031d');\n",
              "          const dataTable =\n",
              "            await google.colab.kernel.invokeFunction('convertToInteractive',\n",
              "                                                     [key], {});\n",
              "          if (!dataTable) return;\n",
              "\n",
              "          const docLinkHtml = 'Like what you see? Visit the ' +\n",
              "            '<a target=\"_blank\" href=https://colab.research.google.com/notebooks/data_table.ipynb>data table notebook</a>'\n",
              "            + ' to learn more about interactive tables.';\n",
              "          element.innerHTML = '';\n",
              "          dataTable['output_type'] = 'display_data';\n",
              "          await google.colab.output.renderOutput(dataTable, element);\n",
              "          const docLink = document.createElement('div');\n",
              "          docLink.innerHTML = docLinkHtml;\n",
              "          element.appendChild(docLink);\n",
              "        }\n",
              "      </script>\n",
              "    </div>\n",
              "  </div>\n",
              "  "
            ]
          },
          "metadata": {},
          "execution_count": 11
        }
      ]
    },
    {
      "cell_type": "code",
      "source": [
        "sns.set(style=\"whitegrid\", color_codes=True)\n",
        "data = tweet.groupby(\"Class\").size().sort_values(ascending = False)\n",
        "pal = sns.color_palette(\"Blues_d\", len(data))\n",
        "sns.barplot(x=data.index, y=data, palette=pal)\n",
        "\n",
        "plt.show()\n",
        "data"
      ],
      "metadata": {
        "colab": {
          "base_uri": "https://localhost:8080/",
          "height": 597
        },
        "id": "I3S85ygsSahX",
        "outputId": "ce86ade0-a94b-4a2a-8902-584202c49b82"
      },
      "execution_count": 12,
      "outputs": [
        {
          "output_type": "display_data",
          "data": {
            "text/plain": [
              "<Figure size 640x480 with 1 Axes>"
            ],
            "image/png": "[encoded data removed]"
          },
          "metadata": {}
        },
        {
          "output_type": "execute_result",
          "data": {
            "text/plain": [
              "Class\n",
              "Neutral      946\n",
              "Religion     149\n",
              "Political    146\n",
              "Racist       146\n",
              "Sexism       146\n",
              "sports       146\n",
              "dtype: int64"
            ]
          },
          "metadata": {},
          "execution_count": 12
        }
      ]
    },
    {
      "cell_type": "code",
      "source": [
        "fig = plt.figure(figsize=(7,7))\n",
        "colors = (\"purple\",\"yellowgreen\", \"gold\", \"red\",\"blue\",\"green\")\n",
        "wp = {'linewidth':2, 'edgecolor':\"black\"}\n",
        "tags = tweet['Class'].value_counts()\n",
        "explode = (0.1,0.1,0.1,0.1,0.1,0.1)\n",
        "tags.plot(kind='pie', autopct='%1.1f%%', shadow=True, colors = colors,\n",
        "         startangle=90, wedgeprops = wp, explode = explode, label='')\n",
        "plt.title('Distribution of sentiments')"
      ],
      "metadata": {
        "colab": {
          "base_uri": "https://localhost:8080/",
          "height": 615
        },
        "id": "QXdbA9kpa60Q",
        "outputId": "32f9cd31-a9bb-4a47-d363-a772d7676ddc"
      },
      "execution_count": 13,
      "outputs": [
        {
          "output_type": "execute_result",
          "data": {
            "text/plain": [
              "Text(0.5, 1.0, 'Distribution of sentiments')"
            ]
          },
          "metadata": {},
          "execution_count": 13
        },
        {
          "output_type": "display_data",
          "data": {
            "text/plain": [
              "<Figure size 700x700 with 1 Axes>"
            ],
            "image/png": "[encoded data removed]"
          },
          "metadata": {}
        }
      ]
    },
    {
      "cell_type": "markdown",
      "source": [
        "**TEXT CLEANING**"
      ],
      "metadata": {
        "id": "9zdkjbUfih-t"
      }
    },
    {
      "cell_type": "code",
      "source": [
        "def clean_text(text):\n",
        "  '''\n",
        "  DESCRIPTION:\n",
        "  This function to clean text \n",
        "  INPUT: \n",
        "  text: string\n",
        "  OUTPUT: \n",
        "  text: string after clean it\n",
        "  ''' \n",
        "  text = re.sub(\"[a-zA-Z]\", \" \", text) # remove english letters\n",
        "  text = re.sub('\\n', ' ', text) # remove \\n from text\n",
        "  text = re.sub(r'\\d+', '', text) #remove number\n",
        "  text = re.sub(r'#|@\\w*', ' ',text) #remove @ mentions\n",
        "  text = re.sub(r'http\\S+', '', text) # remove links\n",
        "  text = re.sub(' +', ' ',text) # remove extra space\n",
        "  text = text.strip() #remove whitespaces\n",
        "\n",
        "  return text"
      ],
      "metadata": {
        "id": "osYyQPAbSqQm"
      },
      "execution_count": 14,
      "outputs": []
    },
    {
      "cell_type": "code",
      "source": [
        "tweet['Text'] = tweet['Text'].apply(clean_text)"
      ],
      "metadata": {
        "id": "MXAqldAeTFvK"
      },
      "execution_count": 15,
      "outputs": []
    },
    {
      "cell_type": "code",
      "source": [
        "tweet.head(10)"
      ],
      "metadata": {
        "colab": {
          "base_uri": "https://localhost:8080/",
          "height": 363
        },
        "id": "qtHsm8crTUS3",
        "outputId": "38c904ba-1993-4703-9a96-9d1f739bba46"
      },
      "execution_count": 16,
      "outputs": [
        {
          "output_type": "execute_result",
          "data": {
            "text/plain": [
              "                                                Text      Class\n",
              "0  \" : \"ඝරසරප\" චිත්‍රපටය, පහළ තියෙන එකෙන් කරගන්න ...    Neutral\n",
              "1       \" මොකක් හරි නාට්‍යයක් තියෙන්නත් එපැයි ඉතින්\"    Neutral\n",
              "2  \" _ _ _ කිමද මේ තරම් කොහේදෝ ඇති විදපු ගලක් හා ...    Neutral\n",
              "3  \" _ _ _ එහෙම කොහොමද උනේ 😂😂 පරය අපිව අයින් කරල ...    Neutral\n",
              "4  \"විමලයා ගොනෙක් වගෙ එකෙ මෑරෙන්න හදනවා.... පරය. ...  Political\n",
              "5  \" _ : ලැජ්ජයි ස⁣හෝදරයා මේ යන විදිහ දැක්කාම. ඔබ...     Racist\n",
              "6  \" ලැජ්ජයි ස⁣හෝදරයා මේ යන විදිහ දැක්කාම. ඔබලාගේ...     Racist\n",
              "7  \" _ _ ඇයි මං තම්බි වගේද පෙන්නෙ😏 මං බ්‍රහස්පතින...    Neutral\n",
              "8  \" _ ඉටිම් බං උතුර ඉල්ලනසෙට් එකයි නැගෙනහිරපඉල්ල...     Racist\n",
              "9  \" _ : පේනවානේ තම්බි කවදත් ඉන්නේ උන්ට වාසි පැත්...     Racist"
            ],
            "text/html": [
              "\n",
              "  <div id=\"df-71cd6f38-105a-462c-8401-989c8774f5c3\">\n",
              "    <div class=\"colab-df-container\">\n",
              "      <div>\n",
              "<style scoped>\n",
              "    .dataframe tbody tr th:only-of-type {\n",
              "        vertical-align: middle;\n",
              "    }\n",
              "\n",
              "    .dataframe tbody tr th {\n",
              "        vertical-align: top;\n",
              "    }\n",
              "\n",
              "    .dataframe thead th {\n",
              "        text-align: right;\n",
              "    }\n",
              "</style>\n",
              "<table border=\"1\" class=\"dataframe\">\n",
              "  <thead>\n",
              "    <tr style=\"text-align: right;\">\n",
              "      <th></th>\n",
              "      <th>Text</th>\n",
              "      <th>Class</th>\n",
              "    </tr>\n",
              "  </thead>\n",
              "  <tbody>\n",
              "    <tr>\n",
              "      <th>0</th>\n",
              "      <td>\" : \"ඝරසරප\" චිත්‍රපටය, පහළ තියෙන එකෙන් කරගන්න ...</td>\n",
              "      <td>Neutral</td>\n",
              "    </tr>\n",
              "    <tr>\n",
              "      <th>1</th>\n",
              "      <td>\" මොකක් හරි නාට්‍යයක් තියෙන්නත් එපැයි ඉතින්\"</td>\n",
              "      <td>Neutral</td>\n",
              "    </tr>\n",
              "    <tr>\n",
              "      <th>2</th>\n",
              "      <td>\" _ _ _ කිමද මේ තරම් කොහේදෝ ඇති විදපු ගලක් හා ...</td>\n",
              "      <td>Neutral</td>\n",
              "    </tr>\n",
              "    <tr>\n",
              "      <th>3</th>\n",
              "      <td>\" _ _ _ එහෙම කොහොමද උනේ 😂😂 පරය අපිව අයින් කරල ...</td>\n",
              "      <td>Neutral</td>\n",
              "    </tr>\n",
              "    <tr>\n",
              "      <th>4</th>\n",
              "      <td>\"විමලයා ගොනෙක් වගෙ එකෙ මෑරෙන්න හදනවා.... පරය. ...</td>\n",
              "      <td>Political</td>\n",
              "    </tr>\n",
              "    <tr>\n",
              "      <th>5</th>\n",
              "      <td>\" _ : ලැජ්ජයි ස⁣හෝදරයා මේ යන විදිහ දැක්කාම. ඔබ...</td>\n",
              "      <td>Racist</td>\n",
              "    </tr>\n",
              "    <tr>\n",
              "      <th>6</th>\n",
              "      <td>\" ලැජ්ජයි ස⁣හෝදරයා මේ යන විදිහ දැක්කාම. ඔබලාගේ...</td>\n",
              "      <td>Racist</td>\n",
              "    </tr>\n",
              "    <tr>\n",
              "      <th>7</th>\n",
              "      <td>\" _ _ ඇයි මං තම්බි වගේද පෙන්නෙ😏 මං බ්‍රහස්පතින...</td>\n",
              "      <td>Neutral</td>\n",
              "    </tr>\n",
              "    <tr>\n",
              "      <th>8</th>\n",
              "      <td>\" _ ඉටිම් බං උතුර ඉල්ලනසෙට් එකයි නැගෙනහිරපඉල්ල...</td>\n",
              "      <td>Racist</td>\n",
              "    </tr>\n",
              "    <tr>\n",
              "      <th>9</th>\n",
              "      <td>\" _ : පේනවානේ තම්බි කවදත් ඉන්නේ උන්ට වාසි පැත්...</td>\n",
              "      <td>Racist</td>\n",
              "    </tr>\n",
              "  </tbody>\n",
              "</table>\n",
              "</div>\n",
              "      <button class=\"colab-df-convert\" onclick=\"convertToInteractive('df-71cd6f38-105a-462c-8401-989c8774f5c3')\"\n",
              "              title=\"Convert this dataframe to an interactive table.\"\n",
              "              style=\"display:none;\">\n",
              "        \n",
              "  <svg xmlns=\"http://www.w3.org/2000/svg\" height=\"24px\"viewBox=\"0 0 24 24\"\n",
              "       width=\"24px\">\n",
              "    <path d=\"M0 0h24v24H0V0z\" fill=\"none\"/>\n",
              "    <path d=\"M18.56 5.44l.94 2.06.94-2.06 2.06-.94-2.06-.94-.94-2.06-.94 2.06-2.06.94zm-11 1L8.5 8.5l.94-2.06 2.06-.94-2.06-.94L8.5 2.5l-.94 2.06-2.06.94zm10 10l.94 2.06.94-2.06 2.06-.94-2.06-.94-.94-2.06-.94 2.06-2.06.94z\"/><path d=\"M17.41 7.96l-1.37-1.37c-.4-.4-.92-.59-1.43-.59-.52 0-1.04.2-1.43.59L10.3 9.45l-7.72 7.72c-.78.78-.78 2.05 0 2.83L4 21.41c.39.39.9.59 1.41.59.51 0 1.02-.2 1.41-.59l7.78-7.78 2.81-2.81c.8-.78.8-2.07 0-2.86zM5.41 20L4 18.59l7.72-7.72 1.47 1.35L5.41 20z\"/>\n",
              "  </svg>\n",
              "      </button>\n",
              "      \n",
              "  <style>\n",
              "    .colab-df-container {\n",
              "      display:flex;\n",
              "      flex-wrap:wrap;\n",
              "      gap: 12px;\n",
              "    }\n",
              "\n",
              "    .colab-df-convert {\n",
              "      background-color: #E8F0FE;\n",
              "      border: none;\n",
              "      border-radius: 50%;\n",
              "      cursor: pointer;\n",
              "      display: none;\n",
              "      fill: #1967D2;\n",
              "      height: 32px;\n",
              "      padding: 0 0 0 0;\n",
              "      width: 32px;\n",
              "    }\n",
              "\n",
              "    .colab-df-convert:hover {\n",
              "      background-color: #E2EBFA;\n",
              "      box-shadow: 0px 1px 2px rgba(60, 64, 67, 0.3), 0px 1px 3px 1px rgba(60, 64, 67, 0.15);\n",
              "      fill: #174EA6;\n",
              "    }\n",
              "\n",
              "    [theme=dark] .colab-df-convert {\n",
              "      background-color: #3B4455;\n",
              "      fill: #D2E3FC;\n",
              "    }\n",
              "\n",
              "    [theme=dark] .colab-df-convert:hover {\n",
              "      background-color: #434B5C;\n",
              "      box-shadow: 0px 1px 3px 1px rgba(0, 0, 0, 0.15);\n",
              "      filter: drop-shadow(0px 1px 2px rgba(0, 0, 0, 0.3));\n",
              "      fill: #FFFFFF;\n",
              "    }\n",
              "  </style>\n",
              "\n",
              "      <script>\n",
              "        const buttonEl =\n",
              "          document.querySelector('#df-71cd6f38-105a-462c-8401-989c8774f5c3 button.colab-df-convert');\n",
              "        buttonEl.style.display =\n",
              "          google.colab.kernel.accessAllowed ? 'block' : 'none';\n",
              "\n",
              "        async function convertToInteractive(key) {\n",
              "          const element = document.querySelector('#df-71cd6f38-105a-462c-8401-989c8774f5c3');\n",
              "          const dataTable =\n",
              "            await google.colab.kernel.invokeFunction('convertToInteractive',\n",
              "                                                     [key], {});\n",
              "          if (!dataTable) return;\n",
              "\n",
              "          const docLinkHtml = 'Like what you see? Visit the ' +\n",
              "            '<a target=\"_blank\" href=https://colab.research.google.com/notebooks/data_table.ipynb>data table notebook</a>'\n",
              "            + ' to learn more about interactive tables.';\n",
              "          element.innerHTML = '';\n",
              "          dataTable['output_type'] = 'display_data';\n",
              "          await google.colab.output.renderOutput(dataTable, element);\n",
              "          const docLink = document.createElement('div');\n",
              "          docLink.innerHTML = docLinkHtml;\n",
              "          element.appendChild(docLink);\n",
              "        }\n",
              "      </script>\n",
              "    </div>\n",
              "  </div>\n",
              "  "
            ]
          },
          "metadata": {},
          "execution_count": 16
        }
      ]
    },
    {
      "cell_type": "code",
      "source": [
        "#remove puntuations\n",
        "string_text = tweet['Text'].str\n",
        "tweet['Text'] = string_text.translate(str.maketrans('', '', string.punctuation))\n",
        "#print(string_text)"
      ],
      "metadata": {
        "id": "LKzoTtQDVSQs"
      },
      "execution_count": 17,
      "outputs": []
    },
    {
      "cell_type": "code",
      "source": [
        "tweet.head(5)"
      ],
      "metadata": {
        "colab": {
          "base_uri": "https://localhost:8080/",
          "height": 206
        },
        "id": "ECnVvg-IVn8j",
        "outputId": "c96663b6-6ed0-4c4d-c5c4-13c340fec205"
      },
      "execution_count": 18,
      "outputs": [
        {
          "output_type": "execute_result",
          "data": {
            "text/plain": [
              "                                                Text      Class\n",
              "0         ඝරසරප චිත්‍රපටය පහළ තියෙන එකෙන් කරගන්න        Neutral\n",
              "1          මොකක් හරි නාට්‍යයක් තියෙන්නත් එපැයි ඉතින්    Neutral\n",
              "2      කිමද මේ තරම් කොහේදෝ ඇති විදපු ගලක් හා උරන ...    Neutral\n",
              "3         එහෙම කොහොමද උනේ 😂😂 පරය අපිව අයින් කරල නේ 😂    Neutral\n",
              "4  විමලයා ගොනෙක් වගෙ එකෙ මෑරෙන්න හදනවා පරය රටට වෑ...  Political"
            ],
            "text/html": [
              "\n",
              "  <div id=\"df-4dbe722b-4d48-4578-96e2-4d966f225e1e\">\n",
              "    <div class=\"colab-df-container\">\n",
              "      <div>\n",
              "<style scoped>\n",
              "    .dataframe tbody tr th:only-of-type {\n",
              "        vertical-align: middle;\n",
              "    }\n",
              "\n",
              "    .dataframe tbody tr th {\n",
              "        vertical-align: top;\n",
              "    }\n",
              "\n",
              "    .dataframe thead th {\n",
              "        text-align: right;\n",
              "    }\n",
              "</style>\n",
              "<table border=\"1\" class=\"dataframe\">\n",
              "  <thead>\n",
              "    <tr style=\"text-align: right;\">\n",
              "      <th></th>\n",
              "      <th>Text</th>\n",
              "      <th>Class</th>\n",
              "    </tr>\n",
              "  </thead>\n",
              "  <tbody>\n",
              "    <tr>\n",
              "      <th>0</th>\n",
              "      <td>ඝරසරප චිත්‍රපටය පහළ තියෙන එකෙන් කරගන්න</td>\n",
              "      <td>Neutral</td>\n",
              "    </tr>\n",
              "    <tr>\n",
              "      <th>1</th>\n",
              "      <td>මොකක් හරි නාට්‍යයක් තියෙන්නත් එපැයි ඉතින්</td>\n",
              "      <td>Neutral</td>\n",
              "    </tr>\n",
              "    <tr>\n",
              "      <th>2</th>\n",
              "      <td>කිමද මේ තරම් කොහේදෝ ඇති විදපු ගලක් හා උරන ...</td>\n",
              "      <td>Neutral</td>\n",
              "    </tr>\n",
              "    <tr>\n",
              "      <th>3</th>\n",
              "      <td>එහෙම කොහොමද උනේ 😂😂 පරය අපිව අයින් කරල නේ 😂</td>\n",
              "      <td>Neutral</td>\n",
              "    </tr>\n",
              "    <tr>\n",
              "      <th>4</th>\n",
              "      <td>විමලයා ගොනෙක් වගෙ එකෙ මෑරෙන්න හදනවා පරය රටට වෑ...</td>\n",
              "      <td>Political</td>\n",
              "    </tr>\n",
              "  </tbody>\n",
              "</table>\n",
              "</div>\n",
              "      <button class=\"colab-df-convert\" onclick=\"convertToInteractive('df-4dbe722b-4d48-4578-96e2-4d966f225e1e')\"\n",
              "              title=\"Convert this dataframe to an interactive table.\"\n",
              "              style=\"display:none;\">\n",
              "        \n",
              "  <svg xmlns=\"http://www.w3.org/2000/svg\" height=\"24px\"viewBox=\"0 0 24 24\"\n",
              "       width=\"24px\">\n",
              "    <path d=\"M0 0h24v24H0V0z\" fill=\"none\"/>\n",
              "    <path d=\"M18.56 5.44l.94 2.06.94-2.06 2.06-.94-2.06-.94-.94-2.06-.94 2.06-2.06.94zm-11 1L8.5 8.5l.94-2.06 2.06-.94-2.06-.94L8.5 2.5l-.94 2.06-2.06.94zm10 10l.94 2.06.94-2.06 2.06-.94-2.06-.94-.94-2.06-.94 2.06-2.06.94z\"/><path d=\"M17.41 7.96l-1.37-1.37c-.4-.4-.92-.59-1.43-.59-.52 0-1.04.2-1.43.59L10.3 9.45l-7.72 7.72c-.78.78-.78 2.05 0 2.83L4 21.41c.39.39.9.59 1.41.59.51 0 1.02-.2 1.41-.59l7.78-7.78 2.81-2.81c.8-.78.8-2.07 0-2.86zM5.41 20L4 18.59l7.72-7.72 1.47 1.35L5.41 20z\"/>\n",
              "  </svg>\n",
              "      </button>\n",
              "      \n",
              "  <style>\n",
              "    .colab-df-container {\n",
              "      display:flex;\n",
              "      flex-wrap:wrap;\n",
              "      gap: 12px;\n",
              "    }\n",
              "\n",
              "    .colab-df-convert {\n",
              "      background-color: #E8F0FE;\n",
              "      border: none;\n",
              "      border-radius: 50%;\n",
              "      cursor: pointer;\n",
              "      display: none;\n",
              "      fill: #1967D2;\n",
              "      height: 32px;\n",
              "      padding: 0 0 0 0;\n",
              "      width: 32px;\n",
              "    }\n",
              "\n",
              "    .colab-df-convert:hover {\n",
              "      background-color: #E2EBFA;\n",
              "      box-shadow: 0px 1px 2px rgba(60, 64, 67, 0.3), 0px 1px 3px 1px rgba(60, 64, 67, 0.15);\n",
              "      fill: #174EA6;\n",
              "    }\n",
              "\n",
              "    [theme=dark] .colab-df-convert {\n",
              "      background-color: #3B4455;\n",
              "      fill: #D2E3FC;\n",
              "    }\n",
              "\n",
              "    [theme=dark] .colab-df-convert:hover {\n",
              "      background-color: #434B5C;\n",
              "      box-shadow: 0px 1px 3px 1px rgba(0, 0, 0, 0.15);\n",
              "      filter: drop-shadow(0px 1px 2px rgba(0, 0, 0, 0.3));\n",
              "      fill: #FFFFFF;\n",
              "    }\n",
              "  </style>\n",
              "\n",
              "      <script>\n",
              "        const buttonEl =\n",
              "          document.querySelector('#df-4dbe722b-4d48-4578-96e2-4d966f225e1e button.colab-df-convert');\n",
              "        buttonEl.style.display =\n",
              "          google.colab.kernel.accessAllowed ? 'block' : 'none';\n",
              "\n",
              "        async function convertToInteractive(key) {\n",
              "          const element = document.querySelector('#df-4dbe722b-4d48-4578-96e2-4d966f225e1e');\n",
              "          const dataTable =\n",
              "            await google.colab.kernel.invokeFunction('convertToInteractive',\n",
              "                                                     [key], {});\n",
              "          if (!dataTable) return;\n",
              "\n",
              "          const docLinkHtml = 'Like what you see? Visit the ' +\n",
              "            '<a target=\"_blank\" href=https://colab.research.google.com/notebooks/data_table.ipynb>data table notebook</a>'\n",
              "            + ' to learn more about interactive tables.';\n",
              "          element.innerHTML = '';\n",
              "          dataTable['output_type'] = 'display_data';\n",
              "          await google.colab.output.renderOutput(dataTable, element);\n",
              "          const docLink = document.createElement('div');\n",
              "          docLink.innerHTML = docLinkHtml;\n",
              "          element.appendChild(docLink);\n",
              "        }\n",
              "      </script>\n",
              "    </div>\n",
              "  </div>\n",
              "  "
            ]
          },
          "metadata": {},
          "execution_count": 18
        }
      ]
    },
    {
      "cell_type": "markdown",
      "source": [
        "**SPLITT CONTINUOS EMOJIS**"
      ],
      "metadata": {
        "id": "Z5mPWsb9kDS5"
      }
    },
    {
      "cell_type": "code",
      "source": [
        "# emoji lists\n",
        "\n",
        "joy = ['\\U0001F600', '\\U0001F602', '\\U0001F603', '\\U0001F604',\n",
        "          '\\U0001F606', '\\U0001F607', '\\U0001F609', '\\U0001F60A',\n",
        "          '\\U0001F60B', '\\U0001F60C', '\\U0001F60D', '\\U0001F60E',\n",
        "          '\\U0001F60F', '\\U0001F31E', '\\U0000263A', '\\U0001F618',\n",
        "          '\\U0001F61C', '\\U0001F61D', '\\U0001F61B', '\\U0001F63A',\n",
        "          '\\U0001F638', '\\U0001F639', '\\U0001F63B', '\\U0001F63C',\n",
        "          '\\U00002764', '\\U0001F496', '\\U0001F495', '\\U0001F601',\n",
        "          '\\U00002665','\\U00002764']#joy\n",
        "\n",
        "anger = ['\\U0001F62C', '\\U0001F620', '\\U0001F610',\n",
        "          '\\U0001F611', '\\U0001F620', '\\U0001F621', '\\U0001F616',\n",
        "          '\\U0001F624', '\\U0001F63E']#anger\n",
        "disgust= ['\\U0001F4A9']#disgust\n",
        "fear = ['\\U0001F605', '\\U0001F626', '\\U0001F627', '\\U0001F631',\n",
        "          '\\U0001F628', '\\U0001F630', '\\U0001F640']#fear\n",
        "sad = ['\\U0001F614', '\\U0001F615', '\\U00002639', '\\U0001F62B',\n",
        "          '\\U0001F629', '\\U0001F622', '\\U0001F625', '\\U0001F62A',\n",
        "          '\\U0001F613', '\\U0001F62D', '\\U0001F63F', '\\U0001F494']#sad\n",
        "surp = ['\\U0001F633', '\\U0001F62F', '\\U0001F635', '\\U0001F632']#surprise\n",
        "\n",
        "emojilist = {'joy':joy, 'anger':anger, 'disgust':disgust, 'fear':fear, 'sad':sad, 'surprise':surp}\n",
        "for i in emojilist:\n",
        "    print('There are {} emoji contains in the cluster {}'.format(len(emojilist[i]), i))\n",
        "    print(i,emojilist[i])"
      ],
      "metadata": {
        "colab": {
          "base_uri": "https://localhost:8080/"
        },
        "id": "Xx6kA0nfsXlb",
        "outputId": "d1892c8f-6a5f-49cf-d9de-9ce40136a610"
      },
      "execution_count": 21,
      "outputs": [
        {
          "output_type": "stream",
          "name": "stdout",
          "text": [
            "There are 30 emoji contains in the cluster joy\n",
            "joy ['😀', '😂', '😃', '😄', '😆', '😇', '😉', '😊', '😋', '😌', '😍', '😎', '😏', '🌞', '☺', '😘', '😜', '😝', '😛', '😺', '😸', '😹', '😻', '😼', '❤', '💖', '💕', '😁', '♥', '❤']\n",
            "There are 9 emoji contains in the cluster anger\n",
            "anger ['😬', '😠', '😐', '😑', '😠', '😡', '😖', '😤', '😾']\n",
            "There are 1 emoji contains in the cluster disgust\n",
            "disgust ['💩']\n",
            "There are 7 emoji contains in the cluster fear\n",
            "fear ['😅', '😦', '😧', '😱', '😨', '😰', '🙀']\n",
            "There are 12 emoji contains in the cluster sad\n",
            "sad ['😔', '😕', '☹', '😫', '😩', '😢', '😥', '😪', '😓', '😭', '😿', '💔']\n",
            "There are 4 emoji contains in the cluster surprise\n",
            "surprise ['😳', '😯', '😵', '😲']\n"
          ]
        }
      ]
    },
    {
      "cell_type": "code",
      "source": [
        "!pip install emoji==1.2.0\n",
        "\n"
      ],
      "metadata": {
        "colab": {
          "base_uri": "https://localhost:8080/"
        },
        "id": "vCOaoBwdkob6",
        "outputId": "7fa16366-abd0-4293-da61-842723f317ad"
      },
      "execution_count": 22,
      "outputs": [
        {
          "output_type": "stream",
          "name": "stdout",
          "text": [
            "Looking in indexes: https://pypi.org/simple, https://us-python.pkg.dev/colab-wheels/public/simple/\n",
            "Requirement already satisfied: emoji==1.2.0 in /usr/local/lib/python3.9/dist-packages (1.2.0)\n"
          ]
        }
      ]
    },
    {
      "cell_type": "code",
      "source": [
        "# split the continuous emojis first\n",
        "import re\n",
        "\n",
        "def emosplit(text):\n",
        "    # Define the pattern to match continuous sequences of emojis\n",
        "    pattern = re.compile(r'([\\U0001F600-\\U0001F64F\\U0001F300-\\U0001F5FF\\U0001F680-\\U0001F6FF\\U0001F1E0-\\U0001F1FF\\U00002702-\\U000027B0\\U000024C2-\\U0001F251])+')\n",
        "    \n",
        "    # Split the text at emoji boundaries and add a space between each emoji\n",
        "    words = pattern.split(text)\n",
        "    words = [word if re.match(pattern, word) else f' {word} ' for word in words]\n",
        "    \n",
        "    # Remove any empty strings or spaces from the list of words\n",
        "    words = [word for word in words if word.strip()]\n",
        "    \n",
        "    # Join the words back together into a single string and return it\n",
        "    return ''.join(words)\n",
        "\n",
        "\n",
        "example = tweet['Text'][3]\n",
        "print('Example of original Tweet:')\n",
        "print(example)\n",
        "print('---------------')\n",
        "print('Spliting emojis...')\n",
        "example1 = emosplit(example)\n",
        "print(example1)"
      ],
      "metadata": {
        "colab": {
          "base_uri": "https://localhost:8080/"
        },
        "id": "wWX7lcv6i0SR",
        "outputId": "409dcb67-5d46-4066-f1a3-959d1aa7596c"
      },
      "execution_count": 23,
      "outputs": [
        {
          "output_type": "stream",
          "name": "stdout",
          "text": [
            "Example of original Tweet:\n",
            "    එහෙම කොහොමද උනේ 😂😂 පරය අපිව අයින් කරල නේ 😂\n",
            "---------------\n",
            "Spliting emojis...\n",
            "     එහෙම කොහොමද උනේ  😂  පරය අපිව අයින් කරල නේ  😂\n"
          ]
        }
      ]
    },
    {
      "cell_type": "code",
      "source": [
        "tweet['Text'] = tweet['Text'].apply(emosplit)"
      ],
      "metadata": {
        "id": "PIOY4ZBAuk5T"
      },
      "execution_count": 24,
      "outputs": []
    },
    {
      "cell_type": "code",
      "source": [
        "tweet.head(10)"
      ],
      "metadata": {
        "colab": {
          "base_uri": "https://localhost:8080/",
          "height": 363
        },
        "id": "stbyIdkruqDc",
        "outputId": "849d001d-7c26-4965-a26c-1a4591a47159"
      },
      "execution_count": 25,
      "outputs": [
        {
          "output_type": "execute_result",
          "data": {
            "text/plain": [
              "                                                Text      Class\n",
              "0        ඝරසරප චිත්‍රපටය පහළ තියෙන එකෙන් කරගන්න         Neutral\n",
              "1         මොකක් හරි නාට්‍යයක් තියෙන්නත් එපැයි ඉතින්     Neutral\n",
              "2       කිමද මේ තරම් කොහේදෝ ඇති විදපු ගලක් හා උරන...    Neutral\n",
              "3       එහෙම කොහොමද උනේ  😂  පරය අපිව අයින් කරල නේ  😂    Neutral\n",
              "4   විමලයා ගොනෙක් වගෙ එකෙ මෑරෙන්න හදනවා පරය රටට ව...  Political\n",
              "5      ලැජ්ජයි ස⁣හෝදරයා මේ යන විදිහ දැක්කාම ඔබලාග...     Racist\n",
              "6    ලැජ්ජයි ස⁣හෝදරයා මේ යන විදිහ දැක්කාම ඔබලාගේ ...     Racist\n",
              "7      ඇයි මං තම්බි වගේද පෙන්නෙ 😏  මං බ්‍රහස්පතින...    Neutral\n",
              "8     ඉටිම් බං උතුර ඉල්ලනසෙට් එකයි නැගෙනහිරපඉල්ලන...     Racist\n",
              "9      පේනවානේ තම්බි කවදත් ඉන්නේ උන්ට වාසි පැත්තේ...     Racist"
            ],
            "text/html": [
              "\n",
              "  <div id=\"df-00ffe0d9-accc-45d7-9d80-ad8a0242c123\">\n",
              "    <div class=\"colab-df-container\">\n",
              "      <div>\n",
              "<style scoped>\n",
              "    .dataframe tbody tr th:only-of-type {\n",
              "        vertical-align: middle;\n",
              "    }\n",
              "\n",
              "    .dataframe tbody tr th {\n",
              "        vertical-align: top;\n",
              "    }\n",
              "\n",
              "    .dataframe thead th {\n",
              "        text-align: right;\n",
              "    }\n",
              "</style>\n",
              "<table border=\"1\" class=\"dataframe\">\n",
              "  <thead>\n",
              "    <tr style=\"text-align: right;\">\n",
              "      <th></th>\n",
              "      <th>Text</th>\n",
              "      <th>Class</th>\n",
              "    </tr>\n",
              "  </thead>\n",
              "  <tbody>\n",
              "    <tr>\n",
              "      <th>0</th>\n",
              "      <td>ඝරසරප චිත්‍රපටය පහළ තියෙන එකෙන් කරගන්න</td>\n",
              "      <td>Neutral</td>\n",
              "    </tr>\n",
              "    <tr>\n",
              "      <th>1</th>\n",
              "      <td>මොකක් හරි නාට්‍යයක් තියෙන්නත් එපැයි ඉතින්</td>\n",
              "      <td>Neutral</td>\n",
              "    </tr>\n",
              "    <tr>\n",
              "      <th>2</th>\n",
              "      <td>කිමද මේ තරම් කොහේදෝ ඇති විදපු ගලක් හා උරන...</td>\n",
              "      <td>Neutral</td>\n",
              "    </tr>\n",
              "    <tr>\n",
              "      <th>3</th>\n",
              "      <td>එහෙම කොහොමද උනේ  😂  පරය අපිව අයින් කරල නේ  😂</td>\n",
              "      <td>Neutral</td>\n",
              "    </tr>\n",
              "    <tr>\n",
              "      <th>4</th>\n",
              "      <td>විමලයා ගොනෙක් වගෙ එකෙ මෑරෙන්න හදනවා පරය රටට ව...</td>\n",
              "      <td>Political</td>\n",
              "    </tr>\n",
              "    <tr>\n",
              "      <th>5</th>\n",
              "      <td>ලැජ්ජයි ස⁣හෝදරයා මේ යන විදිහ දැක්කාම ඔබලාග...</td>\n",
              "      <td>Racist</td>\n",
              "    </tr>\n",
              "    <tr>\n",
              "      <th>6</th>\n",
              "      <td>ලැජ්ජයි ස⁣හෝදරයා මේ යන විදිහ දැක්කාම ඔබලාගේ ...</td>\n",
              "      <td>Racist</td>\n",
              "    </tr>\n",
              "    <tr>\n",
              "      <th>7</th>\n",
              "      <td>ඇයි මං තම්බි වගේද පෙන්නෙ 😏  මං බ්‍රහස්පතින...</td>\n",
              "      <td>Neutral</td>\n",
              "    </tr>\n",
              "    <tr>\n",
              "      <th>8</th>\n",
              "      <td>ඉටිම් බං උතුර ඉල්ලනසෙට් එකයි නැගෙනහිරපඉල්ලන...</td>\n",
              "      <td>Racist</td>\n",
              "    </tr>\n",
              "    <tr>\n",
              "      <th>9</th>\n",
              "      <td>පේනවානේ තම්බි කවදත් ඉන්නේ උන්ට වාසි පැත්තේ...</td>\n",
              "      <td>Racist</td>\n",
              "    </tr>\n",
              "  </tbody>\n",
              "</table>\n",
              "</div>\n",
              "      <button class=\"colab-df-convert\" onclick=\"convertToInteractive('df-00ffe0d9-accc-45d7-9d80-ad8a0242c123')\"\n",
              "              title=\"Convert this dataframe to an interactive table.\"\n",
              "              style=\"display:none;\">\n",
              "        \n",
              "  <svg xmlns=\"http://www.w3.org/2000/svg\" height=\"24px\"viewBox=\"0 0 24 24\"\n",
              "       width=\"24px\">\n",
              "    <path d=\"M0 0h24v24H0V0z\" fill=\"none\"/>\n",
              "    <path d=\"M18.56 5.44l.94 2.06.94-2.06 2.06-.94-2.06-.94-.94-2.06-.94 2.06-2.06.94zm-11 1L8.5 8.5l.94-2.06 2.06-.94-2.06-.94L8.5 2.5l-.94 2.06-2.06.94zm10 10l.94 2.06.94-2.06 2.06-.94-2.06-.94-.94-2.06-.94 2.06-2.06.94z\"/><path d=\"M17.41 7.96l-1.37-1.37c-.4-.4-.92-.59-1.43-.59-.52 0-1.04.2-1.43.59L10.3 9.45l-7.72 7.72c-.78.78-.78 2.05 0 2.83L4 21.41c.39.39.9.59 1.41.59.51 0 1.02-.2 1.41-.59l7.78-7.78 2.81-2.81c.8-.78.8-2.07 0-2.86zM5.41 20L4 18.59l7.72-7.72 1.47 1.35L5.41 20z\"/>\n",
              "  </svg>\n",
              "      </button>\n",
              "      \n",
              "  <style>\n",
              "    .colab-df-container {\n",
              "      display:flex;\n",
              "      flex-wrap:wrap;\n",
              "      gap: 12px;\n",
              "    }\n",
              "\n",
              "    .colab-df-convert {\n",
              "      background-color: #E8F0FE;\n",
              "      border: none;\n",
              "      border-radius: 50%;\n",
              "      cursor: pointer;\n",
              "      display: none;\n",
              "      fill: #1967D2;\n",
              "      height: 32px;\n",
              "      padding: 0 0 0 0;\n",
              "      width: 32px;\n",
              "    }\n",
              "\n",
              "    .colab-df-convert:hover {\n",
              "      background-color: #E2EBFA;\n",
              "      box-shadow: 0px 1px 2px rgba(60, 64, 67, 0.3), 0px 1px 3px 1px rgba(60, 64, 67, 0.15);\n",
              "      fill: #174EA6;\n",
              "    }\n",
              "\n",
              "    [theme=dark] .colab-df-convert {\n",
              "      background-color: #3B4455;\n",
              "      fill: #D2E3FC;\n",
              "    }\n",
              "\n",
              "    [theme=dark] .colab-df-convert:hover {\n",
              "      background-color: #434B5C;\n",
              "      box-shadow: 0px 1px 3px 1px rgba(0, 0, 0, 0.15);\n",
              "      filter: drop-shadow(0px 1px 2px rgba(0, 0, 0, 0.3));\n",
              "      fill: #FFFFFF;\n",
              "    }\n",
              "  </style>\n",
              "\n",
              "      <script>\n",
              "        const buttonEl =\n",
              "          document.querySelector('#df-00ffe0d9-accc-45d7-9d80-ad8a0242c123 button.colab-df-convert');\n",
              "        buttonEl.style.display =\n",
              "          google.colab.kernel.accessAllowed ? 'block' : 'none';\n",
              "\n",
              "        async function convertToInteractive(key) {\n",
              "          const element = document.querySelector('#df-00ffe0d9-accc-45d7-9d80-ad8a0242c123');\n",
              "          const dataTable =\n",
              "            await google.colab.kernel.invokeFunction('convertToInteractive',\n",
              "                                                     [key], {});\n",
              "          if (!dataTable) return;\n",
              "\n",
              "          const docLinkHtml = 'Like what you see? Visit the ' +\n",
              "            '<a target=\"_blank\" href=https://colab.research.google.com/notebooks/data_table.ipynb>data table notebook</a>'\n",
              "            + ' to learn more about interactive tables.';\n",
              "          element.innerHTML = '';\n",
              "          dataTable['output_type'] = 'display_data';\n",
              "          await google.colab.output.renderOutput(dataTable, element);\n",
              "          const docLink = document.createElement('div');\n",
              "          docLink.innerHTML = docLinkHtml;\n",
              "          element.appendChild(docLink);\n",
              "        }\n",
              "      </script>\n",
              "    </div>\n",
              "  </div>\n",
              "  "
            ]
          },
          "metadata": {},
          "execution_count": 25
        }
      ]
    },
    {
      "cell_type": "code",
      "source": [
        "!pip show emoji"
      ],
      "metadata": {
        "colab": {
          "base_uri": "https://localhost:8080/"
        },
        "id": "2Nru08qqzh6P",
        "outputId": "b82a1af7-f2d4-41a5-97d7-af0d7834aee7"
      },
      "execution_count": 26,
      "outputs": [
        {
          "output_type": "stream",
          "name": "stdout",
          "text": [
            "Name: emoji\n",
            "Version: 1.2.0\n",
            "Summary: Emoji for Python\n",
            "Home-page: https://github.com/carpedm20/emoji/\n",
            "Author: Taehoon Kim and Kevin Wurster\n",
            "Author-email: carpedm20@gmail.com\n",
            "License: New BSD\n",
            "Location: /usr/local/lib/python3.9/dist-packages\n",
            "Requires: \n",
            "Required-by: sinling\n"
          ]
        }
      ]
    },
    {
      "cell_type": "markdown",
      "source": [
        "**REMOVE EMOJIS**"
      ],
      "metadata": {
        "id": "2j5oHgAc3rMy"
      }
    },
    {
      "cell_type": "code",
      "source": [
        "import emoji\n",
        "\n",
        "def remove_emojis(text):\n",
        "  new_text = []\n",
        "  for char in text:\n",
        "    if char not in emoji.UNICODE_EMOJI['en']:\n",
        "      new_text.append(char)\n",
        "  return ''.join(new_text)\n",
        "\n",
        "\n",
        "\n",
        "\n",
        "example = tweet['Text'][3]\n",
        "print('Example of original Tweet:')\n",
        "print(example)\n",
        "print('---------------')\n",
        "print('Removing emoji ...')\n",
        "example1 = remove_emojis(example)\n",
        "print(example1)"
      ],
      "metadata": {
        "colab": {
          "base_uri": "https://localhost:8080/"
        },
        "id": "84qGMu7Hu2fe",
        "outputId": "30dbaa38-1791-4c86-8a16-d77ba48e0797"
      },
      "execution_count": 27,
      "outputs": [
        {
          "output_type": "stream",
          "name": "stdout",
          "text": [
            "Example of original Tweet:\n",
            "     එහෙම කොහොමද උනේ  😂  පරය අපිව අයින් කරල නේ  😂\n",
            "---------------\n",
            "Removing emoji ...\n",
            "     එහෙම කොහොමද උනේ    පරය අපිව අයින් කරල නේ  \n"
          ]
        }
      ]
    },
    {
      "cell_type": "code",
      "source": [
        "puretext = [remove_emojis(t) for t in tweet['Text']]"
      ],
      "metadata": {
        "id": "Bz22hT8G1FoB"
      },
      "execution_count": 28,
      "outputs": []
    },
    {
      "cell_type": "markdown",
      "source": [
        "**Extracting emoji**"
      ],
      "metadata": {
        "id": "0LQiNrBX3y8L"
      }
    },
    {
      "cell_type": "code",
      "source": [
        "# function of extracting emoji\n",
        "import emoji\n",
        "\n",
        "def extract_emojis(text):\n",
        "  return ' '.join(c for c in text if c in emoji.UNICODE_EMOJI['en'])\n",
        "\n",
        "example = tweet['Text'][1]+'😂😂😂😂'\n",
        "print('Example of original Tweet:')\n",
        "print(example)\n",
        "print('---------------')\n",
        "print('Extracting emoji ...')\n",
        "example = extract_emojis(example)\n",
        "print(example)"
      ],
      "metadata": {
        "colab": {
          "base_uri": "https://localhost:8080/"
        },
        "id": "OqhNmVDk3SF1",
        "outputId": "aad2f424-64b5-45e5-abfc-65679a3a8428"
      },
      "execution_count": 29,
      "outputs": [
        {
          "output_type": "stream",
          "name": "stdout",
          "text": [
            "Example of original Tweet:\n",
            "  මොකක් හරි නාට්‍යයක් තියෙන්නත් එපැයි ඉතින් 😂😂😂😂\n",
            "---------------\n",
            "Extracting emoji ...\n",
            "😂 😂 😂 😂\n"
          ]
        }
      ]
    },
    {
      "cell_type": "code",
      "source": [
        "emojis = [extract_emojis(t) for t in tweet['Text']]\n",
        "emojis[:10]"
      ],
      "metadata": {
        "colab": {
          "base_uri": "https://localhost:8080/"
        },
        "id": "WIhV9xi43ZMR",
        "outputId": "25d353d1-1347-4598-9482-a0bd83c831ba"
      },
      "execution_count": 30,
      "outputs": [
        {
          "output_type": "execute_result",
          "data": {
            "text/plain": [
              "['', '', '', '😂 😂', '', '', '', '😏 😅', '', '']"
            ]
          },
          "metadata": {},
          "execution_count": 30
        }
      ]
    },
    {
      "cell_type": "code",
      "source": [
        "allemoji = joy + anger + disgust + fear + sad + surp\n",
        "\n",
        "def concern_emojis(text):\n",
        "  return ' '.join(c for c in text if c in allemoji)\n",
        "\n",
        "example = tweet['Text'][59]+'😱🥶 💨 🖼🥳'\n",
        "print('Example of original Tweet:')\n",
        "print(example)\n",
        "print('---------------')\n",
        "print('Extracting concerned emoji ...')\n",
        "example = concern_emojis(example)\n",
        "print(example)"
      ],
      "metadata": {
        "colab": {
          "base_uri": "https://localhost:8080/"
        },
        "id": "HPtZfH7i33GJ",
        "outputId": "d2fe8841-5666-4c52-9782-cfe21ddcce4f"
      },
      "execution_count": 31,
      "outputs": [
        {
          "output_type": "stream",
          "name": "stdout",
          "text": [
            "Example of original Tweet:\n",
            "   උබ පලයන් යන්න 😂😱🥶 💨 🖼🥳\n",
            "---------------\n",
            "Extracting concerned emoji ...\n",
            "😂 😱\n"
          ]
        }
      ]
    },
    {
      "cell_type": "code",
      "source": [
        "c_emojis = [concern_emojis(t) for t in tweet['Text']]\n",
        "c_emojis[:10]"
      ],
      "metadata": {
        "colab": {
          "base_uri": "https://localhost:8080/"
        },
        "id": "K_84wlTz4Zkx",
        "outputId": "5b04011d-ced6-4669-ae89-fecb7b9e36ec"
      },
      "execution_count": 32,
      "outputs": [
        {
          "output_type": "execute_result",
          "data": {
            "text/plain": [
              "['', '', '', '😂 😂', '', '', '', '😏 😅', '', '']"
            ]
          },
          "metadata": {},
          "execution_count": 32
        }
      ]
    },
    {
      "cell_type": "code",
      "source": [
        "tweet['PureText'] = puretext\n",
        "tweet['ConEmoji'] = c_emojis\n",
        "tweet['Emojis'] = emojis"
      ],
      "metadata": {
        "id": "gGLrX_FG4f5p"
      },
      "execution_count": 33,
      "outputs": []
    },
    {
      "cell_type": "code",
      "source": [
        "tweet.head(10)"
      ],
      "metadata": {
        "colab": {
          "base_uri": "https://localhost:8080/",
          "height": 407
        },
        "id": "DJ2Vzb994_y3",
        "outputId": "7b8e3f8e-6e0a-48ff-cef1-c6b0be815ce9"
      },
      "execution_count": 34,
      "outputs": [
        {
          "output_type": "execute_result",
          "data": {
            "text/plain": [
              "                                                Text      Class  \\\n",
              "0        ඝරසරප චිත්‍රපටය පහළ තියෙන එකෙන් කරගන්න         Neutral   \n",
              "1         මොකක් හරි නාට්‍යයක් තියෙන්නත් එපැයි ඉතින්     Neutral   \n",
              "2       කිමද මේ තරම් කොහේදෝ ඇති විදපු ගලක් හා උරන...    Neutral   \n",
              "3       එහෙම කොහොමද උනේ  😂  පරය අපිව අයින් කරල නේ  😂    Neutral   \n",
              "4   විමලයා ගොනෙක් වගෙ එකෙ මෑරෙන්න හදනවා පරය රටට ව...  Political   \n",
              "5      ලැජ්ජයි ස⁣හෝදරයා මේ යන විදිහ දැක්කාම ඔබලාග...     Racist   \n",
              "6    ලැජ්ජයි ස⁣හෝදරයා මේ යන විදිහ දැක්කාම ඔබලාගේ ...     Racist   \n",
              "7      ඇයි මං තම්බි වගේද පෙන්නෙ 😏  මං බ්‍රහස්පතින...    Neutral   \n",
              "8     ඉටිම් බං උතුර ඉල්ලනසෙට් එකයි නැගෙනහිරපඉල්ලන...     Racist   \n",
              "9      පේනවානේ තම්බි කවදත් ඉන්නේ උන්ට වාසි පැත්තේ...     Racist   \n",
              "\n",
              "                                            PureText ConEmoji Emojis  \n",
              "0        ඝරසරප චිත්‍රපටය පහළ තියෙන එකෙන් කරගන්න                       \n",
              "1         මොකක් හරි නාට්‍යයක් තියෙන්නත් එපැයි ඉතින්                   \n",
              "2       කිමද මේ තරම් කොහේදෝ ඇති විදපු ගලක් හා උරන...                  \n",
              "3         එහෙම කොහොමද උනේ    පරය අපිව අයින් කරල නේ        😂 😂    😂 😂  \n",
              "4   විමලයා ගොනෙක් වගෙ එකෙ මෑරෙන්න හදනවා පරය රටට ව...                  \n",
              "5      ලැජ්ජයි ස⁣හෝදරයා මේ යන විදිහ දැක්කාම ඔබලාග...                  \n",
              "6    ලැජ්ජයි ස⁣හෝදරයා මේ යන විදිහ දැක්කාම ඔබලාගේ ...                  \n",
              "7      ඇයි මං තම්බි වගේද පෙන්නෙ   මං බ්‍රහස්පතින්...      😏 😅    😏 😅  \n",
              "8     ඉටිම් බං උතුර ඉල්ලනසෙට් එකයි නැගෙනහිරපඉල්ලන...                  \n",
              "9      පේනවානේ තම්බි කවදත් ඉන්නේ උන්ට වාසි පැත්තේ...                  "
            ],
            "text/html": [
              "\n",
              "  <div id=\"df-07864b46-3a30-46f8-9906-0b76fcfaad74\">\n",
              "    <div class=\"colab-df-container\">\n",
              "      <div>\n",
              "<style scoped>\n",
              "    .dataframe tbody tr th:only-of-type {\n",
              "        vertical-align: middle;\n",
              "    }\n",
              "\n",
              "    .dataframe tbody tr th {\n",
              "        vertical-align: top;\n",
              "    }\n",
              "\n",
              "    .dataframe thead th {\n",
              "        text-align: right;\n",
              "    }\n",
              "</style>\n",
              "<table border=\"1\" class=\"dataframe\">\n",
              "  <thead>\n",
              "    <tr style=\"text-align: right;\">\n",
              "      <th></th>\n",
              "      <th>Text</th>\n",
              "      <th>Class</th>\n",
              "      <th>PureText</th>\n",
              "      <th>ConEmoji</th>\n",
              "      <th>Emojis</th>\n",
              "    </tr>\n",
              "  </thead>\n",
              "  <tbody>\n",
              "    <tr>\n",
              "      <th>0</th>\n",
              "      <td>ඝරසරප චිත්‍රපටය පහළ තියෙන එකෙන් කරගන්න</td>\n",
              "      <td>Neutral</td>\n",
              "      <td>ඝරසරප චිත්‍රපටය පහළ තියෙන එකෙන් කරගන්න</td>\n",
              "      <td></td>\n",
              "      <td></td>\n",
              "    </tr>\n",
              "    <tr>\n",
              "      <th>1</th>\n",
              "      <td>මොකක් හරි නාට්‍යයක් තියෙන්නත් එපැයි ඉතින්</td>\n",
              "      <td>Neutral</td>\n",
              "      <td>මොකක් හරි නාට්‍යයක් තියෙන්නත් එපැයි ඉතින්</td>\n",
              "      <td></td>\n",
              "      <td></td>\n",
              "    </tr>\n",
              "    <tr>\n",
              "      <th>2</th>\n",
              "      <td>කිමද මේ තරම් කොහේදෝ ඇති විදපු ගලක් හා උරන...</td>\n",
              "      <td>Neutral</td>\n",
              "      <td>කිමද මේ තරම් කොහේදෝ ඇති විදපු ගලක් හා උරන...</td>\n",
              "      <td></td>\n",
              "      <td></td>\n",
              "    </tr>\n",
              "    <tr>\n",
              "      <th>3</th>\n",
              "      <td>එහෙම කොහොමද උනේ  😂  පරය අපිව අයින් කරල නේ  😂</td>\n",
              "      <td>Neutral</td>\n",
              "      <td>එහෙම කොහොමද උනේ    පරය අපිව අයින් කරල නේ</td>\n",
              "      <td>😂 😂</td>\n",
              "      <td>😂 😂</td>\n",
              "    </tr>\n",
              "    <tr>\n",
              "      <th>4</th>\n",
              "      <td>විමලයා ගොනෙක් වගෙ එකෙ මෑරෙන්න හදනවා පරය රටට ව...</td>\n",
              "      <td>Political</td>\n",
              "      <td>විමලයා ගොනෙක් වගෙ එකෙ මෑරෙන්න හදනවා පරය රටට ව...</td>\n",
              "      <td></td>\n",
              "      <td></td>\n",
              "    </tr>\n",
              "    <tr>\n",
              "      <th>5</th>\n",
              "      <td>ලැජ්ජයි ස⁣හෝදරයා මේ යන විදිහ දැක්කාම ඔබලාග...</td>\n",
              "      <td>Racist</td>\n",
              "      <td>ලැජ්ජයි ස⁣හෝදරයා මේ යන විදිහ දැක්කාම ඔබලාග...</td>\n",
              "      <td></td>\n",
              "      <td></td>\n",
              "    </tr>\n",
              "    <tr>\n",
              "      <th>6</th>\n",
              "      <td>ලැජ්ජයි ස⁣හෝදරයා මේ යන විදිහ දැක්කාම ඔබලාගේ ...</td>\n",
              "      <td>Racist</td>\n",
              "      <td>ලැජ්ජයි ස⁣හෝදරයා මේ යන විදිහ දැක්කාම ඔබලාගේ ...</td>\n",
              "      <td></td>\n",
              "      <td></td>\n",
              "    </tr>\n",
              "    <tr>\n",
              "      <th>7</th>\n",
              "      <td>ඇයි මං තම්බි වගේද පෙන්නෙ 😏  මං බ්‍රහස්පතින...</td>\n",
              "      <td>Neutral</td>\n",
              "      <td>ඇයි මං තම්බි වගේද පෙන්නෙ   මං බ්‍රහස්පතින්...</td>\n",
              "      <td>😏 😅</td>\n",
              "      <td>😏 😅</td>\n",
              "    </tr>\n",
              "    <tr>\n",
              "      <th>8</th>\n",
              "      <td>ඉටිම් බං උතුර ඉල්ලනසෙට් එකයි නැගෙනහිරපඉල්ලන...</td>\n",
              "      <td>Racist</td>\n",
              "      <td>ඉටිම් බං උතුර ඉල්ලනසෙට් එකයි නැගෙනහිරපඉල්ලන...</td>\n",
              "      <td></td>\n",
              "      <td></td>\n",
              "    </tr>\n",
              "    <tr>\n",
              "      <th>9</th>\n",
              "      <td>පේනවානේ තම්බි කවදත් ඉන්නේ උන්ට වාසි පැත්තේ...</td>\n",
              "      <td>Racist</td>\n",
              "      <td>පේනවානේ තම්බි කවදත් ඉන්නේ උන්ට වාසි පැත්තේ...</td>\n",
              "      <td></td>\n",
              "      <td></td>\n",
              "    </tr>\n",
              "  </tbody>\n",
              "</table>\n",
              "</div>\n",
              "      <button class=\"colab-df-convert\" onclick=\"convertToInteractive('df-07864b46-3a30-46f8-9906-0b76fcfaad74')\"\n",
              "              title=\"Convert this dataframe to an interactive table.\"\n",
              "              style=\"display:none;\">\n",
              "        \n",
              "  <svg xmlns=\"http://www.w3.org/2000/svg\" height=\"24px\"viewBox=\"0 0 24 24\"\n",
              "       width=\"24px\">\n",
              "    <path d=\"M0 0h24v24H0V0z\" fill=\"none\"/>\n",
              "    <path d=\"M18.56 5.44l.94 2.06.94-2.06 2.06-.94-2.06-.94-.94-2.06-.94 2.06-2.06.94zm-11 1L8.5 8.5l.94-2.06 2.06-.94-2.06-.94L8.5 2.5l-.94 2.06-2.06.94zm10 10l.94 2.06.94-2.06 2.06-.94-2.06-.94-.94-2.06-.94 2.06-2.06.94z\"/><path d=\"M17.41 7.96l-1.37-1.37c-.4-.4-.92-.59-1.43-.59-.52 0-1.04.2-1.43.59L10.3 9.45l-7.72 7.72c-.78.78-.78 2.05 0 2.83L4 21.41c.39.39.9.59 1.41.59.51 0 1.02-.2 1.41-.59l7.78-7.78 2.81-2.81c.8-.78.8-2.07 0-2.86zM5.41 20L4 18.59l7.72-7.72 1.47 1.35L5.41 20z\"/>\n",
              "  </svg>\n",
              "      </button>\n",
              "      \n",
              "  <style>\n",
              "    .colab-df-container {\n",
              "      display:flex;\n",
              "      flex-wrap:wrap;\n",
              "      gap: 12px;\n",
              "    }\n",
              "\n",
              "    .colab-df-convert {\n",
              "      background-color: #E8F0FE;\n",
              "      border: none;\n",
              "      border-radius: 50%;\n",
              "      cursor: pointer;\n",
              "      display: none;\n",
              "      fill: #1967D2;\n",
              "      height: 32px;\n",
              "      padding: 0 0 0 0;\n",
              "      width: 32px;\n",
              "    }\n",
              "\n",
              "    .colab-df-convert:hover {\n",
              "      background-color: #E2EBFA;\n",
              "      box-shadow: 0px 1px 2px rgba(60, 64, 67, 0.3), 0px 1px 3px 1px rgba(60, 64, 67, 0.15);\n",
              "      fill: #174EA6;\n",
              "    }\n",
              "\n",
              "    [theme=dark] .colab-df-convert {\n",
              "      background-color: #3B4455;\n",
              "      fill: #D2E3FC;\n",
              "    }\n",
              "\n",
              "    [theme=dark] .colab-df-convert:hover {\n",
              "      background-color: #434B5C;\n",
              "      box-shadow: 0px 1px 3px 1px rgba(0, 0, 0, 0.15);\n",
              "      filter: drop-shadow(0px 1px 2px rgba(0, 0, 0, 0.3));\n",
              "      fill: #FFFFFF;\n",
              "    }\n",
              "  </style>\n",
              "\n",
              "      <script>\n",
              "        const buttonEl =\n",
              "          document.querySelector('#df-07864b46-3a30-46f8-9906-0b76fcfaad74 button.colab-df-convert');\n",
              "        buttonEl.style.display =\n",
              "          google.colab.kernel.accessAllowed ? 'block' : 'none';\n",
              "\n",
              "        async function convertToInteractive(key) {\n",
              "          const element = document.querySelector('#df-07864b46-3a30-46f8-9906-0b76fcfaad74');\n",
              "          const dataTable =\n",
              "            await google.colab.kernel.invokeFunction('convertToInteractive',\n",
              "                                                     [key], {});\n",
              "          if (!dataTable) return;\n",
              "\n",
              "          const docLinkHtml = 'Like what you see? Visit the ' +\n",
              "            '<a target=\"_blank\" href=https://colab.research.google.com/notebooks/data_table.ipynb>data table notebook</a>'\n",
              "            + ' to learn more about interactive tables.';\n",
              "          element.innerHTML = '';\n",
              "          dataTable['output_type'] = 'display_data';\n",
              "          await google.colab.output.renderOutput(dataTable, element);\n",
              "          const docLink = document.createElement('div');\n",
              "          docLink.innerHTML = docLinkHtml;\n",
              "          element.appendChild(docLink);\n",
              "        }\n",
              "      </script>\n",
              "    </div>\n",
              "  </div>\n",
              "  "
            ]
          },
          "metadata": {},
          "execution_count": 34
        }
      ]
    },
    {
      "cell_type": "markdown",
      "source": [
        "**REMOVE STOP WORDS**"
      ],
      "metadata": {
        "id": "hT9BCrE6AQOR"
      }
    },
    {
      "cell_type": "code",
      "source": [
        "stopwords_set = [\"සහ\",\"සමග\",\"සමඟ\",\"අහා\",\"ආහ්\",\"ආ\",\"ඕහෝ\",\"අනේ\",\"අඳෝ\",\"අපොයි\",\"පෝ\",\"අයියෝ\",\"ආයි\",\"ඌයි\",\"චී\",\"චිහ්\",\"චික්\",\"හෝ‍\",\"දෝ\",\n",
        "                 \"දෝහෝ\",\"මෙන්\",\"සේ\",\"වැනි\",\"බඳු\",\"වන්\",\"අයුරු\",\"අයුරින්\",\"ලෙස\",\"වැඩි\",\"ශ්‍රී\",\"හා\",\"ය\",\"නිසා\",\"නිසාවෙන්\",\"බවට\",\"බව\",\"බවෙන්\",\"නම්\",\"වැඩි\",\"සිට\",\n",
        "                 \"දී\",\"මහා\",\"මහ\",\"පමණ\",\"පමණින්\",\"පමන\",\"වන\",\"විට\",\"විටින්\",\"මේ\",\"මෙලෙස\",\"මෙයින්\",\"ඇති\",\"ලෙස\",\"සිදු\",\"වශයෙන්\",\"යන\",\"සඳහා\",\"මගින්\",\"හෝ‍\",\n",
        "                 \"ඉතා\",\"ඒ\",\"එම\",\"ද\",\"අතර\",\"විසින්\",\"සමග\",\"පිළිබඳව\",\"පිළිබඳ\",\"තුළ\",\"බව\",\"වැනි\",\"මහ\",\"මෙම\",\"මෙහි\",\"මේ\",\"වෙත\",\"වෙතින්\",\"වෙතට\",\"වෙනුවෙන්\",\n",
        "                 \"වෙනුවට\",\"වෙන\",\"ගැන\",\"නෑ\",\"අනුව\",\"නව\",\"පිළිබඳ\",\"විශේෂ\",\"දැනට\",\"එහෙන්\",\"මෙහෙන්\",\"එහේ\",\"මෙහේ\",\"ම\",\"තවත්\",\"තව\",\"සහ\",\"දක්වා\",\"ට\",\"ගේ\",\n",
        "                 \"එ\",\"ක\",\"ක්\",\"බවත්\",\"බවද\",\"මත\",\"ඇතුලු\",\"ඇතුළු\",\"මෙසේ\",\"වඩා\",\"වඩාත්ම\",\"නිති\",\"නිතිත්\",\"නිතොර\",\"නිතර\",\"ඉක්බිති\",\"දැන්\",\"යලි\",\"පුන\",\"ඉතින්\",\n",
        "                 \"සිට\",\"සිටන්\",\"පටන්\",\"තෙක්\",\"දක්වා\",\"සා\",\"තාක්\",\"තුවක්\",\"පවා\",\"ද\",\"හෝ‍\",\"වත්\",\"විනා\",\"හැර\",\"මිස\",\"මුත්\",\"කිම\",\"කිම්\",\"ඇයි\",\"මන්ද\",\"හෙවත්\",\n",
        "                 \"නොහොත්\",\"පතා\",\"පාසා\",\"ගානෙ\",\"තව\",\"ඉතා\",\"බොහෝ\",\"වහා\",\"සෙද\",\"සැනින්\",\"හනික\",\"එම්බා\",\"එම්බල\",\"බොල\",\"නම්\",\"වනාහි\",\"කලී\",\"ඉඳුරා\",\n",
        "                 \"අන්න\",\"ඔන්න\",\"මෙන්න\",\"උදෙසා\",\"පිණිස\",\"සඳහා\",\"රබයා\",\"නිසා\",\"එනිසා\",\"එබැවින්\",\"බැවින්\",\"හෙයින්\",\"සේක්\",\"සේක\",\"ගැන\",\"අනුව\",\"පරිදි\",\"විට\",\n",
        "                 \"තෙක්\",\"මෙතෙක්\",\"මේතාක්\",\"තුරු\",\"තුරා\",\"තුරාවට\",\"තුලින්\",\"නමුත්\",\"එනමුත්\",\"වස්\",'මෙන්',\"ලෙස\",\"පරිදි\",\"එහෙත්\"]\n",
        "\n",
        "print(stopwords_set)"
      ],
      "metadata": {
        "colab": {
          "base_uri": "https://localhost:8080/"
        },
        "id": "3WOcHmrCAPRk",
        "outputId": "dc5cc563-4347-4649-d079-42d3d39b06ba"
      },
      "execution_count": 35,
      "outputs": [
        {
          "output_type": "stream",
          "name": "stdout",
          "text": [
            "['සහ', 'සමග', 'සමඟ', 'අහා', 'ආහ්', 'ආ', 'ඕහෝ', 'අනේ', 'අඳෝ', 'අපොයි', 'පෝ', 'අයියෝ', 'ආයි', 'ඌයි', 'චී', 'චිහ්', 'චික්', 'හෝ\\u200d', 'දෝ', 'දෝහෝ', 'මෙන්', 'සේ', 'වැනි', 'බඳු', 'වන්', 'අයුරු', 'අයුරින්', 'ලෙස', 'වැඩි', 'ශ්\\u200dරී', 'හා', 'ය', 'නිසා', 'නිසාවෙන්', 'බවට', 'බව', 'බවෙන්', 'නම්', 'වැඩි', 'සිට', 'දී', 'මහා', 'මහ', 'පමණ', 'පමණින්', 'පමන', 'වන', 'විට', 'විටින්', 'මේ', 'මෙලෙස', 'මෙයින්', 'ඇති', 'ලෙස', 'සිදු', 'වශයෙන්', 'යන', 'සඳහා', 'මගින්', 'හෝ\\u200d', 'ඉතා', 'ඒ', 'එම', 'ද', 'අතර', 'විසින්', 'සමග', 'පිළිබඳව', 'පිළිබඳ', 'තුළ', 'බව', 'වැනි', 'මහ', 'මෙම', 'මෙහි', 'මේ', 'වෙත', 'වෙතින්', 'වෙතට', 'වෙනුවෙන්', 'වෙනුවට', 'වෙන', 'ගැන', 'නෑ', 'අනුව', 'නව', 'පිළිබඳ', 'විශේෂ', 'දැනට', 'එහෙන්', 'මෙහෙන්', 'එහේ', 'මෙහේ', 'ම', 'තවත්', 'තව', 'සහ', 'දක්වා', 'ට', 'ගේ', 'එ', 'ක', 'ක්', 'බවත්', 'බවද', 'මත', 'ඇතුලු', 'ඇතුළු', 'මෙසේ', 'වඩා', 'වඩාත්ම', 'නිති', 'නිතිත්', 'නිතොර', 'නිතර', 'ඉක්බිති', 'දැන්', 'යලි', 'පුන', 'ඉතින්', 'සිට', 'සිටන්', 'පටන්', 'තෙක්', 'දක්වා', 'සා', 'තාක්', 'තුවක්', 'පවා', 'ද', 'හෝ\\u200d', 'වත්', 'විනා', 'හැර', 'මිස', 'මුත්', 'කිම', 'කිම්', 'ඇයි', 'මන්ද', 'හෙවත්', 'නොහොත්', 'පතා', 'පාසා', 'ගානෙ', 'තව', 'ඉතා', 'බොහෝ', 'වහා', 'සෙද', 'සැනින්', 'හනික', 'එම්බා', 'එම්බල', 'බොල', 'නම්', 'වනාහි', 'කලී', 'ඉඳුරා', 'අන්න', 'ඔන්න', 'මෙන්න', 'උදෙසා', 'පිණිස', 'සඳහා', 'රබයා', 'නිසා', 'එනිසා', 'එබැවින්', 'බැවින්', 'හෙයින්', 'සේක්', 'සේක', 'ගැන', 'අනුව', 'පරිදි', 'විට', 'තෙක්', 'මෙතෙක්', 'මේතාක්', 'තුරු', 'තුරා', 'තුරාවට', 'තුලින්', 'නමුත්', 'එනමුත්', 'වස්', 'මෙන්', 'ලෙස', 'පරිදි', 'එහෙත්']\n"
          ]
        }
      ]
    },
    {
      "cell_type": "code",
      "source": [
        "def remove_stopwords_SINHALA(text):\n",
        "    wordlist = []\n",
        "    for w in text.split(' '):\n",
        "        if w not in stopwords_set:\n",
        "            wordlist.append(w)\n",
        "    return ' '.join(wordlist)"
      ],
      "metadata": {
        "id": "ImzQQnGjAx1R"
      },
      "execution_count": 36,
      "outputs": []
    },
    {
      "cell_type": "code",
      "source": [
        "example = tweet['Text'][5]\n",
        "print('Example of original Tweet:')\n",
        "print(example)\n",
        "print('---------------')\n",
        "print('Removing stopwords...')\n",
        "example1 = remove_stopwords_SINHALA(example)\n",
        "print(example1)"
      ],
      "metadata": {
        "colab": {
          "base_uri": "https://localhost:8080/"
        },
        "id": "IiSmwJSZA1Nr",
        "outputId": "d823b004-da23-4b8a-9af0-46ef9ee83db4"
      },
      "execution_count": 37,
      "outputs": [
        {
          "output_type": "stream",
          "name": "stdout",
          "text": [
            "Example of original Tweet:\n",
            "    ලැජ්ජයි ස⁣හෝදරයා මේ යන විදිහ දැක්කාම ඔබලාගේ මේ කුලල්කෑම නිසා වාසි ගන්නේ තම්බි වහබ්වාදීන් සහ දෙමළ බෙදුම්වාදීන් \n",
            "---------------\n",
            "Removing stopwords...\n",
            "    ලැජ්ජයි ස⁣හෝදරයා විදිහ දැක්කාම ඔබලාගේ කුලල්කෑම වාසි ගන්නේ තම්බි වහබ්වාදීන් දෙමළ බෙදුම්වාදීන් \n"
          ]
        }
      ]
    },
    {
      "cell_type": "code",
      "source": [
        "%time tweet['Text']=tweet['Text'].apply(lambda x : remove_stopwords_SINHALA(x))"
      ],
      "metadata": {
        "colab": {
          "base_uri": "https://localhost:8080/"
        },
        "id": "BVdxUXFyA5RH",
        "outputId": "22c8d8f6-92af-48e8-da5a-c3542b9e5aec"
      },
      "execution_count": 38,
      "outputs": [
        {
          "output_type": "stream",
          "name": "stdout",
          "text": [
            "CPU times: user 148 ms, sys: 0 ns, total: 148 ms\n",
            "Wall time: 155 ms\n"
          ]
        }
      ]
    },
    {
      "cell_type": "markdown",
      "source": [
        "**TRANSLATE ENGLISH WORDS TO SINHALA**"
      ],
      "metadata": {
        "id": "8D0R_wvWA-jC"
      }
    },
    {
      "cell_type": "code",
      "source": [
        "# english-sinhala dictionary\n",
        "dictionary = {}\n",
        "df= pd.read_csv('en-sinhala dictionary.csv')\n",
        "dictionary_file = df[\"En,sinhala\"]\n",
        "\n",
        "for line in dictionary_file:\n",
        "    key, value = line.strip().split(\",\")\n",
        "    dictionary[key] = value"
      ],
      "metadata": {
        "id": "cu0rRsKdBBUc"
      },
      "execution_count": 39,
      "outputs": []
    },
    {
      "cell_type": "code",
      "source": [
        "# to check whether the string contains English words(any)\n",
        "def translate_english(x):\n",
        "    for word1 in x.split():\n",
        "        new_word = ''.join(i for i in word1 if not i.isdigit())\n",
        "        x = x.replace(word1, new_word)\n",
        "    for word in x.split():\n",
        "        word2 = \"\".join(l for l in word if l not in string.punctuation)\n",
        "        if re.match('[a-zA-Z]', word2) is not None:\n",
        "            word1 = word2.lower()\n",
        "            translated_word = dictionary.get(word1)\n",
        "            if translated_word is None:\n",
        "                translated_word = ''\n",
        "            x = x.replace(word, translated_word)\n",
        "    return x"
      ],
      "metadata": {
        "id": "gpChcapCBFH8"
      },
      "execution_count": 40,
      "outputs": []
    },
    {
      "cell_type": "code",
      "source": [
        "tweet['Text'] = tweet['Text'].apply(translate_english)"
      ],
      "metadata": {
        "id": "S1jzk_izBR6f"
      },
      "execution_count": 41,
      "outputs": []
    },
    {
      "cell_type": "markdown",
      "source": [
        "**Simplify Sinhalese Text**"
      ],
      "metadata": {
        "id": "nD10w-KCQc5h"
      }
    },
    {
      "cell_type": "code",
      "source": [
        "sinhalese_chars = [\n",
        "    \"අ\", \"ආ\", \"ඇ\", \"ඈ\", \"ඉ\", \"ඊ\",\n",
        "    \"උ\", \"ඌ\", \"ඍ\", \"ඎ\", \"ඏ\", \"ඐ\",\n",
        "    \"එ\", \"ඒ\", \"ඓ\", \"ඔ\", \"ඕ\", \"ඖ\",\n",
        "    \"ං\", \"ඃ\",\n",
        "    \"ක\", \"ඛ\", \"ග\", \"ඝ\", \"ඞ\", \"ඟ\",\n",
        "    \"ච\", \"ඡ\", \"ජ\", \"ඣ\", \"ඤ\", \"ඥ\", \"ඦ\",\n",
        "    \"ට\", \"ඨ\", \"ඩ\", \"ඪ\", \"ණ\", \"ඬ\",\n",
        "    \"ත\", \"ථ\", \"ද\", \"ධ\", \"න\", \"ඳ\",\n",
        "    \"ප\", \"ඵ\", \"බ\", \"භ\", \"ම\", \"ඹ\",\n",
        "    \"ය\", \"ර\", \"ල\", \"ව\",\n",
        "    \"ශ\", \"ෂ\", \"ස\", \"හ\", \"ළ\", \"ෆ\",\n",
        "    \"෴\", \"\\u200d\"\n",
        "]\n",
        "\n",
        "# \"\\u200d\" is used with \"යංශය\" - කාව්‍ය, \"රේඵය\" - වර්‍තමාන, \"Both\" - මහාචාර්‍ය්‍ය, \"රකාරාංශය\" - මුද්‍රණය\n",
        "\n",
        "sinhalese_vowel_signs = [\"්\", \"ා\", \"ැ\", \"ෑ\", \"ි\", \"ී\", \"ු\", \"ූ\", \"ෘ\", \"ෙ\", \"ේ\", \"ෛ\", \"ො\", \"ෝ\",\n",
        "                         \"ෞ\", \"ෟ\", \"ෲ\", \"ෳ\", \"ර්‍\"]\n",
        "\n",
        "# dictionary that maps wrong usage of vowels to correct vowels\n",
        "vowel_sign_fix_dict = {\n",
        "    \"ෑ\": \"ැ\",\n",
        "    \"ෙ\" + \"්\": \"ේ\",\n",
        "    \"්\" + \"ෙ\": \"ේ\",\n",
        "\n",
        "    \"ෙ\" + \"ා\": \"ො\",\n",
        "    \"ා\" + \"ෙ\": \"ො\",\n",
        "\n",
        "    \"ේ\" + \"ා\": \"ෝ\",\n",
        "    \"ො\" + \"්\": \"ෝ\",\n",
        "\n",
        "    \"ෙෙ\": \"ෛ\",\n",
        "    \"ෘෘ\": \"ෲ\",\n",
        "\n",
        "    \"ෙ\" + \"ෟ\": \"ෞ\",\n",
        "    \"ෟ\" + \"ෙ\": \"ෞ\",\n",
        "\n",
        "    \"ි\" + \"ී\": \"ී\",\n",
        "    \"ී\" + \"ි\": \"ී\",\n",
        "\n",
        "    # duplicating same symbol\n",
        "    \"ේ\" + \"්\": \"ේ\",\n",
        "    \"ේ\" + \"ෙ\": \"ේ\",\n",
        "\n",
        "    \"ො\" + \"ා\": \"ො\",\n",
        "    \"ො\" + \"ෙ\": \"ො\",\n",
        "\n",
        "    \"ෝ\" + \"ා\": \"ෝ\",\n",
        "    \"ෝ\" + \"්\": \"ෝ\",\n",
        "    \"ෝ\" + \"ෙ\": \"ෝ\",\n",
        "    \"ෝ\" + \"ේ\": \"ෝ\",\n",
        "    \"ෝ\" + \"ො\": \"ෝ\",\n",
        "\n",
        "    \"ෞ\" + \"ෟ\": \"ෞ\",\n",
        "    \"ෞ\" + \"ෙ\": \"ෞ\",\n",
        "\n",
        "    # special cases - may be typing mistakes\n",
        "    \"ො\" + \"ෟ\": \"ෞ\",\n",
        "    \"ෟ\" + \"ො\": \"ෞ\",\n",
        "}\n",
        "\n",
        "simplify_characters_dict = {\n",
        "    # Consonant\n",
        "    \"ඛ\": \"ක\",\n",
        "    \"ඝ\": \"ග\",\n",
        "    \"ඟ\": \"ග\",\n",
        "    \"ඡ\": \"ච\",\n",
        "    \"ඣ\": \"ජ\",\n",
        "    \"ඦ\": \"ජ\",\n",
        "    \"ඤ\": \"ඥ\",\n",
        "    \"ඨ\": \"ට\",\n",
        "    \"ඪ\": \"ඩ\",\n",
        "    \"ණ\": \"න\",\n",
        "    \"ඳ\": \"ද\",\n",
        "    \"ඵ\": \"ප\",\n",
        "    \"භ\": \"බ\",\n",
        "    \"ඹ\": \"බ\",\n",
        "    \"ශ\": \"ෂ\",\n",
        "    \"ළ\": \"ල\",\n",
        "\n",
        "    # Vowels\n",
        "    \"ආ\": \"අ\",\n",
        "    \"ඈ\": \"ඇ\",\n",
        "    \"ඊ\": \"ඉ\",\n",
        "    \"ඌ\": \"උ\",\n",
        "    \"ඒ\": \"එ\",\n",
        "    \"ඕ\": \"ඔ\",\n",
        "\n",
        "}\n",
        "\n",
        "def is_sinhalese_letter(char: str) -> bool:\n",
        "    return char in sinhalese_chars\n",
        "\n",
        "\n",
        "def is_sinhalese_vowel(char: str) -> bool:\n",
        "    return char in sinhalese_vowel_signs\n",
        "\n",
        "\n",
        "def get_fixed_vowel(vowel: str) -> str:\n",
        "    return vowel_sign_fix_dict[vowel]\n",
        "\n",
        "\n",
        "def get_simplified_character(character: str) -> str:\n",
        "    if len(character) != 1:\n",
        "        raise TypeError(\"character should be a string with length 1\")\n",
        "    try:\n",
        "        return simplify_characters_dict[character]\n",
        "    except KeyError:\n",
        "        return character\n",
        "\n",
        "def simplify_sinhalese_text(text: str) -> str:\n",
        "    \"\"\"\n",
        "    simplify\n",
        "    :param text:\n",
        "    :return:\n",
        "    \"\"\"\n",
        "    modified_text = \"\"\n",
        "    for c in text:\n",
        "        modified_text += get_simplified_character(c)\n",
        "    return modified_text\n",
        "\n",
        "simplify_sinhalese_text(\"ඝරසරප චිත්‍රපටය පහළ තියෙන සම්බන්ධකය එකෙන් බාගත කරගන්න\")"
      ],
      "metadata": {
        "colab": {
          "base_uri": "https://localhost:8080/",
          "height": 36
        },
        "id": "st45cTfDLpgV",
        "outputId": "077f2ef7-dcc3-472e-8946-927d94302e49"
      },
      "execution_count": 42,
      "outputs": [
        {
          "output_type": "execute_result",
          "data": {
            "text/plain": [
              "'ගරසරප චිත්\\u200dරපටය පහල තියෙන සම්බන්ධකය එකෙන් බාගත කරගන්න'"
            ],
            "application/vnd.google.colaboratory.intrinsic+json": {
              "type": "string"
            }
          },
          "metadata": {},
          "execution_count": 42
        }
      ]
    },
    {
      "cell_type": "code",
      "source": [
        "class SinhaleseVowelLetterFixer:\n",
        "    \"\"\"\n",
        "    Sinhalese Language Vowel Letter Fixer\n",
        "    \"\"\"\n",
        "\n",
        "    @staticmethod\n",
        "    def get_fixed_text(text: str) -> str:\n",
        "        \"\"\"\n",
        "        Fix wrong usage of vowels\n",
        "        :param text: text to be fixed\n",
        "        :return: fixed text with proper vowels\n",
        "        \"\"\"\n",
        "        fixed_text = \"\"\n",
        "        last_letter = \"\"\n",
        "        last_vowel = \"\"\n",
        "\n",
        "        for letter in text:\n",
        "            if is_sinhalese_letter(letter):\n",
        "                fixed_text += (last_letter + last_vowel)\n",
        "                last_letter = letter\n",
        "                last_vowel = \"\"\n",
        "            elif is_sinhalese_vowel(letter):\n",
        "                if last_letter == \"\":\n",
        "                    print(\"Error : First letter can't be a vowel sign : \" + letter)\n",
        "                if last_vowel == \"\":\n",
        "                    last_vowel = letter\n",
        "                else:\n",
        "                    try:\n",
        "                        last_vowel = get_fixed_vowel(last_vowel + letter)\n",
        "                        print(last_vowel)\n",
        "                    except KeyError:\n",
        "                        # fix error of mistakenly duplicate vowel\n",
        "                        if last_vowel == letter:\n",
        "                            continue\n",
        "                        else:\n",
        "                            print(\"Error : can't fix vowel combination \" + last_vowel + \" + \" + letter)\n",
        "            else:\n",
        "                fixed_text += (last_letter + last_vowel + letter)\n",
        "                last_letter = \"\"\n",
        "                last_vowel = \"\"\n",
        "\n",
        "        fixed_text += last_letter + last_vowel\n",
        "        return fixed_text\n",
        "\n",
        "\n",
        "corrected_text = SinhaleseVowelLetterFixer.get_fixed_text(\"මෑරෙන්න\")\n",
        "#assert correct_text == corrected_text\n",
        "print(corrected_text)"
      ],
      "metadata": {
        "colab": {
          "base_uri": "https://localhost:8080/"
        },
        "id": "nsTsUq68RhE4",
        "outputId": "b97700be-a93f-4b2b-f6d1-734b572986bd"
      },
      "execution_count": 43,
      "outputs": [
        {
          "output_type": "stream",
          "name": "stdout",
          "text": [
            "මෑරෙන්න\n"
          ]
        }
      ]
    },
    {
      "cell_type": "code",
      "source": [],
      "metadata": {
        "id": "7MUDVdXyjRwp"
      },
      "execution_count": 43,
      "outputs": []
    },
    {
      "cell_type": "code",
      "source": [
        "translate_words_dict = {\n",
        "    \"unp\": \"එක්සත් ජාතික පක්ෂය\",\n",
        "    \"muslim\": \"මුස්ලිම්\",\n",
        "    \"srilankanpolitics\": \"ශ්‍රී ලංකන් දේශපාලනය\",\n",
        "    \"council\": \"සභාව\",\n",
        "    \"sinhala\": \"සිංහල\",\n",
        "    \"buddhist\": \"බෞද්ධ\",\n",
        "    \"buddhism\": \"බුද්ධාගම\",\n",
        "    \"srilanka\": \"ශ්‍රී ලංකාව\",\n",
        "    \"racist\": \"ජාතිවාදී\",\n",
        "    \"presidentialfirst\": \"පළමු ජනාධිපති\",\n",
        "    \"feeling\": \"හැඟීම\",\n",
        "    \"feminist\": \"ස්ත්‍රීවාදී\",\n",
        "    \"loved\": \"ආදරය කළා\",\n",
        "    \"team\": \"කණ්ඩායම\",\n",
        "    \"tclsl\":\"ට්විටර් ක්‍රිකට් ලීගය ශ්‍රී ලංකාව\",\n",
        "    \"pongal\": \"පොංගල්\",\n",
        "    \"pongalfestival\": \"පොංගල් උත්සවය\",\n",
        "    \"women\": \"කාන්තා\",\n",
        "    \"nextpresidentinsl\": \"ශ්‍රී ලංකාවේ මීළඟ ජනාධිපති \",\n",
        "    \"seventhexecutivepresident\": \"හත්වන විධායක සභාපති\",\n",
        "    \"hate\": \"වෛරය\",\n",
        "    \"love\": \"ආදරය\",\n",
        "    \"angry\": \"තරහයි\",\n",
        "    \"doctor\": \"ඩොක්ටර්\",\n",
        "    \"ltte\": \"එල්ටීටීඊය\",\n",
        "    \"lka\": \"‍ශ්‍රී ලංකාව\",\n",
        "    \"hurt\": \"රිදෙනවා\",\n",
        "    \"typo\": \"යතුරු ලියනය\",\n",
        "    \"racial\": \"වාර්ගික\",\n",
        "    \"hatred\": \"වෛරය\",\n",
        "    \"halal\": \"හලාල්\",\n",
        "    \"wicket\": \"කඩුල්ල\",\n",
        "    \"taker\": \"ටේකර්\",\n",
        "    \"indoor\": \"ගෘහස්ථ\",\n",
        "    \"attacker\": \"ප්‍රහාරකයා\",\n",
        "    \"attack\": \"ප්රහාරය\",\n",
        "    \"spikers\": \"ස්පිකර්ස්\",\n",
        "    \"training\": \"පුහුණුව\",\n",
        "    \"final\": \"අවසාන\",\n",
        "    \"match\": \"තරගය\",\n",
        "    \"tournament\": \"තරඟාවලිය\",\n",
        "    \"youth\": \"තරුණ\",\n",
        "    \"amen\": \"ආමෙන්\",\n",
        "    \"enough\": \"ඇති\",\n",
        "    \"standagainstracism\": \"ජාතිවාදයට එරෙහිව නැගී සිටින්න\"\n",
        "}\n",
        "\n",
        "\n",
        "def translate_to_sinhala(word: str) -> str:\n",
        "  word = word.lower()\n",
        "  if word in translate_words_dict:\n",
        "        return translate_words_dict[word]\n",
        "  return word\n",
        "\n",
        "#translate_to_sinhala(\"unp\")"
      ],
      "metadata": {
        "id": "RxuX0Q9hhR-v"
      },
      "execution_count": 44,
      "outputs": []
    },
    {
      "cell_type": "markdown",
      "source": [
        "**Stem words**"
      ],
      "metadata": {
        "id": "YgHz6NEhgYy9"
      }
    },
    {
      "cell_type": "code",
      "source": [
        "import os\n",
        "\n",
        "import pygtrie as trie\n",
        "\n",
        "from sinling.config import RESOURCE_PATH\n",
        "from sinling.core import Stemmer\n",
        "\n",
        "__all__ = [\n",
        "    'SinhalaStemmer'\n",
        "]\n",
        "\n",
        "\n",
        "def _load_stem_dictionary():\n",
        "    stem_dict = dict()\n",
        "    with open(os.path.join(RESOURCE_PATH, 'stem_dictionary.txt'), 'r', encoding='utf-8') as fp:\n",
        "        for line in fp.read().split('\\n'):\n",
        "            try:\n",
        "                base, suffix = line.strip().split('\\t')\n",
        "                stem_dict[f'{base}{suffix}'] = (base, suffix)\n",
        "            except ValueError as _:\n",
        "                pass\n",
        "    return stem_dict\n",
        "\n",
        "\n",
        "def _load_suffixes():\n",
        "    suffixes = trie.Trie()\n",
        "    with open(os.path.join(RESOURCE_PATH, 'suffixes_list.txt'), 'r', encoding='utf-8') as fp:\n",
        "        for suffix in fp.read().split('\\n'):\n",
        "            suffixes[suffix[::-1]] = suffix\n",
        "    return suffixes\n",
        "\n",
        "\n",
        "class SinhalaStemmer(Stemmer):\n",
        "    def __init__(self):\n",
        "        super().__init__()\n",
        "        self.stem_dictionary = _load_stem_dictionary()\n",
        "        self.suffixes = _load_suffixes()\n",
        "\n",
        "    def stem(self, word):\n",
        "        if word in self.stem_dictionary:\n",
        "            return self.stem_dictionary[word]\n",
        "        else:\n",
        "            suffix = self.suffixes.longest_prefix(word[::-1]).key\n",
        "            if suffix is not None:\n",
        "                return word[0:-len(suffix)], word[len(word) - len(suffix):]\n",
        "            else:\n",
        "                return word, ''"
      ],
      "metadata": {
        "id": "b9tixq4_Qhl_"
      },
      "execution_count": 45,
      "outputs": []
    },
    {
      "cell_type": "code",
      "source": [
        "stemmer = stemmer()\n",
        "\n",
        "def stem_word(word: str) -> str:\n",
        "    word= translate_to_sinhala(word)\n",
        "    \"\"\"\n",
        "    Stemming words\n",
        "    :param word: word\n",
        "    :return: stemmed word\n",
        "    \"\"\"\n",
        "    if len(word) < 4:\n",
        "        return word\n",
        "\n",
        "    # remove 'ට'\n",
        "    if word[-1] == 'ට':\n",
        "        return word[:-1]\n",
        "\n",
        "    # remove 'ම'\n",
        "    if word[-1] == 'ම':\n",
        "        return word[:-1]\n",
        "\n",
        "    # remove 'ද'\n",
        "    if word[-1] == 'ද':\n",
        "        return word[:-1]\n",
        "\n",
        "    # remove 'ටත්'\n",
        "    if word[-3:] == 'ටත්':\n",
        "        return word[:-3]\n",
        "\n",
        "    # remove 'එක්'\n",
        "    if word[-3:] == 'ෙක්':\n",
        "        return word[:-3]\n",
        "\n",
        "    # remove 'යේ'\n",
        "    if word[-2:] == 'යේ':\n",
        "        return word[:-2]\n",
        "\n",
        "    # remove 'ගෙ' (instead of ගේ because this step comes after simplifying text)\n",
        "    if word[-2:] == 'ගෙ':\n",
        "        return word[:-2]\n",
        "\n",
        "    # remove 'එ'\n",
        "    if word[-1:] == 'ෙ':\n",
        "        return word[:-1]\n",
        "\n",
        "    # remove 'ක්'\n",
        "    if word[-2:] == 'ක්':\n",
        "        return word[:-2]\n",
        "\n",
        "    # remove 'වත්'\n",
        "    if word[-3:] == 'වත්':\n",
        "        return word[:-3]\n",
        "\n",
        "    word=stemmer.stem(word)\n",
        "    word=word[0]\n",
        "\n",
        "\n",
        "    # else\n",
        "    return word\n",
        "\n",
        "\n",
        "print(stem_word('ගරසරප'))\n",
        "print(stem_word('චිත්‍රපටය'))\n",
        "print(stem_word('පහල'))\n",
        "print(stem_word('තියෙන'))\n",
        "print(stem_word('සම්බන්ධකය'))\n",
        "print(stem_word('එකෙන්'))\n",
        "print(stem_word('බාගත'))\n",
        "print(stem_word('කරගන්න'))\n",
        "#විපක්ෂයේ,විපක්ෂව,විපක්ෂකම,විපක්ෂය,විපක්ෂයා \n",
        "\n",
        "print(stem_word('ගරසරප චිත්‍රපටය පහල තියෙන සම්බන්ධකය එකෙන් බාගත කරගන්න'))"
      ],
      "metadata": {
        "colab": {
          "base_uri": "https://localhost:8080/"
        },
        "id": "yl6BWJP7g1OF",
        "outputId": "0f2694c6-f43c-492d-8ddb-2953b51bf35a"
      },
      "execution_count": 108,
      "outputs": [
        {
          "output_type": "stream",
          "name": "stdout",
          "text": [
            "ගරසරප\n",
            "චිත්‍රපට\n",
            "පහල\n",
            "තියෙ\n",
            "සම්බන්ධක\n",
            "එ\n",
            "බාගත\n",
            "කරග\n",
            "ගරසරප චිත්‍රපටය පහල තියෙන සම්බන්ධකය එකෙන් බාගත කරග\n"
          ]
        }
      ]
    },
    {
      "cell_type": "code",
      "source": [
        "tweet['PureText'] = tweet['PureText'].apply(stem_word)"
      ],
      "metadata": {
        "id": "-VbcIsX_hsTx"
      },
      "execution_count": 50,
      "outputs": []
    },
    {
      "cell_type": "code",
      "source": [
        "tweet.head(10)"
      ],
      "metadata": {
        "colab": {
          "base_uri": "https://localhost:8080/",
          "height": 407
        },
        "id": "ekeYT4OfkN3i",
        "outputId": "59b311dd-495d-47f9-e731-286b8cf399c3"
      },
      "execution_count": 51,
      "outputs": [
        {
          "output_type": "execute_result",
          "data": {
            "text/plain": [
              "                                                Text      Class  \\\n",
              "0        ඝරසරප චිත්‍රපටය පහළ තියෙන එකෙන් කරගන්න         Neutral   \n",
              "1               මොකක් හරි නාට්‍යයක් තියෙන්නත් එපැයි     Neutral   \n",
              "2       කිමද තරම් කොහේදෝ විදපු ගලක් උරන මා මිතුරු...    Neutral   \n",
              "3       එහෙම කොහොමද උනේ  😂  පරය අපිව අයින් කරල නේ  😂    Neutral   \n",
              "4   විමලයා ගොනෙක් වගෙ එකෙ මෑරෙන්න හදනවා පරය රටට ව...  Political   \n",
              "5      ලැජ්ජයි ස⁣හෝදරයා විදිහ දැක්කාම ඔබලාගේ කුලල...     Racist   \n",
              "6    ලැජ්ජයි ස⁣හෝදරයා විදිහ දැක්කාම ඔබලාගේ කුලල්ක...     Racist   \n",
              "7      මං තම්බි වගේද පෙන්නෙ 😏  මං බ්‍රහස්පතින්දා ...    Neutral   \n",
              "8     ඉටිම් බං උතුර ඉල්ලනසෙට් එකයි නැගෙනහිරපඉල්ලන...     Racist   \n",
              "9      පේනවානේ තම්බි කවදත් ඉන්නේ උන්ට වාසි පැත්තේ...     Racist   \n",
              "\n",
              "                                            PureText ConEmoji Emojis  \n",
              "0        ඝරසරප චිත්‍රපටය පහළ තියෙන එකෙන් කරගන්න                       \n",
              "1         මොකක් හරි නාට්‍යයක් තියෙන්නත් එපැයි ඉතින්                   \n",
              "2       කිමද මේ තරම් කොහේදෝ ඇති විදපු ගලක් හා උරන...                  \n",
              "3         එහෙම කොහොමද උනේ    පරය අපිව අයින් කරල නේ        😂 😂    😂 😂  \n",
              "4   විමලයා ගොනෙක් වගෙ එකෙ මෑරෙන්න හදනවා පරය රටට ව...                  \n",
              "5      ලැජ්ජයි ස⁣හෝදරයා මේ යන විදිහ දැක්කාම ඔබලාග...                  \n",
              "6    ලැජ්ජයි ස⁣හෝදරයා මේ යන විදිහ දැක්කාම ඔබලාගේ ...                  \n",
              "7      ඇයි මං තම්බි වගේද පෙන්නෙ   මං බ්‍රහස්පතින්...      😏 😅    😏 😅  \n",
              "8     ඉටිම් බං උතුර ඉල්ලනසෙට් එකයි නැගෙනහිරපඉල්ලන...                  \n",
              "9      පේනවානේ තම්බි කවදත් ඉන්නේ උන්ට වාසි පැත්තේ...                  "
            ],
            "text/html": [
              "\n",
              "  <div id=\"df-77ab7b01-bd79-4394-8343-fffafd6dfbf5\">\n",
              "    <div class=\"colab-df-container\">\n",
              "      <div>\n",
              "<style scoped>\n",
              "    .dataframe tbody tr th:only-of-type {\n",
              "        vertical-align: middle;\n",
              "    }\n",
              "\n",
              "    .dataframe tbody tr th {\n",
              "        vertical-align: top;\n",
              "    }\n",
              "\n",
              "    .dataframe thead th {\n",
              "        text-align: right;\n",
              "    }\n",
              "</style>\n",
              "<table border=\"1\" class=\"dataframe\">\n",
              "  <thead>\n",
              "    <tr style=\"text-align: right;\">\n",
              "      <th></th>\n",
              "      <th>Text</th>\n",
              "      <th>Class</th>\n",
              "      <th>PureText</th>\n",
              "      <th>ConEmoji</th>\n",
              "      <th>Emojis</th>\n",
              "    </tr>\n",
              "  </thead>\n",
              "  <tbody>\n",
              "    <tr>\n",
              "      <th>0</th>\n",
              "      <td>ඝරසරප චිත්‍රපටය පහළ තියෙන එකෙන් කරගන්න</td>\n",
              "      <td>Neutral</td>\n",
              "      <td>ඝරසරප චිත්‍රපටය පහළ තියෙන එකෙන් කරගන්න</td>\n",
              "      <td></td>\n",
              "      <td></td>\n",
              "    </tr>\n",
              "    <tr>\n",
              "      <th>1</th>\n",
              "      <td>මොකක් හරි නාට්‍යයක් තියෙන්නත් එපැයි</td>\n",
              "      <td>Neutral</td>\n",
              "      <td>මොකක් හරි නාට්‍යයක් තියෙන්නත් එපැයි ඉතින්</td>\n",
              "      <td></td>\n",
              "      <td></td>\n",
              "    </tr>\n",
              "    <tr>\n",
              "      <th>2</th>\n",
              "      <td>කිමද තරම් කොහේදෝ විදපු ගලක් උරන මා මිතුරු...</td>\n",
              "      <td>Neutral</td>\n",
              "      <td>කිමද මේ තරම් කොහේදෝ ඇති විදපු ගලක් හා උරන...</td>\n",
              "      <td></td>\n",
              "      <td></td>\n",
              "    </tr>\n",
              "    <tr>\n",
              "      <th>3</th>\n",
              "      <td>එහෙම කොහොමද උනේ  😂  පරය අපිව අයින් කරල නේ  😂</td>\n",
              "      <td>Neutral</td>\n",
              "      <td>එහෙම කොහොමද උනේ    පරය අපිව අයින් කරල නේ</td>\n",
              "      <td>😂 😂</td>\n",
              "      <td>😂 😂</td>\n",
              "    </tr>\n",
              "    <tr>\n",
              "      <th>4</th>\n",
              "      <td>විමලයා ගොනෙක් වගෙ එකෙ මෑරෙන්න හදනවා පරය රටට ව...</td>\n",
              "      <td>Political</td>\n",
              "      <td>විමලයා ගොනෙක් වගෙ එකෙ මෑරෙන්න හදනවා පරය රටට ව...</td>\n",
              "      <td></td>\n",
              "      <td></td>\n",
              "    </tr>\n",
              "    <tr>\n",
              "      <th>5</th>\n",
              "      <td>ලැජ්ජයි ස⁣හෝදරයා විදිහ දැක්කාම ඔබලාගේ කුලල...</td>\n",
              "      <td>Racist</td>\n",
              "      <td>ලැජ්ජයි ස⁣හෝදරයා මේ යන විදිහ දැක්කාම ඔබලාග...</td>\n",
              "      <td></td>\n",
              "      <td></td>\n",
              "    </tr>\n",
              "    <tr>\n",
              "      <th>6</th>\n",
              "      <td>ලැජ්ජයි ස⁣හෝදරයා විදිහ දැක්කාම ඔබලාගේ කුලල්ක...</td>\n",
              "      <td>Racist</td>\n",
              "      <td>ලැජ්ජයි ස⁣හෝදරයා මේ යන විදිහ දැක්කාම ඔබලාගේ ...</td>\n",
              "      <td></td>\n",
              "      <td></td>\n",
              "    </tr>\n",
              "    <tr>\n",
              "      <th>7</th>\n",
              "      <td>මං තම්බි වගේද පෙන්නෙ 😏  මං බ්‍රහස්පතින්දා ...</td>\n",
              "      <td>Neutral</td>\n",
              "      <td>ඇයි මං තම්බි වගේද පෙන්නෙ   මං බ්‍රහස්පතින්...</td>\n",
              "      <td>😏 😅</td>\n",
              "      <td>😏 😅</td>\n",
              "    </tr>\n",
              "    <tr>\n",
              "      <th>8</th>\n",
              "      <td>ඉටිම් බං උතුර ඉල්ලනසෙට් එකයි නැගෙනහිරපඉල්ලන...</td>\n",
              "      <td>Racist</td>\n",
              "      <td>ඉටිම් බං උතුර ඉල්ලනසෙට් එකයි නැගෙනහිරපඉල්ලන...</td>\n",
              "      <td></td>\n",
              "      <td></td>\n",
              "    </tr>\n",
              "    <tr>\n",
              "      <th>9</th>\n",
              "      <td>පේනවානේ තම්බි කවදත් ඉන්නේ උන්ට වාසි පැත්තේ...</td>\n",
              "      <td>Racist</td>\n",
              "      <td>පේනවානේ තම්බි කවදත් ඉන්නේ උන්ට වාසි පැත්තේ...</td>\n",
              "      <td></td>\n",
              "      <td></td>\n",
              "    </tr>\n",
              "  </tbody>\n",
              "</table>\n",
              "</div>\n",
              "      <button class=\"colab-df-convert\" onclick=\"convertToInteractive('df-77ab7b01-bd79-4394-8343-fffafd6dfbf5')\"\n",
              "              title=\"Convert this dataframe to an interactive table.\"\n",
              "              style=\"display:none;\">\n",
              "        \n",
              "  <svg xmlns=\"http://www.w3.org/2000/svg\" height=\"24px\"viewBox=\"0 0 24 24\"\n",
              "       width=\"24px\">\n",
              "    <path d=\"M0 0h24v24H0V0z\" fill=\"none\"/>\n",
              "    <path d=\"M18.56 5.44l.94 2.06.94-2.06 2.06-.94-2.06-.94-.94-2.06-.94 2.06-2.06.94zm-11 1L8.5 8.5l.94-2.06 2.06-.94-2.06-.94L8.5 2.5l-.94 2.06-2.06.94zm10 10l.94 2.06.94-2.06 2.06-.94-2.06-.94-.94-2.06-.94 2.06-2.06.94z\"/><path d=\"M17.41 7.96l-1.37-1.37c-.4-.4-.92-.59-1.43-.59-.52 0-1.04.2-1.43.59L10.3 9.45l-7.72 7.72c-.78.78-.78 2.05 0 2.83L4 21.41c.39.39.9.59 1.41.59.51 0 1.02-.2 1.41-.59l7.78-7.78 2.81-2.81c.8-.78.8-2.07 0-2.86zM5.41 20L4 18.59l7.72-7.72 1.47 1.35L5.41 20z\"/>\n",
              "  </svg>\n",
              "      </button>\n",
              "      \n",
              "  <style>\n",
              "    .colab-df-container {\n",
              "      display:flex;\n",
              "      flex-wrap:wrap;\n",
              "      gap: 12px;\n",
              "    }\n",
              "\n",
              "    .colab-df-convert {\n",
              "      background-color: #E8F0FE;\n",
              "      border: none;\n",
              "      border-radius: 50%;\n",
              "      cursor: pointer;\n",
              "      display: none;\n",
              "      fill: #1967D2;\n",
              "      height: 32px;\n",
              "      padding: 0 0 0 0;\n",
              "      width: 32px;\n",
              "    }\n",
              "\n",
              "    .colab-df-convert:hover {\n",
              "      background-color: #E2EBFA;\n",
              "      box-shadow: 0px 1px 2px rgba(60, 64, 67, 0.3), 0px 1px 3px 1px rgba(60, 64, 67, 0.15);\n",
              "      fill: #174EA6;\n",
              "    }\n",
              "\n",
              "    [theme=dark] .colab-df-convert {\n",
              "      background-color: #3B4455;\n",
              "      fill: #D2E3FC;\n",
              "    }\n",
              "\n",
              "    [theme=dark] .colab-df-convert:hover {\n",
              "      background-color: #434B5C;\n",
              "      box-shadow: 0px 1px 3px 1px rgba(0, 0, 0, 0.15);\n",
              "      filter: drop-shadow(0px 1px 2px rgba(0, 0, 0, 0.3));\n",
              "      fill: #FFFFFF;\n",
              "    }\n",
              "  </style>\n",
              "\n",
              "      <script>\n",
              "        const buttonEl =\n",
              "          document.querySelector('#df-77ab7b01-bd79-4394-8343-fffafd6dfbf5 button.colab-df-convert');\n",
              "        buttonEl.style.display =\n",
              "          google.colab.kernel.accessAllowed ? 'block' : 'none';\n",
              "\n",
              "        async function convertToInteractive(key) {\n",
              "          const element = document.querySelector('#df-77ab7b01-bd79-4394-8343-fffafd6dfbf5');\n",
              "          const dataTable =\n",
              "            await google.colab.kernel.invokeFunction('convertToInteractive',\n",
              "                                                     [key], {});\n",
              "          if (!dataTable) return;\n",
              "\n",
              "          const docLinkHtml = 'Like what you see? Visit the ' +\n",
              "            '<a target=\"_blank\" href=https://colab.research.google.com/notebooks/data_table.ipynb>data table notebook</a>'\n",
              "            + ' to learn more about interactive tables.';\n",
              "          element.innerHTML = '';\n",
              "          dataTable['output_type'] = 'display_data';\n",
              "          await google.colab.output.renderOutput(dataTable, element);\n",
              "          const docLink = document.createElement('div');\n",
              "          docLink.innerHTML = docLinkHtml;\n",
              "          element.appendChild(docLink);\n",
              "        }\n",
              "      </script>\n",
              "    </div>\n",
              "  </div>\n",
              "  "
            ]
          },
          "metadata": {},
          "execution_count": 51
        }
      ]
    },
    {
      "cell_type": "markdown",
      "source": [
        "**Fix wrong usage of vowels**"
      ],
      "metadata": {
        "id": "ZhAmtdmQl5KZ"
      }
    },
    {
      "cell_type": "code",
      "source": [
        "def get_fixed_text(text: str) -> str:\n",
        "        \"\"\"\n",
        "        Fix wrong usage of vowels\n",
        "        :param text: text to be fixed\n",
        "        :return: fixed text with proper vowels\n",
        "        \"\"\"\n",
        "        fixed_text = \"\"\n",
        "        last_letter = \"\"\n",
        "        last_vowel = \"\"\n",
        "\n",
        "        for letter in text:\n",
        "            if is_sinhalese_letter(letter):\n",
        "                fixed_text += (last_letter + last_vowel)\n",
        "                last_letter = letter\n",
        "                last_vowel = \"\"\n",
        "            elif is_sinhalese_vowel(letter):\n",
        "                if last_letter == \"\":\n",
        "                    print(\"Error : First letter can't be a vowel sign : \" + letter)\n",
        "                if last_vowel == \"\":\n",
        "                    last_vowel = letter\n",
        "                else:\n",
        "                    try:\n",
        "                        last_vowel = get_fixed_vowel(last_vowel + letter)\n",
        "                        print(last_vowel)\n",
        "                    except KeyError:\n",
        "                        # fix error of mistakenly duplicate vowel\n",
        "                        if last_vowel == letter:\n",
        "                            continue\n",
        "                        else:\n",
        "                            print(\"Error : can't fix vowel combination \" + last_vowel + \" + \" + letter)\n",
        "            else:\n",
        "                fixed_text += (last_letter + last_vowel + letter)\n",
        "                last_letter = \"\"\n",
        "                last_vowel = \"\"\n",
        "\n",
        "        fixed_text += last_letter + last_vowel\n",
        "        return fixed_text\n",
        "\n",
        "\n",
        "corrected_text = SinhaleseVowelLetterFixer.get_fixed_text(\"මෑරෙන්න\")\n",
        "#assert correct_text == corrected_text\n",
        "print(corrected_text)"
      ],
      "metadata": {
        "colab": {
          "base_uri": "https://localhost:8080/"
        },
        "id": "vGXv6dXikvlt",
        "outputId": "e9dc1f86-f7c3-43b1-d920-deb261b88f28"
      },
      "execution_count": 52,
      "outputs": [
        {
          "output_type": "stream",
          "name": "stdout",
          "text": [
            "මෑරෙන්න\n"
          ]
        }
      ]
    },
    {
      "cell_type": "code",
      "source": [
        "tweet['PureText'] = tweet['PureText'].apply(get_fixed_text)"
      ],
      "metadata": {
        "colab": {
          "base_uri": "https://localhost:8080/"
        },
        "id": "n010QBsHk2t4",
        "outputId": "f93b3542-0adf-4f78-bf30-2896289d0b7b"
      },
      "execution_count": 53,
      "outputs": [
        {
          "output_type": "stream",
          "name": "stdout",
          "text": [
            "ෛ\n",
            "Error : can't fix vowel combination ෑ + ැ\n",
            "Error : can't fix vowel combination ෑ + ැ\n",
            "ෝ\n",
            "Error : First letter can't be a vowel sign : ා\n",
            "Error : can't fix vowel combination ෑ + ැ\n",
            "Error : can't fix vowel combination ෑ + ැ\n",
            "Error : can't fix vowel combination ෙ + ි\n",
            "Error : can't fix vowel combination ් + ා\n",
            "ේ\n",
            "Error : can't fix vowel combination ෙ + ි\n",
            "Error : can't fix vowel combination ෙ + ි\n",
            "ො\n",
            "ෝ\n",
            "ො\n",
            "ේ\n",
            "Error : First letter can't be a vowel sign : ා\n"
          ]
        }
      ]
    },
    {
      "cell_type": "code",
      "source": [
        "tweet.head(10)"
      ],
      "metadata": {
        "colab": {
          "base_uri": "https://localhost:8080/",
          "height": 407
        },
        "id": "8mdcjdx0lfml",
        "outputId": "8146c559-4390-491c-ca89-7c870d52abd8"
      },
      "execution_count": 54,
      "outputs": [
        {
          "output_type": "execute_result",
          "data": {
            "text/plain": [
              "                                                Text      Class  \\\n",
              "0        ඝරසරප චිත්‍රපටය පහළ තියෙන එකෙන් කරගන්න         Neutral   \n",
              "1               මොකක් හරි නාට්‍යයක් තියෙන්නත් එපැයි     Neutral   \n",
              "2       කිමද තරම් කොහේදෝ විදපු ගලක් උරන මා මිතුරු...    Neutral   \n",
              "3       එහෙම කොහොමද උනේ  😂  පරය අපිව අයින් කරල නේ  😂    Neutral   \n",
              "4   විමලයා ගොනෙක් වගෙ එකෙ මෑරෙන්න හදනවා පරය රටට ව...  Political   \n",
              "5      ලැජ්ජයි ස⁣හෝදරයා විදිහ දැක්කාම ඔබලාගේ කුලල...     Racist   \n",
              "6    ලැජ්ජයි ස⁣හෝදරයා විදිහ දැක්කාම ඔබලාගේ කුලල්ක...     Racist   \n",
              "7      මං තම්බි වගේද පෙන්නෙ 😏  මං බ්‍රහස්පතින්දා ...    Neutral   \n",
              "8     ඉටිම් බං උතුර ඉල්ලනසෙට් එකයි නැගෙනහිරපඉල්ලන...     Racist   \n",
              "9      පේනවානේ තම්බි කවදත් ඉන්නේ උන්ට වාසි පැත්තේ...     Racist   \n",
              "\n",
              "                                            PureText ConEmoji Emojis  \n",
              "0        ඝරසරප චිත්‍රපටය පහළ තියෙන එකෙන් කරගන්න                       \n",
              "1         මොකක් හරි නාට්‍යයක් තියෙන්නත් එපැයි ඉතින්                   \n",
              "2       කිමද මේ තරම් කොහේදෝ ඇති විදපු ගලක් හා උරන...                  \n",
              "3         එහෙම කොහොමද උනේ    පරය අපිව අයින් කරල නේ        😂 😂    😂 😂  \n",
              "4   විමලයා ගොනෙක් වගෙ එකෙ මෑරෙන්න හදනවා පරය රටට ව...                  \n",
              "5      ලැජ්ජයි ස⁣හෝදරයා මේ යන විදිහ දැක්කාම ඔබලාග...                  \n",
              "6    ලැජ්ජයි ස⁣හෝදරයා මේ යන විදිහ දැක්කාම ඔබලාගේ ...                  \n",
              "7      ඇයි මං තම්බි වගේද පෙන්නෙ   මං බ්‍රහස්පතින්...      😏 😅    😏 😅  \n",
              "8     ඉටිම් බං උතුර ඉල්ලනසෙට් එකයි නැගෙනහිරපඉල්ලන...                  \n",
              "9      පේනවානේ තම්බි කවදත් ඉන්නේ උන්ට වාසි පැත්තේ...                  "
            ],
            "text/html": [
              "\n",
              "  <div id=\"df-4fdd78f2-3aba-4295-a835-f3395d3c5a69\">\n",
              "    <div class=\"colab-df-container\">\n",
              "      <div>\n",
              "<style scoped>\n",
              "    .dataframe tbody tr th:only-of-type {\n",
              "        vertical-align: middle;\n",
              "    }\n",
              "\n",
              "    .dataframe tbody tr th {\n",
              "        vertical-align: top;\n",
              "    }\n",
              "\n",
              "    .dataframe thead th {\n",
              "        text-align: right;\n",
              "    }\n",
              "</style>\n",
              "<table border=\"1\" class=\"dataframe\">\n",
              "  <thead>\n",
              "    <tr style=\"text-align: right;\">\n",
              "      <th></th>\n",
              "      <th>Text</th>\n",
              "      <th>Class</th>\n",
              "      <th>PureText</th>\n",
              "      <th>ConEmoji</th>\n",
              "      <th>Emojis</th>\n",
              "    </tr>\n",
              "  </thead>\n",
              "  <tbody>\n",
              "    <tr>\n",
              "      <th>0</th>\n",
              "      <td>ඝරසරප චිත්‍රපටය පහළ තියෙන එකෙන් කරගන්න</td>\n",
              "      <td>Neutral</td>\n",
              "      <td>ඝරසරප චිත්‍රපටය පහළ තියෙන එකෙන් කරගන්න</td>\n",
              "      <td></td>\n",
              "      <td></td>\n",
              "    </tr>\n",
              "    <tr>\n",
              "      <th>1</th>\n",
              "      <td>මොකක් හරි නාට්‍යයක් තියෙන්නත් එපැයි</td>\n",
              "      <td>Neutral</td>\n",
              "      <td>මොකක් හරි නාට්‍යයක් තියෙන්නත් එපැයි ඉතින්</td>\n",
              "      <td></td>\n",
              "      <td></td>\n",
              "    </tr>\n",
              "    <tr>\n",
              "      <th>2</th>\n",
              "      <td>කිමද තරම් කොහේදෝ විදපු ගලක් උරන මා මිතුරු...</td>\n",
              "      <td>Neutral</td>\n",
              "      <td>කිමද මේ තරම් කොහේදෝ ඇති විදපු ගලක් හා උරන...</td>\n",
              "      <td></td>\n",
              "      <td></td>\n",
              "    </tr>\n",
              "    <tr>\n",
              "      <th>3</th>\n",
              "      <td>එහෙම කොහොමද උනේ  😂  පරය අපිව අයින් කරල නේ  😂</td>\n",
              "      <td>Neutral</td>\n",
              "      <td>එහෙම කොහොමද උනේ    පරය අපිව අයින් කරල නේ</td>\n",
              "      <td>😂 😂</td>\n",
              "      <td>😂 😂</td>\n",
              "    </tr>\n",
              "    <tr>\n",
              "      <th>4</th>\n",
              "      <td>විමලයා ගොනෙක් වගෙ එකෙ මෑරෙන්න හදනවා පරය රටට ව...</td>\n",
              "      <td>Political</td>\n",
              "      <td>විමලයා ගොනෙක් වගෙ එකෙ මෑරෙන්න හදනවා පරය රටට ව...</td>\n",
              "      <td></td>\n",
              "      <td></td>\n",
              "    </tr>\n",
              "    <tr>\n",
              "      <th>5</th>\n",
              "      <td>ලැජ්ජයි ස⁣හෝදරයා විදිහ දැක්කාම ඔබලාගේ කුලල...</td>\n",
              "      <td>Racist</td>\n",
              "      <td>ලැජ්ජයි ස⁣හෝදරයා මේ යන විදිහ දැක්කාම ඔබලාග...</td>\n",
              "      <td></td>\n",
              "      <td></td>\n",
              "    </tr>\n",
              "    <tr>\n",
              "      <th>6</th>\n",
              "      <td>ලැජ්ජයි ස⁣හෝදරයා විදිහ දැක්කාම ඔබලාගේ කුලල්ක...</td>\n",
              "      <td>Racist</td>\n",
              "      <td>ලැජ්ජයි ස⁣හෝදරයා මේ යන විදිහ දැක්කාම ඔබලාගේ ...</td>\n",
              "      <td></td>\n",
              "      <td></td>\n",
              "    </tr>\n",
              "    <tr>\n",
              "      <th>7</th>\n",
              "      <td>මං තම්බි වගේද පෙන්නෙ 😏  මං බ්‍රහස්පතින්දා ...</td>\n",
              "      <td>Neutral</td>\n",
              "      <td>ඇයි මං තම්බි වගේද පෙන්නෙ   මං බ්‍රහස්පතින්...</td>\n",
              "      <td>😏 😅</td>\n",
              "      <td>😏 😅</td>\n",
              "    </tr>\n",
              "    <tr>\n",
              "      <th>8</th>\n",
              "      <td>ඉටිම් බං උතුර ඉල්ලනසෙට් එකයි නැගෙනහිරපඉල්ලන...</td>\n",
              "      <td>Racist</td>\n",
              "      <td>ඉටිම් බං උතුර ඉල්ලනසෙට් එකයි නැගෙනහිරපඉල්ලන...</td>\n",
              "      <td></td>\n",
              "      <td></td>\n",
              "    </tr>\n",
              "    <tr>\n",
              "      <th>9</th>\n",
              "      <td>පේනවානේ තම්බි කවදත් ඉන්නේ උන්ට වාසි පැත්තේ...</td>\n",
              "      <td>Racist</td>\n",
              "      <td>පේනවානේ තම්බි කවදත් ඉන්නේ උන්ට වාසි පැත්තේ...</td>\n",
              "      <td></td>\n",
              "      <td></td>\n",
              "    </tr>\n",
              "  </tbody>\n",
              "</table>\n",
              "</div>\n",
              "      <button class=\"colab-df-convert\" onclick=\"convertToInteractive('df-4fdd78f2-3aba-4295-a835-f3395d3c5a69')\"\n",
              "              title=\"Convert this dataframe to an interactive table.\"\n",
              "              style=\"display:none;\">\n",
              "        \n",
              "  <svg xmlns=\"http://www.w3.org/2000/svg\" height=\"24px\"viewBox=\"0 0 24 24\"\n",
              "       width=\"24px\">\n",
              "    <path d=\"M0 0h24v24H0V0z\" fill=\"none\"/>\n",
              "    <path d=\"M18.56 5.44l.94 2.06.94-2.06 2.06-.94-2.06-.94-.94-2.06-.94 2.06-2.06.94zm-11 1L8.5 8.5l.94-2.06 2.06-.94-2.06-.94L8.5 2.5l-.94 2.06-2.06.94zm10 10l.94 2.06.94-2.06 2.06-.94-2.06-.94-.94-2.06-.94 2.06-2.06.94z\"/><path d=\"M17.41 7.96l-1.37-1.37c-.4-.4-.92-.59-1.43-.59-.52 0-1.04.2-1.43.59L10.3 9.45l-7.72 7.72c-.78.78-.78 2.05 0 2.83L4 21.41c.39.39.9.59 1.41.59.51 0 1.02-.2 1.41-.59l7.78-7.78 2.81-2.81c.8-.78.8-2.07 0-2.86zM5.41 20L4 18.59l7.72-7.72 1.47 1.35L5.41 20z\"/>\n",
              "  </svg>\n",
              "      </button>\n",
              "      \n",
              "  <style>\n",
              "    .colab-df-container {\n",
              "      display:flex;\n",
              "      flex-wrap:wrap;\n",
              "      gap: 12px;\n",
              "    }\n",
              "\n",
              "    .colab-df-convert {\n",
              "      background-color: #E8F0FE;\n",
              "      border: none;\n",
              "      border-radius: 50%;\n",
              "      cursor: pointer;\n",
              "      display: none;\n",
              "      fill: #1967D2;\n",
              "      height: 32px;\n",
              "      padding: 0 0 0 0;\n",
              "      width: 32px;\n",
              "    }\n",
              "\n",
              "    .colab-df-convert:hover {\n",
              "      background-color: #E2EBFA;\n",
              "      box-shadow: 0px 1px 2px rgba(60, 64, 67, 0.3), 0px 1px 3px 1px rgba(60, 64, 67, 0.15);\n",
              "      fill: #174EA6;\n",
              "    }\n",
              "\n",
              "    [theme=dark] .colab-df-convert {\n",
              "      background-color: #3B4455;\n",
              "      fill: #D2E3FC;\n",
              "    }\n",
              "\n",
              "    [theme=dark] .colab-df-convert:hover {\n",
              "      background-color: #434B5C;\n",
              "      box-shadow: 0px 1px 3px 1px rgba(0, 0, 0, 0.15);\n",
              "      filter: drop-shadow(0px 1px 2px rgba(0, 0, 0, 0.3));\n",
              "      fill: #FFFFFF;\n",
              "    }\n",
              "  </style>\n",
              "\n",
              "      <script>\n",
              "        const buttonEl =\n",
              "          document.querySelector('#df-4fdd78f2-3aba-4295-a835-f3395d3c5a69 button.colab-df-convert');\n",
              "        buttonEl.style.display =\n",
              "          google.colab.kernel.accessAllowed ? 'block' : 'none';\n",
              "\n",
              "        async function convertToInteractive(key) {\n",
              "          const element = document.querySelector('#df-4fdd78f2-3aba-4295-a835-f3395d3c5a69');\n",
              "          const dataTable =\n",
              "            await google.colab.kernel.invokeFunction('convertToInteractive',\n",
              "                                                     [key], {});\n",
              "          if (!dataTable) return;\n",
              "\n",
              "          const docLinkHtml = 'Like what you see? Visit the ' +\n",
              "            '<a target=\"_blank\" href=https://colab.research.google.com/notebooks/data_table.ipynb>data table notebook</a>'\n",
              "            + ' to learn more about interactive tables.';\n",
              "          element.innerHTML = '';\n",
              "          dataTable['output_type'] = 'display_data';\n",
              "          await google.colab.output.renderOutput(dataTable, element);\n",
              "          const docLink = document.createElement('div');\n",
              "          docLink.innerHTML = docLinkHtml;\n",
              "          element.appendChild(docLink);\n",
              "        }\n",
              "      </script>\n",
              "    </div>\n",
              "  </div>\n",
              "  "
            ]
          },
          "metadata": {},
          "execution_count": 54
        }
      ]
    },
    {
      "cell_type": "markdown",
      "source": [
        "**POS Tagging**"
      ],
      "metadata": {
        "id": "ThT4m5cmnlTW"
      }
    },
    {
      "cell_type": "code",
      "source": [
        "import os\n",
        "from typing import List, Text, Tuple\n",
        "\n",
        "import joblib\n",
        "\n",
        "from sinling.sinhala.stemmer import SinhalaStemmer\n",
        "from sinling.config import RESOURCE_PATH\n",
        "\n",
        "from typing import List, Text, Tuple\n",
        "\n",
        "__all__ = ['Tagger']\n",
        "\n",
        "\n",
        "class Tagger:\n",
        "    def predict(self, tokens: List[Text]) -> List[Tuple[Text, Text]]:\n",
        "        raise NotImplementedError\n",
        "\n",
        "\n",
        "__all__ = [\n",
        "    'POSTagger'\n",
        "]\n",
        "\n",
        "\n",
        "class POSTagger(Tagger):\n",
        "    def __init__(self):\n",
        "        self._model = joblib.load(os.path.join(RESOURCE_PATH, 'pos-tagger-crf-sinling.joblib'))\n",
        "        self._stemmer = SinhalaStemmer()\n",
        "\n",
        "    def predict(self, x: List[List[Text]]) -> List[List[Tuple[Text, Text]]]:\n",
        "        features = [[self._word2features(ts, i) for i in range(len(ts))] for ts in x]\n",
        "        pos_tags = self._model.predict(features)\n",
        "        return [list(zip(x[ix], pos_tags[ix])) for ix in range(len(x))]\n",
        "\n",
        "    def _word2features(self, sent, i):\n",
        "        word = sent[i]\n",
        "        stem, suff = self._stemmer.stem(word)\n",
        "        features = {\n",
        "            'bias': 1.0,\n",
        "            word: True,\n",
        "            f'STEM': stem,\n",
        "            f'SUFF': suff,\n",
        "            'len(word)': len(word),\n",
        "            'word.isdigit()': word.isdigit(),\n",
        "        }\n",
        "        if i > 0:\n",
        "            word_prev = sent[i - 1]\n",
        "            features.update({\n",
        "                f'-1:word': word_prev,\n",
        "                '-1:word.isdigit()': word_prev.isdigit(),\n",
        "            })\n",
        "        else:\n",
        "            features['BOS'] = True\n",
        "        if i < len(sent) - 1:\n",
        "            word_next = sent[i + 1]\n",
        "            features.update({\n",
        "                f'+1:word': word_next,\n",
        "                '+1:word.isdigit()': word_next.isdigit(),\n",
        "            })\n",
        "        else:\n",
        "            features['EOS'] = True\n",
        "        return features\n",
        "\n",
        "\n",
        "if __name__ == '__main__':\n",
        "    from sinling import SinhalaTokenizer\n",
        "\n",
        "    tokenizer = SinhalaTokenizer()\n",
        "\n",
        "    document = 'ගරසරප චිත්‍රපට පහල තියෙ සම්බන්ධක එක  බාගත කරග' \\\n",
        "               'ඇතැම් වෛරස් රෝග වලට වැක්සීන හෙවත් එන්නත් ද වෛරස් නාශක ඖෂධ ද තිබුනද සියලූ‍ වෛරස් ' \\\n",
        "               'සම්බන්ධයෙන් ඒ න්‍යාය වැඩ කරන්නේ නැත. වසූරිය වෛරසය මිනිසා විසින් මිහිමතින් තුරන් කර තිබේ.'\n",
        "\n",
        "    tokenized_sentences = [tokenizer.tokenize(f'{ss}.') for ss in tokenizer.split_sentences(document)]\n",
        "    print(tokenized_sentences)\n",
        "    tagger = POSTagger()\n",
        "\n",
        "    pos_tags = tagger.predict(tokenized_sentences)\n",
        "\n",
        "    for sent in pos_tags:\n",
        "        print(sent)\n"
      ],
      "metadata": {
        "colab": {
          "base_uri": "https://localhost:8080/"
        },
        "id": "-MblLsXXnj25",
        "outputId": "ad619deb-21b3-4d6f-9ae5-2eed32714a2b"
      },
      "execution_count": 55,
      "outputs": [
        {
          "output_type": "stream",
          "name": "stdout",
          "text": [
            "[['ගරසරප', 'චිත්\\u200dරපට', 'පහල', 'තියෙ', 'සම්බන්ධක', 'එක', 'බාගත', 'කරගඇතැම්', 'වෛරස්', 'රෝග', 'වලට', 'වැක්සීන', 'හෙවත්', 'එන්නත්', 'ද', 'වෛරස්', 'නාශක', 'ඖෂධ', 'ද', 'තිබුනද', 'සියලූ\\u200d', 'වෛරස්', 'සම්බන්ධයෙන්', 'ඒ', 'න්\\u200dයාය', 'වැඩ', 'කරන්නේ', 'නැත', '.'], ['වසූරිය', 'වෛරසය', 'මිනිසා', 'විසින්', 'මිහිමතින්', 'තුරන්', 'කර', 'තිබේ', '.']]\n",
            "[('ගරසරප', 'JJ'), ('චිත්\\u200dරපට', 'NNC'), ('පහල', 'JJ'), ('තියෙ', 'NNC'), ('සම්බන්ධක', 'NNC'), ('එක', 'NUM'), ('බාගත', 'NNC'), ('කරගඇතැම්', 'NNP'), ('වෛරස්', 'NNP'), ('රෝග', 'NNC'), ('වලට', 'CM'), ('වැක්සීන', 'NNC'), ('හෙවත්', 'POST'), ('එන්නත්', 'NNC'), ('ද', 'RP'), ('වෛරස්', 'NNP'), ('නාශක', 'NNJ'), ('ඖෂධ', 'NNC'), ('ද', 'RP'), ('තිබුනද', 'NNC'), ('සියලූ\\u200d', 'JJ'), ('වෛරස්', 'NNC'), ('සම්බන්ධයෙන්', 'POST'), ('ඒ', 'DET'), ('න්\\u200dයාය', 'NNC'), ('වැඩ', 'NCV'), ('කරන්නේ', 'VP'), ('නැත', 'NIP'), ('.', 'FS')]\n",
            "[('වසූරිය', 'NNC'), ('වෛරසය', 'NNC'), ('මිනිසා', 'NNC'), ('විසින්', 'POST'), ('මිහිමතින්', 'NNC'), ('තුරන්', 'RRPCV'), ('කර', 'VNF'), ('තිබේ', 'VFM'), ('.', 'FS')]\n"
          ]
        }
      ]
    },
    {
      "cell_type": "markdown",
      "source": [
        "# **SENTIMENT ANALYSIS FOR PURE TEXT**"
      ],
      "metadata": {
        "id": "MTsVXXcsjIAa"
      }
    },
    {
      "cell_type": "code",
      "source": [
        "max_features = 3500\n",
        "count_vector = CountVectorizer(max_features = max_features)  \n",
        "X = count_vector.fit_transform(tweet['PureText']).toarray() \n",
        "X"
      ],
      "metadata": {
        "id": "DrIE4cnloh-4",
        "colab": {
          "base_uri": "https://localhost:8080/"
        },
        "outputId": "004514be-7a9c-4c3b-f0ef-2ee1289d9f67"
      },
      "execution_count": 56,
      "outputs": [
        {
          "output_type": "execute_result",
          "data": {
            "text/plain": [
              "array([[0, 0, 0, ..., 0, 0, 0],\n",
              "       [0, 0, 0, ..., 0, 0, 0],\n",
              "       [0, 0, 0, ..., 0, 0, 0],\n",
              "       ...,\n",
              "       [0, 0, 0, ..., 0, 0, 0],\n",
              "       [0, 0, 0, ..., 0, 0, 0],\n",
              "       [0, 0, 0, ..., 0, 0, 0]])"
            ]
          },
          "metadata": {},
          "execution_count": 56
        }
      ]
    },
    {
      "cell_type": "code",
      "source": [
        "print(\"most using {} words: {} \".format(max_features, count_vector.get_feature_names_out()))"
      ],
      "metadata": {
        "colab": {
          "base_uri": "https://localhost:8080/"
        },
        "id": "y0er5c2cSA2p",
        "outputId": "751bf410-c04d-4f1d-da5a-461c23344043"
      },
      "execution_count": 57,
      "outputs": [
        {
          "output_type": "stream",
          "name": "stdout",
          "text": [
            "most using 3500 words: ['අක' 'අකම' 'අකව' ... 'ෆල' 'ෆව' 'ෆස'] \n"
          ]
        }
      ]
    },
    {
      "cell_type": "code",
      "source": [
        "print(count_vector.vocabulary_)"
      ],
      "metadata": {
        "colab": {
          "base_uri": "https://localhost:8080/"
        },
        "id": "YXpYKuqOSIZe",
        "outputId": "f2bd0a95-8af5-41bf-846a-fa373203fbe7"
      },
      "execution_count": 58,
      "outputs": [
        {
          "output_type": "stream",
          "name": "stdout",
          "text": [
            "{'ඝරසරප': 758, 'රපටය': 1611, 'පහළ': 1277, 'එක': 382, 'කරගන': 610, 'කක': 537, 'හර': 2064, 'යයක': 1509, 'නත': 1116, 'එප': 429, 'ඉත': 252, 'මද': 1388, 'තරම': 959, 'ඇත': 207, 'දප': 1011, 'ගලක': 718, 'උරන': 365, 'පරය': 1246, 'එහ': 453, 'උන': 332, 'අප': 52, 'අය': 80, 'කරල': 637, 'මලය': 1421, 'වග': 1745, 'හදනව': 2034, 'රටට': 1580, 'ඩක': 848, 'කරපන': 632, 'යක': 1455, 'ජය': 796, 'දරය': 1032, 'යන': 1477, 'ඔබල': 502, 'ලල': 1726, 'ගන': 696, 'තම': 940, 'වහබ': 1852, 'සහ': 2005, 'මළ': 1445, 'ඇය': 228, 'රහස': 1668, 'පත': 1210, 'දර': 1027, 'එන': 421, 'එතක': 413, 'දට': 996, 'අඩව': 21, 'වක': 1738, 'අල': 102, 'ලන': 1701, 'ආවනම': 183, 'ඉට': 247, 'උත': 328, 'ඉල': 277, 'ලනස': 1706, 'එකය': 403, 'නහ': 1177, 'රපඉල': 1609, 'රප': 1608, 'රන': 1605, 'පර': 1236, 'දය': 1020, 'නව': 1155, 'කවදත': 655, 'ඉන': 261, 'ඉදග': 255, 'ශර': 1870, 'වර': 1808, 'ගට': 681, 'රට': 1577, 'බහ': 1349, 'තර': 948, 'සය': 1970, 'ඉද': 253, 'දරව': 1034, 'මට': 1369, 'අවක': 105, 'ශය': 1867, 'අපග': 54, 'රණ': 1586, 'මය': 1405, 'කල': 644, 'පස': 1265, 'ලය': 1718, 'ඉස': 293, 'රස': 1650, 'තව': 969, 'එයය': 437, 'පළ': 1278, 'තමන': 941, 'බල': 1321, 'නම': 1133, 'අවජ': 106, 'තකය': 914, 'අඩ': 18, 'කට': 546, 'වහග': 1848, 'ශට': 1858, 'අර': 87, 'වයසක': 1805, 'කඩ': 558, 'ඕසද': 534, 'සර': 1974, 'තක': 910, 'උඩතලව': 322, 'දණ': 999, 'චර': 770, 'තයක': 944, 'හලය': 2074, 'හල': 2069, 'පක': 1192, 'ඉලම': 279, 'කයටම': 603, 'ලයක': 1719, 'මරක': 1410, 'කරණය': 613, 'කළ': 672, 'යම': 1495, 'පලයන': 1251, 'කපන': 583, 'ටකරන': 812, 'වම': 1793, 'ටටම': 815, 'කපල': 586, 'බරයට': 1319, 'ණගහන': 892, 'කරප': 631, 'අපර': 61, 'රල': 1634, 'දරන': 1030, 'ටර': 832, 'වන': 1777, 'රහ': 1659, 'ඔල': 511, 'ෆය': 2109, 'එකක': 384, 'දවස': 1045, 'වල': 1821, 'කර': 605, 'ජයස': 803, 'යට': 1466, 'සද': 1925, 'පඩයක': 1207, 'යත': 1474, 'කඒක': 536, 'ඉඹල': 272, 'ඳය': 1190, 'වඳය': 1788, 'යල': 1516, 'ගහනව': 744, 'හම': 2057, 'බය': 1310, 'ගහප': 747, 'සමහර': 1967, 'සව': 1997, 'ලට': 1693, 'ඡන': 775, 'යකයන': 1461, 'අහ': 123, 'රබත': 1613, 'ඔප': 494, 'කරද': 616, 'කය': 600, 'ආව': 180, 'ඒකට': 460, 'ලස': 1733, 'සන': 1929, 'මම': 1400, 'සට': 1918, 'ආක': 143, 'රමන': 1622, 'එස': 451, 'රශ': 1649, 'නයත': 1147, 'උඹල': 360, 'අම': 68, 'බණ': 1300, 'අහල': 135, 'අන': 45, 'ජම': 795, 'මගට': 1364, 'ගත': 688, 'අව': 104, 'සල': 1990, 'කන': 572, 'ඒව': 479, 'ගස': 732, 'වත': 1767, 'කමට': 591, 'නර': 1150, 'යනව': 1485, 'ලප': 1707, 'කරන': 620, 'තන': 926, 'හතරප': 2028, 'ආන': 165, 'එකප': 400, 'රය': 1628, 'පල': 1248, 'තවප': 972, 'යවල': 1536, 'රටවල': 1585, 'ආද': 157, 'ඇර': 230, 'බටත': 1292, 'වඩ': 1765, 'ඒක': 457, 'බද': 1302, 'ෂය': 1891, 'කම': 589, 'මහත': 1434, 'දනයට': 1007, 'අද': 35, 'ලව': 1728, 'කච': 543, 'ශද': 1860, 'ෂයකටවත': 1894, 'පව': 1256, 'ෂයටවත': 1897, 'එකත': 396, 'නරඹන': 1152, 'මග': 1363, 'නට': 1108, 'පවත': 1258, 'ෂයක': 1892, 'දයකට': 1023, 'ෂර': 1898, 'ෂයකට': 1893, 'මත': 1379, 'ගච': 680, 'නස': 1175, 'ආදරයට': 163, 'ආදරණ': 160, 'සටන': 1919, 'සගය': 1913, 'රටක': 1578, 'පරද': 1240, 'වට': 1755, 'මක': 1355, 'ලහ': 1736, 'කව': 651, 'අගසව': 11, 'තබ': 936, 'යඋඹට': 1453, 'ආගමක': 146, 'ඇදල': 213, 'ඕන': 525, 'ඌර': 376, 'ටප': 821, 'උබ': 345, 'එකට': 391, 'යවනකන': 1527, 'අහන': 128, 'එද': 419, 'සභ': 1948, 'ගයට': 713, 'ෂව': 1901, 'ණම': 899, 'සම': 1949, 'මතයක': 1386, 'මල': 1417, 'මහ': 1429, 'තය': 943, 'අවද': 107, 'වව': 1837, 'ඇව': 233, 'නනව': 1124, 'බලන': 1327, 'ආතල': 156, 'අරන': 98, 'උබග': 346, 'අදහස': 41, 'දගත': 990, 'උබට': 347, 'නවත': 1163, 'උබල': 350, 'පලයල': 1252, 'ටත': 817, 'ගර': 715, 'කරම': 634, 'ඉවස': 289, 'තරය': 962, 'රධ': 1604, 'ටල': 835, 'ඔය': 505, 'හඩ': 2017, 'එය': 434, 'පශ': 1264, 'ධන': 1071, 'ශප': 1863, 'ලකය': 1679, 'අවශ': 113, 'යයය': 1514, 'සක': 1904, 'උද': 329, 'නය': 1141, 'ජනත': 783, 'තකට': 911, 'පට': 1199, 'ටන': 819, 'අක': 0, 'මතක': 1380, 'කද': 571, 'අදට': 36, 'ටම': 824, 'පතන': 1211, 'උඹට': 357, 'හට': 2016, 'ගලපන': 722, 'දන': 1003, 'යළ': 1550, 'වලට': 1824, 'එකඟ': 390, 'සහය': 2010, 'ලබ': 1708, 'යය': 1508, 'ඕනස': 528, 'ලඩ': 1696, 'ලර': 1724, 'ලගන': 1685, 'වකයන': 1744, 'ළද': 2093, 'කරදර': 617, 'මඩ': 1376, 'ඌට': 373, 'කරපල': 633, 'ආරක': 177, 'ශක': 1857, 'ටය': 827, 'නගර': 1102, 'මච': 1367, 'එකටද': 393, 'වයස': 1804, 'පලය': 1250, 'හද': 2031, 'පබ': 1224, 'උඹ': 356, 'ගහග': 737, 'ගල': 717, 'බන': 1304, 'නක': 1090, 'ලබන': 1710, 'වසර': 1843, 'රපට': 1610, 'පයක': 1233, 'ඔබට': 497, 'එජ': 407, 'පයට': 1235, 'ධර': 1079, 'ගම': 701, 'ඒකය': 465, 'ඇහ': 237, 'මප': 1399, 'ජනපත': 784, 'වය': 1796, 'ලග': 1682, 'ඔව': 512, 'දරක': 1028, 'තමය': 942, 'නවමය': 1170, 'සරල': 1982, 'කරණ': 612, 'හදන': 2032, 'මව': 1423, 'ඉග': 244, 'නග': 1098, 'ෂයටත': 1896, 'අපහ': 62, 'සයක': 1971, 'උස': 371, 'එනව': 426, 'මරන': 1413, 'ඊෂ': 306, 'ධනවත': 1073, 'ගලය': 723, 'යණ': 1473, 'යග': 1464, 'ෂවත': 1902, 'හය': 2059, 'ආච': 151, 'රග': 1563, 'කනවල': 578, 'ජයග': 798, 'පන': 1217, 'සත': 1924, 'හයක': 2060, 'ඉක': 243, 'අවස': 114, 'අභ': 66, 'චන': 765, 'කරණයට': 614, 'සමක': 1950, 'සඳ': 1936, 'සහත': 2008, 'අවසන': 115, 'මෆ': 1447, 'අධ': 44, 'අගම': 6, 'ඡය': 776, 'අතඅ': 27, 'උප': 336, 'ජන': 781, 'ධයක': 1077, 'හහ': 2081, 'නවනම': 1168, 'කත': 568, 'යදම': 1476, 'දක': 987, 'වඳ': 1785, 'අනත': 46, 'යස': 1540, 'ඩන': 862, 'බස': 1347, 'ගහන': 743, 'ඇපල': 221, 'ඩඩ': 859, 'වටම': 1759, 'බර': 1313, 'මර': 1409, 'නකන': 1093, 'ඔස': 514, 'අවධ': 108, 'ජර': 804, 'ලටත': 1694, 'එලවය': 444, 'ඉරනමඩ': 275, 'ඵලකයක': 1284, 'සමහරව': 1969, 'ලක': 1675, 'ඩය': 872, 'ඩකරන': 852, 'බව': 1341, 'පයකට': 1234, 'නයක': 1142, 'අපට': 56, 'මන': 1391, 'ඩනගන': 864, 'රක': 1551, 'නඳ': 1127, 'උයනට': 363, 'යටම': 1469, 'රත': 1592, 'මකර': 1361, 'ඩයල': 877, 'කරනව': 623, 'පරම': 1245, 'පහ': 1267, 'හයකට': 2061, 'හත': 2023, 'අහනව': 130, 'යනවද': 1486, 'නවන': 1167, 'ටරයක': 834, 'වලහ': 1835, 'තනවද': 932, 'ඇන': 214, 'ලඥය': 1692, 'ලම': 1712, 'දටම': 997, 'ඇතඔව': 209, 'ඇතඔය': 208, 'ආවත': 182, 'පමණය': 1229, 'මහනත': 1437, 'අත': 26, 'අමතන': 73, 'දකට': 988, 'දයක': 1022, 'නන': 1122, 'ණයක': 901, 'දරවර': 1035, 'රහය': 1666, 'යයත': 1511, 'රසයක': 1656, 'ජනකව': 782, 'ඔබ': 495, 'නයට': 1144, 'අශ': 117, 'යවන': 1525, 'රපල': 1612, 'වසරක': 1844, 'ෂභ': 1889, 'කටක': 547, 'ඉවත': 282, 'ණය': 900, 'වරණය': 1813, 'ඉලක': 278, 'ඔබග': 496, 'වරණයට': 1814, 'කවදහර': 657, 'ඉබ': 269, 'ශන': 1861, 'භය': 1352, 'දහසක': 1060, 'ගග': 677, 'ඔන': 492, 'තරද': 957, 'රටවට': 1584, 'ටරය': 833, 'දහයක': 1057, 'ලයකද': 1721, 'නද': 1121, 'අරගලයක': 95, 'යවස': 1538, 'රජ': 1571, 'අතට': 30, 'කණ': 566, 'වටද': 1758, 'තනම': 928, 'වප': 1789, 'රවම': 1641, 'දලට': 1038, 'මකටද': 1357, 'රම': 1617, 'ණට': 893, 'අතව': 33, 'බටහ': 1293, 'රයන': 1632, 'ගඩ': 683, 'රමයක': 1624, 'යද': 1475, 'හලයග': 2075, 'බලපල': 1332, 'ඉවරය': 286, 'නටම': 1111, 'නකම': 1094, 'උග': 314, 'ඇස': 234, 'කඳ': 580, 'එනකම': 424, 'ගහල': 751, 'සරහටම': 1989, 'සටනම': 1920, 'උනත': 333, 'යකඩ': 1458, 'කරක': 606, 'රවප': 1640, 'ඉර': 273, 'ඇදග': 212, 'ඉදප': 258, 'තරයය': 964, 'කභ': 588, 'වයට': 1799, 'වරණ': 1812, 'යයනය': 1513, 'ශයට': 1869, 'බඳව': 1306, 'ආයතන': 172, 'බඩ': 1294, 'ආප': 168, 'පද': 1215, 'ටසමහර': 841, 'නසක': 1176, 'රද': 1601, 'රමස': 1626, 'මතය': 1385, 'පළම': 1280, 'ජව': 807, 'කස': 666, 'රහයක': 1667, 'ටසහ': 842, 'නඑප': 1088, 'දවසසත': 1050, 'ඕක': 519, 'බලම': 1333, 'නටත': 1109, 'ජනය': 786, 'දයට': 1024, 'ටවත': 838, 'තල': 966, 'ඒමදඔය': 475, 'එනම': 425, 'පවට': 1257, 'ණයට': 903, 'හවස': 2077, 'උපද': 339, 'තවත': 971, 'රණයක': 1588, 'පළව': 1281, 'නඩ': 1114, 'ලවව': 1732, 'අසන': 119, 'චයක': 769, 'යහනක': 1544, 'ඩරල': 880, 'එකග': 386, 'සමග': 1951, 'තබය': 938, 'ඉවරකරන': 284, 'ඊය': 303, 'අහය': 133, 'ඉපද': 267, 'කරත': 615, 'එල': 439, 'රව': 1635, 'ඉසව': 294, 'ඳම': 1189, 'වටරව': 1762, 'බත': 1301, 'දල': 1036, 'ථක': 982, 'ගමන': 704, 'ගක': 676, 'ඉඟ': 246, 'තට': 919, 'ෂන': 1886, 'ආගම': 145, 'කගත': 541, 'ඉඩ': 248, 'උණ': 327, 'මස': 1426, 'හදල': 2040, 'ඒකන': 463, 'කඹයක': 599, 'අමතක': 69, 'තරන': 958, 'නවස': 1174, 'හලන': 2072, 'ඵක': 1282, 'පසට': 1266, 'එකම': 401, 'එකස': 405, 'උම': 354, 'පය': 1232, 'අදරයය': 39, 'ඉවර': 283, 'වරදව': 1818, 'වටහ': 1764, 'ඒත': 469, 'දවසක': 1046, 'ඈතක': 241, 'නවටද': 1162, 'සඳහ': 1940, 'වළක': 1855, 'ලත': 1697, 'අකව': 2, 'එව': 446, 'කනව': 576, 'අරක': 88, 'ඔක': 483, 'අස': 118, 'මකට': 1356, 'හදවත': 2044, 'නමක': 1134, 'ඔට': 486, 'සරහට': 1988, 'ආධ': 164, 'යනක': 1478, 'සමට': 1954, 'ෂකයට': 1876, 'ලගද': 1684, 'ඕග': 524, 'ගමක': 702, 'පටන': 1200, 'අරග': 91, 'ඇමර': 225, 'ආය': 171, 'රටකටම': 1579, 'කකන': 539, 'පරක': 1237, 'දඩයක': 998, 'ඔහ': 516, 'වනරක': 1783, 'තයකට': 945, 'අනවසරය': 50, 'රයක': 1629, 'හදනවන': 2036, 'නගන': 1100, 'තත': 924, 'කප': 582, 'රවල': 1647, 'වරක': 1809, 'හනයකට': 2050, 'නල': 1153, 'ඉදක': 254, 'වදප': 1771, 'මටත': 1370, 'ඉදපන': 259, 'උබලග': 351, 'ඩබල': 869, 'හදප': 2038, 'වහ': 1846, 'උඹලග': 361, 'සනව': 1935, 'ටහ': 843, 'කරය': 635, 'දද': 1002, 'ලකණ': 1677, 'මරල': 1416, 'චය': 768, 'ගණ': 684, 'ඳටම': 1186, 'හහහ': 2082, 'හලයන': 2076, 'ආයතනය': 173, 'ලද': 1699, 'කවලම': 664, 'ඔබත': 499, 'ආඩම': 153, 'බරය': 1316, 'මහස': 1444, 'බලක': 1322, 'අග': 4, 'එකගද': 388, 'ජගතය': 778, 'සමන': 1956, 'මඟ': 1366, 'ඳග': 1184, 'වමන': 1794, 'තද': 925, 'ඟල': 761, 'ගතයට': 692, 'ජයව': 802, 'උදව': 331, 'අකම': 1, 'හස': 2080, 'උඩ': 318, 'යවනව': 1528, 'දග': 989, 'සනය': 1933, 'චරද': 772, 'දරල': 1033, 'මලකඩ': 1419, 'වරන': 1819, 'එලක': 440, 'ආණ': 154, 'පරණ': 1238, 'නටන': 1110, 'ඕකන': 522, 'ගහපන': 748, 'ගහ': 735, 'ඇනල': 215, 'දලන': 1039, 'සමනට': 1957, 'දහ': 1054, 'ආදර': 159, 'ගයක': 710, 'එර': 438, 'මටස': 1374, 'මහරගම': 1441, 'ගඳ': 699, 'එකටය': 395, 'කඹ': 598, 'ඳන': 1187, 'ඇඳග': 217, 'ඉවරන': 285, 'දනවල': 1010, 'වනව': 1784, 'යලද': 1519, 'උඹටත': 358, 'මමන': 1403, 'කථ': 569, 'යනවනම': 1489, 'නනම': 1123, 'හපන': 2054, 'ඩටම': 858, 'ගණන': 685, 'අඳ': 51, 'වහල': 1854, 'නමට': 1135, 'ඩනම': 865, 'ඉඳන': 264, 'සමරන': 1961, 'ආකස': 144, 'සරණය': 1976, 'බබ': 1307, 'ඕය': 530, 'ඇඳ': 216, 'කරලද': 640, 'ඒකවත': 467, 'පපර': 1223, 'පප': 1222, 'තවම': 973, 'එඩ': 410, 'එවපන': 448, 'දරට': 1029, 'හතරපහක': 2029, 'එවන': 447, 'ඇක': 199, 'මතකය': 1383, 'කරනවඅන': 624, 'කලත': 647, 'ෆල': 2111, 'මලක': 1418, 'කරව': 641, 'වස': 1840, 'ධව': 1080, 'රජය': 1575, 'අනන': 47, 'කවද': 654, 'ෆර': 2110, 'වකට': 1739, 'වරදක': 1817, 'ලඟ': 1686, 'රවනත': 1639, 'කටම': 553, 'රවර': 1646, 'සඩන': 1923, 'ඩව': 883, 'අහග': 125, 'යර': 1515, 'ඇඩ': 206, 'වටය': 1760, 'ඒජන': 468, 'යකට': 1456, 'බට': 1291, 'කමය': 596, 'හන': 2047, 'සරහ': 1987, 'අලවල': 103, 'ලවන': 1730, 'මලග': 1420, 'ෆස': 2113, 'යප': 1492, 'එච': 406, 'චරට': 771, 'ඇල': 232, 'කහම': 671, 'ඉඳල': 265, 'වඟ': 1750, 'රඟන': 1568, 'ඔබන': 500, 'ආසවට': 196, 'ආවහම': 187, 'දහසට': 1061, 'එයත': 436, 'සඟවන': 1916, 'රවට': 1636, 'සඟව': 1915, 'ආආආ': 142, 'ෆන': 2108, 'ඕල': 531, 'දවල': 1044, 'හතම': 2024, 'බරයක': 1317, 'ඉම': 270, 'අච': 13, 'ළවට': 2104, 'ගමනක': 705, 'කරග': 608, 'දම': 1014, 'ශපත': 1864, 'ගඟ': 678, 'එකමය': 402, 'කරගත': 609, 'ටව': 836, 'ගහගත': 738, 'ණන': 896, 'තයට': 946, 'යලම': 1521, 'වයසට': 1806, 'කටද': 550, 'හවසම': 2079, 'ගහත': 741, 'තකර': 915, 'රසයන': 1657, 'කහට': 669, 'වලක': 1822, 'මහන': 1435, 'නගරය': 1103, 'ආහ': 197, 'සකම': 1905, 'අතහ': 34, 'ආශ': 188, 'හකකම': 2013, 'බක': 1286, 'එනකන': 423, 'ටද': 818, 'ලවයස': 1731, 'ඇග': 200, 'වදද': 1769, 'මරද': 1412, 'එත': 412, 'ඇයට': 229, 'උගන': 316, 'බලල': 1336, 'බලප': 1330, 'බයය': 1312, 'ඊට': 300, 'ඩම': 871, 'අඩනව': 19, 'පහකට': 1269, 'දවසම': 1049, 'ඊළඟ': 308, 'අයට': 83, 'ලමයත': 1716, 'නවද': 1165, 'යපල': 1493, 'වලද': 1830, 'ගටම': 682, 'ඔර': 510, 'ගව': 730, 'එනවල': 428, 'උපර': 342, 'ගය': 709, 'ළඟටම': 2087, 'ඉඳග': 263, 'යඳම': 1491, 'අහම': 132, 'ආයම': 175, 'නවට': 1161, 'නගම': 1101, 'ඩගම': 855, 'ගහම': 749, 'තරහ': 965, 'යහල': 1548, 'ආර': 176, 'ඩග': 854, 'බලය': 1334, 'වඳක': 1786, 'සසර': 2004, 'උදම': 330, 'යමක': 1496, 'කටය': 554, 'ධනය': 1072, 'වටයක': 1761, 'හදලත': 2041, 'කටත': 549, 'යව': 1523, 'සකය': 1907, 'මවත': 1424, 'ඒකම': 464, 'හඩනව': 2019, 'හඩන': 2018, 'තරමටම': 961, 'වගක': 1746, 'ළඟට': 2086, 'අඬන': 23, 'මනට': 1393, 'තනට': 927, 'නප': 1128, 'හඬවන': 2022, 'තවමන': 975, 'සස': 2002, 'පහල': 1275, 'ඊලග': 304, 'ලනය': 1703, 'උපව': 343, 'දත': 1001, 'සබ': 1945, 'අමන': 76, 'මමත': 1401, 'ඔයත': 506, 'යටවත': 1472, 'ඇෆ': 238, 'ලමය': 1715, 'මරනව': 1414, 'බලව': 1338, 'ගප': 700, 'ඒය': 478, 'උවමන': 369, 'ළමය': 2099, 'තලට': 967, 'රඟප': 1569, 'ළඹ': 2100, 'මහල': 1442, 'වලත': 1829, 'තවමත': 974, 'ආසය': 194, 'සරස': 1985, 'හරහ': 2068, 'පමණක': 1227, 'යටත': 1467, 'කමබක': 595, 'කයන': 604, 'කරනය': 622, 'හදවතත': 2046, 'හතරද': 2027, 'කඩල': 563, 'වකම': 1742, 'යබහ': 1494, 'අඟවන': 12, 'සටම': 1921, 'ගතයක': 691, 'තටම': 920, 'තනව': 931, 'ඔළ': 517, 'වදයක': 1773, 'කවත': 653, 'දළද': 1065, 'වද': 1768, 'දනය': 1005, 'ගලවනව': 726, 'නතර': 1119, 'පලම': 1249, 'මචන': 1368, 'කමක': 590, 'බලතල': 1324, 'කරනස': 630, 'ඊළ': 307, 'ඊළම': 310, 'ළක': 2083, 'බරපතල': 1315, 'වරද': 1816, 'සරණ': 1975, 'ණත': 894, 'ඇප': 220, 'අහක': 124, 'වගම': 1748, 'අයටත': 84, 'ටයක': 828, 'දහය': 1056, 'ලගට': 1683, 'ජනපදය': 785, 'උඳ': 335, 'ගවල': 731, 'උපත': 338, 'ණල': 906, 'දසත': 1053, 'ටවල': 839, 'ඇමත': 224, 'දහස': 1059, 'කහ': 668, 'ඇච': 204, 'දගලන': 992, 'යනවම': 1490, 'එදත': 420, 'අදත': 37, 'ඉඳලම': 266, 'රනව': 1606, 'යනවන': 1487, 'ආත': 155, 'හඳට': 2052, 'ඔයල': 509, 'ඉව': 281, 'ඉහ': 295, 'අහලත': 136, 'දඹ': 1018, 'කටවහන': 557, 'ඒකත': 462, 'උඩයන': 324, 'තරඅහසඋඩ': 949, 'ගනන': 697, 'ටක': 810, 'ඒමය': 476, 'යවනක': 1526, 'පදනම': 1216, 'ඔයය': 508, 'යවනවන': 1529, 'ආවට': 181, 'වලටල': 1828, 'රතල': 1595, 'පඩර': 1208, 'සනට': 1931, 'උල': 366, 'නලද': 1154, 'කවකට': 652, 'උඩග': 319, 'දගන': 991, 'පහත': 1271, 'ටයට': 829, 'නගහනන': 1105, 'දඟලනව': 995, 'දඟල': 993, 'නටල': 1112, 'ඇඳන': 218, 'එතනම': 418, 'පටවන': 1204, 'ධවනය': 1082, 'සකලමන': 1909, 'ඇඹර': 227, 'හතර': 2025, 'අනවශ': 49, 'ධකම': 1067, 'යවත': 1524, 'එකකට': 385, 'ඉදන': 257, 'අහසට': 140, 'ෂනය': 1887, 'බඩට': 1296, 'රමණ': 1620, 'ළප': 2098, 'තරයක': 963, 'රයග': 1630, 'නවම': 1169, 'කමන': 594, 'ලකයන': 1680, 'දවසට': 1047, 'ලයට': 1722, 'අහස': 139, 'කටර': 555, 'බඩග': 1295, 'ඒබ': 472, 'රහම': 1665, 'ගලවගන': 725, 'ටස': 840, 'රහත': 1664, 'නහය': 1179, 'අඬප': 24, 'ෂකවර': 1878, 'ගසක': 733, 'තලම': 968, 'සරදම': 1977, 'ඩපත': 868, 'මතකන': 1382, 'නහරක': 1181, 'උඔ': 311, 'නකල': 1097, 'ඇද': 211, 'ආදරය': 161, 'යනම': 1482, 'තග': 918, 'ඒවග': 480, 'ආදරයක': 162, 'එකගව': 389, 'සලකන': 1993, 'ඩට': 857, 'සලකනව': 1994, 'නවයටස': 1172, 'මනම': 1395, 'යලත': 1518, 'ඒමවත': 477, 'කනවකන': 577, 'ගහට': 740, 'කඩන': 561, 'කඩත': 559, 'යලක': 1517, 'ඔෆ': 518, 'නවඒකත': 1158, 'පලව': 1254, 'නවක': 1159, 'රකප': 1557, 'රයට': 1631, 'වයසය': 1807, 'අඹ': 79, 'අගය': 7, 'චරවත': 774, 'ඔතනය': 491, 'තරඟ': 956, 'එනවද': 427, 'එලව': 442, 'පළප': 1279, 'නකට': 1091, 'ඉදල': 260, 'නගත': 1099, 'ගහනවද': 745, 'වළල': 1856, 'ලඟත': 1688, 'ඇට': 205, 'ආපහ': 169, 'ගහනවල': 746, 'ගහලම': 752, 'ශල': 1871, 'කනකන': 573, 'හතරව': 2030, 'කවර': 659, 'ෆට': 2107, 'අහනක': 129, 'යශ': 1539, 'එතන': 416, 'පවස': 1261, 'සමඟ': 1953, 'මහව': 1443, 'ගඟට': 679, 'එකන': 399, 'නවඑත': 1157, 'ඩයක': 873, 'පහරද': 1274, 'ජපක': 792, 'ෂලට': 1900, 'අතර': 31, 'යනද': 1481, 'ඇඟට': 202, 'ඒවත': 482, 'හදවතට': 2045, 'නතක': 1117, 'ඩනග': 863, 'ලයත': 1723, 'වයටත': 1800, 'යමයක': 1504, 'රළ': 1669, 'ගහලල': 753, 'වනම': 1780, 'සමගය': 1952, 'අමතකව': 72, 'කටවල': 556, 'වයනව': 1801, 'යහ': 1542, 'රසවත': 1658, 'ගලහ': 729, 'ටහර': 844, 'ඒවට': 481, 'ඉවසන': 290, 'ඊව': 305, 'රණව': 1590, 'රණය': 1587, 'උපන': 340, 'සප': 1942, 'ඩගමක': 856, 'ආරම': 178, 'වජ': 1754, 'අබ': 65, 'යවරය': 1534, 'වචන': 1751, 'ඉශ': 291, 'කරනවය': 628, 'සනක': 1930, 'අරගලයට': 96, 'ජයම': 800, 'යටමස': 1470, 'බවට': 1343, 'කරදරයක': 618, 'රටටම': 1581, 'ජනවර': 790, 'උර': 364, 'මයන': 1408, 'භක': 1351, 'ඉවරව': 287, 'රවය': 1642, 'අසහන': 122, 'පණ': 1209, 'යමය': 1503, 'අදහසට': 43, 'සකල': 1908, 'නඑතක': 1087, 'යටලමත': 1471, 'ලධ': 1700, 'වසම': 1842, 'ඒදණ': 471, 'ලමකට': 1714, 'උඩලමත': 325, 'මනද': 1394, 'උඩව': 326, 'ගහව': 754, 'ආසනය': 192, 'දඕව': 986, 'මහඒදන': 1430, 'වගය': 1749, 'වචනය': 1752, 'සනයට': 1934, 'නයන': 1149, 'වපත': 1790, 'කරනත': 621, 'යකවර': 1463, 'යකය': 1460, 'මයක': 1407, 'අරගලය': 94, 'ඔනර': 493, 'මගන': 1365, 'උපය': 341, 'උගත': 315, 'රෆ': 1671, 'මහජන': 1432, 'ආනයනය': 167, 'දහසය': 1062, 'දවත': 1041, 'පකරණ': 1195, 'නවකය': 1160, 'උබටත': 348, 'ළග': 2084, 'බරක': 1314, 'හමම': 2058, 'ඇඇ': 198, 'ගලග': 719, 'ණවර': 908, 'රඹ': 1627, 'යනයකට': 1484, 'ඉහලට': 297, 'පටය': 1201, 'උපහ': 344, 'ෂක': 1875, 'අගන': 5, 'වරට': 1811, 'හක': 2012, 'අඬවන': 25, 'ෂයට': 1895, 'රවයට': 1644, 'හදනන': 2033, 'නඉක': 1084, 'වහක': 1847, 'අළ': 141, 'එකටත': 392, 'වලහන': 1836, 'සවයට': 2000, 'සවය': 1999, 'සමරම': 1963, 'ධය': 1076, 'අභයන': 67, 'ලමක': 1713, 'එනක': 422, 'ගසන': 734, 'රතව': 1596, 'ලතම': 1698, 'ෂණ': 1881, 'එට': 409, 'හච': 2015, 'උඹත': 359, 'අහර': 134, 'බලනව': 1329, 'ගහය': 750, 'ඊටපස': 302, 'ටට': 814, 'බයක': 1311, 'කසකස': 667, 'පකයන': 1194, 'කඩවල': 564, 'වටලප': 1763, 'උට': 317, 'දනයක': 1006, 'පමණ': 1226, 'කඩයක': 562, 'රසට': 1652, 'රමණය': 1621, 'එළ': 454, 'ගයන': 714, 'ගයකය': 712, 'ගණනක': 686, 'ඔතන': 489, 'ඔතනට': 490, 'එතනට': 417, 'සයජ': 1973, 'කලබල': 648, 'මරම': 1415, 'පරප': 1243, 'ඔකට': 484, 'එලවන': 443, 'ටඩ': 816, 'මනරම': 1396, 'ළහර': 2105, 'සවස': 2001, 'ජප': 791, 'පලයව': 1253, 'ගලන': 721, 'නරක': 1151, 'ඩද': 861, 'උමත': 355, 'ඒතරම': 470, 'ඳට': 1185, 'බලපන': 1331, 'ලකට': 1676, 'අහවල': 138, 'චපල': 767, 'ළඟ': 2085, 'බග': 1290, 'යවප': 1530, 'පරතර': 1239, 'බලහන': 1340, 'රහට': 1661, 'කණට': 567, 'වඅරක': 1737, 'නඋන': 1086, 'නහක': 1178, 'ලනව': 1705, 'ආසම': 193, 'හනයක': 2049, 'ඉගනගන': 245, 'පහවත': 1276, 'වචනයය': 1753, 'රගන': 1565, 'ගමනය': 706, 'රටම': 1583, 'ඒකටත': 461, 'බකට': 1287, 'අමනව': 77, 'අතක': 28, 'එමටය': 433, 'පතම': 1213, 'දඟලන': 994, 'ඩස': 885, 'ආට': 152, 'ඒමද': 474, 'දපන': 1013, 'සලකට': 1992, 'ලලක': 1727, 'අපත': 57, 'අපහස': 64, 'ඒම': 473, 'හයස': 2063, 'දනද': 1004, 'වදන': 1770, 'නතව': 1120, 'බවක': 1342, 'රරත': 1633, 'තකත': 913, 'ඩත': 860, 'ළයක': 2102, 'ඕව': 532, 'අරහ': 100, 'කලය': 649, 'රකරල': 1562, 'ආස': 190, 'පඩ': 1205, 'නහයවල': 1180, 'සග': 1911, 'ඕනම': 527, 'වදයට': 1774, 'තයන': 947, 'වදය': 1772, 'වධයට': 1776, 'වධකයන': 1775, 'ආශක': 189, 'හරක': 2065, 'එළද': 455, 'අසරණ': 120, 'අදර': 38, 'ඩවල': 884, 'ලඟව': 1690, 'ඈත': 240, 'ඹම': 1449, 'උවත': 368, 'බලනක': 1328, 'මටම': 1372, 'පහන': 1273, 'හඳ': 2051, 'ඒකඒ': 458, 'එකවත': 404, 'එසය': 452, 'වබ': 1791, 'රවන': 1638, 'අයග': 82, 'නනවන': 1125, 'ශයක': 1868, 'ශෂ': 1874, 'ඳවය': 1191, 'ඩකර': 851, 'යවරට': 1533, 'බදව': 1303, 'දවය': 1043, 'යලන': 1520, 'සදහ': 1927, 'එඒක': 381, 'පජ': 1198, 'බබළවනව': 1308, 'රභ': 1615, 'බලලම': 1337, 'තඩ': 923, 'ටමට': 825, 'දහම': 1055, 'ණධර': 895, 'යවපන': 1531, 'අපජල': 55, 'ධත': 1070, 'ටපන': 822, 'ඉදගන': 256, 'පරදන': 1241, 'ඹටය': 1448, 'ලසට': 1734, 'නඟවල': 1107, 'පම': 1225, 'ලඹ': 1717, 'වහන': 1849, 'නඟට': 1106, 'යවශ': 1537, 'උපක': 337, 'අතරම': 32, 'සරයද': 1980, 'නවල': 1173, 'වමර': 1795, 'ඊටත': 301, 'රළට': 1670, 'උඩට': 320, 'රණවක': 1591, 'සරසව': 1986, 'සබරගම': 1947, 'වයඹ': 1802, 'ආසන': 191, 'රථයක': 1600, 'රථය': 1599, 'වනය': 1781, 'ඇරල': 231, 'බලද': 1325, 'අපය': 60, 'බලයට': 1335, 'රකන': 1556, 'ෂම': 1890, 'උබලටත': 353, 'රකම': 1558, 'ෂණය': 1882, 'එබ': 431, 'බම': 1309, 'රවටම': 1637, 'කරවම': 642, 'අදහසක': 42, 'සදහන': 1928, 'සපත': 1943, 'රටත': 1582, 'මඉන': 1354, 'සමත': 1955, 'රකඑප': 1552, 'ණප': 897, 'තකහන': 917, 'ඩප': 867, 'ඩඅභයත': 847, 'යගය': 1465, 'ඊළඟට': 309, 'මහනගර': 1436, 'රකතන': 1553, 'නටවත': 1113, 'කවරය': 662, 'මසන': 1427, 'අවමය': 111, 'රමය': 1623, 'පටලව': 1203, 'මහමග': 1439, 'ඉරහඳ': 276, 'වඩප': 1766, 'ළඟප': 2089, 'තකවත': 916, 'බසය': 1348, 'පටයක': 1202, 'වසන': 1841, 'ණස': 909, 'තප': 933, 'ලඟට': 1687, 'ඳප': 1188, 'ජල': 806, 'ලටම': 1695, 'තනය': 929, 'ලසන': 1735, 'බඳ': 1305, 'දමන': 1017, 'සගව': 1914, 'ජයක': 797, 'යකත': 1459, 'වයව': 1803, 'ෂග': 1879, 'රවයත': 1645, 'දමක': 1015, 'දවන': 1042, 'නගරයක': 1104, 'යයට': 1510, 'ණයග': 902, 'රවස': 1648, 'දහසයට': 1063, 'සහජ': 2007, 'ආගමකට': 147, 'යකටම': 1457, 'ඩර': 879, 'නඉද': 1085, 'තරක': 950, 'ඔච': 485, 'චරම': 773, 'දපක': 1012, 'හප': 2053, 'ශවර': 1872, 'පකය': 1193, 'වලව': 1834, 'ගලද': 720, 'උඩටම': 321, 'හපනව': 2055, 'නමත': 1136, 'සරව': 1984, 'ඌවග': 378, 'ඔත': 488, 'ඉඳක': 262, 'පඩමය': 1206, 'ඌව': 377, 'සඳම': 1938, 'කරලට': 638, 'ණක': 889, 'රසය': 1655, 'බඩත': 1297, 'මහණ': 1433, 'එකගත': 387, 'හඬ': 2020, 'ගමය': 708, 'උඔව': 313, 'උඔල': 312, 'කරනවල': 629, 'වලටද': 1826, 'කමටද': 592, 'අහවරය': 137, 'ඌත': 374, 'ඇම': 223, 'ටයම': 830, 'කපනව': 584, 'මහම': 1438, 'දයඑල': 1021, 'ඕහ': 535, 'වනනක': 1779, 'ටපල': 823, 'රසත': 1653, 'කරනවට': 625, 'ගහගන': 739, 'ඕකම': 523, 'සරය': 1979, 'හලනව': 2073, 'ඔඩ': 487, 'රගත': 1564, 'රමක': 1618, 'යමනක': 1501, 'වයක': 1797, 'ආවම': 184, 'රමකම': 1619, 'ඉලලන': 280, 'පවල': 1260, 'එතකල': 415, 'කවමද': 658, 'අරගත': 92, 'මසයක': 1428, 'උබලට': 352, 'තකටද': 912, 'කවල': 663, 'මහර': 1440, 'ජට': 779, 'ඍජ': 379, 'කශ': 665, 'රසක': 1651, 'යමන': 1500, 'එම': 432, 'චණ': 763, 'ඌය': 375, 'මවප': 1425, 'නබ': 1132, 'මතටත': 1384, 'තටමත': 921, 'කටන': 551, 'කටප': 552, 'වටත': 1757, 'ඇගට': 201, 'මඩකලප': 1377, 'ළධ': 2095, 'නවදබ': 1166, 'යහප': 1545, 'ගලවම': 727, 'වරය': 1820, 'කහන': 670, 'නළවනව': 1182, 'තවට': 970, 'ඕකට': 521, 'සබන': 1946, 'උබත': 349, 'රජක': 1572, 'ළඟන': 2088, 'සකමට': 1906, 'වහම': 1853, 'පනප': 1220, 'ගලවල': 728, 'යනකම': 1480, 'ලඟම': 1689, 'පනය': 1221, 'සමරය': 1964, 'සමරනකල': 1962, 'තහව': 981, 'වලටත': 1825, 'රහක': 1660, 'වනයක': 1782, 'දව': 1040, 'ණවත': 907, 'තටමය': 922, 'ඕකග': 520, 'අගයක': 8, 'සඳක': 1937, 'තහ': 977, 'උඩද': 323, 'අපතයන': 58, 'කරලත': 639, 'වයකට': 1798, 'කරකර': 607, 'බරර': 1320, 'අවබ': 110, 'එයට': 435, 'දස': 1052, 'අපක': 53, 'ෂප': 1888, 'අනභ': 48, 'භවනයත': 1353, 'ෂකල': 1877, 'තහන': 979, 'යටද': 1468, 'අගයන': 9, 'ආදයමක': 158, 'වලටය': 1827, 'ණගන': 891, 'සගන': 1912, 'එජන': 408, 'අරකකකඅප': 89, 'කකක': 538, 'ටගර': 813, 'ණර': 904, 'රඟ': 1567, 'ධකර': 1069, 'හබරල': 2056, 'ෆක': 2106, 'වලපල': 1831, 'මකල': 1362, 'එපය': 430, 'උඹලට': 362, 'කජ': 545, 'තනයක': 930, 'වහනව': 1850, 'එකදවසක': 398, 'වකටද': 1740, 'දනවටත': 1009, 'සයග': 1972, 'ඳක': 1183, 'නනවස': 1126, 'කරහම': 643, 'පග': 1197, 'කචල': 544, 'මමය': 1404, 'චත': 764, 'හඟ': 2014, 'ඈඈ': 239, 'ටවක': 837, 'ගරන': 716, 'ලකන': 1678, 'රෆය': 1672, 'හදලද': 2042, 'ඉවවත': 288, 'වගනග': 1747, 'නආඩම': 1083, 'යලල': 1522, 'යනවනන': 1488, 'වවත': 1838, 'ටකට': 811, 'සසය': 2003, 'හතරක': 2026, 'වහප': 1851, 'ළදර': 2094, 'පරයන': 1247, 'ආගමට': 149, 'පලස': 1255, 'කලග': 646, 'මකබ': 1360, 'දනව': 1008, 'අරකය': 90, 'යමප': 1502, 'රජග': 1573, 'යනයක': 1483, 'බහර': 1350, 'අයත': 85, 'රජමහ': 1574, 'සලක': 1991, 'හදය': 2039, 'අහපන': 131, 'යහන': 1543, 'ඩයන': 875, 'ජනව': 788, 'අට': 15, 'ඵල': 1283, 'ඉඩපල': 249, 'නයකට': 1143, 'රඳව': 1607, 'කකර': 540, 'ඩයස': 878, 'ධනස': 1074, 'අමර': 78, 'වටට': 1756, 'කරට': 611, 'පනත': 1218, 'ජරත': 805, 'අවනත': 109, 'සමරත': 1960, 'කඳව': 581, 'බලධ': 1326, 'පවසය': 1263, 'ඈහ': 242, 'ලනයමතකද': 1704, 'ලබට': 1709, 'ගමට': 703, 'රදව': 1603, 'සවන': 1998, 'එකටම': 394, 'රකයට': 1560, 'ඉඹ': 271, 'හලක': 2070, 'යඇන': 1452, 'ඩල': 881, 'කපනවම': 585, 'බකඩ': 1288, 'ෂල': 1899, 'පකරන': 1196, 'කවදද': 656, 'පහක': 1268, 'කලයන': 650, 'හලකම': 2071, 'වඳප': 1787, 'රසම': 1654, 'කයට': 602, 'ඟන': 759, 'හරපය': 2067, 'අහගන': 126, 'සමල': 1965, 'හයන': 2062, 'අණ': 22, 'ඇඳල': 219, 'ඇඟම': 203, 'එවර': 450, 'ශනය': 1862, 'වනද': 1778, 'දළ': 1064, 'රතනය': 1594, 'වරත': 1815, 'ලයකට': 1720, 'ඉහත': 296, 'නවය': 1171, 'රදල': 1602, 'වශය': 1839, 'දඹද': 1019, 'රගම': 1566, 'දරම': 1031, 'නපහ': 1131, 'අරම': 99, 'වභ': 1792, 'ථය': 984, 'සමස': 1966, 'මනක': 1392, 'තපල': 935, 'බකරල': 1289, 'එවය': 449, 'එකඑකට': 383, 'සදගම': 1926, 'ඩකරම': 853, 'සරයල': 1981, 'වලකම': 1823, 'තහනම': 980, 'ලවත': 1729, 'ගතහම': 694, 'ටනද': 820, 'මතකද': 1381, 'මලල': 1422, 'තරග': 951, 'තරගයකට': 954, 'ලබය': 1711, 'ඔබව': 503, 'ඩකය': 849, 'යමට': 1498, 'ළත': 2092, 'ධවත': 1081, 'කටකත': 548, 'නවතම': 1164, 'කරනවමන': 627, 'ඒකඒක': 459, 'නපන': 1130, 'බරයග': 1318, 'ඔවරයට': 513, 'ආසවක': 195, 'ඩකයන': 850, 'සහභ': 2009, 'අටකට': 16, 'සමහරක': 1968, 'මකද': 1358, 'පතනව': 1212, 'තරගයක': 953, 'ඩයට': 874, 'ඕවර': 533, 'බඩතඩ': 1298, 'වලය': 1832, 'අරගන': 93, 'අටල': 17, 'කරනවද': 626, 'මටනම': 1371, 'මනසට': 1397, 'හදනවද': 2035, 'ඉරක': 274, 'යඔහ': 1454, 'ජනයක': 787, 'සනත': 1932, 'කගන': 542, 'නමප': 1137, 'ළට': 2090, 'ෆව': 2112, 'ඇබ': 222, 'උනන': 334, 'බලග': 1323, 'හවසට': 2078, 'ගහද': 742, 'නතන': 1118, 'දශකය': 1051, 'ඩයම': 876, 'අයඅද': 81, 'කනත': 575, 'ලඅප': 1673, 'රබලනම': 1614, 'යනකන': 1479, 'එලන': 441, 'සමර': 1959, 'ධම': 1075, 'ජස': 809, 'ගතය': 690, 'දහයග': 1058, 'සරන': 1978, 'එඋන': 380, 'සටහන': 1922, 'කනස': 579, 'මනහර': 1398, 'ඔසව': 515, 'ආම': 170, 'රකථනය': 1555, 'ඕනබ': 526, 'අතගග': 29, 'මරණ': 1411, 'දඬ': 1000, 'යමව': 1505, 'ගතව': 693, 'සඳහන': 1941, 'ජශ': 808, 'ඩහ': 888, 'සකස': 1910, 'ජනවන': 789, 'ආගමන': 150, 'නමස': 1139, 'ඉපදව': 268, 'අගරදග': 10, 'දයත': 1025, 'කවරණයත': 660, 'ටමසර': 826, 'ජපනට': 793, 'දවසටත': 1048, 'ජපස': 794, 'සජ': 1917, 'ඔබටත': 498, 'එතකන': 414, 'ගළවන': 755, 'හඬම': 2021, 'සලසන': 1996, 'බවත': 1344, 'සමය': 1958, 'ලකර': 1681, 'සලමට': 1995, 'කවරනයක': 661, 'නවආම': 1156, 'යවර': 1532, 'ඩසටහන': 886, 'ඔබය': 501, 'ඔබවහන': 504, 'ඟම': 760, 'යහමග': 1547, 'ටළ': 845, 'ආයතනයක': 174, 'ඩසටහනට': 887, 'සඵල': 1944, 'ළව': 2103, 'ආල': 179, 'ඇසට': 235, 'එකද': 397, 'යහළ': 1549, 'ශබ': 1866, 'රතන': 1593, 'පමණමය': 1228, 'තපමණක': 934, 'තබන': 937, 'නඩත': 1115, 'බලහත': 1339, 'ඵලයක': 1285, 'දලක': 1037, 'අසරණයන': 121, 'ෂණයට': 1883, 'අරහත': 101, 'නපත': 1129, 'ජකය': 777, 'නයධරය': 1148, 'නමය': 1138, 'යකර': 1462, 'බවද': 1345, 'ගලයන': 724, 'චනය': 766, 'මමද': 1402, 'ඝරත': 757, 'නයටත': 1145, 'යයන': 1512, 'මටවත': 1373, 'රවයක': 1643, 'තහද': 978, 'පමනක': 1230, 'අමතම': 74, 'රණයට': 1589, 'රජයක': 1576, 'බවය': 1346, 'ඉෂ': 292, 'යසඉස': 1541, 'මකන': 1359, 'ඝණ': 756, 'ඕම': 529, 'නමහහ': 1140, 'කරදරවල': 619, 'අයද': 86, 'පරදම': 1242, 'පවසන': 1262, 'ශත': 1859, 'අමතකය': 71, 'ඹල': 1450, 'මණ': 1378, 'කමටවත': 593, 'ශපලන': 1865, 'කමල': 597, 'ගහක': 736, 'සහර': 2011, 'පඹය': 1231, 'අඩරට': 20, 'පහතරට': 1272, 'වසල': 1845, 'ඇසල': 236, 'ඉහළ': 298, 'ගනනක': 698, 'ඛන': 674, 'සහචරය': 2006, 'කරයග': 636, 'යආගම': 1451, 'හදලව': 2043, 'නකර': 1095, 'හදනවනම': 2037, 'ඔයධර': 507, 'මයඅන': 1406, 'ගමනයකරනහ': 707, 'ලනඅප': 1702, 'මටහ': 1375, 'පරබල': 1244, 'ආගමජ': 148, 'රකථන': 1554, 'ණරත': 905, 'පහට': 1270, 'ණග': 890, 'අරට': 97, 'උව': 367, 'ඨල': 846, 'නකරව': 1096, 'ඉඩම': 250, 'යහම': 1546, 'ඉඩමක': 251, 'සරලවම': 1983, 'ඇතච': 210, 'නයටද': 1146, 'වකද': 1741, 'ඉහළම': 299, 'ධකය': 1068, 'දයද': 1026, 'මදම': 1389, 'ථව': 985, 'ටයර': 831, 'ළණ': 2091, 'එඬ': 411, 'කඩද': 560, 'ලච': 1691, 'ඇඹ': 226, 'අපනයනය': 59, 'ඒකල': 466, 'ඩලය': 882, 'රථ': 1597, 'නකද': 1092, 'කයක': 601, 'අදහන': 40, 'තවයකට': 976, 'මතයන': 1387, 'නඒව': 1089, 'එලවල': 445, 'මහගන': 1431, 'බඩප': 1299, 'ගයකට': 711, 'අහද': 127, 'අජ': 14, 'කබ': 587, 'ලඔබට': 1674, 'කනග': 574, 'ගදප': 695, 'අමතකනම': 70, 'අපහට': 63, 'තරමට': 960, 'ජයගන': 799, 'තරගය': 952, 'කඪ': 565, 'යමසමග': 1507, 'මධ': 1390, 'ගණය': 687, 'තරගයට': 955, 'යමකටම': 1497, 'රහණය': 1663, 'වරග': 1810, 'යමශ': 1506, 'රථම': 1598, 'සඳර': 1939, 'ජයලත': 801, 'උළ': 372, 'ෂත': 1884, 'උෂ': 370, 'මළල': 1446, 'ධක': 1066, 'යමත': 1499, 'ලරත': 1725, 'ගතද': 689, 'පථය': 1214, 'වලල': 1833, 'රහණ': 1662, 'ථකය': 983, 'හනය': 2048, 'තභය': 939, 'කලක': 645, 'ජධ': 780, 'අවල': 112, 'හරණය': 2066, 'ෂද': 1885, 'ශවල': 1873, 'අවසර': 116, 'කළහ': 673, 'ළඹමහන': 2101, 'ආනන': 166, 'රචණ': 1570, 'පවරන': 1259, 'ඒඑම': 456, 'රකර': 1561, 'ආවරණය': 186, 'රකය': 1559, 'අමතරව': 75, 'ඩබලන': 870, 'ධයන': 1078, 'ෂටර': 1880, 'දමත': 1016, 'කථන': 570, 'රමරත': 1625, 'යවරයක': 1535, 'ෂෆ': 1903, 'අඛණ': 3, 'වකය': 1743, 'චක': 762, 'ඛය': 675, 'ආවරණ': 185, 'රභවයන': 1616, 'ණභ': 898, 'පනතට': 1219, 'ළඳස': 2097, 'ඩනය': 866, 'ළඳ': 2096}\n"
          ]
        }
      ]
    },
    {
      "cell_type": "code",
      "source": [
        "d = pd.DataFrame(X,columns=count_vector.get_feature_names_out())\n",
        "d"
      ],
      "metadata": {
        "colab": {
          "base_uri": "https://localhost:8080/",
          "height": 423
        },
        "id": "S1pMGuF1SOR2",
        "outputId": "6a9e39ce-2e32-427a-c1c4-7024423cf7e3"
      },
      "execution_count": 59,
      "outputs": [
        {
          "output_type": "execute_result",
          "data": {
            "text/plain": [
              "      අක  අකම  අකව  අඛණ  අග  අගන  අගම  අගය  අගයක  අගයන  ...  ළවට  ළහර  ෆක  ෆට  \\\n",
              "0      0    0    0    0   0    0    0    0     0     0  ...    0    0   0   0   \n",
              "1      0    0    0    0   0    0    0    0     0     0  ...    0    0   0   0   \n",
              "2      0    0    0    0   0    0    0    0     0     0  ...    0    0   0   0   \n",
              "3      0    0    0    0   0    0    0    0     0     0  ...    0    0   0   0   \n",
              "4      0    0    0    0   0    0    0    0     0     0  ...    0    0   0   0   \n",
              "...   ..  ...  ...  ...  ..  ...  ...  ...   ...   ...  ...  ...  ...  ..  ..   \n",
              "1674   0    0    0    0   0    0    0    0     0     0  ...    0    0   0   0   \n",
              "1675   0    0    0    0   0    0    0    0     0     0  ...    0    0   0   0   \n",
              "1676   0    0    0    0   0    0    0    0     0     0  ...    0    0   0   0   \n",
              "1677   0    0    0    0   0    0    0    0     0     0  ...    0    0   0   0   \n",
              "1678   0    0    0    0   0    0    1    0     0     0  ...    0    0   0   0   \n",
              "\n",
              "      ෆන  ෆය  ෆර  ෆල  ෆව  ෆස  \n",
              "0      0   0   0   0   0   0  \n",
              "1      0   0   0   0   0   0  \n",
              "2      0   0   0   0   0   0  \n",
              "3      0   0   0   0   0   0  \n",
              "4      0   0   0   0   0   0  \n",
              "...   ..  ..  ..  ..  ..  ..  \n",
              "1674   0   0   0   0   0   0  \n",
              "1675   0   0   0   0   0   0  \n",
              "1676   0   0   0   0   0   0  \n",
              "1677   0   0   0   0   0   0  \n",
              "1678   0   0   0   0   0   0  \n",
              "\n",
              "[1679 rows x 2114 columns]"
            ],
            "text/html": [
              "\n",
              "  <div id=\"df-0fc839ef-8083-4972-af77-ae926bfabf6b\">\n",
              "    <div class=\"colab-df-container\">\n",
              "      <div>\n",
              "<style scoped>\n",
              "    .dataframe tbody tr th:only-of-type {\n",
              "        vertical-align: middle;\n",
              "    }\n",
              "\n",
              "    .dataframe tbody tr th {\n",
              "        vertical-align: top;\n",
              "    }\n",
              "\n",
              "    .dataframe thead th {\n",
              "        text-align: right;\n",
              "    }\n",
              "</style>\n",
              "<table border=\"1\" class=\"dataframe\">\n",
              "  <thead>\n",
              "    <tr style=\"text-align: right;\">\n",
              "      <th></th>\n",
              "      <th>අක</th>\n",
              "      <th>අකම</th>\n",
              "      <th>අකව</th>\n",
              "      <th>අඛණ</th>\n",
              "      <th>අග</th>\n",
              "      <th>අගන</th>\n",
              "      <th>අගම</th>\n",
              "      <th>අගය</th>\n",
              "      <th>අගයක</th>\n",
              "      <th>අගයන</th>\n",
              "      <th>...</th>\n",
              "      <th>ළවට</th>\n",
              "      <th>ළහර</th>\n",
              "      <th>ෆක</th>\n",
              "      <th>ෆට</th>\n",
              "      <th>ෆන</th>\n",
              "      <th>ෆය</th>\n",
              "      <th>ෆර</th>\n",
              "      <th>ෆල</th>\n",
              "      <th>ෆව</th>\n",
              "      <th>ෆස</th>\n",
              "    </tr>\n",
              "  </thead>\n",
              "  <tbody>\n",
              "    <tr>\n",
              "      <th>0</th>\n",
              "      <td>0</td>\n",
              "      <td>0</td>\n",
              "      <td>0</td>\n",
              "      <td>0</td>\n",
              "      <td>0</td>\n",
              "      <td>0</td>\n",
              "      <td>0</td>\n",
              "      <td>0</td>\n",
              "      <td>0</td>\n",
              "      <td>0</td>\n",
              "      <td>...</td>\n",
              "      <td>0</td>\n",
              "      <td>0</td>\n",
              "      <td>0</td>\n",
              "      <td>0</td>\n",
              "      <td>0</td>\n",
              "      <td>0</td>\n",
              "      <td>0</td>\n",
              "      <td>0</td>\n",
              "      <td>0</td>\n",
              "      <td>0</td>\n",
              "    </tr>\n",
              "    <tr>\n",
              "      <th>1</th>\n",
              "      <td>0</td>\n",
              "      <td>0</td>\n",
              "      <td>0</td>\n",
              "      <td>0</td>\n",
              "      <td>0</td>\n",
              "      <td>0</td>\n",
              "      <td>0</td>\n",
              "      <td>0</td>\n",
              "      <td>0</td>\n",
              "      <td>0</td>\n",
              "      <td>...</td>\n",
              "      <td>0</td>\n",
              "      <td>0</td>\n",
              "      <td>0</td>\n",
              "      <td>0</td>\n",
              "      <td>0</td>\n",
              "      <td>0</td>\n",
              "      <td>0</td>\n",
              "      <td>0</td>\n",
              "      <td>0</td>\n",
              "      <td>0</td>\n",
              "    </tr>\n",
              "    <tr>\n",
              "      <th>2</th>\n",
              "      <td>0</td>\n",
              "      <td>0</td>\n",
              "      <td>0</td>\n",
              "      <td>0</td>\n",
              "      <td>0</td>\n",
              "      <td>0</td>\n",
              "      <td>0</td>\n",
              "      <td>0</td>\n",
              "      <td>0</td>\n",
              "      <td>0</td>\n",
              "      <td>...</td>\n",
              "      <td>0</td>\n",
              "      <td>0</td>\n",
              "      <td>0</td>\n",
              "      <td>0</td>\n",
              "      <td>0</td>\n",
              "      <td>0</td>\n",
              "      <td>0</td>\n",
              "      <td>0</td>\n",
              "      <td>0</td>\n",
              "      <td>0</td>\n",
              "    </tr>\n",
              "    <tr>\n",
              "      <th>3</th>\n",
              "      <td>0</td>\n",
              "      <td>0</td>\n",
              "      <td>0</td>\n",
              "      <td>0</td>\n",
              "      <td>0</td>\n",
              "      <td>0</td>\n",
              "      <td>0</td>\n",
              "      <td>0</td>\n",
              "      <td>0</td>\n",
              "      <td>0</td>\n",
              "      <td>...</td>\n",
              "      <td>0</td>\n",
              "      <td>0</td>\n",
              "      <td>0</td>\n",
              "      <td>0</td>\n",
              "      <td>0</td>\n",
              "      <td>0</td>\n",
              "      <td>0</td>\n",
              "      <td>0</td>\n",
              "      <td>0</td>\n",
              "      <td>0</td>\n",
              "    </tr>\n",
              "    <tr>\n",
              "      <th>4</th>\n",
              "      <td>0</td>\n",
              "      <td>0</td>\n",
              "      <td>0</td>\n",
              "      <td>0</td>\n",
              "      <td>0</td>\n",
              "      <td>0</td>\n",
              "      <td>0</td>\n",
              "      <td>0</td>\n",
              "      <td>0</td>\n",
              "      <td>0</td>\n",
              "      <td>...</td>\n",
              "      <td>0</td>\n",
              "      <td>0</td>\n",
              "      <td>0</td>\n",
              "      <td>0</td>\n",
              "      <td>0</td>\n",
              "      <td>0</td>\n",
              "      <td>0</td>\n",
              "      <td>0</td>\n",
              "      <td>0</td>\n",
              "      <td>0</td>\n",
              "    </tr>\n",
              "    <tr>\n",
              "      <th>...</th>\n",
              "      <td>...</td>\n",
              "      <td>...</td>\n",
              "      <td>...</td>\n",
              "      <td>...</td>\n",
              "      <td>...</td>\n",
              "      <td>...</td>\n",
              "      <td>...</td>\n",
              "      <td>...</td>\n",
              "      <td>...</td>\n",
              "      <td>...</td>\n",
              "      <td>...</td>\n",
              "      <td>...</td>\n",
              "      <td>...</td>\n",
              "      <td>...</td>\n",
              "      <td>...</td>\n",
              "      <td>...</td>\n",
              "      <td>...</td>\n",
              "      <td>...</td>\n",
              "      <td>...</td>\n",
              "      <td>...</td>\n",
              "      <td>...</td>\n",
              "    </tr>\n",
              "    <tr>\n",
              "      <th>1674</th>\n",
              "      <td>0</td>\n",
              "      <td>0</td>\n",
              "      <td>0</td>\n",
              "      <td>0</td>\n",
              "      <td>0</td>\n",
              "      <td>0</td>\n",
              "      <td>0</td>\n",
              "      <td>0</td>\n",
              "      <td>0</td>\n",
              "      <td>0</td>\n",
              "      <td>...</td>\n",
              "      <td>0</td>\n",
              "      <td>0</td>\n",
              "      <td>0</td>\n",
              "      <td>0</td>\n",
              "      <td>0</td>\n",
              "      <td>0</td>\n",
              "      <td>0</td>\n",
              "      <td>0</td>\n",
              "      <td>0</td>\n",
              "      <td>0</td>\n",
              "    </tr>\n",
              "    <tr>\n",
              "      <th>1675</th>\n",
              "      <td>0</td>\n",
              "      <td>0</td>\n",
              "      <td>0</td>\n",
              "      <td>0</td>\n",
              "      <td>0</td>\n",
              "      <td>0</td>\n",
              "      <td>0</td>\n",
              "      <td>0</td>\n",
              "      <td>0</td>\n",
              "      <td>0</td>\n",
              "      <td>...</td>\n",
              "      <td>0</td>\n",
              "      <td>0</td>\n",
              "      <td>0</td>\n",
              "      <td>0</td>\n",
              "      <td>0</td>\n",
              "      <td>0</td>\n",
              "      <td>0</td>\n",
              "      <td>0</td>\n",
              "      <td>0</td>\n",
              "      <td>0</td>\n",
              "    </tr>\n",
              "    <tr>\n",
              "      <th>1676</th>\n",
              "      <td>0</td>\n",
              "      <td>0</td>\n",
              "      <td>0</td>\n",
              "      <td>0</td>\n",
              "      <td>0</td>\n",
              "      <td>0</td>\n",
              "      <td>0</td>\n",
              "      <td>0</td>\n",
              "      <td>0</td>\n",
              "      <td>0</td>\n",
              "      <td>...</td>\n",
              "      <td>0</td>\n",
              "      <td>0</td>\n",
              "      <td>0</td>\n",
              "      <td>0</td>\n",
              "      <td>0</td>\n",
              "      <td>0</td>\n",
              "      <td>0</td>\n",
              "      <td>0</td>\n",
              "      <td>0</td>\n",
              "      <td>0</td>\n",
              "    </tr>\n",
              "    <tr>\n",
              "      <th>1677</th>\n",
              "      <td>0</td>\n",
              "      <td>0</td>\n",
              "      <td>0</td>\n",
              "      <td>0</td>\n",
              "      <td>0</td>\n",
              "      <td>0</td>\n",
              "      <td>0</td>\n",
              "      <td>0</td>\n",
              "      <td>0</td>\n",
              "      <td>0</td>\n",
              "      <td>...</td>\n",
              "      <td>0</td>\n",
              "      <td>0</td>\n",
              "      <td>0</td>\n",
              "      <td>0</td>\n",
              "      <td>0</td>\n",
              "      <td>0</td>\n",
              "      <td>0</td>\n",
              "      <td>0</td>\n",
              "      <td>0</td>\n",
              "      <td>0</td>\n",
              "    </tr>\n",
              "    <tr>\n",
              "      <th>1678</th>\n",
              "      <td>0</td>\n",
              "      <td>0</td>\n",
              "      <td>0</td>\n",
              "      <td>0</td>\n",
              "      <td>0</td>\n",
              "      <td>0</td>\n",
              "      <td>1</td>\n",
              "      <td>0</td>\n",
              "      <td>0</td>\n",
              "      <td>0</td>\n",
              "      <td>...</td>\n",
              "      <td>0</td>\n",
              "      <td>0</td>\n",
              "      <td>0</td>\n",
              "      <td>0</td>\n",
              "      <td>0</td>\n",
              "      <td>0</td>\n",
              "      <td>0</td>\n",
              "      <td>0</td>\n",
              "      <td>0</td>\n",
              "      <td>0</td>\n",
              "    </tr>\n",
              "  </tbody>\n",
              "</table>\n",
              "<p>1679 rows × 2114 columns</p>\n",
              "</div>\n",
              "      <button class=\"colab-df-convert\" onclick=\"convertToInteractive('df-0fc839ef-8083-4972-af77-ae926bfabf6b')\"\n",
              "              title=\"Convert this dataframe to an interactive table.\"\n",
              "              style=\"display:none;\">\n",
              "        \n",
              "  <svg xmlns=\"http://www.w3.org/2000/svg\" height=\"24px\"viewBox=\"0 0 24 24\"\n",
              "       width=\"24px\">\n",
              "    <path d=\"M0 0h24v24H0V0z\" fill=\"none\"/>\n",
              "    <path d=\"M18.56 5.44l.94 2.06.94-2.06 2.06-.94-2.06-.94-.94-2.06-.94 2.06-2.06.94zm-11 1L8.5 8.5l.94-2.06 2.06-.94-2.06-.94L8.5 2.5l-.94 2.06-2.06.94zm10 10l.94 2.06.94-2.06 2.06-.94-2.06-.94-.94-2.06-.94 2.06-2.06.94z\"/><path d=\"M17.41 7.96l-1.37-1.37c-.4-.4-.92-.59-1.43-.59-.52 0-1.04.2-1.43.59L10.3 9.45l-7.72 7.72c-.78.78-.78 2.05 0 2.83L4 21.41c.39.39.9.59 1.41.59.51 0 1.02-.2 1.41-.59l7.78-7.78 2.81-2.81c.8-.78.8-2.07 0-2.86zM5.41 20L4 18.59l7.72-7.72 1.47 1.35L5.41 20z\"/>\n",
              "  </svg>\n",
              "      </button>\n",
              "      \n",
              "  <style>\n",
              "    .colab-df-container {\n",
              "      display:flex;\n",
              "      flex-wrap:wrap;\n",
              "      gap: 12px;\n",
              "    }\n",
              "\n",
              "    .colab-df-convert {\n",
              "      background-color: #E8F0FE;\n",
              "      border: none;\n",
              "      border-radius: 50%;\n",
              "      cursor: pointer;\n",
              "      display: none;\n",
              "      fill: #1967D2;\n",
              "      height: 32px;\n",
              "      padding: 0 0 0 0;\n",
              "      width: 32px;\n",
              "    }\n",
              "\n",
              "    .colab-df-convert:hover {\n",
              "      background-color: #E2EBFA;\n",
              "      box-shadow: 0px 1px 2px rgba(60, 64, 67, 0.3), 0px 1px 3px 1px rgba(60, 64, 67, 0.15);\n",
              "      fill: #174EA6;\n",
              "    }\n",
              "\n",
              "    [theme=dark] .colab-df-convert {\n",
              "      background-color: #3B4455;\n",
              "      fill: #D2E3FC;\n",
              "    }\n",
              "\n",
              "    [theme=dark] .colab-df-convert:hover {\n",
              "      background-color: #434B5C;\n",
              "      box-shadow: 0px 1px 3px 1px rgba(0, 0, 0, 0.15);\n",
              "      filter: drop-shadow(0px 1px 2px rgba(0, 0, 0, 0.3));\n",
              "      fill: #FFFFFF;\n",
              "    }\n",
              "  </style>\n",
              "\n",
              "      <script>\n",
              "        const buttonEl =\n",
              "          document.querySelector('#df-0fc839ef-8083-4972-af77-ae926bfabf6b button.colab-df-convert');\n",
              "        buttonEl.style.display =\n",
              "          google.colab.kernel.accessAllowed ? 'block' : 'none';\n",
              "\n",
              "        async function convertToInteractive(key) {\n",
              "          const element = document.querySelector('#df-0fc839ef-8083-4972-af77-ae926bfabf6b');\n",
              "          const dataTable =\n",
              "            await google.colab.kernel.invokeFunction('convertToInteractive',\n",
              "                                                     [key], {});\n",
              "          if (!dataTable) return;\n",
              "\n",
              "          const docLinkHtml = 'Like what you see? Visit the ' +\n",
              "            '<a target=\"_blank\" href=https://colab.research.google.com/notebooks/data_table.ipynb>data table notebook</a>'\n",
              "            + ' to learn more about interactive tables.';\n",
              "          element.innerHTML = '';\n",
              "          dataTable['output_type'] = 'display_data';\n",
              "          await google.colab.output.renderOutput(dataTable, element);\n",
              "          const docLink = document.createElement('div');\n",
              "          docLink.innerHTML = docLinkHtml;\n",
              "          element.appendChild(docLink);\n",
              "        }\n",
              "      </script>\n",
              "    </div>\n",
              "  </div>\n",
              "  "
            ]
          },
          "metadata": {},
          "execution_count": 59
        }
      ]
    },
    {
      "cell_type": "code",
      "source": [
        "from sklearn.preprocessing import LabelEncoder"
      ],
      "metadata": {
        "id": "fKAlxzRnSg-7"
      },
      "execution_count": 60,
      "outputs": []
    },
    {
      "cell_type": "code",
      "source": [
        "# convert classes to number\n",
        "encoder = LabelEncoder()\n",
        "y = encoder.fit_transform(tweet['Class'])\n",
        "y"
      ],
      "metadata": {
        "colab": {
          "base_uri": "https://localhost:8080/"
        },
        "id": "P8yHxKZfSWvw",
        "outputId": "a0f4dcea-dcd3-4c2b-d70c-a18c02ae0536"
      },
      "execution_count": 61,
      "outputs": [
        {
          "output_type": "execute_result",
          "data": {
            "text/plain": [
              "array([0, 0, 0, ..., 2, 2, 2])"
            ]
          },
          "metadata": {},
          "execution_count": 61
        }
      ]
    },
    {
      "cell_type": "code",
      "source": [
        "X_train, X_test, y_train, y_test = train_test_split(X,y, test_size =0.2, random_state=42)"
      ],
      "metadata": {
        "id": "_cns5kb4Tpz5"
      },
      "execution_count": 62,
      "outputs": []
    },
    {
      "cell_type": "markdown",
      "source": [
        "# **BERNOULI NAIVE BAYES**"
      ],
      "metadata": {
        "id": "RdgTG47YUIuH"
      }
    },
    {
      "cell_type": "code",
      "source": [
        "bnb = BernoulliNB()\n",
        "bnb.fit(X_train,y_train)\n",
        "print(\"Training Accuracy :\" , accuracy_score(y_train, bnb.predict(X_train))*100 )\n",
        "predictions1 = bnb.predict(X_test)\n",
        "#print(confusion_matrix(Y_test,predictions1))  \n",
        "print(classification_report(y_test,predictions1))  \n",
        "print(\" Test ACCURACY  : \",accuracy_score(y_test, predictions1)*100)"
      ],
      "metadata": {
        "colab": {
          "base_uri": "https://localhost:8080/"
        },
        "id": "o1ndgD5aTNv8",
        "outputId": "e8aa0431-f53c-43c2-9e53-13bfe0133079"
      },
      "execution_count": 63,
      "outputs": [
        {
          "output_type": "stream",
          "name": "stdout",
          "text": [
            "Training Accuracy : 65.2271034996277\n",
            "              precision    recall  f1-score   support\n",
            "\n",
            "           0       0.62      0.97      0.75       194\n",
            "           1       0.80      0.13      0.22        31\n",
            "           2       0.50      0.23      0.31        31\n",
            "           3       0.75      0.12      0.21        25\n",
            "           4       0.00      0.00      0.00        29\n",
            "           5       1.00      0.19      0.32        26\n",
            "\n",
            "    accuracy                           0.62       336\n",
            "   macro avg       0.61      0.27      0.30       336\n",
            "weighted avg       0.61      0.62      0.52       336\n",
            "\n",
            " Test ACCURACY  :  61.60714285714286\n"
          ]
        }
      ]
    },
    {
      "cell_type": "markdown",
      "source": [
        "# **LOGISTIC REGRESSION**"
      ],
      "metadata": {
        "id": "U9qp3_bLfz2w"
      }
    },
    {
      "cell_type": "code",
      "source": [
        "logReg = LogisticRegression()\n",
        "logReg.fit(X_train,y_train)\n",
        "logPred = logReg.predict(X_test)\n",
        "logreg_acc = accuracy_score(logPred, y_test)\n",
        "print(\"Test accuracy: {:.2f}%\".format(logreg_acc*100))"
      ],
      "metadata": {
        "colab": {
          "base_uri": "https://localhost:8080/"
        },
        "id": "PDAGmxM6exDg",
        "outputId": "56a17248-1c76-4d37-88ad-ac8211ddf2af"
      },
      "execution_count": 64,
      "outputs": [
        {
          "output_type": "stream",
          "name": "stdout",
          "text": [
            "Test accuracy: 66.96%\n"
          ]
        }
      ]
    },
    {
      "cell_type": "code",
      "source": [
        "plt.style.use('classic')\n",
        "cm = confusion_matrix(y_test, predictions1, labels=logReg.classes_)\n",
        "disp = ConfusionMatrixDisplay(confusion_matrix = cm, display_labels=logReg.classes_)\n",
        "disp.plot()"
      ],
      "metadata": {
        "colab": {
          "base_uri": "https://localhost:8080/",
          "height": 470
        },
        "id": "MwBPckUVd0ON",
        "outputId": "d7708e83-14cd-4770-8f63-b0a08e081caa"
      },
      "execution_count": 65,
      "outputs": [
        {
          "output_type": "execute_result",
          "data": {
            "text/plain": [
              "<sklearn.metrics._plot.confusion_matrix.ConfusionMatrixDisplay at 0x7f62e86915e0>"
            ]
          },
          "metadata": {},
          "execution_count": 65
        },
        {
          "output_type": "display_data",
          "data": {
            "text/plain": [
              "<Figure size 640x480 with 2 Axes>"
            ],
            "image/png": "[encoded data removed]"
          },
          "metadata": {}
        }
      ]
    },
    {
      "cell_type": "markdown",
      "source": [
        "# **RANDOM FOREST**"
      ],
      "metadata": {
        "id": "EbJXrEEzUN2N"
      }
    },
    {
      "cell_type": "code",
      "source": [
        "from sklearn.ensemble import RandomForestClassifier\n",
        "rf = RandomForestClassifier(n_estimators=10, random_state=0, class_weight={0:0.11 ,1: 0.12 ,2:0.67 ,3: 0.03, 4:0.05})  \n",
        "rf.fit(X_train, y_train)\n",
        "\n",
        "print(\"Training Accuracy :\" , accuracy_score(y_train, rf.predict(X_train))*100 )\n",
        "\n",
        "predictions2 = rf.predict(X_test)\n",
        "#print(confusion_matrix(Y_test,predictions2))  \n",
        "print(classification_report(y_test,predictions2))  \n",
        "print(\"TEST ACCURACY  : \",accuracy_score(y_test, predictions2)*100)"
      ],
      "metadata": {
        "colab": {
          "base_uri": "https://localhost:8080/"
        },
        "id": "7vklUFuFULc6",
        "outputId": "5d83fc34-4a9b-45d5-db7b-23a6a0e9a9c0"
      },
      "execution_count": 66,
      "outputs": [
        {
          "output_type": "stream",
          "name": "stdout",
          "text": [
            "Training Accuracy : 97.09605361131794\n",
            "              precision    recall  f1-score   support\n",
            "\n",
            "           0       0.63      0.92      0.75       194\n",
            "           1       0.62      0.26      0.36        31\n",
            "           2       0.73      0.35      0.48        31\n",
            "           3       0.60      0.24      0.34        25\n",
            "           4       0.22      0.07      0.11        29\n",
            "           5       0.57      0.15      0.24        26\n",
            "\n",
            "    accuracy                           0.62       336\n",
            "   macro avg       0.56      0.33      0.38       336\n",
            "weighted avg       0.60      0.62      0.56       336\n",
            "\n",
            "TEST ACCURACY  :  62.202380952380956\n"
          ]
        }
      ]
    },
    {
      "cell_type": "markdown",
      "source": [
        "# **HYPERPARAMETER FOR RANDOM FOREST FOR PURE TEXT**"
      ],
      "metadata": {
        "id": "xFTaF2yIijBZ"
      }
    },
    {
      "cell_type": "code",
      "source": [
        "rf_hy = RandomForestClassifier(random_state=42, n_jobs=-1, n_estimators=10)\n",
        "rf_hy.fit(X_train, y_train)\n",
        "print(\"Training Accuracy :\" , accuracy_score(y_train, rf_hy.predict(X_train))*100 )\n",
        "\n",
        "predictions2 = rf_hy.predict(X_test)\n",
        "#print(confusion_matrix(Y_test,predictions2))  \n",
        "print(classification_report(y_test,predictions2))  \n",
        "print(\"TEST ACCURACY  : \",accuracy_score(y_test, predictions2)*100)"
      ],
      "metadata": {
        "colab": {
          "base_uri": "https://localhost:8080/"
        },
        "id": "z5-sPBFZiqXw",
        "outputId": "59dd488b-e8de-4bc6-f3f6-6d6999aef9ef"
      },
      "execution_count": 67,
      "outputs": [
        {
          "output_type": "stream",
          "name": "stdout",
          "text": [
            "Training Accuracy : 97.39389426656739\n",
            "              precision    recall  f1-score   support\n",
            "\n",
            "           0       0.68      0.93      0.79       194\n",
            "           1       0.53      0.32      0.40        31\n",
            "           2       0.53      0.29      0.38        31\n",
            "           3       0.76      0.52      0.62        25\n",
            "           4       0.50      0.14      0.22        29\n",
            "           5       0.64      0.27      0.38        26\n",
            "\n",
            "    accuracy                           0.66       336\n",
            "   macro avg       0.61      0.41      0.46       336\n",
            "weighted avg       0.64      0.66      0.62       336\n",
            "\n",
            "TEST ACCURACY  :  66.36904761904762\n"
          ]
        }
      ]
    },
    {
      "cell_type": "markdown",
      "source": [
        "# **SVM**"
      ],
      "metadata": {
        "id": "mTWl5ogxUohZ"
      }
    },
    {
      "cell_type": "code",
      "source": [
        "from sklearn.svm import LinearSVC\n",
        "sv = LinearSVC(class_weight={0:0.11 ,1: 0.12 ,2:0.67 ,3: 0.03, 4:0.05 })\n",
        "sv.fit(X_train, y_train)\n",
        "\n",
        "print(\"Training Accuracy :\" , accuracy_score(y_train, sv.predict(X_train))*100 )\n",
        "\n",
        "predictions3 = sv.predict(X_test)\n",
        "#print(confusion_matrix(Y_test,predictions3))  \n",
        "print(classification_report(y_test,predictions3,zero_division=1))  \n",
        "print(\" TEST ACCURACY : \",accuracy_score(y_test, predictions3)*100)"
      ],
      "metadata": {
        "colab": {
          "base_uri": "https://localhost:8080/"
        },
        "id": "Ns9a3QBSUsE1",
        "outputId": "110191dc-ad5b-4eb3-cd84-dd08302eee4a"
      },
      "execution_count": 68,
      "outputs": [
        {
          "output_type": "stream",
          "name": "stdout",
          "text": [
            "Training Accuracy : 95.60685033507073\n",
            "              precision    recall  f1-score   support\n",
            "\n",
            "           0       0.77      0.83      0.80       194\n",
            "           1       0.60      0.48      0.54        31\n",
            "           2       0.56      0.58      0.57        31\n",
            "           3       0.86      0.48      0.62        25\n",
            "           4       0.33      0.10      0.16        29\n",
            "           5       0.33      0.58      0.42        26\n",
            "\n",
            "    accuracy                           0.67       336\n",
            "   macro avg       0.57      0.51      0.52       336\n",
            "weighted avg       0.67      0.67      0.65       336\n",
            "\n",
            " TEST ACCURACY :  66.66666666666666\n"
          ]
        }
      ]
    },
    {
      "cell_type": "markdown",
      "source": [
        "# **SVM**   \n",
        "random state =42"
      ],
      "metadata": {
        "id": "QYEWp1Gzo8R7"
      }
    },
    {
      "cell_type": "code",
      "source": [
        "from sklearn.svm import LinearSVC\n",
        "sv = LinearSVC(random_state=42)\n",
        "sv.fit(X_train, y_train)\n",
        "\n",
        "print(\"Training Accuracy :\" , accuracy_score(y_train, sv.predict(X_train))*100 )\n",
        "\n",
        "predictions3 = sv.predict(X_test)\n",
        "#print(confusion_matrix(Y_test,predictions3))  \n",
        "print(classification_report(y_test,predictions3,zero_division=1))  \n",
        "print(\" TEST ACCURACY : \",accuracy_score(y_test, predictions3)*100)"
      ],
      "metadata": {
        "colab": {
          "base_uri": "https://localhost:8080/"
        },
        "id": "4Bf2TGvCpRjv",
        "outputId": "84a16cbc-0b5f-479a-89c6-37c4cbbe9bc6"
      },
      "execution_count": 69,
      "outputs": [
        {
          "output_type": "stream",
          "name": "stdout",
          "text": [
            "Training Accuracy : 98.80863737900223\n",
            "              precision    recall  f1-score   support\n",
            "\n",
            "           0       0.76      0.83      0.79       194\n",
            "           1       0.64      0.45      0.53        31\n",
            "           2       0.60      0.48      0.54        31\n",
            "           3       0.62      0.60      0.61        25\n",
            "           4       0.16      0.10      0.12        29\n",
            "           5       0.36      0.46      0.41        26\n",
            "\n",
            "    accuracy                           0.65       336\n",
            "   macro avg       0.52      0.49      0.50       336\n",
            "weighted avg       0.64      0.65      0.64       336\n",
            "\n",
            " TEST ACCURACY :  65.47619047619048\n"
          ]
        }
      ]
    },
    {
      "cell_type": "markdown",
      "source": [
        "SCALE  TRAINING  DATASETS "
      ],
      "metadata": {
        "id": "QCXr1iflp5f_"
      }
    },
    {
      "cell_type": "code",
      "source": [
        "from sklearn.preprocessing import StandardScaler\n",
        "scaler = StandardScaler()\n",
        "X_train_scaled = scaler.fit_transform(X_train.astype(np.float32))\n",
        "X_test_scaled = scaler.transform(X_test.astype(np.float32))\n",
        "\n",
        "# y_train_scaled =scaler.fit_transform(y_train.astype(np.float32))\n",
        "# y_test_scaled =scaler.transform(y_test.astype(np.float32))\n",
        "\n",
        "\n",
        "lin_clf = LinearSVC(random_state=42)\n",
        "lin_clf.fit(X_train_scaled, y_train)\n",
        "y_pred = lin_clf.predict(X_train_scaled)\n",
        "print(accuracy_score(y_train, y_pred)*100)"
      ],
      "metadata": {
        "colab": {
          "base_uri": "https://localhost:8080/"
        },
        "id": "8v4uDLOppxNU",
        "outputId": "84649c0e-99d7-463c-e044-080e882b366e"
      },
      "execution_count": 70,
      "outputs": [
        {
          "output_type": "stream",
          "name": "stdout",
          "text": [
            "99.6276991809382\n"
          ]
        },
        {
          "output_type": "stream",
          "name": "stderr",
          "text": [
            "/usr/local/lib/python3.9/dist-packages/sklearn/svm/_base.py:1244: ConvergenceWarning: Liblinear failed to converge, increase the number of iterations.\n",
            "  warnings.warn(\n"
          ]
        }
      ]
    },
    {
      "cell_type": "code",
      "source": [
        "from sklearn.svm import SVC\n",
        "svm_clf = SVC(gamma='scale')\n",
        "svm_clf.fit(X_train_scaled[:10000], y_train[:10000]) # We use an SVC with an RBF kernel\n",
        "y_pred = svm_clf.predict(X_train_scaled)\n",
        "print(accuracy_score(y_train, y_pred)*100)"
      ],
      "metadata": {
        "colab": {
          "base_uri": "https://localhost:8080/"
        },
        "id": "1gOu9R3Pswx_",
        "outputId": "58668a48-1446-4607-e9e6-2ed8455fb9de"
      },
      "execution_count": 71,
      "outputs": [
        {
          "output_type": "stream",
          "name": "stdout",
          "text": [
            "80.78927773641102\n"
          ]
        }
      ]
    },
    {
      "cell_type": "markdown",
      "source": [
        "https://medium.com/analytics-vidhya/hyperparameter-tuning-an-svm-a-demonstration-using-hyperparameter-tuning-cross-validation-on-96b05db54e5b"
      ],
      "metadata": {
        "id": "ebhqidicvZre"
      }
    },
    {
      "cell_type": "code",
      "source": [
        "from sklearn.model_selection import RandomizedSearchCV\n",
        "from scipy.stats import reciprocal, uniform\n",
        "param_distributions = {\"gamma\": reciprocal(0.001, 0.1), \"C\": uniform(1, 10)}\n",
        "#Adding all values of hyperparameters in a list from which the values of hyperparameter will randomly inserted as hyperparameter"
      ],
      "metadata": {
        "id": "ERCQH6vltaMe"
      },
      "execution_count": 72,
      "outputs": []
    },
    {
      "cell_type": "code",
      "source": [
        "rnd_search_cv = RandomizedSearchCV(svm_clf, param_distributions, n_iter=10, verbose=2, cv=3)\n",
        "rnd_search_cv.fit(X_train_scaled[:1000], y_train[:1000])\n",
        "rnd_search_cv.best_estimator_"
      ],
      "metadata": {
        "colab": {
          "base_uri": "https://localhost:8080/",
          "height": 612
        },
        "id": "sLrzEfZFttL4",
        "outputId": "587dea9f-3714-4088-89e8-5f2556f1cba1"
      },
      "execution_count": 73,
      "outputs": [
        {
          "output_type": "stream",
          "name": "stdout",
          "text": [
            "Fitting 3 folds for each of 10 candidates, totalling 30 fits\n",
            "[CV] END ......C=6.90812364694858, gamma=0.08884058030184983; total time=   1.4s\n",
            "[CV] END ......C=6.90812364694858, gamma=0.08884058030184983; total time=   1.5s\n",
            "[CV] END ......C=6.90812364694858, gamma=0.08884058030184983; total time=   1.5s\n",
            "[CV] END ....C=5.553981013974396, gamma=0.041113413538868264; total time=   1.2s\n",
            "[CV] END ....C=5.553981013974396, gamma=0.041113413538868264; total time=   1.2s\n",
            "[CV] END ....C=5.553981013974396, gamma=0.041113413538868264; total time=   1.1s\n",
            "[CV] END .....C=4.043467541508055, gamma=0.03225528368323513; total time=   1.2s\n",
            "[CV] END .....C=4.043467541508055, gamma=0.03225528368323513; total time=   1.2s\n",
            "[CV] END .....C=4.043467541508055, gamma=0.03225528368323513; total time=   1.2s\n",
            "[CV] END .....C=6.695558625799386, gamma=0.04779860819852397; total time=   1.2s\n",
            "[CV] END .....C=6.695558625799386, gamma=0.04779860819852397; total time=   1.2s\n",
            "[CV] END .....C=6.695558625799386, gamma=0.04779860819852397; total time=   1.4s\n",
            "[CV] END .....C=6.646608223408939, gamma=0.00756322251024312; total time=   1.4s\n",
            "[CV] END .....C=6.646608223408939, gamma=0.00756322251024312; total time=   1.5s\n",
            "[CV] END .....C=6.646608223408939, gamma=0.00756322251024312; total time=   1.2s\n",
            "[CV] END ....C=5.998507460410227, gamma=0.002584623852891024; total time=   1.2s\n",
            "[CV] END ....C=5.998507460410227, gamma=0.002584623852891024; total time=   1.2s\n",
            "[CV] END ....C=5.998507460410227, gamma=0.002584623852891024; total time=   1.2s\n",
            "[CV] END ...C=7.8136667020681525, gamma=0.004276823569674785; total time=   1.2s\n",
            "[CV] END ...C=7.8136667020681525, gamma=0.004276823569674785; total time=   1.2s\n",
            "[CV] END ...C=7.8136667020681525, gamma=0.004276823569674785; total time=   2.0s\n",
            "[CV] END ....C=3.4758499474297944, gamma=0.01159666872045925; total time=   1.3s\n",
            "[CV] END ....C=3.4758499474297944, gamma=0.01159666872045925; total time=   1.4s\n",
            "[CV] END ....C=3.4758499474297944, gamma=0.01159666872045925; total time=   1.5s\n",
            "[CV] END ....C=1.3725087893407353, gamma=0.05100528769046137; total time=   1.3s\n",
            "[CV] END ....C=1.3725087893407353, gamma=0.05100528769046137; total time=   1.2s\n",
            "[CV] END ....C=1.3725087893407353, gamma=0.05100528769046137; total time=   1.2s\n",
            "[CV] END ....C=4.688954615881554, gamma=0.041106449713964606; total time=   1.2s\n",
            "[CV] END ....C=4.688954615881554, gamma=0.041106449713964606; total time=   1.2s\n",
            "[CV] END ....C=4.688954615881554, gamma=0.041106449713964606; total time=   1.2s\n"
          ]
        },
        {
          "output_type": "execute_result",
          "data": {
            "text/plain": [
              "SVC(C=5.998507460410227, gamma=0.002584623852891024)"
            ],
            "text/html": [
              "<style>#sk-container-id-1 {color: black;background-color: white;}#sk-container-id-1 pre{padding: 0;}#sk-container-id-1 div.sk-toggleable {background-color: white;}#sk-container-id-1 label.sk-toggleable__label {cursor: pointer;display: block;width: 100%;margin-bottom: 0;padding: 0.3em;box-sizing: border-box;text-align: center;}#sk-container-id-1 label.sk-toggleable__label-arrow:before {content: \"▸\";float: left;margin-right: 0.25em;color: #696969;}#sk-container-id-1 label.sk-toggleable__label-arrow:hover:before {color: black;}#sk-container-id-1 div.sk-estimator:hover label.sk-toggleable__label-arrow:before {color: black;}#sk-container-id-1 div.sk-toggleable__content {max-height: 0;max-width: 0;overflow: hidden;text-align: left;background-color: #f0f8ff;}#sk-container-id-1 div.sk-toggleable__content pre {margin: 0.2em;color: black;border-radius: 0.25em;background-color: #f0f8ff;}#sk-container-id-1 input.sk-toggleable__control:checked~div.sk-toggleable__content {max-height: 200px;max-width: 100%;overflow: auto;}#sk-container-id-1 input.sk-toggleable__control:checked~label.sk-toggleable__label-arrow:before {content: \"▾\";}#sk-container-id-1 div.sk-estimator input.sk-toggleable__control:checked~label.sk-toggleable__label {background-color: #d4ebff;}#sk-container-id-1 div.sk-label input.sk-toggleable__control:checked~label.sk-toggleable__label {background-color: #d4ebff;}#sk-container-id-1 input.sk-hidden--visually {border: 0;clip: rect(1px 1px 1px 1px);clip: rect(1px, 1px, 1px, 1px);height: 1px;margin: -1px;overflow: hidden;padding: 0;position: absolute;width: 1px;}#sk-container-id-1 div.sk-estimator {font-family: monospace;background-color: #f0f8ff;border: 1px dotted black;border-radius: 0.25em;box-sizing: border-box;margin-bottom: 0.5em;}#sk-container-id-1 div.sk-estimator:hover {background-color: #d4ebff;}#sk-container-id-1 div.sk-parallel-item::after {content: \"\";width: 100%;border-bottom: 1px solid gray;flex-grow: 1;}#sk-container-id-1 div.sk-label:hover label.sk-toggleable__label {background-color: #d4ebff;}#sk-container-id-1 div.sk-serial::before {content: \"\";position: absolute;border-left: 1px solid gray;box-sizing: border-box;top: 0;bottom: 0;left: 50%;z-index: 0;}#sk-container-id-1 div.sk-serial {display: flex;flex-direction: column;align-items: center;background-color: white;padding-right: 0.2em;padding-left: 0.2em;position: relative;}#sk-container-id-1 div.sk-item {position: relative;z-index: 1;}#sk-container-id-1 div.sk-parallel {display: flex;align-items: stretch;justify-content: center;background-color: white;position: relative;}#sk-container-id-1 div.sk-item::before, #sk-container-id-1 div.sk-parallel-item::before {content: \"\";position: absolute;border-left: 1px solid gray;box-sizing: border-box;top: 0;bottom: 0;left: 50%;z-index: -1;}#sk-container-id-1 div.sk-parallel-item {display: flex;flex-direction: column;z-index: 1;position: relative;background-color: white;}#sk-container-id-1 div.sk-parallel-item:first-child::after {align-self: flex-end;width: 50%;}#sk-container-id-1 div.sk-parallel-item:last-child::after {align-self: flex-start;width: 50%;}#sk-container-id-1 div.sk-parallel-item:only-child::after {width: 0;}#sk-container-id-1 div.sk-dashed-wrapped {border: 1px dashed gray;margin: 0 0.4em 0.5em 0.4em;box-sizing: border-box;padding-bottom: 0.4em;background-color: white;}#sk-container-id-1 div.sk-label label {font-family: monospace;font-weight: bold;display: inline-block;line-height: 1.2em;}#sk-container-id-1 div.sk-label-container {text-align: center;}#sk-container-id-1 div.sk-container {/* jupyter's `normalize.less` sets `[hidden] { display: none; }` but bootstrap.min.css set `[hidden] { display: none !important; }` so we also need the `!important` here to be able to override the default hidden behavior on the sphinx rendered scikit-learn.org. See: https://github.com/scikit-learn/scikit-learn/issues/21755 */display: inline-block !important;position: relative;}#sk-container-id-1 div.sk-text-repr-fallback {display: none;}</style><div id=\"sk-container-id-1\" class=\"sk-top-container\"><div class=\"sk-text-repr-fallback\"><pre>SVC(C=5.998507460410227, gamma=0.002584623852891024)</pre><b>In a Jupyter environment, please rerun this cell to show the HTML representation or trust the notebook. <br />On GitHub, the HTML representation is unable to render, please try loading this page with nbviewer.org.</b></div><div class=\"sk-container\" hidden><div class=\"sk-item\"><div class=\"sk-estimator sk-toggleable\"><input class=\"sk-toggleable__control sk-hidden--visually\" id=\"sk-estimator-id-1\" type=\"checkbox\" checked><label for=\"sk-estimator-id-1\" class=\"sk-toggleable__label sk-toggleable__label-arrow\">SVC</label><div class=\"sk-toggleable__content\"><pre>SVC(C=5.998507460410227, gamma=0.002584623852891024)</pre></div></div></div></div></div>"
            ]
          },
          "metadata": {},
          "execution_count": 73
        }
      ]
    },
    {
      "cell_type": "code",
      "source": [
        "rnd_search_cv.best_estimator_.fit(X_train_scaled, y_train)\n",
        "y_pred = rnd_search_cv.best_estimator_.predict(X_train_scaled)\n",
        "accuracy_score(y_train, y_pred)\n",
        "y_pred = rnd_search_cv.best_estimator_.predict(X_test_scaled)\n",
        "print(accuracy_score(y_test, y_pred)*100)"
      ],
      "metadata": {
        "colab": {
          "base_uri": "https://localhost:8080/"
        },
        "id": "necmj88SthkP",
        "outputId": "9993ae18-b2c8-4246-f9d4-7a3219c7691b"
      },
      "execution_count": 74,
      "outputs": [
        {
          "output_type": "stream",
          "name": "stdout",
          "text": [
            "60.11904761904761\n"
          ]
        }
      ]
    },
    {
      "cell_type": "markdown",
      "source": [
        "# **DECISION TREES**"
      ],
      "metadata": {
        "id": "cGUQKaHlU7c2"
      }
    },
    {
      "cell_type": "code",
      "source": [
        "from sklearn.tree import DecisionTreeClassifier\n",
        "dt = DecisionTreeClassifier(criterion='entropy',splitter='best', class_weight={0:0.11 ,1: 0.12 ,2:0.67 ,3: 0.03, 4:0.05 },max_features='auto')\n",
        "dt.fit(X_train, y_train)\n",
        "\n",
        "print(\"Training Accuracy :\" , accuracy_score(y_train, dt.predict(X_train))*100 )\n",
        "\n",
        "predictions4 = dt.predict(X_test)\n",
        "#print(confusion_matrix(Y_test,predictions4))  \n",
        "print(classification_report(y_test,predictions4,zero_division=1))  \n",
        "print(\"TEST ACCURACY SCORE : \",accuracy_score(y_test, predictions4)*100)"
      ],
      "metadata": {
        "colab": {
          "base_uri": "https://localhost:8080/"
        },
        "id": "SmSJTQjKU6dA",
        "outputId": "f8c03d4e-6205-4b89-f955-b647b258a7f5"
      },
      "execution_count": 75,
      "outputs": [
        {
          "output_type": "stream",
          "name": "stdout",
          "text": [
            "Training Accuracy : 99.6276991809382\n",
            "              precision    recall  f1-score   support\n",
            "\n",
            "           0       0.70      0.70      0.70       194\n",
            "           1       0.41      0.39      0.40        31\n",
            "           2       0.53      0.32      0.40        31\n",
            "           3       0.22      0.28      0.25        25\n",
            "           4       0.04      0.03      0.04        29\n",
            "           5       0.26      0.35      0.30        26\n",
            "\n",
            "    accuracy                           0.52       336\n",
            "   macro avg       0.36      0.35      0.35       336\n",
            "weighted avg       0.53      0.52      0.52       336\n",
            "\n",
            "TEST ACCURACY SCORE :  52.083333333333336\n"
          ]
        },
        {
          "output_type": "stream",
          "name": "stderr",
          "text": [
            "/usr/local/lib/python3.9/dist-packages/sklearn/tree/_classes.py:269: FutureWarning: `max_features='auto'` has been deprecated in 1.1 and will be removed in 1.3. To keep the past behaviour, explicitly set `max_features='sqrt'`.\n",
            "  warnings.warn(\n"
          ]
        }
      ]
    },
    {
      "cell_type": "markdown",
      "source": [
        "# **HYPER PARAMETER TUNNING FOR DECISION TREE FOR PURE TEXT**"
      ],
      "metadata": {
        "id": "-4u2eVPajAJA"
      }
    },
    {
      "cell_type": "markdown",
      "source": [
        "Depth = 3"
      ],
      "metadata": {
        "id": "V0qP801njWaf"
      }
    },
    {
      "cell_type": "code",
      "source": [
        "dt2 = DecisionTreeClassifier(max_depth =5 , random_state=42)\n",
        "dt2.fit(X_train, y_train)\n",
        "print(\"Training Accuracy :\" , accuracy_score(y_train, dt2.predict(X_train))*100 )\n",
        "\n",
        "predictions4 = dt2.predict(X_test)\n",
        "#print(confusion_matrix(Y_test,predictions4))  \n",
        "print(classification_report(y_test,predictions4,zero_division=1))  \n",
        "print(\"TEST ACCURACY SCORE : \",accuracy_score(y_test, predictions4)*100)"
      ],
      "metadata": {
        "colab": {
          "base_uri": "https://localhost:8080/"
        },
        "id": "vAFU5zgRjLKj",
        "outputId": "6f98047a-9575-4ef9-a460-4150555ac4fd"
      },
      "execution_count": 103,
      "outputs": [
        {
          "output_type": "stream",
          "name": "stdout",
          "text": [
            "Training Accuracy : 56.73864482501861\n",
            "              precision    recall  f1-score   support\n",
            "\n",
            "     Neutral       0.60      1.00      0.75       202\n",
            "   Political       1.00      0.00      0.00        29\n",
            "      Racist       1.00      0.00      0.00        27\n",
            "    Religion       1.00      0.00      0.00        20\n",
            "      Sexism       0.00      0.00      0.00        36\n",
            "      sports       0.00      0.00      0.00        22\n",
            "\n",
            "    accuracy                           0.60       336\n",
            "   macro avg       0.60      0.17      0.13       336\n",
            "weighted avg       0.59      0.60      0.45       336\n",
            "\n",
            "TEST ACCURACY SCORE :  59.82142857142857\n"
          ]
        }
      ]
    },
    {
      "cell_type": "markdown",
      "source": [
        "max_leaf_nodes =30"
      ],
      "metadata": {
        "id": "P6FXSx37jsUL"
      }
    },
    {
      "cell_type": "code",
      "source": [
        "dt3 = DecisionTreeClassifier(max_leaf_nodes =30, random_state=42)\n",
        "dt3.fit(X_train, y_train)\n",
        "print(\"Training Accuracy :\" , accuracy_score(y_train, dt3.predict(X_train))*100 )\n",
        "\n",
        "predictions4 = dt3.predict(X_test)\n",
        "#print(confusion_matrix(Y_test,predictions4))  \n",
        "print(classification_report(y_test,predictions4,zero_division=1))  \n",
        "print(\"TEST ACCURACY SCORE : \",accuracy_score(y_test, predictions4)*100)"
      ],
      "metadata": {
        "colab": {
          "base_uri": "https://localhost:8080/"
        },
        "id": "-tM_c74pjr_l",
        "outputId": "3754a741-7400-496b-d5ec-f79e733ab517"
      },
      "execution_count": 104,
      "outputs": [
        {
          "output_type": "stream",
          "name": "stdout",
          "text": [
            "Training Accuracy : 59.12137006701415\n",
            "              precision    recall  f1-score   support\n",
            "\n",
            "     Neutral       0.60      0.93      0.73       202\n",
            "   Political       0.00      0.00      0.00        29\n",
            "      Racist       0.00      0.00      0.00        27\n",
            "    Religion       0.00      0.00      0.00        20\n",
            "      Sexism       0.09      0.03      0.04        36\n",
            "      sports       1.00      0.00      0.00        22\n",
            "\n",
            "    accuracy                           0.56       336\n",
            "   macro avg       0.28      0.16      0.13       336\n",
            "weighted avg       0.44      0.56      0.45       336\n",
            "\n",
            "TEST ACCURACY SCORE :  56.25\n"
          ]
        }
      ]
    },
    {
      "cell_type": "markdown",
      "source": [
        "# **Ada Boost Classifier + Decision Tree**"
      ],
      "metadata": {
        "id": "LhqJineUVcfD"
      }
    },
    {
      "cell_type": "code",
      "source": [
        "from sklearn.ensemble import AdaBoostClassifier\n",
        "abc = AdaBoostClassifier(n_estimators=100 , base_estimator= dt)\n",
        "abc.fit(X_train,y_train)\n",
        "\n",
        "print(\"Training Accuracy :\" , accuracy_score(y_train, abc.predict(X_train))*100)\n",
        "\n",
        "predictions5 = abc.predict(X_test)\n",
        "print(confusion_matrix(y_test,predictions5))\n",
        "print(classification_report(y_test,predictions5))\n",
        "print(\"TEST ACCURACY : \",accuracy_score(y_test, predictions5)*100)"
      ],
      "metadata": {
        "colab": {
          "base_uri": "https://localhost:8080/"
        },
        "id": "uk4-_dsDVcNn",
        "outputId": "5e4eaea5-532f-4ee7-920f-c93d75673b2d"
      },
      "execution_count": 78,
      "outputs": [
        {
          "output_type": "stream",
          "name": "stderr",
          "text": [
            "/usr/local/lib/python3.9/dist-packages/sklearn/ensemble/_base.py:166: FutureWarning: `base_estimator` was renamed to `estimator` in version 1.2 and will be removed in 1.4.\n",
            "  warnings.warn(\n"
          ]
        },
        {
          "output_type": "stream",
          "name": "stdout",
          "text": [
            "Training Accuracy : 99.6276991809382\n",
            "[[189   0   0   1   4   0]\n",
            " [ 23   8   0   0   0   0]\n",
            " [ 22   1   8   0   0   0]\n",
            " [ 13   0   0  11   1   0]\n",
            " [ 25   0   0   0   4   0]\n",
            " [ 23   0   0   0   1   2]]\n",
            "              precision    recall  f1-score   support\n",
            "\n",
            "           0       0.64      0.97      0.77       194\n",
            "           1       0.89      0.26      0.40        31\n",
            "           2       1.00      0.26      0.41        31\n",
            "           3       0.92      0.44      0.59        25\n",
            "           4       0.40      0.14      0.21        29\n",
            "           5       1.00      0.08      0.14        26\n",
            "\n",
            "    accuracy                           0.66       336\n",
            "   macro avg       0.81      0.36      0.42       336\n",
            "weighted avg       0.72      0.66      0.59       336\n",
            "\n",
            "TEST ACCURACY :  66.07142857142857\n"
          ]
        }
      ]
    },
    {
      "cell_type": "code",
      "source": [
        "tweet.head(10)"
      ],
      "metadata": {
        "id": "Ddrh8mbmYAVN",
        "outputId": "e518f62c-a97d-4a5f-91e5-3fc5ae84118a",
        "colab": {
          "base_uri": "https://localhost:8080/",
          "height": 407
        }
      },
      "execution_count": 83,
      "outputs": [
        {
          "output_type": "execute_result",
          "data": {
            "text/plain": [
              "                                                Text      Class  \\\n",
              "0        ඝරසරප චිත්‍රපටය පහළ තියෙන එකෙන් කරගන්න         Neutral   \n",
              "1               මොකක් හරි නාට්‍යයක් තියෙන්නත් එපැයි     Neutral   \n",
              "2       කිමද තරම් කොහේදෝ විදපු ගලක් උරන මා මිතුරු...    Neutral   \n",
              "3       එහෙම කොහොමද උනේ  😂  පරය අපිව අයින් කරල නේ  😂    Neutral   \n",
              "4   විමලයා ගොනෙක් වගෙ එකෙ මෑරෙන්න හදනවා පරය රටට ව...  Political   \n",
              "5      ලැජ්ජයි ස⁣හෝදරයා විදිහ දැක්කාම ඔබලාගේ කුලල...     Racist   \n",
              "6    ලැජ්ජයි ස⁣හෝදරයා විදිහ දැක්කාම ඔබලාගේ කුලල්ක...     Racist   \n",
              "7      මං තම්බි වගේද පෙන්නෙ 😏  මං බ්‍රහස්පතින්දා ...    Neutral   \n",
              "8     ඉටිම් බං උතුර ඉල්ලනසෙට් එකයි නැගෙනහිරපඉල්ලන...     Racist   \n",
              "9      පේනවානේ තම්බි කවදත් ඉන්නේ උන්ට වාසි පැත්තේ...     Racist   \n",
              "\n",
              "                                            PureText ConEmoji Emojis  \n",
              "0        ඝරසරප චිත්‍රපටය පහළ තියෙන එකෙන් කරගන්න                       \n",
              "1         මොකක් හරි නාට්‍යයක් තියෙන්නත් එපැයි ඉතින්                   \n",
              "2       කිමද මේ තරම් කොහේදෝ ඇති විදපු ගලක් හා උරන...                  \n",
              "3         එහෙම කොහොමද උනේ    පරය අපිව අයින් කරල නේ        😂 😂    😂 😂  \n",
              "4   විමලයා ගොනෙක් වගෙ එකෙ මෑරෙන්න හදනවා පරය රටට ව...                  \n",
              "5      ලැජ්ජයි ස⁣හෝදරයා මේ යන විදිහ දැක්කාම ඔබලාග...                  \n",
              "6    ලැජ්ජයි ස⁣හෝදරයා මේ යන විදිහ දැක්කාම ඔබලාගේ ...                  \n",
              "7      ඇයි මං තම්බි වගේද පෙන්නෙ   මං බ්‍රහස්පතින්...      😏 😅    😏 😅  \n",
              "8     ඉටිම් බං උතුර ඉල්ලනසෙට් එකයි නැගෙනහිරපඉල්ලන...                  \n",
              "9      පේනවානේ තම්බි කවදත් ඉන්නේ උන්ට වාසි පැත්තේ...                  "
            ],
            "text/html": [
              "\n",
              "  <div id=\"df-f32ca673-63d4-4526-a11f-3bda8f779240\">\n",
              "    <div class=\"colab-df-container\">\n",
              "      <div>\n",
              "<style scoped>\n",
              "    .dataframe tbody tr th:only-of-type {\n",
              "        vertical-align: middle;\n",
              "    }\n",
              "\n",
              "    .dataframe tbody tr th {\n",
              "        vertical-align: top;\n",
              "    }\n",
              "\n",
              "    .dataframe thead th {\n",
              "        text-align: right;\n",
              "    }\n",
              "</style>\n",
              "<table border=\"1\" class=\"dataframe\">\n",
              "  <thead>\n",
              "    <tr style=\"text-align: right;\">\n",
              "      <th></th>\n",
              "      <th>Text</th>\n",
              "      <th>Class</th>\n",
              "      <th>PureText</th>\n",
              "      <th>ConEmoji</th>\n",
              "      <th>Emojis</th>\n",
              "    </tr>\n",
              "  </thead>\n",
              "  <tbody>\n",
              "    <tr>\n",
              "      <th>0</th>\n",
              "      <td>ඝරසරප චිත්‍රපටය පහළ තියෙන එකෙන් කරගන්න</td>\n",
              "      <td>Neutral</td>\n",
              "      <td>ඝරසරප චිත්‍රපටය පහළ තියෙන එකෙන් කරගන්න</td>\n",
              "      <td></td>\n",
              "      <td></td>\n",
              "    </tr>\n",
              "    <tr>\n",
              "      <th>1</th>\n",
              "      <td>මොකක් හරි නාට්‍යයක් තියෙන්නත් එපැයි</td>\n",
              "      <td>Neutral</td>\n",
              "      <td>මොකක් හරි නාට්‍යයක් තියෙන්නත් එපැයි ඉතින්</td>\n",
              "      <td></td>\n",
              "      <td></td>\n",
              "    </tr>\n",
              "    <tr>\n",
              "      <th>2</th>\n",
              "      <td>කිමද තරම් කොහේදෝ විදපු ගලක් උරන මා මිතුරු...</td>\n",
              "      <td>Neutral</td>\n",
              "      <td>කිමද මේ තරම් කොහේදෝ ඇති විදපු ගලක් හා උරන...</td>\n",
              "      <td></td>\n",
              "      <td></td>\n",
              "    </tr>\n",
              "    <tr>\n",
              "      <th>3</th>\n",
              "      <td>එහෙම කොහොමද උනේ  😂  පරය අපිව අයින් කරල නේ  😂</td>\n",
              "      <td>Neutral</td>\n",
              "      <td>එහෙම කොහොමද උනේ    පරය අපිව අයින් කරල නේ</td>\n",
              "      <td>😂 😂</td>\n",
              "      <td>😂 😂</td>\n",
              "    </tr>\n",
              "    <tr>\n",
              "      <th>4</th>\n",
              "      <td>විමලයා ගොනෙක් වගෙ එකෙ මෑරෙන්න හදනවා පරය රටට ව...</td>\n",
              "      <td>Political</td>\n",
              "      <td>විමලයා ගොනෙක් වගෙ එකෙ මෑරෙන්න හදනවා පරය රටට ව...</td>\n",
              "      <td></td>\n",
              "      <td></td>\n",
              "    </tr>\n",
              "    <tr>\n",
              "      <th>5</th>\n",
              "      <td>ලැජ්ජයි ස⁣හෝදරයා විදිහ දැක්කාම ඔබලාගේ කුලල...</td>\n",
              "      <td>Racist</td>\n",
              "      <td>ලැජ්ජයි ස⁣හෝදරයා මේ යන විදිහ දැක්කාම ඔබලාග...</td>\n",
              "      <td></td>\n",
              "      <td></td>\n",
              "    </tr>\n",
              "    <tr>\n",
              "      <th>6</th>\n",
              "      <td>ලැජ්ජයි ස⁣හෝදරයා විදිහ දැක්කාම ඔබලාගේ කුලල්ක...</td>\n",
              "      <td>Racist</td>\n",
              "      <td>ලැජ්ජයි ස⁣හෝදරයා මේ යන විදිහ දැක්කාම ඔබලාගේ ...</td>\n",
              "      <td></td>\n",
              "      <td></td>\n",
              "    </tr>\n",
              "    <tr>\n",
              "      <th>7</th>\n",
              "      <td>මං තම්බි වගේද පෙන්නෙ 😏  මං බ්‍රහස්පතින්දා ...</td>\n",
              "      <td>Neutral</td>\n",
              "      <td>ඇයි මං තම්බි වගේද පෙන්නෙ   මං බ්‍රහස්පතින්...</td>\n",
              "      <td>😏 😅</td>\n",
              "      <td>😏 😅</td>\n",
              "    </tr>\n",
              "    <tr>\n",
              "      <th>8</th>\n",
              "      <td>ඉටිම් බං උතුර ඉල්ලනසෙට් එකයි නැගෙනහිරපඉල්ලන...</td>\n",
              "      <td>Racist</td>\n",
              "      <td>ඉටිම් බං උතුර ඉල්ලනසෙට් එකයි නැගෙනහිරපඉල්ලන...</td>\n",
              "      <td></td>\n",
              "      <td></td>\n",
              "    </tr>\n",
              "    <tr>\n",
              "      <th>9</th>\n",
              "      <td>පේනවානේ තම්බි කවදත් ඉන්නේ උන්ට වාසි පැත්තේ...</td>\n",
              "      <td>Racist</td>\n",
              "      <td>පේනවානේ තම්බි කවදත් ඉන්නේ උන්ට වාසි පැත්තේ...</td>\n",
              "      <td></td>\n",
              "      <td></td>\n",
              "    </tr>\n",
              "  </tbody>\n",
              "</table>\n",
              "</div>\n",
              "      <button class=\"colab-df-convert\" onclick=\"convertToInteractive('df-f32ca673-63d4-4526-a11f-3bda8f779240')\"\n",
              "              title=\"Convert this dataframe to an interactive table.\"\n",
              "              style=\"display:none;\">\n",
              "        \n",
              "  <svg xmlns=\"http://www.w3.org/2000/svg\" height=\"24px\"viewBox=\"0 0 24 24\"\n",
              "       width=\"24px\">\n",
              "    <path d=\"M0 0h24v24H0V0z\" fill=\"none\"/>\n",
              "    <path d=\"M18.56 5.44l.94 2.06.94-2.06 2.06-.94-2.06-.94-.94-2.06-.94 2.06-2.06.94zm-11 1L8.5 8.5l.94-2.06 2.06-.94-2.06-.94L8.5 2.5l-.94 2.06-2.06.94zm10 10l.94 2.06.94-2.06 2.06-.94-2.06-.94-.94-2.06-.94 2.06-2.06.94z\"/><path d=\"M17.41 7.96l-1.37-1.37c-.4-.4-.92-.59-1.43-.59-.52 0-1.04.2-1.43.59L10.3 9.45l-7.72 7.72c-.78.78-.78 2.05 0 2.83L4 21.41c.39.39.9.59 1.41.59.51 0 1.02-.2 1.41-.59l7.78-7.78 2.81-2.81c.8-.78.8-2.07 0-2.86zM5.41 20L4 18.59l7.72-7.72 1.47 1.35L5.41 20z\"/>\n",
              "  </svg>\n",
              "      </button>\n",
              "      \n",
              "  <style>\n",
              "    .colab-df-container {\n",
              "      display:flex;\n",
              "      flex-wrap:wrap;\n",
              "      gap: 12px;\n",
              "    }\n",
              "\n",
              "    .colab-df-convert {\n",
              "      background-color: #E8F0FE;\n",
              "      border: none;\n",
              "      border-radius: 50%;\n",
              "      cursor: pointer;\n",
              "      display: none;\n",
              "      fill: #1967D2;\n",
              "      height: 32px;\n",
              "      padding: 0 0 0 0;\n",
              "      width: 32px;\n",
              "    }\n",
              "\n",
              "    .colab-df-convert:hover {\n",
              "      background-color: #E2EBFA;\n",
              "      box-shadow: 0px 1px 2px rgba(60, 64, 67, 0.3), 0px 1px 3px 1px rgba(60, 64, 67, 0.15);\n",
              "      fill: #174EA6;\n",
              "    }\n",
              "\n",
              "    [theme=dark] .colab-df-convert {\n",
              "      background-color: #3B4455;\n",
              "      fill: #D2E3FC;\n",
              "    }\n",
              "\n",
              "    [theme=dark] .colab-df-convert:hover {\n",
              "      background-color: #434B5C;\n",
              "      box-shadow: 0px 1px 3px 1px rgba(0, 0, 0, 0.15);\n",
              "      filter: drop-shadow(0px 1px 2px rgba(0, 0, 0, 0.3));\n",
              "      fill: #FFFFFF;\n",
              "    }\n",
              "  </style>\n",
              "\n",
              "      <script>\n",
              "        const buttonEl =\n",
              "          document.querySelector('#df-f32ca673-63d4-4526-a11f-3bda8f779240 button.colab-df-convert');\n",
              "        buttonEl.style.display =\n",
              "          google.colab.kernel.accessAllowed ? 'block' : 'none';\n",
              "\n",
              "        async function convertToInteractive(key) {\n",
              "          const element = document.querySelector('#df-f32ca673-63d4-4526-a11f-3bda8f779240');\n",
              "          const dataTable =\n",
              "            await google.colab.kernel.invokeFunction('convertToInteractive',\n",
              "                                                     [key], {});\n",
              "          if (!dataTable) return;\n",
              "\n",
              "          const docLinkHtml = 'Like what you see? Visit the ' +\n",
              "            '<a target=\"_blank\" href=https://colab.research.google.com/notebooks/data_table.ipynb>data table notebook</a>'\n",
              "            + ' to learn more about interactive tables.';\n",
              "          element.innerHTML = '';\n",
              "          dataTable['output_type'] = 'display_data';\n",
              "          await google.colab.output.renderOutput(dataTable, element);\n",
              "          const docLink = document.createElement('div');\n",
              "          docLink.innerHTML = docLinkHtml;\n",
              "          element.appendChild(docLink);\n",
              "        }\n",
              "      </script>\n",
              "    </div>\n",
              "  </div>\n",
              "  "
            ]
          },
          "metadata": {},
          "execution_count": 83
        }
      ]
    },
    {
      "cell_type": "code",
      "source": [
        "import demoji\n",
        "demoji.download_codes()\n",
        "def get_emoji_meaning(e):\n",
        "    return demoji.replace_with_desc(e)\n",
        "tweet['Con_emoji_meanings'] = tweet['ConEmoji'].apply(lambda x: ''.join(get_emoji_meaning(e) for e in x))"
      ],
      "metadata": {
        "colab": {
          "base_uri": "https://localhost:8080/"
        },
        "id": "Oiy-qgOkYD0t",
        "outputId": "5938d056-00d0-40c5-c1c2-f6341de0936e"
      },
      "execution_count": 84,
      "outputs": [
        {
          "output_type": "stream",
          "name": "stderr",
          "text": [
            "<ipython-input-84-116afbac4216>:2: FutureWarning: The demoji.download_codes attribute is deprecated and will be removed from demoji in a future version. It is an unused attribute as emoji codes are now distributed directly with the demoji package.\n",
            "  demoji.download_codes()\n"
          ]
        }
      ]
    },
    {
      "cell_type": "code",
      "source": [
        "tweet.head(10)"
      ],
      "metadata": {
        "colab": {
          "base_uri": "https://localhost:8080/",
          "height": 580
        },
        "id": "89zfgKHscI7s",
        "outputId": "03ef859f-7cd9-40c8-d7a1-8107a524903c"
      },
      "execution_count": 85,
      "outputs": [
        {
          "output_type": "execute_result",
          "data": {
            "text/plain": [
              "                                                Text      Class  \\\n",
              "0        ඝරසරප චිත්‍රපටය පහළ තියෙන එකෙන් කරගන්න         Neutral   \n",
              "1               මොකක් හරි නාට්‍යයක් තියෙන්නත් එපැයි     Neutral   \n",
              "2       කිමද තරම් කොහේදෝ විදපු ගලක් උරන මා මිතුරු...    Neutral   \n",
              "3       එහෙම කොහොමද උනේ  😂  පරය අපිව අයින් කරල නේ  😂    Neutral   \n",
              "4   විමලයා ගොනෙක් වගෙ එකෙ මෑරෙන්න හදනවා පරය රටට ව...  Political   \n",
              "5      ලැජ්ජයි ස⁣හෝදරයා විදිහ දැක්කාම ඔබලාගේ කුලල...     Racist   \n",
              "6    ලැජ්ජයි ස⁣හෝදරයා විදිහ දැක්කාම ඔබලාගේ කුලල්ක...     Racist   \n",
              "7      මං තම්බි වගේද පෙන්නෙ 😏  මං බ්‍රහස්පතින්දා ...    Neutral   \n",
              "8     ඉටිම් බං උතුර ඉල්ලනසෙට් එකයි නැගෙනහිරපඉල්ලන...     Racist   \n",
              "9      පේනවානේ තම්බි කවදත් ඉන්නේ උන්ට වාසි පැත්තේ...     Racist   \n",
              "\n",
              "                                            PureText ConEmoji Emojis  \\\n",
              "0        ඝරසරප චිත්‍රපටය පහළ තියෙන එකෙන් කරගන්න                        \n",
              "1         මොකක් හරි නාට්‍යයක් තියෙන්නත් එපැයි ඉතින්                    \n",
              "2       කිමද මේ තරම් කොහේදෝ ඇති විදපු ගලක් හා උරන...                   \n",
              "3         එහෙම කොහොමද උනේ    පරය අපිව අයින් කරල නේ        😂 😂    😂 😂   \n",
              "4   විමලයා ගොනෙක් වගෙ එකෙ මෑරෙන්න හදනවා පරය රටට ව...                   \n",
              "5      ලැජ්ජයි ස⁣හෝදරයා මේ යන විදිහ දැක්කාම ඔබලාග...                   \n",
              "6    ලැජ්ජයි ස⁣හෝදරයා මේ යන විදිහ දැක්කාම ඔබලාගේ ...                   \n",
              "7      ඇයි මං තම්බි වගේද පෙන්නෙ   මං බ්‍රහස්පතින්...      😏 😅    😏 😅   \n",
              "8     ඉටිම් බං උතුර ඉල්ලනසෙට් එකයි නැගෙනහිරපඉල්ලන...                   \n",
              "9      පේනවානේ තම්බි කවදත් ඉන්නේ උන්ට වාසි පැත්තේ...                   \n",
              "\n",
              "                                  Con_emoji_meanings  \n",
              "0                                                     \n",
              "1                                                     \n",
              "2                                                     \n",
              "3  :face with tears of joy: :face with tears of joy:  \n",
              "4                                                     \n",
              "5                                                     \n",
              "6                                                     \n",
              "7         :smirking face: :grinning face with sweat:  \n",
              "8                                                     \n",
              "9                                                     "
            ],
            "text/html": [
              "\n",
              "  <div id=\"df-d7a50f04-d7d5-40ed-a8c3-5dc3f572e433\">\n",
              "    <div class=\"colab-df-container\">\n",
              "      <div>\n",
              "<style scoped>\n",
              "    .dataframe tbody tr th:only-of-type {\n",
              "        vertical-align: middle;\n",
              "    }\n",
              "\n",
              "    .dataframe tbody tr th {\n",
              "        vertical-align: top;\n",
              "    }\n",
              "\n",
              "    .dataframe thead th {\n",
              "        text-align: right;\n",
              "    }\n",
              "</style>\n",
              "<table border=\"1\" class=\"dataframe\">\n",
              "  <thead>\n",
              "    <tr style=\"text-align: right;\">\n",
              "      <th></th>\n",
              "      <th>Text</th>\n",
              "      <th>Class</th>\n",
              "      <th>PureText</th>\n",
              "      <th>ConEmoji</th>\n",
              "      <th>Emojis</th>\n",
              "      <th>Con_emoji_meanings</th>\n",
              "    </tr>\n",
              "  </thead>\n",
              "  <tbody>\n",
              "    <tr>\n",
              "      <th>0</th>\n",
              "      <td>ඝරසරප චිත්‍රපටය පහළ තියෙන එකෙන් කරගන්න</td>\n",
              "      <td>Neutral</td>\n",
              "      <td>ඝරසරප චිත්‍රපටය පහළ තියෙන එකෙන් කරගන්න</td>\n",
              "      <td></td>\n",
              "      <td></td>\n",
              "      <td></td>\n",
              "    </tr>\n",
              "    <tr>\n",
              "      <th>1</th>\n",
              "      <td>මොකක් හරි නාට්‍යයක් තියෙන්නත් එපැයි</td>\n",
              "      <td>Neutral</td>\n",
              "      <td>මොකක් හරි නාට්‍යයක් තියෙන්නත් එපැයි ඉතින්</td>\n",
              "      <td></td>\n",
              "      <td></td>\n",
              "      <td></td>\n",
              "    </tr>\n",
              "    <tr>\n",
              "      <th>2</th>\n",
              "      <td>කිමද තරම් කොහේදෝ විදපු ගලක් උරන මා මිතුරු...</td>\n",
              "      <td>Neutral</td>\n",
              "      <td>කිමද මේ තරම් කොහේදෝ ඇති විදපු ගලක් හා උරන...</td>\n",
              "      <td></td>\n",
              "      <td></td>\n",
              "      <td></td>\n",
              "    </tr>\n",
              "    <tr>\n",
              "      <th>3</th>\n",
              "      <td>එහෙම කොහොමද උනේ  😂  පරය අපිව අයින් කරල නේ  😂</td>\n",
              "      <td>Neutral</td>\n",
              "      <td>එහෙම කොහොමද උනේ    පරය අපිව අයින් කරල නේ</td>\n",
              "      <td>😂 😂</td>\n",
              "      <td>😂 😂</td>\n",
              "      <td>:face with tears of joy: :face with tears of joy:</td>\n",
              "    </tr>\n",
              "    <tr>\n",
              "      <th>4</th>\n",
              "      <td>විමලයා ගොනෙක් වගෙ එකෙ මෑරෙන්න හදනවා පරය රටට ව...</td>\n",
              "      <td>Political</td>\n",
              "      <td>විමලයා ගොනෙක් වගෙ එකෙ මෑරෙන්න හදනවා පරය රටට ව...</td>\n",
              "      <td></td>\n",
              "      <td></td>\n",
              "      <td></td>\n",
              "    </tr>\n",
              "    <tr>\n",
              "      <th>5</th>\n",
              "      <td>ලැජ්ජයි ස⁣හෝදරයා විදිහ දැක්කාම ඔබලාගේ කුලල...</td>\n",
              "      <td>Racist</td>\n",
              "      <td>ලැජ්ජයි ස⁣හෝදරයා මේ යන විදිහ දැක්කාම ඔබලාග...</td>\n",
              "      <td></td>\n",
              "      <td></td>\n",
              "      <td></td>\n",
              "    </tr>\n",
              "    <tr>\n",
              "      <th>6</th>\n",
              "      <td>ලැජ්ජයි ස⁣හෝදරයා විදිහ දැක්කාම ඔබලාගේ කුලල්ක...</td>\n",
              "      <td>Racist</td>\n",
              "      <td>ලැජ්ජයි ස⁣හෝදරයා මේ යන විදිහ දැක්කාම ඔබලාගේ ...</td>\n",
              "      <td></td>\n",
              "      <td></td>\n",
              "      <td></td>\n",
              "    </tr>\n",
              "    <tr>\n",
              "      <th>7</th>\n",
              "      <td>මං තම්බි වගේද පෙන්නෙ 😏  මං බ්‍රහස්පතින්දා ...</td>\n",
              "      <td>Neutral</td>\n",
              "      <td>ඇයි මං තම්බි වගේද පෙන්නෙ   මං බ්‍රහස්පතින්...</td>\n",
              "      <td>😏 😅</td>\n",
              "      <td>😏 😅</td>\n",
              "      <td>:smirking face: :grinning face with sweat:</td>\n",
              "    </tr>\n",
              "    <tr>\n",
              "      <th>8</th>\n",
              "      <td>ඉටිම් බං උතුර ඉල්ලනසෙට් එකයි නැගෙනහිරපඉල්ලන...</td>\n",
              "      <td>Racist</td>\n",
              "      <td>ඉටිම් බං උතුර ඉල්ලනසෙට් එකයි නැගෙනහිරපඉල්ලන...</td>\n",
              "      <td></td>\n",
              "      <td></td>\n",
              "      <td></td>\n",
              "    </tr>\n",
              "    <tr>\n",
              "      <th>9</th>\n",
              "      <td>පේනවානේ තම්බි කවදත් ඉන්නේ උන්ට වාසි පැත්තේ...</td>\n",
              "      <td>Racist</td>\n",
              "      <td>පේනවානේ තම්බි කවදත් ඉන්නේ උන්ට වාසි පැත්තේ...</td>\n",
              "      <td></td>\n",
              "      <td></td>\n",
              "      <td></td>\n",
              "    </tr>\n",
              "  </tbody>\n",
              "</table>\n",
              "</div>\n",
              "      <button class=\"colab-df-convert\" onclick=\"convertToInteractive('df-d7a50f04-d7d5-40ed-a8c3-5dc3f572e433')\"\n",
              "              title=\"Convert this dataframe to an interactive table.\"\n",
              "              style=\"display:none;\">\n",
              "        \n",
              "  <svg xmlns=\"http://www.w3.org/2000/svg\" height=\"24px\"viewBox=\"0 0 24 24\"\n",
              "       width=\"24px\">\n",
              "    <path d=\"M0 0h24v24H0V0z\" fill=\"none\"/>\n",
              "    <path d=\"M18.56 5.44l.94 2.06.94-2.06 2.06-.94-2.06-.94-.94-2.06-.94 2.06-2.06.94zm-11 1L8.5 8.5l.94-2.06 2.06-.94-2.06-.94L8.5 2.5l-.94 2.06-2.06.94zm10 10l.94 2.06.94-2.06 2.06-.94-2.06-.94-.94-2.06-.94 2.06-2.06.94z\"/><path d=\"M17.41 7.96l-1.37-1.37c-.4-.4-.92-.59-1.43-.59-.52 0-1.04.2-1.43.59L10.3 9.45l-7.72 7.72c-.78.78-.78 2.05 0 2.83L4 21.41c.39.39.9.59 1.41.59.51 0 1.02-.2 1.41-.59l7.78-7.78 2.81-2.81c.8-.78.8-2.07 0-2.86zM5.41 20L4 18.59l7.72-7.72 1.47 1.35L5.41 20z\"/>\n",
              "  </svg>\n",
              "      </button>\n",
              "      \n",
              "  <style>\n",
              "    .colab-df-container {\n",
              "      display:flex;\n",
              "      flex-wrap:wrap;\n",
              "      gap: 12px;\n",
              "    }\n",
              "\n",
              "    .colab-df-convert {\n",
              "      background-color: #E8F0FE;\n",
              "      border: none;\n",
              "      border-radius: 50%;\n",
              "      cursor: pointer;\n",
              "      display: none;\n",
              "      fill: #1967D2;\n",
              "      height: 32px;\n",
              "      padding: 0 0 0 0;\n",
              "      width: 32px;\n",
              "    }\n",
              "\n",
              "    .colab-df-convert:hover {\n",
              "      background-color: #E2EBFA;\n",
              "      box-shadow: 0px 1px 2px rgba(60, 64, 67, 0.3), 0px 1px 3px 1px rgba(60, 64, 67, 0.15);\n",
              "      fill: #174EA6;\n",
              "    }\n",
              "\n",
              "    [theme=dark] .colab-df-convert {\n",
              "      background-color: #3B4455;\n",
              "      fill: #D2E3FC;\n",
              "    }\n",
              "\n",
              "    [theme=dark] .colab-df-convert:hover {\n",
              "      background-color: #434B5C;\n",
              "      box-shadow: 0px 1px 3px 1px rgba(0, 0, 0, 0.15);\n",
              "      filter: drop-shadow(0px 1px 2px rgba(0, 0, 0, 0.3));\n",
              "      fill: #FFFFFF;\n",
              "    }\n",
              "  </style>\n",
              "\n",
              "      <script>\n",
              "        const buttonEl =\n",
              "          document.querySelector('#df-d7a50f04-d7d5-40ed-a8c3-5dc3f572e433 button.colab-df-convert');\n",
              "        buttonEl.style.display =\n",
              "          google.colab.kernel.accessAllowed ? 'block' : 'none';\n",
              "\n",
              "        async function convertToInteractive(key) {\n",
              "          const element = document.querySelector('#df-d7a50f04-d7d5-40ed-a8c3-5dc3f572e433');\n",
              "          const dataTable =\n",
              "            await google.colab.kernel.invokeFunction('convertToInteractive',\n",
              "                                                     [key], {});\n",
              "          if (!dataTable) return;\n",
              "\n",
              "          const docLinkHtml = 'Like what you see? Visit the ' +\n",
              "            '<a target=\"_blank\" href=https://colab.research.google.com/notebooks/data_table.ipynb>data table notebook</a>'\n",
              "            + ' to learn more about interactive tables.';\n",
              "          element.innerHTML = '';\n",
              "          dataTable['output_type'] = 'display_data';\n",
              "          await google.colab.output.renderOutput(dataTable, element);\n",
              "          const docLink = document.createElement('div');\n",
              "          docLink.innerHTML = docLinkHtml;\n",
              "          element.appendChild(docLink);\n",
              "        }\n",
              "      </script>\n",
              "    </div>\n",
              "  </div>\n",
              "  "
            ]
          },
          "metadata": {},
          "execution_count": 85
        }
      ]
    },
    {
      "cell_type": "markdown",
      "source": [
        "# **SENTIMENT ANALYSIS FOR CONCERNED EMOJIS MEANINGS**"
      ],
      "metadata": {
        "id": "lgYObYDgi6i5"
      }
    },
    {
      "cell_type": "code",
      "source": [
        "from nltk.tokenize import word_tokenize\n",
        "from nltk.stem.wordnet import WordNetLemmatizer\n",
        "from nltk.stem import PorterStemmer\n",
        "from nltk.corpus import stopwords\n",
        "import nltk\n",
        "nltk.download('stopwords')\n",
        "stop_words = set(stopwords.words('english'))"
      ],
      "metadata": {
        "colab": {
          "base_uri": "https://localhost:8080/"
        },
        "id": "6hKqz5kBi1MQ",
        "outputId": "8d7bfa94-b538-4298-cebc-c75d0f2ca260"
      },
      "execution_count": 86,
      "outputs": [
        {
          "output_type": "stream",
          "name": "stderr",
          "text": [
            "[nltk_data] Downloading package stopwords to /root/nltk_data...\n",
            "[nltk_data]   Unzipping corpora/stopwords.zip.\n"
          ]
        }
      ]
    },
    {
      "cell_type": "code",
      "source": [
        "def data_processing(text):\n",
        "    text = text.lower()# changning into lower case \n",
        "    text = re.sub(r\"https\\S+|www\\S+https\\S+\", '',text, flags=re.MULTILINE) #removing the url \n",
        "    text = re.sub(r'\\@w+|\\#','',text) #removing hashtags and the punctuations \n",
        "    text = re.sub(r'[^\\w\\s]','',text) #\n",
        "    text_tokens = word_tokenize(text) # removing stopwords\n",
        "    filtered_text = [w for w in text_tokens if not w in stop_words]\n",
        "    return \" \".join(filtered_text)"
      ],
      "metadata": {
        "id": "VEqRsv_RX3Cz"
      },
      "execution_count": 87,
      "outputs": []
    },
    {
      "cell_type": "code",
      "source": [
        "tweet['Con_emoji_meanings'] =  tweet['Con_emoji_meanings'].apply(data_processing)"
      ],
      "metadata": {
        "id": "kvJlsR67YFCf"
      },
      "execution_count": 88,
      "outputs": []
    },
    {
      "cell_type": "code",
      "source": [
        "import nltk\n",
        "nltk.download('omw')\n",
        "from nltk.corpus import wordnet\n",
        "from nltk.stem import WordNetLemmatizer"
      ],
      "metadata": {
        "colab": {
          "base_uri": "https://localhost:8080/"
        },
        "id": "_vdy3XBTBoFQ",
        "outputId": "c7f9de1d-0b5b-4809-f947-11e9f54179ad"
      },
      "execution_count": 89,
      "outputs": [
        {
          "output_type": "stream",
          "name": "stderr",
          "text": [
            "[nltk_data] Downloading package omw to /root/nltk_data...\n"
          ]
        }
      ]
    },
    {
      "cell_type": "code",
      "source": [
        "stemmer = PorterStemmer()\n",
        "def stemming(data):\n",
        "    text = [stemmer.stem(word) for word in data]\n",
        "    return data"
      ],
      "metadata": {
        "id": "B-7hy3g9YsCs"
      },
      "execution_count": 90,
      "outputs": []
    },
    {
      "cell_type": "code",
      "source": [
        "tweet['Con_emoji_meanings'] =  tweet['Con_emoji_meanings'].apply(lambda x: stemming(x))"
      ],
      "metadata": {
        "id": "g7HIrfwkZYET"
      },
      "execution_count": 91,
      "outputs": []
    },
    {
      "cell_type": "code",
      "source": [
        "tweet.head(10)"
      ],
      "metadata": {
        "colab": {
          "base_uri": "https://localhost:8080/",
          "height": 545
        },
        "id": "adP9vHVeZegG",
        "outputId": "5d20bde9-9dac-4353-b1d7-3e248bc17f56"
      },
      "execution_count": 92,
      "outputs": [
        {
          "output_type": "execute_result",
          "data": {
            "text/plain": [
              "                                                Text      Class  \\\n",
              "0        ඝරසරප චිත්‍රපටය පහළ තියෙන එකෙන් කරගන්න         Neutral   \n",
              "1               මොකක් හරි නාට්‍යයක් තියෙන්නත් එපැයි     Neutral   \n",
              "2       කිමද තරම් කොහේදෝ විදපු ගලක් උරන මා මිතුරු...    Neutral   \n",
              "3       එහෙම කොහොමද උනේ  😂  පරය අපිව අයින් කරල නේ  😂    Neutral   \n",
              "4   විමලයා ගොනෙක් වගෙ එකෙ මෑරෙන්න හදනවා පරය රටට ව...  Political   \n",
              "5      ලැජ්ජයි ස⁣හෝදරයා විදිහ දැක්කාම ඔබලාගේ කුලල...     Racist   \n",
              "6    ලැජ්ජයි ස⁣හෝදරයා විදිහ දැක්කාම ඔබලාගේ කුලල්ක...     Racist   \n",
              "7      මං තම්බි වගේද පෙන්නෙ 😏  මං බ්‍රහස්පතින්දා ...    Neutral   \n",
              "8     ඉටිම් බං උතුර ඉල්ලනසෙට් එකයි නැගෙනහිරපඉල්ලන...     Racist   \n",
              "9      පේනවානේ තම්බි කවදත් ඉන්නේ උන්ට වාසි පැත්තේ...     Racist   \n",
              "\n",
              "                                            PureText ConEmoji Emojis  \\\n",
              "0        ඝරසරප චිත්‍රපටය පහළ තියෙන එකෙන් කරගන්න                        \n",
              "1         මොකක් හරි නාට්‍යයක් තියෙන්නත් එපැයි ඉතින්                    \n",
              "2       කිමද මේ තරම් කොහේදෝ ඇති විදපු ගලක් හා උරන...                   \n",
              "3         එහෙම කොහොමද උනේ    පරය අපිව අයින් කරල නේ        😂 😂    😂 😂   \n",
              "4   විමලයා ගොනෙක් වගෙ එකෙ මෑරෙන්න හදනවා පරය රටට ව...                   \n",
              "5      ලැජ්ජයි ස⁣හෝදරයා මේ යන විදිහ දැක්කාම ඔබලාග...                   \n",
              "6    ලැජ්ජයි ස⁣හෝදරයා මේ යන විදිහ දැක්කාම ඔබලාගේ ...                   \n",
              "7      ඇයි මං තම්බි වගේද පෙන්නෙ   මං බ්‍රහස්පතින්...      😏 😅    😏 😅   \n",
              "8     ඉටිම් බං උතුර ඉල්ලනසෙට් එකයි නැගෙනහිරපඉල්ලන...                   \n",
              "9      පේනවානේ තම්බි කවදත් ඉන්නේ උන්ට වාසි පැත්තේ...                   \n",
              "\n",
              "                  Con_emoji_meanings  \n",
              "0                                     \n",
              "1                                     \n",
              "2                                     \n",
              "3      face tears joy face tears joy  \n",
              "4                                     \n",
              "5                                     \n",
              "6                                     \n",
              "7  smirking face grinning face sweat  \n",
              "8                                     \n",
              "9                                     "
            ],
            "text/html": [
              "\n",
              "  <div id=\"df-5ba52a8c-523c-4b52-b99c-8418aa7f9f99\">\n",
              "    <div class=\"colab-df-container\">\n",
              "      <div>\n",
              "<style scoped>\n",
              "    .dataframe tbody tr th:only-of-type {\n",
              "        vertical-align: middle;\n",
              "    }\n",
              "\n",
              "    .dataframe tbody tr th {\n",
              "        vertical-align: top;\n",
              "    }\n",
              "\n",
              "    .dataframe thead th {\n",
              "        text-align: right;\n",
              "    }\n",
              "</style>\n",
              "<table border=\"1\" class=\"dataframe\">\n",
              "  <thead>\n",
              "    <tr style=\"text-align: right;\">\n",
              "      <th></th>\n",
              "      <th>Text</th>\n",
              "      <th>Class</th>\n",
              "      <th>PureText</th>\n",
              "      <th>ConEmoji</th>\n",
              "      <th>Emojis</th>\n",
              "      <th>Con_emoji_meanings</th>\n",
              "    </tr>\n",
              "  </thead>\n",
              "  <tbody>\n",
              "    <tr>\n",
              "      <th>0</th>\n",
              "      <td>ඝරසරප චිත්‍රපටය පහළ තියෙන එකෙන් කරගන්න</td>\n",
              "      <td>Neutral</td>\n",
              "      <td>ඝරසරප චිත්‍රපටය පහළ තියෙන එකෙන් කරගන්න</td>\n",
              "      <td></td>\n",
              "      <td></td>\n",
              "      <td></td>\n",
              "    </tr>\n",
              "    <tr>\n",
              "      <th>1</th>\n",
              "      <td>මොකක් හරි නාට්‍යයක් තියෙන්නත් එපැයි</td>\n",
              "      <td>Neutral</td>\n",
              "      <td>මොකක් හරි නාට්‍යයක් තියෙන්නත් එපැයි ඉතින්</td>\n",
              "      <td></td>\n",
              "      <td></td>\n",
              "      <td></td>\n",
              "    </tr>\n",
              "    <tr>\n",
              "      <th>2</th>\n",
              "      <td>කිමද තරම් කොහේදෝ විදපු ගලක් උරන මා මිතුරු...</td>\n",
              "      <td>Neutral</td>\n",
              "      <td>කිමද මේ තරම් කොහේදෝ ඇති විදපු ගලක් හා උරන...</td>\n",
              "      <td></td>\n",
              "      <td></td>\n",
              "      <td></td>\n",
              "    </tr>\n",
              "    <tr>\n",
              "      <th>3</th>\n",
              "      <td>එහෙම කොහොමද උනේ  😂  පරය අපිව අයින් කරල නේ  😂</td>\n",
              "      <td>Neutral</td>\n",
              "      <td>එහෙම කොහොමද උනේ    පරය අපිව අයින් කරල නේ</td>\n",
              "      <td>😂 😂</td>\n",
              "      <td>😂 😂</td>\n",
              "      <td>face tears joy face tears joy</td>\n",
              "    </tr>\n",
              "    <tr>\n",
              "      <th>4</th>\n",
              "      <td>විමලයා ගොනෙක් වගෙ එකෙ මෑරෙන්න හදනවා පරය රටට ව...</td>\n",
              "      <td>Political</td>\n",
              "      <td>විමලයා ගොනෙක් වගෙ එකෙ මෑරෙන්න හදනවා පරය රටට ව...</td>\n",
              "      <td></td>\n",
              "      <td></td>\n",
              "      <td></td>\n",
              "    </tr>\n",
              "    <tr>\n",
              "      <th>5</th>\n",
              "      <td>ලැජ්ජයි ස⁣හෝදරයා විදිහ දැක්කාම ඔබලාගේ කුලල...</td>\n",
              "      <td>Racist</td>\n",
              "      <td>ලැජ්ජයි ස⁣හෝදරයා මේ යන විදිහ දැක්කාම ඔබලාග...</td>\n",
              "      <td></td>\n",
              "      <td></td>\n",
              "      <td></td>\n",
              "    </tr>\n",
              "    <tr>\n",
              "      <th>6</th>\n",
              "      <td>ලැජ්ජයි ස⁣හෝදරයා විදිහ දැක්කාම ඔබලාගේ කුලල්ක...</td>\n",
              "      <td>Racist</td>\n",
              "      <td>ලැජ්ජයි ස⁣හෝදරයා මේ යන විදිහ දැක්කාම ඔබලාගේ ...</td>\n",
              "      <td></td>\n",
              "      <td></td>\n",
              "      <td></td>\n",
              "    </tr>\n",
              "    <tr>\n",
              "      <th>7</th>\n",
              "      <td>මං තම්බි වගේද පෙන්නෙ 😏  මං බ්‍රහස්පතින්දා ...</td>\n",
              "      <td>Neutral</td>\n",
              "      <td>ඇයි මං තම්බි වගේද පෙන්නෙ   මං බ්‍රහස්පතින්...</td>\n",
              "      <td>😏 😅</td>\n",
              "      <td>😏 😅</td>\n",
              "      <td>smirking face grinning face sweat</td>\n",
              "    </tr>\n",
              "    <tr>\n",
              "      <th>8</th>\n",
              "      <td>ඉටිම් බං උතුර ඉල්ලනසෙට් එකයි නැගෙනහිරපඉල්ලන...</td>\n",
              "      <td>Racist</td>\n",
              "      <td>ඉටිම් බං උතුර ඉල්ලනසෙට් එකයි නැගෙනහිරපඉල්ලන...</td>\n",
              "      <td></td>\n",
              "      <td></td>\n",
              "      <td></td>\n",
              "    </tr>\n",
              "    <tr>\n",
              "      <th>9</th>\n",
              "      <td>පේනවානේ තම්බි කවදත් ඉන්නේ උන්ට වාසි පැත්තේ...</td>\n",
              "      <td>Racist</td>\n",
              "      <td>පේනවානේ තම්බි කවදත් ඉන්නේ උන්ට වාසි පැත්තේ...</td>\n",
              "      <td></td>\n",
              "      <td></td>\n",
              "      <td></td>\n",
              "    </tr>\n",
              "  </tbody>\n",
              "</table>\n",
              "</div>\n",
              "      <button class=\"colab-df-convert\" onclick=\"convertToInteractive('df-5ba52a8c-523c-4b52-b99c-8418aa7f9f99')\"\n",
              "              title=\"Convert this dataframe to an interactive table.\"\n",
              "              style=\"display:none;\">\n",
              "        \n",
              "  <svg xmlns=\"http://www.w3.org/2000/svg\" height=\"24px\"viewBox=\"0 0 24 24\"\n",
              "       width=\"24px\">\n",
              "    <path d=\"M0 0h24v24H0V0z\" fill=\"none\"/>\n",
              "    <path d=\"M18.56 5.44l.94 2.06.94-2.06 2.06-.94-2.06-.94-.94-2.06-.94 2.06-2.06.94zm-11 1L8.5 8.5l.94-2.06 2.06-.94-2.06-.94L8.5 2.5l-.94 2.06-2.06.94zm10 10l.94 2.06.94-2.06 2.06-.94-2.06-.94-.94-2.06-.94 2.06-2.06.94z\"/><path d=\"M17.41 7.96l-1.37-1.37c-.4-.4-.92-.59-1.43-.59-.52 0-1.04.2-1.43.59L10.3 9.45l-7.72 7.72c-.78.78-.78 2.05 0 2.83L4 21.41c.39.39.9.59 1.41.59.51 0 1.02-.2 1.41-.59l7.78-7.78 2.81-2.81c.8-.78.8-2.07 0-2.86zM5.41 20L4 18.59l7.72-7.72 1.47 1.35L5.41 20z\"/>\n",
              "  </svg>\n",
              "      </button>\n",
              "      \n",
              "  <style>\n",
              "    .colab-df-container {\n",
              "      display:flex;\n",
              "      flex-wrap:wrap;\n",
              "      gap: 12px;\n",
              "    }\n",
              "\n",
              "    .colab-df-convert {\n",
              "      background-color: #E8F0FE;\n",
              "      border: none;\n",
              "      border-radius: 50%;\n",
              "      cursor: pointer;\n",
              "      display: none;\n",
              "      fill: #1967D2;\n",
              "      height: 32px;\n",
              "      padding: 0 0 0 0;\n",
              "      width: 32px;\n",
              "    }\n",
              "\n",
              "    .colab-df-convert:hover {\n",
              "      background-color: #E2EBFA;\n",
              "      box-shadow: 0px 1px 2px rgba(60, 64, 67, 0.3), 0px 1px 3px 1px rgba(60, 64, 67, 0.15);\n",
              "      fill: #174EA6;\n",
              "    }\n",
              "\n",
              "    [theme=dark] .colab-df-convert {\n",
              "      background-color: #3B4455;\n",
              "      fill: #D2E3FC;\n",
              "    }\n",
              "\n",
              "    [theme=dark] .colab-df-convert:hover {\n",
              "      background-color: #434B5C;\n",
              "      box-shadow: 0px 1px 3px 1px rgba(0, 0, 0, 0.15);\n",
              "      filter: drop-shadow(0px 1px 2px rgba(0, 0, 0, 0.3));\n",
              "      fill: #FFFFFF;\n",
              "    }\n",
              "  </style>\n",
              "\n",
              "      <script>\n",
              "        const buttonEl =\n",
              "          document.querySelector('#df-5ba52a8c-523c-4b52-b99c-8418aa7f9f99 button.colab-df-convert');\n",
              "        buttonEl.style.display =\n",
              "          google.colab.kernel.accessAllowed ? 'block' : 'none';\n",
              "\n",
              "        async function convertToInteractive(key) {\n",
              "          const element = document.querySelector('#df-5ba52a8c-523c-4b52-b99c-8418aa7f9f99');\n",
              "          const dataTable =\n",
              "            await google.colab.kernel.invokeFunction('convertToInteractive',\n",
              "                                                     [key], {});\n",
              "          if (!dataTable) return;\n",
              "\n",
              "          const docLinkHtml = 'Like what you see? Visit the ' +\n",
              "            '<a target=\"_blank\" href=https://colab.research.google.com/notebooks/data_table.ipynb>data table notebook</a>'\n",
              "            + ' to learn more about interactive tables.';\n",
              "          element.innerHTML = '';\n",
              "          dataTable['output_type'] = 'display_data';\n",
              "          await google.colab.output.renderOutput(dataTable, element);\n",
              "          const docLink = document.createElement('div');\n",
              "          docLink.innerHTML = docLinkHtml;\n",
              "          element.appendChild(docLink);\n",
              "        }\n",
              "      </script>\n",
              "    </div>\n",
              "  </div>\n",
              "  "
            ]
          },
          "metadata": {},
          "execution_count": 92
        }
      ]
    },
    {
      "cell_type": "code",
      "source": [
        "# tweet.to_csv('cleaned.csv')"
      ],
      "metadata": {
        "id": "PZNaBdbgofdo"
      },
      "execution_count": 93,
      "outputs": []
    }
  ]
}