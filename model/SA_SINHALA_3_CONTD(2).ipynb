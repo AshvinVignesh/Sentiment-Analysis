{
  "nbformat": 4,
  "nbformat_minor": 0,
  "metadata": {
    "colab": {
      "provenance": [],
      "authorship_tag": "ABX9TyOC2usV4YmkDl1YIhQaVnC+",
      "include_colab_link": true
    },
    "kernelspec": {
      "name": "python3",
      "display_name": "Python 3"
    },
    "language_info": {
      "name": "python"
    }
  },
  "cells": [
    {
      "cell_type": "markdown",
      "metadata": {
        "id": "view-in-github",
        "colab_type": "text"
      },
      "source": [
        "<a href=\"https://colab.research.google.com/github/AshvinVignesh/Sentiment-Analysis/blob/master/model/SA_SINHALA_3_CONTD(2).ipynb\" target=\"_parent\"><img src=\"https://colab.research.google.com/assets/colab-badge.svg\" alt=\"Open In Colab\"/></a>"
      ]
    },
    {
      "cell_type": "code",
      "source": [
        "!pip install demoji"
      ],
      "metadata": {
        "colab": {
          "base_uri": "https://localhost:8080/"
        },
        "id": "4JLzAAELiPSX",
        "outputId": "2f9699c8-e81a-467f-c337-8e65831577bf"
      },
      "execution_count": 1,
      "outputs": [
        {
          "output_type": "stream",
          "name": "stdout",
          "text": [
            "Looking in indexes: https://pypi.org/simple, https://us-python.pkg.dev/colab-wheels/public/simple/\n",
            "Collecting demoji\n",
            "  Downloading demoji-1.1.0-py3-none-any.whl (42 kB)\n",
            "\u001b[2K     \u001b[90m━━━━━━━━━━━━━━━━━━━━━━━━━━━━━━━━━━━━━━━━\u001b[0m \u001b[32m42.9/42.9 KB\u001b[0m \u001b[31m2.4 MB/s\u001b[0m eta \u001b[36m0:00:00\u001b[0m\n",
            "\u001b[?25hInstalling collected packages: demoji\n",
            "Successfully installed demoji-1.1.0\n"
          ]
        }
      ]
    },
    {
      "cell_type": "code",
      "execution_count": 2,
      "metadata": {
        "id": "z6sPtW3yhtIm"
      },
      "outputs": [],
      "source": [
        "import pandas as pd\n",
        "import pandas as pd\n",
        "import re\n",
        "import string"
      ]
    },
    {
      "cell_type": "code",
      "source": [
        "DF = pd.read_csv('cleaned.csv')"
      ],
      "metadata": {
        "id": "PP1eZhE-h9mv"
      },
      "execution_count": 3,
      "outputs": []
    },
    {
      "cell_type": "code",
      "source": [
        "DF.head(10)"
      ],
      "metadata": {
        "colab": {
          "base_uri": "https://localhost:8080/",
          "height": 563
        },
        "id": "gWyU7CXzh_X_",
        "outputId": "1f6498a2-58ea-45d2-ab03-30cbf5859c66"
      },
      "execution_count": 4,
      "outputs": [
        {
          "output_type": "execute_result",
          "data": {
            "text/plain": [
              "                                                Text      Class  \\\n",
              "0        ඝරසරප චිත්‍රපටය පහළ තියෙන එකෙන් කරගන්න         Neutral   \n",
              "1               මොකක් හරි නාට්‍යයක් තියෙන්නත් එපැයි     Neutral   \n",
              "2       කිමද තරම් කොහේදෝ විදපු ගලක් උරන මා මිතුරු...    Neutral   \n",
              "3       එහෙම කොහොමද උනේ  😂  පරය අපිව අයින් කරල නේ  😂    Neutral   \n",
              "4   විමලයා ගොනෙක් වගෙ එකෙ මෑරෙන්න හදනවා පරය රටට ව...  Political   \n",
              "5      ලැජ්ජයි ස⁣හෝදරයා විදිහ දැක්කාම ඔබලාගේ කුලල...     Racist   \n",
              "6    ලැජ්ජයි ස⁣හෝදරයා විදිහ දැක්කාම ඔබලාගේ කුලල්ක...     Racist   \n",
              "7      මං තම්බි වගේද පෙන්නෙ 😏  මං බ්‍රහස්පතින්දා ...    Neutral   \n",
              "8     ඉටිම් බං උතුර ඉල්ලනසෙට් එකයි නැගෙනහිරපඉල්ලන...     Racist   \n",
              "9      පේනවානේ තම්බි කවදත් ඉන්නේ උන්ට වාසි පැත්තේ...     Racist   \n",
              "\n",
              "                                            PureText ConEmoji Emojis  \\\n",
              "0        ඝරසරප චිත්‍රපටය පහළ තියෙන එකෙන් කරගන්න           NaN    NaN   \n",
              "1         මොකක් හරි නාට්‍යයක් තියෙන්නත් එපැයි ඉතින්       NaN    NaN   \n",
              "2       කිමද මේ තරම් කොහේදෝ ඇති විදපු ගලක් හා උරන...      NaN    NaN   \n",
              "3         එහෙම කොහොමද උනේ    පරය අපිව අයින් කරල නේ        😂 😂    😂 😂   \n",
              "4   විමලයා ගොනෙක් වගෙ එකෙ මෑරෙන්න හදනවා පරය රටට ව...      NaN    NaN   \n",
              "5      ලැජ්ජයි ස⁣හෝදරයා මේ යන විදිහ දැක්කාම ඔබලාග...      NaN    NaN   \n",
              "6    ලැජ්ජයි ස⁣හෝදරයා මේ යන විදිහ දැක්කාම ඔබලාගේ ...      NaN    NaN   \n",
              "7      ඇයි මං තම්බි වගේද පෙන්නෙ   මං බ්‍රහස්පතින්...      😏 😅    😏 😅   \n",
              "8     ඉටිම් බං උතුර ඉල්ලනසෙට් එකයි නැගෙනහිරපඉල්ලන...      NaN    NaN   \n",
              "9      පේනවානේ තම්බි කවදත් ඉන්නේ උන්ට වාසි පැත්තේ...      NaN    NaN   \n",
              "\n",
              "                  Con_emoji_meanings  \n",
              "0                                NaN  \n",
              "1                                NaN  \n",
              "2                                NaN  \n",
              "3      face tears joy face tears joy  \n",
              "4                                NaN  \n",
              "5                                NaN  \n",
              "6                                NaN  \n",
              "7  smirking face grinning face sweat  \n",
              "8                                NaN  \n",
              "9                                NaN  "
            ],
            "text/html": [
              "\n",
              "  <div id=\"df-160be6e7-5646-4938-89fc-1ee17b47cba9\">\n",
              "    <div class=\"colab-df-container\">\n",
              "      <div>\n",
              "<style scoped>\n",
              "    .dataframe tbody tr th:only-of-type {\n",
              "        vertical-align: middle;\n",
              "    }\n",
              "\n",
              "    .dataframe tbody tr th {\n",
              "        vertical-align: top;\n",
              "    }\n",
              "\n",
              "    .dataframe thead th {\n",
              "        text-align: right;\n",
              "    }\n",
              "</style>\n",
              "<table border=\"1\" class=\"dataframe\">\n",
              "  <thead>\n",
              "    <tr style=\"text-align: right;\">\n",
              "      <th></th>\n",
              "      <th>Text</th>\n",
              "      <th>Class</th>\n",
              "      <th>PureText</th>\n",
              "      <th>ConEmoji</th>\n",
              "      <th>Emojis</th>\n",
              "      <th>Con_emoji_meanings</th>\n",
              "    </tr>\n",
              "  </thead>\n",
              "  <tbody>\n",
              "    <tr>\n",
              "      <th>0</th>\n",
              "      <td>ඝරසරප චිත්‍රපටය පහළ තියෙන එකෙන් කරගන්න</td>\n",
              "      <td>Neutral</td>\n",
              "      <td>ඝරසරප චිත්‍රපටය පහළ තියෙන එකෙන් කරගන්න</td>\n",
              "      <td>NaN</td>\n",
              "      <td>NaN</td>\n",
              "      <td>NaN</td>\n",
              "    </tr>\n",
              "    <tr>\n",
              "      <th>1</th>\n",
              "      <td>මොකක් හරි නාට්‍යයක් තියෙන්නත් එපැයි</td>\n",
              "      <td>Neutral</td>\n",
              "      <td>මොකක් හරි නාට්‍යයක් තියෙන්නත් එපැයි ඉතින්</td>\n",
              "      <td>NaN</td>\n",
              "      <td>NaN</td>\n",
              "      <td>NaN</td>\n",
              "    </tr>\n",
              "    <tr>\n",
              "      <th>2</th>\n",
              "      <td>කිමද තරම් කොහේදෝ විදපු ගලක් උරන මා මිතුරු...</td>\n",
              "      <td>Neutral</td>\n",
              "      <td>කිමද මේ තරම් කොහේදෝ ඇති විදපු ගලක් හා උරන...</td>\n",
              "      <td>NaN</td>\n",
              "      <td>NaN</td>\n",
              "      <td>NaN</td>\n",
              "    </tr>\n",
              "    <tr>\n",
              "      <th>3</th>\n",
              "      <td>එහෙම කොහොමද උනේ  😂  පරය අපිව අයින් කරල නේ  😂</td>\n",
              "      <td>Neutral</td>\n",
              "      <td>එහෙම කොහොමද උනේ    පරය අපිව අයින් කරල නේ</td>\n",
              "      <td>😂 😂</td>\n",
              "      <td>😂 😂</td>\n",
              "      <td>face tears joy face tears joy</td>\n",
              "    </tr>\n",
              "    <tr>\n",
              "      <th>4</th>\n",
              "      <td>විමලයා ගොනෙක් වගෙ එකෙ මෑරෙන්න හදනවා පරය රටට ව...</td>\n",
              "      <td>Political</td>\n",
              "      <td>විමලයා ගොනෙක් වගෙ එකෙ මෑරෙන්න හදනවා පරය රටට ව...</td>\n",
              "      <td>NaN</td>\n",
              "      <td>NaN</td>\n",
              "      <td>NaN</td>\n",
              "    </tr>\n",
              "    <tr>\n",
              "      <th>5</th>\n",
              "      <td>ලැජ්ජයි ස⁣හෝදරයා විදිහ දැක්කාම ඔබලාගේ කුලල...</td>\n",
              "      <td>Racist</td>\n",
              "      <td>ලැජ්ජයි ස⁣හෝදරයා මේ යන විදිහ දැක්කාම ඔබලාග...</td>\n",
              "      <td>NaN</td>\n",
              "      <td>NaN</td>\n",
              "      <td>NaN</td>\n",
              "    </tr>\n",
              "    <tr>\n",
              "      <th>6</th>\n",
              "      <td>ලැජ්ජයි ස⁣හෝදරයා විදිහ දැක්කාම ඔබලාගේ කුලල්ක...</td>\n",
              "      <td>Racist</td>\n",
              "      <td>ලැජ්ජයි ස⁣හෝදරයා මේ යන විදිහ දැක්කාම ඔබලාගේ ...</td>\n",
              "      <td>NaN</td>\n",
              "      <td>NaN</td>\n",
              "      <td>NaN</td>\n",
              "    </tr>\n",
              "    <tr>\n",
              "      <th>7</th>\n",
              "      <td>මං තම්බි වගේද පෙන්නෙ 😏  මං බ්‍රහස්පතින්දා ...</td>\n",
              "      <td>Neutral</td>\n",
              "      <td>ඇයි මං තම්බි වගේද පෙන්නෙ   මං බ්‍රහස්පතින්...</td>\n",
              "      <td>😏 😅</td>\n",
              "      <td>😏 😅</td>\n",
              "      <td>smirking face grinning face sweat</td>\n",
              "    </tr>\n",
              "    <tr>\n",
              "      <th>8</th>\n",
              "      <td>ඉටිම් බං උතුර ඉල්ලනසෙට් එකයි නැගෙනහිරපඉල්ලන...</td>\n",
              "      <td>Racist</td>\n",
              "      <td>ඉටිම් බං උතුර ඉල්ලනසෙට් එකයි නැගෙනහිරපඉල්ලන...</td>\n",
              "      <td>NaN</td>\n",
              "      <td>NaN</td>\n",
              "      <td>NaN</td>\n",
              "    </tr>\n",
              "    <tr>\n",
              "      <th>9</th>\n",
              "      <td>පේනවානේ තම්බි කවදත් ඉන්නේ උන්ට වාසි පැත්තේ...</td>\n",
              "      <td>Racist</td>\n",
              "      <td>පේනවානේ තම්බි කවදත් ඉන්නේ උන්ට වාසි පැත්තේ...</td>\n",
              "      <td>NaN</td>\n",
              "      <td>NaN</td>\n",
              "      <td>NaN</td>\n",
              "    </tr>\n",
              "  </tbody>\n",
              "</table>\n",
              "</div>\n",
              "      <button class=\"colab-df-convert\" onclick=\"convertToInteractive('df-160be6e7-5646-4938-89fc-1ee17b47cba9')\"\n",
              "              title=\"Convert this dataframe to an interactive table.\"\n",
              "              style=\"display:none;\">\n",
              "        \n",
              "  <svg xmlns=\"http://www.w3.org/2000/svg\" height=\"24px\"viewBox=\"0 0 24 24\"\n",
              "       width=\"24px\">\n",
              "    <path d=\"M0 0h24v24H0V0z\" fill=\"none\"/>\n",
              "    <path d=\"M18.56 5.44l.94 2.06.94-2.06 2.06-.94-2.06-.94-.94-2.06-.94 2.06-2.06.94zm-11 1L8.5 8.5l.94-2.06 2.06-.94-2.06-.94L8.5 2.5l-.94 2.06-2.06.94zm10 10l.94 2.06.94-2.06 2.06-.94-2.06-.94-.94-2.06-.94 2.06-2.06.94z\"/><path d=\"M17.41 7.96l-1.37-1.37c-.4-.4-.92-.59-1.43-.59-.52 0-1.04.2-1.43.59L10.3 9.45l-7.72 7.72c-.78.78-.78 2.05 0 2.83L4 21.41c.39.39.9.59 1.41.59.51 0 1.02-.2 1.41-.59l7.78-7.78 2.81-2.81c.8-.78.8-2.07 0-2.86zM5.41 20L4 18.59l7.72-7.72 1.47 1.35L5.41 20z\"/>\n",
              "  </svg>\n",
              "      </button>\n",
              "      \n",
              "  <style>\n",
              "    .colab-df-container {\n",
              "      display:flex;\n",
              "      flex-wrap:wrap;\n",
              "      gap: 12px;\n",
              "    }\n",
              "\n",
              "    .colab-df-convert {\n",
              "      background-color: #E8F0FE;\n",
              "      border: none;\n",
              "      border-radius: 50%;\n",
              "      cursor: pointer;\n",
              "      display: none;\n",
              "      fill: #1967D2;\n",
              "      height: 32px;\n",
              "      padding: 0 0 0 0;\n",
              "      width: 32px;\n",
              "    }\n",
              "\n",
              "    .colab-df-convert:hover {\n",
              "      background-color: #E2EBFA;\n",
              "      box-shadow: 0px 1px 2px rgba(60, 64, 67, 0.3), 0px 1px 3px 1px rgba(60, 64, 67, 0.15);\n",
              "      fill: #174EA6;\n",
              "    }\n",
              "\n",
              "    [theme=dark] .colab-df-convert {\n",
              "      background-color: #3B4455;\n",
              "      fill: #D2E3FC;\n",
              "    }\n",
              "\n",
              "    [theme=dark] .colab-df-convert:hover {\n",
              "      background-color: #434B5C;\n",
              "      box-shadow: 0px 1px 3px 1px rgba(0, 0, 0, 0.15);\n",
              "      filter: drop-shadow(0px 1px 2px rgba(0, 0, 0, 0.3));\n",
              "      fill: #FFFFFF;\n",
              "    }\n",
              "  </style>\n",
              "\n",
              "      <script>\n",
              "        const buttonEl =\n",
              "          document.querySelector('#df-160be6e7-5646-4938-89fc-1ee17b47cba9 button.colab-df-convert');\n",
              "        buttonEl.style.display =\n",
              "          google.colab.kernel.accessAllowed ? 'block' : 'none';\n",
              "\n",
              "        async function convertToInteractive(key) {\n",
              "          const element = document.querySelector('#df-160be6e7-5646-4938-89fc-1ee17b47cba9');\n",
              "          const dataTable =\n",
              "            await google.colab.kernel.invokeFunction('convertToInteractive',\n",
              "                                                     [key], {});\n",
              "          if (!dataTable) return;\n",
              "\n",
              "          const docLinkHtml = 'Like what you see? Visit the ' +\n",
              "            '<a target=\"_blank\" href=https://colab.research.google.com/notebooks/data_table.ipynb>data table notebook</a>'\n",
              "            + ' to learn more about interactive tables.';\n",
              "          element.innerHTML = '';\n",
              "          dataTable['output_type'] = 'display_data';\n",
              "          await google.colab.output.renderOutput(dataTable, element);\n",
              "          const docLink = document.createElement('div');\n",
              "          docLink.innerHTML = docLinkHtml;\n",
              "          element.appendChild(docLink);\n",
              "        }\n",
              "      </script>\n",
              "    </div>\n",
              "  </div>\n",
              "  "
            ]
          },
          "metadata": {},
          "execution_count": 4
        }
      ]
    },
    {
      "cell_type": "code",
      "source": [
        "DF.isna().sum()"
      ],
      "metadata": {
        "colab": {
          "base_uri": "https://localhost:8080/"
        },
        "id": "h201OkejF09J",
        "outputId": "aab0961c-ea05-4481-d218-20ff5b0265a9"
      },
      "execution_count": 5,
      "outputs": [
        {
          "output_type": "execute_result",
          "data": {
            "text/plain": [
              "Text                     0\n",
              "Class                    0\n",
              "PureText                 0\n",
              "ConEmoji              1255\n",
              "Emojis                1046\n",
              "Con_emoji_meanings    1255\n",
              "dtype: int64"
            ]
          },
          "metadata": {},
          "execution_count": 5
        }
      ]
    },
    {
      "cell_type": "code",
      "source": [
        "DF = DF.fillna('N/A')"
      ],
      "metadata": {
        "id": "c2zBB_qkIK2q"
      },
      "execution_count": 6,
      "outputs": []
    },
    {
      "cell_type": "code",
      "source": [
        "DF.isna().sum()"
      ],
      "metadata": {
        "colab": {
          "base_uri": "https://localhost:8080/"
        },
        "id": "lT8ERkw3IQL8",
        "outputId": "e2a2bf24-4159-4ccd-99a4-8a94c9038d56"
      },
      "execution_count": 7,
      "outputs": [
        {
          "output_type": "execute_result",
          "data": {
            "text/plain": [
              "Text                  0\n",
              "Class                 0\n",
              "PureText              0\n",
              "ConEmoji              0\n",
              "Emojis                0\n",
              "Con_emoji_meanings    0\n",
              "dtype: int64"
            ]
          },
          "metadata": {},
          "execution_count": 7
        }
      ]
    },
    {
      "cell_type": "code",
      "source": [
        "def remove_punctuation(text):\n",
        "    if isinstance(text, str):\n",
        "        return text.translate(str.maketrans('', '', string.punctuation))\n",
        "    else:\n",
        "        return text\n"
      ],
      "metadata": {
        "id": "BZknpdkCiJIT"
      },
      "execution_count": 8,
      "outputs": []
    },
    {
      "cell_type": "code",
      "source": [
        "DF['Con_emoji_meanings'] =  DF['Con_emoji_meanings'].apply(remove_punctuation)"
      ],
      "metadata": {
        "id": "Ii8P8sWRiaSr"
      },
      "execution_count": 9,
      "outputs": []
    },
    {
      "cell_type": "code",
      "source": [
        "DF.head(10)"
      ],
      "metadata": {
        "colab": {
          "base_uri": "https://localhost:8080/",
          "height": 563
        },
        "id": "Q-2xi9qYkejS",
        "outputId": "df0934a2-480d-44f5-fd94-f43a8d2ac2d7"
      },
      "execution_count": 10,
      "outputs": [
        {
          "output_type": "execute_result",
          "data": {
            "text/plain": [
              "                                                Text      Class  \\\n",
              "0        ඝරසරප චිත්‍රපටය පහළ තියෙන එකෙන් කරගන්න         Neutral   \n",
              "1               මොකක් හරි නාට්‍යයක් තියෙන්නත් එපැයි     Neutral   \n",
              "2       කිමද තරම් කොහේදෝ විදපු ගලක් උරන මා මිතුරු...    Neutral   \n",
              "3       එහෙම කොහොමද උනේ  😂  පරය අපිව අයින් කරල නේ  😂    Neutral   \n",
              "4   විමලයා ගොනෙක් වගෙ එකෙ මෑරෙන්න හදනවා පරය රටට ව...  Political   \n",
              "5      ලැජ්ජයි ස⁣හෝදරයා විදිහ දැක්කාම ඔබලාගේ කුලල...     Racist   \n",
              "6    ලැජ්ජයි ස⁣හෝදරයා විදිහ දැක්කාම ඔබලාගේ කුලල්ක...     Racist   \n",
              "7      මං තම්බි වගේද පෙන්නෙ 😏  මං බ්‍රහස්පතින්දා ...    Neutral   \n",
              "8     ඉටිම් බං උතුර ඉල්ලනසෙට් එකයි නැගෙනහිරපඉල්ලන...     Racist   \n",
              "9      පේනවානේ තම්බි කවදත් ඉන්නේ උන්ට වාසි පැත්තේ...     Racist   \n",
              "\n",
              "                                            PureText ConEmoji Emojis  \\\n",
              "0        ඝරසරප චිත්‍රපටය පහළ තියෙන එකෙන් කරගන්න           N/A    N/A   \n",
              "1         මොකක් හරි නාට්‍යයක් තියෙන්නත් එපැයි ඉතින්       N/A    N/A   \n",
              "2       කිමද මේ තරම් කොහේදෝ ඇති විදපු ගලක් හා උරන...      N/A    N/A   \n",
              "3         එහෙම කොහොමද උනේ    පරය අපිව අයින් කරල නේ        😂 😂    😂 😂   \n",
              "4   විමලයා ගොනෙක් වගෙ එකෙ මෑරෙන්න හදනවා පරය රටට ව...      N/A    N/A   \n",
              "5      ලැජ්ජයි ස⁣හෝදරයා මේ යන විදිහ දැක්කාම ඔබලාග...      N/A    N/A   \n",
              "6    ලැජ්ජයි ස⁣හෝදරයා මේ යන විදිහ දැක්කාම ඔබලාගේ ...      N/A    N/A   \n",
              "7      ඇයි මං තම්බි වගේද පෙන්නෙ   මං බ්‍රහස්පතින්...      😏 😅    😏 😅   \n",
              "8     ඉටිම් බං උතුර ඉල්ලනසෙට් එකයි නැගෙනහිරපඉල්ලන...      N/A    N/A   \n",
              "9      පේනවානේ තම්බි කවදත් ඉන්නේ උන්ට වාසි පැත්තේ...      N/A    N/A   \n",
              "\n",
              "                  Con_emoji_meanings  \n",
              "0                                 NA  \n",
              "1                                 NA  \n",
              "2                                 NA  \n",
              "3      face tears joy face tears joy  \n",
              "4                                 NA  \n",
              "5                                 NA  \n",
              "6                                 NA  \n",
              "7  smirking face grinning face sweat  \n",
              "8                                 NA  \n",
              "9                                 NA  "
            ],
            "text/html": [
              "\n",
              "  <div id=\"df-e34da23e-38db-469d-9fb4-af084cf9e65a\">\n",
              "    <div class=\"colab-df-container\">\n",
              "      <div>\n",
              "<style scoped>\n",
              "    .dataframe tbody tr th:only-of-type {\n",
              "        vertical-align: middle;\n",
              "    }\n",
              "\n",
              "    .dataframe tbody tr th {\n",
              "        vertical-align: top;\n",
              "    }\n",
              "\n",
              "    .dataframe thead th {\n",
              "        text-align: right;\n",
              "    }\n",
              "</style>\n",
              "<table border=\"1\" class=\"dataframe\">\n",
              "  <thead>\n",
              "    <tr style=\"text-align: right;\">\n",
              "      <th></th>\n",
              "      <th>Text</th>\n",
              "      <th>Class</th>\n",
              "      <th>PureText</th>\n",
              "      <th>ConEmoji</th>\n",
              "      <th>Emojis</th>\n",
              "      <th>Con_emoji_meanings</th>\n",
              "    </tr>\n",
              "  </thead>\n",
              "  <tbody>\n",
              "    <tr>\n",
              "      <th>0</th>\n",
              "      <td>ඝරසරප චිත්‍රපටය පහළ තියෙන එකෙන් කරගන්න</td>\n",
              "      <td>Neutral</td>\n",
              "      <td>ඝරසරප චිත්‍රපටය පහළ තියෙන එකෙන් කරගන්න</td>\n",
              "      <td>N/A</td>\n",
              "      <td>N/A</td>\n",
              "      <td>NA</td>\n",
              "    </tr>\n",
              "    <tr>\n",
              "      <th>1</th>\n",
              "      <td>මොකක් හරි නාට්‍යයක් තියෙන්නත් එපැයි</td>\n",
              "      <td>Neutral</td>\n",
              "      <td>මොකක් හරි නාට්‍යයක් තියෙන්නත් එපැයි ඉතින්</td>\n",
              "      <td>N/A</td>\n",
              "      <td>N/A</td>\n",
              "      <td>NA</td>\n",
              "    </tr>\n",
              "    <tr>\n",
              "      <th>2</th>\n",
              "      <td>කිමද තරම් කොහේදෝ විදපු ගලක් උරන මා මිතුරු...</td>\n",
              "      <td>Neutral</td>\n",
              "      <td>කිමද මේ තරම් කොහේදෝ ඇති විදපු ගලක් හා උරන...</td>\n",
              "      <td>N/A</td>\n",
              "      <td>N/A</td>\n",
              "      <td>NA</td>\n",
              "    </tr>\n",
              "    <tr>\n",
              "      <th>3</th>\n",
              "      <td>එහෙම කොහොමද උනේ  😂  පරය අපිව අයින් කරල නේ  😂</td>\n",
              "      <td>Neutral</td>\n",
              "      <td>එහෙම කොහොමද උනේ    පරය අපිව අයින් කරල නේ</td>\n",
              "      <td>😂 😂</td>\n",
              "      <td>😂 😂</td>\n",
              "      <td>face tears joy face tears joy</td>\n",
              "    </tr>\n",
              "    <tr>\n",
              "      <th>4</th>\n",
              "      <td>විමලයා ගොනෙක් වගෙ එකෙ මෑරෙන්න හදනවා පරය රටට ව...</td>\n",
              "      <td>Political</td>\n",
              "      <td>විමලයා ගොනෙක් වගෙ එකෙ මෑරෙන්න හදනවා පරය රටට ව...</td>\n",
              "      <td>N/A</td>\n",
              "      <td>N/A</td>\n",
              "      <td>NA</td>\n",
              "    </tr>\n",
              "    <tr>\n",
              "      <th>5</th>\n",
              "      <td>ලැජ්ජයි ස⁣හෝදරයා විදිහ දැක්කාම ඔබලාගේ කුලල...</td>\n",
              "      <td>Racist</td>\n",
              "      <td>ලැජ්ජයි ස⁣හෝදරයා මේ යන විදිහ දැක්කාම ඔබලාග...</td>\n",
              "      <td>N/A</td>\n",
              "      <td>N/A</td>\n",
              "      <td>NA</td>\n",
              "    </tr>\n",
              "    <tr>\n",
              "      <th>6</th>\n",
              "      <td>ලැජ්ජයි ස⁣හෝදරයා විදිහ දැක්කාම ඔබලාගේ කුලල්ක...</td>\n",
              "      <td>Racist</td>\n",
              "      <td>ලැජ්ජයි ස⁣හෝදරයා මේ යන විදිහ දැක්කාම ඔබලාගේ ...</td>\n",
              "      <td>N/A</td>\n",
              "      <td>N/A</td>\n",
              "      <td>NA</td>\n",
              "    </tr>\n",
              "    <tr>\n",
              "      <th>7</th>\n",
              "      <td>මං තම්බි වගේද පෙන්නෙ 😏  මං බ්‍රහස්පතින්දා ...</td>\n",
              "      <td>Neutral</td>\n",
              "      <td>ඇයි මං තම්බි වගේද පෙන්නෙ   මං බ්‍රහස්පතින්...</td>\n",
              "      <td>😏 😅</td>\n",
              "      <td>😏 😅</td>\n",
              "      <td>smirking face grinning face sweat</td>\n",
              "    </tr>\n",
              "    <tr>\n",
              "      <th>8</th>\n",
              "      <td>ඉටිම් බං උතුර ඉල්ලනසෙට් එකයි නැගෙනහිරපඉල්ලන...</td>\n",
              "      <td>Racist</td>\n",
              "      <td>ඉටිම් බං උතුර ඉල්ලනසෙට් එකයි නැගෙනහිරපඉල්ලන...</td>\n",
              "      <td>N/A</td>\n",
              "      <td>N/A</td>\n",
              "      <td>NA</td>\n",
              "    </tr>\n",
              "    <tr>\n",
              "      <th>9</th>\n",
              "      <td>පේනවානේ තම්බි කවදත් ඉන්නේ උන්ට වාසි පැත්තේ...</td>\n",
              "      <td>Racist</td>\n",
              "      <td>පේනවානේ තම්බි කවදත් ඉන්නේ උන්ට වාසි පැත්තේ...</td>\n",
              "      <td>N/A</td>\n",
              "      <td>N/A</td>\n",
              "      <td>NA</td>\n",
              "    </tr>\n",
              "  </tbody>\n",
              "</table>\n",
              "</div>\n",
              "      <button class=\"colab-df-convert\" onclick=\"convertToInteractive('df-e34da23e-38db-469d-9fb4-af084cf9e65a')\"\n",
              "              title=\"Convert this dataframe to an interactive table.\"\n",
              "              style=\"display:none;\">\n",
              "        \n",
              "  <svg xmlns=\"http://www.w3.org/2000/svg\" height=\"24px\"viewBox=\"0 0 24 24\"\n",
              "       width=\"24px\">\n",
              "    <path d=\"M0 0h24v24H0V0z\" fill=\"none\"/>\n",
              "    <path d=\"M18.56 5.44l.94 2.06.94-2.06 2.06-.94-2.06-.94-.94-2.06-.94 2.06-2.06.94zm-11 1L8.5 8.5l.94-2.06 2.06-.94-2.06-.94L8.5 2.5l-.94 2.06-2.06.94zm10 10l.94 2.06.94-2.06 2.06-.94-2.06-.94-.94-2.06-.94 2.06-2.06.94z\"/><path d=\"M17.41 7.96l-1.37-1.37c-.4-.4-.92-.59-1.43-.59-.52 0-1.04.2-1.43.59L10.3 9.45l-7.72 7.72c-.78.78-.78 2.05 0 2.83L4 21.41c.39.39.9.59 1.41.59.51 0 1.02-.2 1.41-.59l7.78-7.78 2.81-2.81c.8-.78.8-2.07 0-2.86zM5.41 20L4 18.59l7.72-7.72 1.47 1.35L5.41 20z\"/>\n",
              "  </svg>\n",
              "      </button>\n",
              "      \n",
              "  <style>\n",
              "    .colab-df-container {\n",
              "      display:flex;\n",
              "      flex-wrap:wrap;\n",
              "      gap: 12px;\n",
              "    }\n",
              "\n",
              "    .colab-df-convert {\n",
              "      background-color: #E8F0FE;\n",
              "      border: none;\n",
              "      border-radius: 50%;\n",
              "      cursor: pointer;\n",
              "      display: none;\n",
              "      fill: #1967D2;\n",
              "      height: 32px;\n",
              "      padding: 0 0 0 0;\n",
              "      width: 32px;\n",
              "    }\n",
              "\n",
              "    .colab-df-convert:hover {\n",
              "      background-color: #E2EBFA;\n",
              "      box-shadow: 0px 1px 2px rgba(60, 64, 67, 0.3), 0px 1px 3px 1px rgba(60, 64, 67, 0.15);\n",
              "      fill: #174EA6;\n",
              "    }\n",
              "\n",
              "    [theme=dark] .colab-df-convert {\n",
              "      background-color: #3B4455;\n",
              "      fill: #D2E3FC;\n",
              "    }\n",
              "\n",
              "    [theme=dark] .colab-df-convert:hover {\n",
              "      background-color: #434B5C;\n",
              "      box-shadow: 0px 1px 3px 1px rgba(0, 0, 0, 0.15);\n",
              "      filter: drop-shadow(0px 1px 2px rgba(0, 0, 0, 0.3));\n",
              "      fill: #FFFFFF;\n",
              "    }\n",
              "  </style>\n",
              "\n",
              "      <script>\n",
              "        const buttonEl =\n",
              "          document.querySelector('#df-e34da23e-38db-469d-9fb4-af084cf9e65a button.colab-df-convert');\n",
              "        buttonEl.style.display =\n",
              "          google.colab.kernel.accessAllowed ? 'block' : 'none';\n",
              "\n",
              "        async function convertToInteractive(key) {\n",
              "          const element = document.querySelector('#df-e34da23e-38db-469d-9fb4-af084cf9e65a');\n",
              "          const dataTable =\n",
              "            await google.colab.kernel.invokeFunction('convertToInteractive',\n",
              "                                                     [key], {});\n",
              "          if (!dataTable) return;\n",
              "\n",
              "          const docLinkHtml = 'Like what you see? Visit the ' +\n",
              "            '<a target=\"_blank\" href=https://colab.research.google.com/notebooks/data_table.ipynb>data table notebook</a>'\n",
              "            + ' to learn more about interactive tables.';\n",
              "          element.innerHTML = '';\n",
              "          dataTable['output_type'] = 'display_data';\n",
              "          await google.colab.output.renderOutput(dataTable, element);\n",
              "          const docLink = document.createElement('div');\n",
              "          docLink.innerHTML = docLinkHtml;\n",
              "          element.appendChild(docLink);\n",
              "        }\n",
              "      </script>\n",
              "    </div>\n",
              "  </div>\n",
              "  "
            ]
          },
          "metadata": {},
          "execution_count": 10
        }
      ]
    },
    {
      "cell_type": "code",
      "source": [
        "import nltk\n",
        "from nltk.stem import PorterStemmer\n",
        "\n",
        "# download necessary nltk resources (only needed once)\n",
        "nltk.download('punkt')\n",
        "\n",
        "# create a stemmer object\n",
        "stemmer = PorterStemmer()\n",
        "# define a DataFrame with text data\n"
      ],
      "metadata": {
        "colab": {
          "base_uri": "https://localhost:8080/"
        },
        "id": "J8WVF_jxkr36",
        "outputId": "8805531c-f283-41cb-cf33-b96f1a71617a"
      },
      "execution_count": 11,
      "outputs": [
        {
          "output_type": "stream",
          "name": "stderr",
          "text": [
            "[nltk_data] Downloading package punkt to /root/nltk_data...\n",
            "[nltk_data]   Unzipping tokenizers/punkt.zip.\n"
          ]
        }
      ]
    },
    {
      "cell_type": "code",
      "source": [
        "DF['Con_emoji_meanings'] = DF['Con_emoji_meanings'].fillna('')"
      ],
      "metadata": {
        "id": "ZwlYS8HAleI4"
      },
      "execution_count": 12,
      "outputs": []
    },
    {
      "cell_type": "code",
      "source": [
        "DF['Con_emoji_meanings'] =  DF['Con_emoji_meanings'].apply(nltk.word_tokenize)"
      ],
      "metadata": {
        "id": "Dct2NX_4kzmY"
      },
      "execution_count": 13,
      "outputs": []
    },
    {
      "cell_type": "code",
      "source": [
        "DF['Con_emoji_meanings'] =  DF['Con_emoji_meanings'].apply(lambda x: [stemmer.stem(word) for word in x])"
      ],
      "metadata": {
        "id": "MUWJUwUBlkE-"
      },
      "execution_count": 14,
      "outputs": []
    },
    {
      "cell_type": "code",
      "source": [
        "DF['Con_emoji_meanings']  =  DF['Con_emoji_meanings'] .apply(lambda x: \" \".join(x))"
      ],
      "metadata": {
        "id": "zxS_Ev9HlrL8"
      },
      "execution_count": 15,
      "outputs": []
    },
    {
      "cell_type": "markdown",
      "source": [
        "# **CONVERT EMOJI INTO SINHALA**"
      ],
      "metadata": {
        "id": "Nn18ZHImlzRM"
      }
    },
    {
      "cell_type": "code",
      "source": [
        "# english-sinhala dictionary\n",
        "dictionary = {}\n",
        "df= pd.read_csv('emojiSinhala.csv')\n",
        "dictionary_file = df[\"En,sinhala\"]\n",
        "\n",
        "for line in dictionary_file:\n",
        "    key, value = line.strip().split(\",\")\n",
        "    dictionary[key] = value"
      ],
      "metadata": {
        "id": "XrTM7kxOly0P"
      },
      "execution_count": 16,
      "outputs": []
    },
    {
      "cell_type": "code",
      "source": [
        "# to check whether the string contains English words(any)\n",
        "def translate_english(x):\n",
        "    for word1 in x.split():\n",
        "        new_word = ''.join(i for i in word1 if not i.isdigit())\n",
        "        x = x.replace(word1, new_word)\n",
        "    for word in x.split():\n",
        "        word2 = \"\".join(l for l in word if l not in string.punctuation)\n",
        "        if re.match('[a-zA-Z]', word2) is not None:\n",
        "            word1 = word2.lower()\n",
        "            translated_word = dictionary.get(word1)\n",
        "            if translated_word is None:\n",
        "                translated_word = ''\n",
        "            x = x.replace(word, translated_word)\n",
        "    return x"
      ],
      "metadata": {
        "id": "gQMuYakal9NL"
      },
      "execution_count": 17,
      "outputs": []
    },
    {
      "cell_type": "code",
      "source": [
        "DF['Con_emoji_meanings_sinhala'] = DF['Con_emoji_meanings'].apply(translate_english)"
      ],
      "metadata": {
        "id": "ELpI7tsxmoZQ"
      },
      "execution_count": 18,
      "outputs": []
    },
    {
      "cell_type": "code",
      "source": [
        "DF.head(20)"
      ],
      "metadata": {
        "colab": {
          "base_uri": "https://localhost:8080/",
          "height": 1000
        },
        "id": "hWRAiEZgmvCa",
        "outputId": "32d0c5cf-c655-4f54-b2fe-c676a6bc66be"
      },
      "execution_count": 19,
      "outputs": [
        {
          "output_type": "execute_result",
          "data": {
            "text/plain": [
              "                                                 Text      Class  \\\n",
              "0         ඝරසරප චිත්‍රපටය පහළ තියෙන එකෙන් කරගන්න         Neutral   \n",
              "1                මොකක් හරි නාට්‍යයක් තියෙන්නත් එපැයි     Neutral   \n",
              "2        කිමද තරම් කොහේදෝ විදපු ගලක් උරන මා මිතුරු...    Neutral   \n",
              "3        එහෙම කොහොමද උනේ  😂  පරය අපිව අයින් කරල නේ  😂    Neutral   \n",
              "4    විමලයා ගොනෙක් වගෙ එකෙ මෑරෙන්න හදනවා පරය රටට ව...  Political   \n",
              "5       ලැජ්ජයි ස⁣හෝදරයා විදිහ දැක්කාම ඔබලාගේ කුලල...     Racist   \n",
              "6     ලැජ්ජයි ස⁣හෝදරයා විදිහ දැක්කාම ඔබලාගේ කුලල්ක...     Racist   \n",
              "7       මං තම්බි වගේද පෙන්නෙ 😏  මං බ්‍රහස්පතින්දා ...    Neutral   \n",
              "8      ඉටිම් බං උතුර ඉල්ලනසෙට් එකයි නැගෙනහිරපඉල්ලන...     Racist   \n",
              "9       පේනවානේ තම්බි කවදත් ඉන්නේ උන්ට වාසි පැත්තේ...     Racist   \n",
              "10     ඉතිහාසය ඉදිරියේ මෙවැනි හෙළිදරවුවක් කිරීමට අ...    Neutral   \n",
              "11             ඉස්ලාමය ත්‍රස්තවාදීයි  එහි තේරුම එයයි      Racist   \n",
              "12     පළ පළ තම්බි හුනා තමන්ගේ වැඩක් බලාගෙන හිටු අ...     Racist   \n",
              "13     අඩෝ තම්බි පරයා  කට වහගෙන හිටු අල්ලාහ්ගේ හොර...     Racist   \n",
              "14   කාද යකෝ ඕසදීව ඩීප්ෆ්‍රීසර් එකෙ හිර කරල තිබ්බ ...     Sexism   \n",
              "15   එක පැත්තකින් බැලුවාම උඩතලවින්නේ තම්බි දණ ගැස්...     Racist   \n",
              "16     සිංහලයාට සිංහල පක්ෂ නැතිමුත් දෙමළාට ඉලම පක්...     Racist   \n",
              "17     ලෝකයටම පිළිලයක් වු මරක්කල කරණය වහබ්වාදය වෙන...     Racist   \n",
              "18                                         පලයන් පරය     Neutral   \n",
              "19   රැවුල කොණ්ඩෙ කපන්න ගිහින් පොඩ්ඩක් කොටකරන්න කි...    Neutral   \n",
              "\n",
              "                                             PureText ConEmoji Emojis  \\\n",
              "0         ඝරසරප චිත්‍රපටය පහළ තියෙන එකෙන් කරගන්න           N/A    N/A   \n",
              "1          මොකක් හරි නාට්‍යයක් තියෙන්නත් එපැයි ඉතින්       N/A    N/A   \n",
              "2        කිමද මේ තරම් කොහේදෝ ඇති විදපු ගලක් හා උරන...      N/A    N/A   \n",
              "3          එහෙම කොහොමද උනේ    පරය අපිව අයින් කරල නේ        😂 😂    😂 😂   \n",
              "4    විමලයා ගොනෙක් වගෙ එකෙ මෑරෙන්න හදනවා පරය රටට ව...      N/A    N/A   \n",
              "5       ලැජ්ජයි ස⁣හෝදරයා මේ යන විදිහ දැක්කාම ඔබලාග...      N/A    N/A   \n",
              "6     ලැජ්ජයි ස⁣හෝදරයා මේ යන විදිහ දැක්කාම ඔබලාගේ ...      N/A    N/A   \n",
              "7       ඇයි මං තම්බි වගේද පෙන්නෙ   මං බ්‍රහස්පතින්...      😏 😅    😏 😅   \n",
              "8      ඉටිම් බං උතුර ඉල්ලනසෙට් එකයි නැගෙනහිරපඉල්ලන...      N/A    N/A   \n",
              "9       පේනවානේ තම්බි කවදත් ඉන්නේ උන්ට වාසි පැත්තේ...      N/A    N/A   \n",
              "10     ඉතිහාසය ඉදිරියේ මෙවැනි හෙළිදරවුවක් කිරීමට අ...      N/A    N/A   \n",
              "11             ඉස්ලාමය ත්‍රස්තවාදීයි  එහි තේරුම එයයි       N/A    N/A   \n",
              "12     පළ පළ තම්බි හුනා තමන්ගේ වැඩක් බලාගෙන හිටු අ...      N/A    N/A   \n",
              "13     අඩෝ තම්බි පරයා  කට වහගෙන හිටු අල්ලාහ්ගේ හොර...      N/A    N/A   \n",
              "14   කාද යකෝ ඕසදීව ඩීප්ෆ්‍රීසර් එකෙ හිර කරල තිබ්බ ...      N/A    N/A   \n",
              "15   එක පැත්තකින් බැලුවාම උඩතලවින්නේ තම්බි දණ ගැස්...      N/A    N/A   \n",
              "16     සිංහලයාට සිංහල පක්ෂ නැතිමුත් දෙමළාට ඉලම වෙන...      N/A    N/A   \n",
              "17     ලෝකයටම පිළිලයක් වු මරක්කල කරණය වහබ්වාදය වෙන...      N/A    N/A   \n",
              "18                                         පලයන් පරය       N/A    N/A   \n",
              "19   රැවුල කොණ්ඩෙ කපන්න ගිහින් පොඩ්ඩක් කොටකරන්න කි...      😭 😢    😭 😢   \n",
              "\n",
              "             Con_emoji_meanings         Con_emoji_meanings_sinhala  \n",
              "0                            na                                     \n",
              "1                            na                                     \n",
              "2                            na                                     \n",
              "3   face tear joy face tear joy  මුහුණ කඳුළු සතුට මුහුණ කඳුළු සතුට  \n",
              "4                            na                                     \n",
              "5                            na                                     \n",
              "6                            na                                     \n",
              "7    smirk face grin face sweat            මුහුණ සිනහව මුහුණ දහඩිය  \n",
              "8                            na                                     \n",
              "9                            na                                     \n",
              "10                           na                                     \n",
              "11                           na                                     \n",
              "12                           na                                     \n",
              "13                           na                                     \n",
              "14                           na                                     \n",
              "15                           na                                     \n",
              "16                           na                                     \n",
              "17                           na                                     \n",
              "18                           na                                     \n",
              "19     loudli cri face cri face    හයියෙන් අඬනවා මුහුණ අඬනවා මුහුණ  "
            ],
            "text/html": [
              "\n",
              "  <div id=\"df-d93ac5b1-a2ce-49ac-934c-becf5e1ccb87\">\n",
              "    <div class=\"colab-df-container\">\n",
              "      <div>\n",
              "<style scoped>\n",
              "    .dataframe tbody tr th:only-of-type {\n",
              "        vertical-align: middle;\n",
              "    }\n",
              "\n",
              "    .dataframe tbody tr th {\n",
              "        vertical-align: top;\n",
              "    }\n",
              "\n",
              "    .dataframe thead th {\n",
              "        text-align: right;\n",
              "    }\n",
              "</style>\n",
              "<table border=\"1\" class=\"dataframe\">\n",
              "  <thead>\n",
              "    <tr style=\"text-align: right;\">\n",
              "      <th></th>\n",
              "      <th>Text</th>\n",
              "      <th>Class</th>\n",
              "      <th>PureText</th>\n",
              "      <th>ConEmoji</th>\n",
              "      <th>Emojis</th>\n",
              "      <th>Con_emoji_meanings</th>\n",
              "      <th>Con_emoji_meanings_sinhala</th>\n",
              "    </tr>\n",
              "  </thead>\n",
              "  <tbody>\n",
              "    <tr>\n",
              "      <th>0</th>\n",
              "      <td>ඝරසරප චිත්‍රපටය පහළ තියෙන එකෙන් කරගන්න</td>\n",
              "      <td>Neutral</td>\n",
              "      <td>ඝරසරප චිත්‍රපටය පහළ තියෙන එකෙන් කරගන්න</td>\n",
              "      <td>N/A</td>\n",
              "      <td>N/A</td>\n",
              "      <td>na</td>\n",
              "      <td></td>\n",
              "    </tr>\n",
              "    <tr>\n",
              "      <th>1</th>\n",
              "      <td>මොකක් හරි නාට්‍යයක් තියෙන්නත් එපැයි</td>\n",
              "      <td>Neutral</td>\n",
              "      <td>මොකක් හරි නාට්‍යයක් තියෙන්නත් එපැයි ඉතින්</td>\n",
              "      <td>N/A</td>\n",
              "      <td>N/A</td>\n",
              "      <td>na</td>\n",
              "      <td></td>\n",
              "    </tr>\n",
              "    <tr>\n",
              "      <th>2</th>\n",
              "      <td>කිමද තරම් කොහේදෝ විදපු ගලක් උරන මා මිතුරු...</td>\n",
              "      <td>Neutral</td>\n",
              "      <td>කිමද මේ තරම් කොහේදෝ ඇති විදපු ගලක් හා උරන...</td>\n",
              "      <td>N/A</td>\n",
              "      <td>N/A</td>\n",
              "      <td>na</td>\n",
              "      <td></td>\n",
              "    </tr>\n",
              "    <tr>\n",
              "      <th>3</th>\n",
              "      <td>එහෙම කොහොමද උනේ  😂  පරය අපිව අයින් කරල නේ  😂</td>\n",
              "      <td>Neutral</td>\n",
              "      <td>එහෙම කොහොමද උනේ    පරය අපිව අයින් කරල නේ</td>\n",
              "      <td>😂 😂</td>\n",
              "      <td>😂 😂</td>\n",
              "      <td>face tear joy face tear joy</td>\n",
              "      <td>මුහුණ කඳුළු සතුට මුහුණ කඳුළු සතුට</td>\n",
              "    </tr>\n",
              "    <tr>\n",
              "      <th>4</th>\n",
              "      <td>විමලයා ගොනෙක් වගෙ එකෙ මෑරෙන්න හදනවා පරය රටට ව...</td>\n",
              "      <td>Political</td>\n",
              "      <td>විමලයා ගොනෙක් වගෙ එකෙ මෑරෙන්න හදනවා පරය රටට ව...</td>\n",
              "      <td>N/A</td>\n",
              "      <td>N/A</td>\n",
              "      <td>na</td>\n",
              "      <td></td>\n",
              "    </tr>\n",
              "    <tr>\n",
              "      <th>5</th>\n",
              "      <td>ලැජ්ජයි ස⁣හෝදරයා විදිහ දැක්කාම ඔබලාගේ කුලල...</td>\n",
              "      <td>Racist</td>\n",
              "      <td>ලැජ්ජයි ස⁣හෝදරයා මේ යන විදිහ දැක්කාම ඔබලාග...</td>\n",
              "      <td>N/A</td>\n",
              "      <td>N/A</td>\n",
              "      <td>na</td>\n",
              "      <td></td>\n",
              "    </tr>\n",
              "    <tr>\n",
              "      <th>6</th>\n",
              "      <td>ලැජ්ජයි ස⁣හෝදරයා විදිහ දැක්කාම ඔබලාගේ කුලල්ක...</td>\n",
              "      <td>Racist</td>\n",
              "      <td>ලැජ්ජයි ස⁣හෝදරයා මේ යන විදිහ දැක්කාම ඔබලාගේ ...</td>\n",
              "      <td>N/A</td>\n",
              "      <td>N/A</td>\n",
              "      <td>na</td>\n",
              "      <td></td>\n",
              "    </tr>\n",
              "    <tr>\n",
              "      <th>7</th>\n",
              "      <td>මං තම්බි වගේද පෙන්නෙ 😏  මං බ්‍රහස්පතින්දා ...</td>\n",
              "      <td>Neutral</td>\n",
              "      <td>ඇයි මං තම්බි වගේද පෙන්නෙ   මං බ්‍රහස්පතින්...</td>\n",
              "      <td>😏 😅</td>\n",
              "      <td>😏 😅</td>\n",
              "      <td>smirk face grin face sweat</td>\n",
              "      <td>මුහුණ සිනහව මුහුණ දහඩිය</td>\n",
              "    </tr>\n",
              "    <tr>\n",
              "      <th>8</th>\n",
              "      <td>ඉටිම් බං උතුර ඉල්ලනසෙට් එකයි නැගෙනහිරපඉල්ලන...</td>\n",
              "      <td>Racist</td>\n",
              "      <td>ඉටිම් බං උතුර ඉල්ලනසෙට් එකයි නැගෙනහිරපඉල්ලන...</td>\n",
              "      <td>N/A</td>\n",
              "      <td>N/A</td>\n",
              "      <td>na</td>\n",
              "      <td></td>\n",
              "    </tr>\n",
              "    <tr>\n",
              "      <th>9</th>\n",
              "      <td>පේනවානේ තම්බි කවදත් ඉන්නේ උන්ට වාසි පැත්තේ...</td>\n",
              "      <td>Racist</td>\n",
              "      <td>පේනවානේ තම්බි කවදත් ඉන්නේ උන්ට වාසි පැත්තේ...</td>\n",
              "      <td>N/A</td>\n",
              "      <td>N/A</td>\n",
              "      <td>na</td>\n",
              "      <td></td>\n",
              "    </tr>\n",
              "    <tr>\n",
              "      <th>10</th>\n",
              "      <td>ඉතිහාසය ඉදිරියේ මෙවැනි හෙළිදරවුවක් කිරීමට අ...</td>\n",
              "      <td>Neutral</td>\n",
              "      <td>ඉතිහාසය ඉදිරියේ මෙවැනි හෙළිදරවුවක් කිරීමට අ...</td>\n",
              "      <td>N/A</td>\n",
              "      <td>N/A</td>\n",
              "      <td>na</td>\n",
              "      <td></td>\n",
              "    </tr>\n",
              "    <tr>\n",
              "      <th>11</th>\n",
              "      <td>ඉස්ලාමය ත්‍රස්තවාදීයි  එහි තේරුම එයයි</td>\n",
              "      <td>Racist</td>\n",
              "      <td>ඉස්ලාමය ත්‍රස්තවාදීයි  එහි තේරුම එයයි</td>\n",
              "      <td>N/A</td>\n",
              "      <td>N/A</td>\n",
              "      <td>na</td>\n",
              "      <td></td>\n",
              "    </tr>\n",
              "    <tr>\n",
              "      <th>12</th>\n",
              "      <td>පළ පළ තම්බි හුනා තමන්ගේ වැඩක් බලාගෙන හිටු අ...</td>\n",
              "      <td>Racist</td>\n",
              "      <td>පළ පළ තම්බි හුනා තමන්ගේ වැඩක් බලාගෙන හිටු අ...</td>\n",
              "      <td>N/A</td>\n",
              "      <td>N/A</td>\n",
              "      <td>na</td>\n",
              "      <td></td>\n",
              "    </tr>\n",
              "    <tr>\n",
              "      <th>13</th>\n",
              "      <td>අඩෝ තම්බි පරයා  කට වහගෙන හිටු අල්ලාහ්ගේ හොර...</td>\n",
              "      <td>Racist</td>\n",
              "      <td>අඩෝ තම්බි පරයා  කට වහගෙන හිටු අල්ලාහ්ගේ හොර...</td>\n",
              "      <td>N/A</td>\n",
              "      <td>N/A</td>\n",
              "      <td>na</td>\n",
              "      <td></td>\n",
              "    </tr>\n",
              "    <tr>\n",
              "      <th>14</th>\n",
              "      <td>කාද යකෝ ඕසදීව ඩීප්ෆ්‍රීසර් එකෙ හිර කරල තිබ්බ ...</td>\n",
              "      <td>Sexism</td>\n",
              "      <td>කාද යකෝ ඕසදීව ඩීප්ෆ්‍රීසර් එකෙ හිර කරල තිබ්බ ...</td>\n",
              "      <td>N/A</td>\n",
              "      <td>N/A</td>\n",
              "      <td>na</td>\n",
              "      <td></td>\n",
              "    </tr>\n",
              "    <tr>\n",
              "      <th>15</th>\n",
              "      <td>එක පැත්තකින් බැලුවාම උඩතලවින්නේ තම්බි දණ ගැස්...</td>\n",
              "      <td>Racist</td>\n",
              "      <td>එක පැත්තකින් බැලුවාම උඩතලවින්නේ තම්බි දණ ගැස්...</td>\n",
              "      <td>N/A</td>\n",
              "      <td>N/A</td>\n",
              "      <td>na</td>\n",
              "      <td></td>\n",
              "    </tr>\n",
              "    <tr>\n",
              "      <th>16</th>\n",
              "      <td>සිංහලයාට සිංහල පක්ෂ නැතිමුත් දෙමළාට ඉලම පක්...</td>\n",
              "      <td>Racist</td>\n",
              "      <td>සිංහලයාට සිංහල පක්ෂ නැතිමුත් දෙමළාට ඉලම වෙන...</td>\n",
              "      <td>N/A</td>\n",
              "      <td>N/A</td>\n",
              "      <td>na</td>\n",
              "      <td></td>\n",
              "    </tr>\n",
              "    <tr>\n",
              "      <th>17</th>\n",
              "      <td>ලෝකයටම පිළිලයක් වු මරක්කල කරණය වහබ්වාදය වෙන...</td>\n",
              "      <td>Racist</td>\n",
              "      <td>ලෝකයටම පිළිලයක් වු මරක්කල කරණය වහබ්වාදය වෙන...</td>\n",
              "      <td>N/A</td>\n",
              "      <td>N/A</td>\n",
              "      <td>na</td>\n",
              "      <td></td>\n",
              "    </tr>\n",
              "    <tr>\n",
              "      <th>18</th>\n",
              "      <td>පලයන් පරය</td>\n",
              "      <td>Neutral</td>\n",
              "      <td>පලයන් පරය</td>\n",
              "      <td>N/A</td>\n",
              "      <td>N/A</td>\n",
              "      <td>na</td>\n",
              "      <td></td>\n",
              "    </tr>\n",
              "    <tr>\n",
              "      <th>19</th>\n",
              "      <td>රැවුල කොණ්ඩෙ කපන්න ගිහින් පොඩ්ඩක් කොටකරන්න කි...</td>\n",
              "      <td>Neutral</td>\n",
              "      <td>රැවුල කොණ්ඩෙ කපන්න ගිහින් පොඩ්ඩක් කොටකරන්න කි...</td>\n",
              "      <td>😭 😢</td>\n",
              "      <td>😭 😢</td>\n",
              "      <td>loudli cri face cri face</td>\n",
              "      <td>හයියෙන් අඬනවා මුහුණ අඬනවා මුහුණ</td>\n",
              "    </tr>\n",
              "  </tbody>\n",
              "</table>\n",
              "</div>\n",
              "      <button class=\"colab-df-convert\" onclick=\"convertToInteractive('df-d93ac5b1-a2ce-49ac-934c-becf5e1ccb87')\"\n",
              "              title=\"Convert this dataframe to an interactive table.\"\n",
              "              style=\"display:none;\">\n",
              "        \n",
              "  <svg xmlns=\"http://www.w3.org/2000/svg\" height=\"24px\"viewBox=\"0 0 24 24\"\n",
              "       width=\"24px\">\n",
              "    <path d=\"M0 0h24v24H0V0z\" fill=\"none\"/>\n",
              "    <path d=\"M18.56 5.44l.94 2.06.94-2.06 2.06-.94-2.06-.94-.94-2.06-.94 2.06-2.06.94zm-11 1L8.5 8.5l.94-2.06 2.06-.94-2.06-.94L8.5 2.5l-.94 2.06-2.06.94zm10 10l.94 2.06.94-2.06 2.06-.94-2.06-.94-.94-2.06-.94 2.06-2.06.94z\"/><path d=\"M17.41 7.96l-1.37-1.37c-.4-.4-.92-.59-1.43-.59-.52 0-1.04.2-1.43.59L10.3 9.45l-7.72 7.72c-.78.78-.78 2.05 0 2.83L4 21.41c.39.39.9.59 1.41.59.51 0 1.02-.2 1.41-.59l7.78-7.78 2.81-2.81c.8-.78.8-2.07 0-2.86zM5.41 20L4 18.59l7.72-7.72 1.47 1.35L5.41 20z\"/>\n",
              "  </svg>\n",
              "      </button>\n",
              "      \n",
              "  <style>\n",
              "    .colab-df-container {\n",
              "      display:flex;\n",
              "      flex-wrap:wrap;\n",
              "      gap: 12px;\n",
              "    }\n",
              "\n",
              "    .colab-df-convert {\n",
              "      background-color: #E8F0FE;\n",
              "      border: none;\n",
              "      border-radius: 50%;\n",
              "      cursor: pointer;\n",
              "      display: none;\n",
              "      fill: #1967D2;\n",
              "      height: 32px;\n",
              "      padding: 0 0 0 0;\n",
              "      width: 32px;\n",
              "    }\n",
              "\n",
              "    .colab-df-convert:hover {\n",
              "      background-color: #E2EBFA;\n",
              "      box-shadow: 0px 1px 2px rgba(60, 64, 67, 0.3), 0px 1px 3px 1px rgba(60, 64, 67, 0.15);\n",
              "      fill: #174EA6;\n",
              "    }\n",
              "\n",
              "    [theme=dark] .colab-df-convert {\n",
              "      background-color: #3B4455;\n",
              "      fill: #D2E3FC;\n",
              "    }\n",
              "\n",
              "    [theme=dark] .colab-df-convert:hover {\n",
              "      background-color: #434B5C;\n",
              "      box-shadow: 0px 1px 3px 1px rgba(0, 0, 0, 0.15);\n",
              "      filter: drop-shadow(0px 1px 2px rgba(0, 0, 0, 0.3));\n",
              "      fill: #FFFFFF;\n",
              "    }\n",
              "  </style>\n",
              "\n",
              "      <script>\n",
              "        const buttonEl =\n",
              "          document.querySelector('#df-d93ac5b1-a2ce-49ac-934c-becf5e1ccb87 button.colab-df-convert');\n",
              "        buttonEl.style.display =\n",
              "          google.colab.kernel.accessAllowed ? 'block' : 'none';\n",
              "\n",
              "        async function convertToInteractive(key) {\n",
              "          const element = document.querySelector('#df-d93ac5b1-a2ce-49ac-934c-becf5e1ccb87');\n",
              "          const dataTable =\n",
              "            await google.colab.kernel.invokeFunction('convertToInteractive',\n",
              "                                                     [key], {});\n",
              "          if (!dataTable) return;\n",
              "\n",
              "          const docLinkHtml = 'Like what you see? Visit the ' +\n",
              "            '<a target=\"_blank\" href=https://colab.research.google.com/notebooks/data_table.ipynb>data table notebook</a>'\n",
              "            + ' to learn more about interactive tables.';\n",
              "          element.innerHTML = '';\n",
              "          dataTable['output_type'] = 'display_data';\n",
              "          await google.colab.output.renderOutput(dataTable, element);\n",
              "          const docLink = document.createElement('div');\n",
              "          docLink.innerHTML = docLinkHtml;\n",
              "          element.appendChild(docLink);\n",
              "        }\n",
              "      </script>\n",
              "    </div>\n",
              "  </div>\n",
              "  "
            ]
          },
          "metadata": {},
          "execution_count": 19
        }
      ]
    },
    {
      "cell_type": "code",
      "source": [
        "DF['PureText + Con_emoji_meanings_sinhala'] = DF['PureText'] + ' ' +DF['Con_emoji_meanings_sinhala']"
      ],
      "metadata": {
        "id": "M_J1tZzcssYV"
      },
      "execution_count": 20,
      "outputs": []
    },
    {
      "cell_type": "code",
      "source": [
        "DF.head(10)"
      ],
      "metadata": {
        "colab": {
          "base_uri": "https://localhost:8080/",
          "height": 826
        },
        "id": "qtThGn9WtKh9",
        "outputId": "f63d0813-c5e5-4068-8eb0-665761ed3d11"
      },
      "execution_count": 21,
      "outputs": [
        {
          "output_type": "execute_result",
          "data": {
            "text/plain": [
              "                                                Text      Class  \\\n",
              "0        ඝරසරප චිත්‍රපටය පහළ තියෙන එකෙන් කරගන්න         Neutral   \n",
              "1               මොකක් හරි නාට්‍යයක් තියෙන්නත් එපැයි     Neutral   \n",
              "2       කිමද තරම් කොහේදෝ විදපු ගලක් උරන මා මිතුරු...    Neutral   \n",
              "3       එහෙම කොහොමද උනේ  😂  පරය අපිව අයින් කරල නේ  😂    Neutral   \n",
              "4   විමලයා ගොනෙක් වගෙ එකෙ මෑරෙන්න හදනවා පරය රටට ව...  Political   \n",
              "5      ලැජ්ජයි ස⁣හෝදරයා විදිහ දැක්කාම ඔබලාගේ කුලල...     Racist   \n",
              "6    ලැජ්ජයි ස⁣හෝදරයා විදිහ දැක්කාම ඔබලාගේ කුලල්ක...     Racist   \n",
              "7      මං තම්බි වගේද පෙන්නෙ 😏  මං බ්‍රහස්පතින්දා ...    Neutral   \n",
              "8     ඉටිම් බං උතුර ඉල්ලනසෙට් එකයි නැගෙනහිරපඉල්ලන...     Racist   \n",
              "9      පේනවානේ තම්බි කවදත් ඉන්නේ උන්ට වාසි පැත්තේ...     Racist   \n",
              "\n",
              "                                            PureText ConEmoji Emojis  \\\n",
              "0        ඝරසරප චිත්‍රපටය පහළ තියෙන එකෙන් කරගන්න           N/A    N/A   \n",
              "1         මොකක් හරි නාට්‍යයක් තියෙන්නත් එපැයි ඉතින්       N/A    N/A   \n",
              "2       කිමද මේ තරම් කොහේදෝ ඇති විදපු ගලක් හා උරන...      N/A    N/A   \n",
              "3         එහෙම කොහොමද උනේ    පරය අපිව අයින් කරල නේ        😂 😂    😂 😂   \n",
              "4   විමලයා ගොනෙක් වගෙ එකෙ මෑරෙන්න හදනවා පරය රටට ව...      N/A    N/A   \n",
              "5      ලැජ්ජයි ස⁣හෝදරයා මේ යන විදිහ දැක්කාම ඔබලාග...      N/A    N/A   \n",
              "6    ලැජ්ජයි ස⁣හෝදරයා මේ යන විදිහ දැක්කාම ඔබලාගේ ...      N/A    N/A   \n",
              "7      ඇයි මං තම්බි වගේද පෙන්නෙ   මං බ්‍රහස්පතින්...      😏 😅    😏 😅   \n",
              "8     ඉටිම් බං උතුර ඉල්ලනසෙට් එකයි නැගෙනහිරපඉල්ලන...      N/A    N/A   \n",
              "9      පේනවානේ තම්බි කවදත් ඉන්නේ උන්ට වාසි පැත්තේ...      N/A    N/A   \n",
              "\n",
              "            Con_emoji_meanings         Con_emoji_meanings_sinhala  \\\n",
              "0                           na                                      \n",
              "1                           na                                      \n",
              "2                           na                                      \n",
              "3  face tear joy face tear joy  මුහුණ කඳුළු සතුට මුහුණ කඳුළු සතුට   \n",
              "4                           na                                      \n",
              "5                           na                                      \n",
              "6                           na                                      \n",
              "7   smirk face grin face sweat            මුහුණ සිනහව මුහුණ දහඩිය   \n",
              "8                           na                                      \n",
              "9                           na                                      \n",
              "\n",
              "               PureText + Con_emoji_meanings_sinhala  \n",
              "0       ඝරසරප චිත්‍රපටය පහළ තියෙන එකෙන් කරගන්න        \n",
              "1        මොකක් හරි නාට්‍යයක් තියෙන්නත් එපැයි ඉතින්    \n",
              "2       කිමද මේ තරම් කොහේදෝ ඇති විදපු ගලක් හා උරන...  \n",
              "3       එහෙම කොහොමද උනේ    පරය අපිව අයින් කරල නේ ...  \n",
              "4   විමලයා ගොනෙක් වගෙ එකෙ මෑරෙන්න හදනවා පරය රටට ව...  \n",
              "5      ලැජ්ජයි ස⁣හෝදරයා මේ යන විදිහ දැක්කාම ඔබලාග...  \n",
              "6    ලැජ්ජයි ස⁣හෝදරයා මේ යන විදිහ දැක්කාම ඔබලාගේ ...  \n",
              "7      ඇයි මං තම්බි වගේද පෙන්නෙ   මං බ්‍රහස්පතින්...  \n",
              "8     ඉටිම් බං උතුර ඉල්ලනසෙට් එකයි නැගෙනහිරපඉල්ලන...  \n",
              "9      පේනවානේ තම්බි කවදත් ඉන්නේ උන්ට වාසි පැත්තේ...  "
            ],
            "text/html": [
              "\n",
              "  <div id=\"df-b9201614-0127-4bbe-98a7-4767b0b8cb8f\">\n",
              "    <div class=\"colab-df-container\">\n",
              "      <div>\n",
              "<style scoped>\n",
              "    .dataframe tbody tr th:only-of-type {\n",
              "        vertical-align: middle;\n",
              "    }\n",
              "\n",
              "    .dataframe tbody tr th {\n",
              "        vertical-align: top;\n",
              "    }\n",
              "\n",
              "    .dataframe thead th {\n",
              "        text-align: right;\n",
              "    }\n",
              "</style>\n",
              "<table border=\"1\" class=\"dataframe\">\n",
              "  <thead>\n",
              "    <tr style=\"text-align: right;\">\n",
              "      <th></th>\n",
              "      <th>Text</th>\n",
              "      <th>Class</th>\n",
              "      <th>PureText</th>\n",
              "      <th>ConEmoji</th>\n",
              "      <th>Emojis</th>\n",
              "      <th>Con_emoji_meanings</th>\n",
              "      <th>Con_emoji_meanings_sinhala</th>\n",
              "      <th>PureText + Con_emoji_meanings_sinhala</th>\n",
              "    </tr>\n",
              "  </thead>\n",
              "  <tbody>\n",
              "    <tr>\n",
              "      <th>0</th>\n",
              "      <td>ඝරසරප චිත්‍රපටය පහළ තියෙන එකෙන් කරගන්න</td>\n",
              "      <td>Neutral</td>\n",
              "      <td>ඝරසරප චිත්‍රපටය පහළ තියෙන එකෙන් කරගන්න</td>\n",
              "      <td>N/A</td>\n",
              "      <td>N/A</td>\n",
              "      <td>na</td>\n",
              "      <td></td>\n",
              "      <td>ඝරසරප චිත්‍රපටය පහළ තියෙන එකෙන් කරගන්න</td>\n",
              "    </tr>\n",
              "    <tr>\n",
              "      <th>1</th>\n",
              "      <td>මොකක් හරි නාට්‍යයක් තියෙන්නත් එපැයි</td>\n",
              "      <td>Neutral</td>\n",
              "      <td>මොකක් හරි නාට්‍යයක් තියෙන්නත් එපැයි ඉතින්</td>\n",
              "      <td>N/A</td>\n",
              "      <td>N/A</td>\n",
              "      <td>na</td>\n",
              "      <td></td>\n",
              "      <td>මොකක් හරි නාට්‍යයක් තියෙන්නත් එපැයි ඉතින්</td>\n",
              "    </tr>\n",
              "    <tr>\n",
              "      <th>2</th>\n",
              "      <td>කිමද තරම් කොහේදෝ විදපු ගලක් උරන මා මිතුරු...</td>\n",
              "      <td>Neutral</td>\n",
              "      <td>කිමද මේ තරම් කොහේදෝ ඇති විදපු ගලක් හා උරන...</td>\n",
              "      <td>N/A</td>\n",
              "      <td>N/A</td>\n",
              "      <td>na</td>\n",
              "      <td></td>\n",
              "      <td>කිමද මේ තරම් කොහේදෝ ඇති විදපු ගලක් හා උරන...</td>\n",
              "    </tr>\n",
              "    <tr>\n",
              "      <th>3</th>\n",
              "      <td>එහෙම කොහොමද උනේ  😂  පරය අපිව අයින් කරල නේ  😂</td>\n",
              "      <td>Neutral</td>\n",
              "      <td>එහෙම කොහොමද උනේ    පරය අපිව අයින් කරල නේ</td>\n",
              "      <td>😂 😂</td>\n",
              "      <td>😂 😂</td>\n",
              "      <td>face tear joy face tear joy</td>\n",
              "      <td>මුහුණ කඳුළු සතුට මුහුණ කඳුළු සතුට</td>\n",
              "      <td>එහෙම කොහොමද උනේ    පරය අපිව අයින් කරල නේ ...</td>\n",
              "    </tr>\n",
              "    <tr>\n",
              "      <th>4</th>\n",
              "      <td>විමලයා ගොනෙක් වගෙ එකෙ මෑරෙන්න හදනවා පරය රටට ව...</td>\n",
              "      <td>Political</td>\n",
              "      <td>විමලයා ගොනෙක් වගෙ එකෙ මෑරෙන්න හදනවා පරය රටට ව...</td>\n",
              "      <td>N/A</td>\n",
              "      <td>N/A</td>\n",
              "      <td>na</td>\n",
              "      <td></td>\n",
              "      <td>විමලයා ගොනෙක් වගෙ එකෙ මෑරෙන්න හදනවා පරය රටට ව...</td>\n",
              "    </tr>\n",
              "    <tr>\n",
              "      <th>5</th>\n",
              "      <td>ලැජ්ජයි ස⁣හෝදරයා විදිහ දැක්කාම ඔබලාගේ කුලල...</td>\n",
              "      <td>Racist</td>\n",
              "      <td>ලැජ්ජයි ස⁣හෝදරයා මේ යන විදිහ දැක්කාම ඔබලාග...</td>\n",
              "      <td>N/A</td>\n",
              "      <td>N/A</td>\n",
              "      <td>na</td>\n",
              "      <td></td>\n",
              "      <td>ලැජ්ජයි ස⁣හෝදරයා මේ යන විදිහ දැක්කාම ඔබලාග...</td>\n",
              "    </tr>\n",
              "    <tr>\n",
              "      <th>6</th>\n",
              "      <td>ලැජ්ජයි ස⁣හෝදරයා විදිහ දැක්කාම ඔබලාගේ කුලල්ක...</td>\n",
              "      <td>Racist</td>\n",
              "      <td>ලැජ්ජයි ස⁣හෝදරයා මේ යන විදිහ දැක්කාම ඔබලාගේ ...</td>\n",
              "      <td>N/A</td>\n",
              "      <td>N/A</td>\n",
              "      <td>na</td>\n",
              "      <td></td>\n",
              "      <td>ලැජ්ජයි ස⁣හෝදරයා මේ යන විදිහ දැක්කාම ඔබලාගේ ...</td>\n",
              "    </tr>\n",
              "    <tr>\n",
              "      <th>7</th>\n",
              "      <td>මං තම්බි වගේද පෙන්නෙ 😏  මං බ්‍රහස්පතින්දා ...</td>\n",
              "      <td>Neutral</td>\n",
              "      <td>ඇයි මං තම්බි වගේද පෙන්නෙ   මං බ්‍රහස්පතින්...</td>\n",
              "      <td>😏 😅</td>\n",
              "      <td>😏 😅</td>\n",
              "      <td>smirk face grin face sweat</td>\n",
              "      <td>මුහුණ සිනහව මුහුණ දහඩිය</td>\n",
              "      <td>ඇයි මං තම්බි වගේද පෙන්නෙ   මං බ්‍රහස්පතින්...</td>\n",
              "    </tr>\n",
              "    <tr>\n",
              "      <th>8</th>\n",
              "      <td>ඉටිම් බං උතුර ඉල්ලනසෙට් එකයි නැගෙනහිරපඉල්ලන...</td>\n",
              "      <td>Racist</td>\n",
              "      <td>ඉටිම් බං උතුර ඉල්ලනසෙට් එකයි නැගෙනහිරපඉල්ලන...</td>\n",
              "      <td>N/A</td>\n",
              "      <td>N/A</td>\n",
              "      <td>na</td>\n",
              "      <td></td>\n",
              "      <td>ඉටිම් බං උතුර ඉල්ලනසෙට් එකයි නැගෙනහිරපඉල්ලන...</td>\n",
              "    </tr>\n",
              "    <tr>\n",
              "      <th>9</th>\n",
              "      <td>පේනවානේ තම්බි කවදත් ඉන්නේ උන්ට වාසි පැත්තේ...</td>\n",
              "      <td>Racist</td>\n",
              "      <td>පේනවානේ තම්බි කවදත් ඉන්නේ උන්ට වාසි පැත්තේ...</td>\n",
              "      <td>N/A</td>\n",
              "      <td>N/A</td>\n",
              "      <td>na</td>\n",
              "      <td></td>\n",
              "      <td>පේනවානේ තම්බි කවදත් ඉන්නේ උන්ට වාසි පැත්තේ...</td>\n",
              "    </tr>\n",
              "  </tbody>\n",
              "</table>\n",
              "</div>\n",
              "      <button class=\"colab-df-convert\" onclick=\"convertToInteractive('df-b9201614-0127-4bbe-98a7-4767b0b8cb8f')\"\n",
              "              title=\"Convert this dataframe to an interactive table.\"\n",
              "              style=\"display:none;\">\n",
              "        \n",
              "  <svg xmlns=\"http://www.w3.org/2000/svg\" height=\"24px\"viewBox=\"0 0 24 24\"\n",
              "       width=\"24px\">\n",
              "    <path d=\"M0 0h24v24H0V0z\" fill=\"none\"/>\n",
              "    <path d=\"M18.56 5.44l.94 2.06.94-2.06 2.06-.94-2.06-.94-.94-2.06-.94 2.06-2.06.94zm-11 1L8.5 8.5l.94-2.06 2.06-.94-2.06-.94L8.5 2.5l-.94 2.06-2.06.94zm10 10l.94 2.06.94-2.06 2.06-.94-2.06-.94-.94-2.06-.94 2.06-2.06.94z\"/><path d=\"M17.41 7.96l-1.37-1.37c-.4-.4-.92-.59-1.43-.59-.52 0-1.04.2-1.43.59L10.3 9.45l-7.72 7.72c-.78.78-.78 2.05 0 2.83L4 21.41c.39.39.9.59 1.41.59.51 0 1.02-.2 1.41-.59l7.78-7.78 2.81-2.81c.8-.78.8-2.07 0-2.86zM5.41 20L4 18.59l7.72-7.72 1.47 1.35L5.41 20z\"/>\n",
              "  </svg>\n",
              "      </button>\n",
              "      \n",
              "  <style>\n",
              "    .colab-df-container {\n",
              "      display:flex;\n",
              "      flex-wrap:wrap;\n",
              "      gap: 12px;\n",
              "    }\n",
              "\n",
              "    .colab-df-convert {\n",
              "      background-color: #E8F0FE;\n",
              "      border: none;\n",
              "      border-radius: 50%;\n",
              "      cursor: pointer;\n",
              "      display: none;\n",
              "      fill: #1967D2;\n",
              "      height: 32px;\n",
              "      padding: 0 0 0 0;\n",
              "      width: 32px;\n",
              "    }\n",
              "\n",
              "    .colab-df-convert:hover {\n",
              "      background-color: #E2EBFA;\n",
              "      box-shadow: 0px 1px 2px rgba(60, 64, 67, 0.3), 0px 1px 3px 1px rgba(60, 64, 67, 0.15);\n",
              "      fill: #174EA6;\n",
              "    }\n",
              "\n",
              "    [theme=dark] .colab-df-convert {\n",
              "      background-color: #3B4455;\n",
              "      fill: #D2E3FC;\n",
              "    }\n",
              "\n",
              "    [theme=dark] .colab-df-convert:hover {\n",
              "      background-color: #434B5C;\n",
              "      box-shadow: 0px 1px 3px 1px rgba(0, 0, 0, 0.15);\n",
              "      filter: drop-shadow(0px 1px 2px rgba(0, 0, 0, 0.3));\n",
              "      fill: #FFFFFF;\n",
              "    }\n",
              "  </style>\n",
              "\n",
              "      <script>\n",
              "        const buttonEl =\n",
              "          document.querySelector('#df-b9201614-0127-4bbe-98a7-4767b0b8cb8f button.colab-df-convert');\n",
              "        buttonEl.style.display =\n",
              "          google.colab.kernel.accessAllowed ? 'block' : 'none';\n",
              "\n",
              "        async function convertToInteractive(key) {\n",
              "          const element = document.querySelector('#df-b9201614-0127-4bbe-98a7-4767b0b8cb8f');\n",
              "          const dataTable =\n",
              "            await google.colab.kernel.invokeFunction('convertToInteractive',\n",
              "                                                     [key], {});\n",
              "          if (!dataTable) return;\n",
              "\n",
              "          const docLinkHtml = 'Like what you see? Visit the ' +\n",
              "            '<a target=\"_blank\" href=https://colab.research.google.com/notebooks/data_table.ipynb>data table notebook</a>'\n",
              "            + ' to learn more about interactive tables.';\n",
              "          element.innerHTML = '';\n",
              "          dataTable['output_type'] = 'display_data';\n",
              "          await google.colab.output.renderOutput(dataTable, element);\n",
              "          const docLink = document.createElement('div');\n",
              "          docLink.innerHTML = docLinkHtml;\n",
              "          element.appendChild(docLink);\n",
              "        }\n",
              "      </script>\n",
              "    </div>\n",
              "  </div>\n",
              "  "
            ]
          },
          "metadata": {},
          "execution_count": 21
        }
      ]
    },
    {
      "cell_type": "markdown",
      "source": [
        "# **SENTIMENT ANALYSIS FOR (PureText + Con_emoji_meanings_sinhala)**"
      ],
      "metadata": {
        "id": "erHqdqwEuJIz"
      }
    },
    {
      "cell_type": "code",
      "source": [
        "\n",
        "from sklearn.linear_model import LogisticRegression\n",
        "from sklearn.model_selection import train_test_split, GridSearchCV\n",
        "from sklearn.pipeline import Pipeline\n",
        "from sklearn import metrics\n",
        "from sklearn.metrics import accuracy_score,f1_score, recall_score, precision_score, confusion_matrix,classification_report,ConfusionMatrixDisplay\n",
        "\n",
        "from sklearn.feature_extraction.text import TfidfVectorizer,CountVectorizer\n",
        "from sklearn.naive_bayes import MultinomialNB,GaussianNB,BernoulliNB\n",
        "from sklearn import linear_model"
      ],
      "metadata": {
        "id": "VQqgy_pfuSwZ"
      },
      "execution_count": 22,
      "outputs": []
    },
    {
      "cell_type": "code",
      "source": [
        "max_features = 4500\n",
        "count_vector = CountVectorizer(max_features = max_features)  \n",
        "X = count_vector.fit_transform(DF['PureText + Con_emoji_meanings_sinhala']).toarray() \n",
        "X"
      ],
      "metadata": {
        "colab": {
          "base_uri": "https://localhost:8080/"
        },
        "id": "sk054wEOuGs0",
        "outputId": "165c11e6-1af3-4b18-d877-b0b99ae5f651"
      },
      "execution_count": 23,
      "outputs": [
        {
          "output_type": "execute_result",
          "data": {
            "text/plain": [
              "array([[0, 0, 0, ..., 0, 0, 0],\n",
              "       [0, 0, 0, ..., 0, 0, 0],\n",
              "       [0, 0, 0, ..., 0, 0, 0],\n",
              "       ...,\n",
              "       [0, 0, 0, ..., 0, 0, 0],\n",
              "       [0, 0, 0, ..., 0, 0, 0],\n",
              "       [0, 0, 0, ..., 0, 0, 0]])"
            ]
          },
          "metadata": {},
          "execution_count": 23
        }
      ]
    },
    {
      "cell_type": "code",
      "source": [
        "print(\"most using {} words: {} \".format(max_features, count_vector.get_feature_names_out()))"
      ],
      "metadata": {
        "colab": {
          "base_uri": "https://localhost:8080/"
        },
        "id": "cg9I0f2kubjH",
        "outputId": "a544503c-8a51-4427-e1e1-6de561fe8699"
      },
      "execution_count": 24,
      "outputs": [
        {
          "output_type": "stream",
          "name": "stdout",
          "text": [
            "most using 4500 words: ['අක' 'අකම' 'අකව' ... 'ෆල' 'ෆව' 'ෆස'] \n"
          ]
        }
      ]
    },
    {
      "cell_type": "code",
      "source": [
        "print(count_vector.vocabulary_)"
      ],
      "metadata": {
        "colab": {
          "base_uri": "https://localhost:8080/"
        },
        "id": "3Rl5T0J_uvl5",
        "outputId": "377cd2ba-fa84-4bf4-dae3-82d3e8c6fce5"
      },
      "execution_count": 25,
      "outputs": [
        {
          "output_type": "stream",
          "name": "stdout",
          "text": [
            "{'ඝරසරප': 760, 'රපටය': 1616, 'පහළ': 1281, 'එක': 383, 'කරගන': 612, 'කක': 538, 'හර': 2071, 'යයක': 1514, 'නත': 1119, 'එප': 430, 'ඉත': 253, 'මද': 1393, 'තරම': 961, 'ඇත': 208, 'දප': 1013, 'ගලක': 720, 'උරන': 366, 'පරය': 1250, 'එහ': 454, 'උන': 333, 'අප': 53, 'අය': 81, 'කරල': 639, 'කඳ': 582, 'සත': 1930, 'මලය': 1426, 'වග': 1751, 'හදනව': 2041, 'රටට': 1585, 'ඩක': 850, 'කරපන': 634, 'යක': 1460, 'ජය': 798, 'දරය': 1034, 'යන': 1482, 'ඔබල': 503, 'ලල': 1731, 'ගන': 698, 'තම': 942, 'වහබ': 1858, 'සහ': 2011, 'මළ': 1450, 'ඇය': 229, 'රහස': 1673, 'පත': 1214, 'දර': 1029, 'එන': 422, 'එතක': 414, 'දට': 998, 'අඩව': 21, 'වක': 1744, 'අල': 103, 'ලන': 1706, 'ආවනම': 184, 'නහව': 1185, 'දහඩ': 1057, 'ඉට': 248, 'උත': 329, 'ඉල': 278, 'ලනස': 1711, 'එකය': 404, 'නහ': 1180, 'රපඉල': 1614, 'රප': 1613, 'රන': 1610, 'පර': 1240, 'දය': 1022, 'නව': 1158, 'කවදත': 657, 'ඉන': 262, 'ඉදග': 256, 'ශර': 1876, 'වර': 1814, 'ගට': 683, 'රට': 1582, 'බහ': 1353, 'තර': 950, 'සය': 1976, 'ඉද': 254, 'දරව': 1036, 'මට': 1374, 'අවක': 106, 'ශය': 1873, 'අපග': 55, 'රණ': 1591, 'මය': 1410, 'කල': 646, 'පස': 1269, 'ලය': 1723, 'ඉස': 294, 'රස': 1655, 'තව': 971, 'එයය': 438, 'පළ': 1282, 'තමන': 943, 'බල': 1325, 'නම': 1136, 'අවජ': 107, 'තකය': 916, 'අඩ': 18, 'කට': 547, 'වහග': 1854, 'ශට': 1864, 'අර': 88, 'වයසක': 1811, 'කඩ': 559, 'ඕසද': 535, 'සර': 1980, 'තක': 912, 'උඩතලව': 323, 'දණ': 1001, 'චර': 772, 'තයක': 946, 'හලය': 2081, 'හල': 2076, 'පක': 1196, 'ඉලම': 280, 'කයටම': 605, 'ලයක': 1724, 'මරක': 1415, 'කරණය': 615, 'කළ': 674, 'යම': 1500, 'පලයන': 1255, 'කපන': 585, 'ටකරන': 814, 'වම': 1799, 'ටටම': 817, 'කපල': 588, 'බරයට': 1323, 'ණගහන': 894, 'කරප': 633, 'අපර': 62, 'හය': 2066, 'අඬනව': 24, 'රල': 1639, 'දරන': 1032, 'ටර': 834, 'වන': 1783, 'රහ': 1664, 'ඔල': 512, 'ෆය': 2117, 'එකක': 385, 'දවස': 1047, 'වල': 1827, 'කර': 607, 'ජයස': 805, 'යට': 1471, 'සද': 1931, 'පඩයක': 1211, 'යත': 1479, 'කඒක': 537, 'ඉඹල': 273, 'ඳය': 1194, 'වඳය': 1794, 'යල': 1521, 'ගහනව': 746, 'හම': 2064, 'බය': 1314, 'ගහප': 749, 'සමහර': 1973, 'සව': 2003, 'ලට': 1698, 'ඡන': 777, 'යකයන': 1466, 'අහ': 124, 'රබත': 1618, 'ඔප': 495, 'කරද': 618, 'කය': 602, 'ආව': 181, 'ඒකට': 461, 'ලස': 1739, 'සන': 1935, 'මම': 1405, 'සට': 1924, 'ආක': 144, 'රමන': 1627, 'එස': 452, 'රශ': 1654, 'නයත': 1150, 'උඹල': 361, 'අම': 69, 'බණ': 1304, 'අහල': 136, 'අන': 46, 'ජම': 797, 'මගට': 1369, 'ගත': 690, 'අව': 105, 'සල': 1996, 'කන': 574, 'ඒව': 480, 'ගස': 734, 'වත': 1773, 'කමට': 593, 'නර': 1153, 'යනව': 1490, 'ලප': 1712, 'කරන': 622, 'තන': 928, 'හතරප': 2035, 'ආන': 166, 'එකප': 401, 'රය': 1633, 'පල': 1252, 'තවප': 974, 'යවල': 1541, 'රටවල': 1590, 'ආද': 158, 'ඇර': 231, 'බටත': 1296, 'වඩ': 1771, 'ඒක': 458, 'බද': 1306, 'ෂය': 1897, 'කම': 591, 'මහත': 1439, 'දනයට': 1009, 'අද': 36, 'ලව': 1733, 'කච': 544, 'ශද': 1866, 'ෂයකටවත': 1900, 'පව': 1260, 'ෂයටවත': 1903, 'එකත': 397, 'නරඹන': 1155, 'මග': 1368, 'නට': 1111, 'පවත': 1262, 'ෂයක': 1898, 'දයකට': 1025, 'ෂර': 1904, 'ෂයකට': 1899, 'මත': 1384, 'ගච': 682, 'නස': 1178, 'ආදරයට': 164, 'ආදරණ': 161, 'සටන': 1925, 'සගය': 1919, 'රටක': 1583, 'පරද': 1244, 'වට': 1761, 'මක': 1360, 'ගම': 703, 'ලහ': 1742, 'කව': 653, 'අගසව': 11, 'තබ': 938, 'යඋඹට': 1458, 'ආගමක': 147, 'ඇදල': 214, 'ඕන': 526, 'ඌර': 377, 'ටප': 823, 'උබ': 346, 'එකට': 392, 'යවනකන': 1532, 'අහන': 129, 'එද': 420, 'සභ': 1954, 'ගයට': 715, 'ෂව': 1907, 'ණම': 901, 'සම': 1955, 'මතයක': 1391, 'මල': 1422, 'මහ': 1434, 'තය': 945, 'අවද': 108, 'වව': 1843, 'ඇව': 234, 'නනව': 1127, 'බලන': 1331, 'ආතල': 157, 'අරන': 99, 'උබග': 347, 'අදහස': 42, 'දගත': 992, 'උබට': 348, 'නවත': 1166, 'උබල': 351, 'පලයල': 1256, 'ටත': 819, 'ගර': 717, 'කරම': 636, 'ඉවස': 290, 'තරය': 964, 'රධ': 1609, 'ටල': 837, 'ඔය': 506, 'හඩ': 2024, 'එය': 435, 'පශ': 1268, 'ධන': 1074, 'ශප': 1869, 'ලකය': 1684, 'අවශ': 114, 'යයය': 1519, 'සක': 1910, 'උද': 330, 'නය': 1144, 'ජනත': 785, 'තකට': 913, 'පට': 1203, 'ටන': 821, 'අක': 0, 'මතක': 1385, 'මධ': 1395, 'යස': 1545, 'කද': 572, 'අදට': 37, 'ටම': 826, 'පතන': 1215, 'උඹට': 358, 'හට': 2023, 'ගලපන': 724, 'දන': 1005, 'යළ': 1555, 'වලට': 1830, 'එකඟ': 391, 'සහය': 2017, 'ලබ': 1713, 'යය': 1513, 'ඕනස': 529, 'ලඩ': 1701, 'ලර': 1729, 'ලගන': 1690, 'කදම': 573, 'ඇස': 235, 'වකයන': 1750, 'ළද': 2100, 'කරදර': 619, 'මඩ': 1381, 'ඌට': 374, 'කරපල': 635, 'ආරක': 178, 'ශක': 1863, 'ටය': 829, 'නගර': 1105, 'මච': 1372, 'එකටද': 394, 'වයස': 1810, 'පලය': 1254, 'හද': 2038, 'පබ': 1228, 'උඹ': 357, 'ගහග': 739, 'ගල': 719, 'බන': 1308, 'රක': 1556, 'නක': 1093, 'ලබන': 1715, 'වසර': 1849, 'රපට': 1615, 'පයක': 1237, 'ඔබට': 498, 'එජ': 408, 'පයට': 1239, 'ධර': 1082, 'ඒකය': 466, 'ඇහ': 238, 'මප': 1404, 'ජනපත': 786, 'වය': 1802, 'ලග': 1687, 'ඔව': 513, 'දරක': 1030, 'තමය': 944, 'නවමය': 1173, 'සරල': 1988, 'කරණ': 614, 'හදන': 2039, 'මව': 1428, 'ඉග': 245, 'නග': 1101, 'ෂයටත': 1902, 'අපහ': 63, 'සයක': 1977, 'උස': 372, 'එනව': 427, 'මරන': 1418, 'ඊෂ': 307, 'ධනවත': 1076, 'ගලය': 725, 'යණ': 1478, 'යග': 1469, 'ෂවත': 1908, 'ආච': 152, 'රග': 1568, 'කනවල': 580, 'ජයග': 800, 'පන': 1221, 'හයක': 2067, 'ඉක': 244, 'අවස': 115, 'අභ': 67, 'චන': 767, 'කරණයට': 616, 'සමක': 1956, 'සඳ': 1942, 'සහත': 2014, 'අවසන': 116, 'මෆ': 1452, 'අධ': 45, 'අගම': 6, 'ඡය': 778, 'අතඅ': 28, 'උප': 337, 'ජන': 783, 'ධයක': 1080, 'හහ': 2088, 'නවනම': 1171, 'කත': 569, 'යදම': 1481, 'දක': 989, 'වඳ': 1791, 'අනත': 47, 'ඩන': 864, 'බස': 1351, 'ගහන': 745, 'ඇපල': 222, 'ඩඩ': 861, 'වටම': 1765, 'බර': 1317, 'මර': 1414, 'නකන': 1096, 'ඔස': 515, 'අවධ': 109, 'ජර': 806, 'ලටත': 1699, 'එලවය': 445, 'ඉරනමඩ': 276, 'ඵලකයක': 1288, 'සමහරව': 1975, 'ලක': 1680, 'ඩය': 874, 'ඩකරන': 854, 'බව': 1345, 'පයකට': 1238, 'නයක': 1145, 'අපට': 57, 'මන': 1396, 'ඩනගන': 866, 'නඳ': 1130, 'උයනට': 364, 'යටම': 1474, 'රත': 1597, 'මකර': 1366, 'ඩයල': 879, 'කරනව': 625, 'පරම': 1249, 'පහ': 1271, 'හයකට': 2068, 'හත': 2030, 'අහනව': 131, 'යනවද': 1491, 'නවන': 1170, 'ටරයක': 836, 'වලහ': 1841, 'තනවද': 934, 'ඇන': 215, 'ලඥය': 1697, 'ලම': 1717, 'දටම': 999, 'ඇතඔව': 210, 'ඇතඔය': 209, 'ආවත': 183, 'පමණය': 1233, 'මහනත': 1442, 'අත': 27, 'අමතන': 74, 'දකට': 990, 'දයක': 1024, 'නන': 1125, 'ණයක': 903, 'දරවර': 1037, 'රහය': 1671, 'යයත': 1516, 'රසයක': 1661, 'ජනකව': 784, 'ඔබ': 496, 'නයට': 1147, 'අශ': 118, 'යවන': 1530, 'රපල': 1617, 'වසරක': 1850, 'ෂභ': 1895, 'කටක': 548, 'ඉවත': 283, 'ණය': 902, 'වරණය': 1819, 'ඉලක': 279, 'ඔබග': 497, 'වරණයට': 1820, 'කවදහර': 659, 'ඉබ': 270, 'ශන': 1867, 'භය': 1357, 'දහසක': 1063, 'ගග': 679, 'ඔන': 493, 'තරද': 959, 'රටවට': 1589, 'ටරය': 835, 'දහයක': 1060, 'ලයකද': 1726, 'නද': 1124, 'අරගලයක': 96, 'යවස': 1543, 'රජ': 1576, 'අතට': 31, 'කණ': 567, 'වටද': 1764, 'තනම': 930, 'වප': 1795, 'රවම': 1646, 'දලට': 1040, 'මකටද': 1362, 'රම': 1622, 'ණට': 895, 'අතව': 34, 'බටහ': 1297, 'රයන': 1637, 'ගඩ': 685, 'රමයක': 1629, 'යද': 1480, 'හලයග': 2082, 'බලපල': 1336, 'ඉවරය': 287, 'නටම': 1114, 'නකම': 1097, 'උග': 315, 'එනකම': 425, 'ගහල': 753, 'සරහටම': 1995, 'සටනම': 1926, 'උනත': 334, 'යකඩ': 1463, 'කරක': 608, 'රවප': 1645, 'ඉර': 274, 'ඇදග': 213, 'ඉදප': 259, 'තරයය': 966, 'කභ': 590, 'වයට': 1805, 'වරණ': 1818, 'යයනය': 1518, 'ශයට': 1875, 'බඳව': 1310, 'ආයතන': 173, 'බඩ': 1298, 'ආප': 169, 'පද': 1219, 'ටසමහර': 843, 'නසක': 1179, 'රද': 1606, 'රමස': 1631, 'මතය': 1390, 'පළම': 1284, 'ජව': 809, 'කස': 668, 'රහයක': 1672, 'ටසහ': 844, 'නඑප': 1091, 'දවසසත': 1052, 'ඕක': 520, 'බලම': 1337, 'නටත': 1112, 'ජනය': 788, 'දයට': 1026, 'ටවත': 840, 'තල': 968, 'ඒමදඔය': 476, 'එනම': 426, 'පවට': 1261, 'ණයට': 905, 'හවස': 2084, 'උපද': 340, 'තවත': 973, 'රණයක': 1593, 'පළව': 1285, 'නඩ': 1117, 'ලවව': 1737, 'අසන': 120, 'චයක': 771, 'යහනක': 1549, 'ඩරල': 882, 'එකග': 387, 'සමග': 1957, 'තබය': 940, 'ඉවරකරන': 285, 'ඊය': 304, 'අහය': 134, 'ඉපද': 268, 'කරත': 617, 'එල': 440, 'රව': 1640, 'ඉසව': 295, 'ඳම': 1193, 'වටරව': 1768, 'බත': 1305, 'දල': 1038, 'ථක': 984, 'ගමන': 706, 'ගක': 678, 'ඉඟ': 247, 'තට': 921, 'ෂන': 1892, 'ආගම': 146, 'කගත': 542, 'ඉඩ': 249, 'උණ': 328, 'මස': 1431, 'හදල': 2047, 'ඒකන': 464, 'කඹයක': 601, 'අමතක': 70, 'තරන': 960, 'නවස': 1177, 'හලන': 2079, 'ඵක': 1286, 'පසට': 1270, 'එකම': 402, 'එකස': 406, 'උම': 355, 'පය': 1236, 'අදරයය': 40, 'ඉවර': 284, 'වරදව': 1824, 'වටහ': 1770, 'ඒත': 470, 'දවසක': 1048, 'ඈතක': 242, 'නවටද': 1165, 'සඳහ': 1946, 'වළක': 1861, 'ලත': 1702, 'අකව': 2, 'එව': 447, 'කනව': 578, 'අරක': 89, 'ඔක': 484, 'අස': 119, 'මකට': 1361, 'හදවත': 2051, 'නමක': 1137, 'ඔට': 487, 'සරහට': 1994, 'ආධ': 165, 'යනක': 1483, 'සමට': 1960, 'ෂකයට': 1882, 'ලගද': 1689, 'ඕග': 525, 'ගමක': 704, 'පටන': 1204, 'අරග': 92, 'ඇමර': 226, 'ආය': 172, 'රටකටම': 1584, 'කකන': 540, 'පරක': 1241, 'දඩයක': 1000, 'ඔහ': 517, 'වනරක': 1789, 'තයකට': 947, 'අනවසරය': 51, 'රයක': 1634, 'හදනවන': 2043, 'නගන': 1103, 'තත': 926, 'කප': 584, 'රවල': 1652, 'වරක': 1815, 'හනයකට': 2057, 'නල': 1156, 'ඉදක': 255, 'වදප': 1777, 'මටත': 1375, 'ඉදපන': 260, 'උබලග': 352, 'ඩබල': 871, 'හදප': 2045, 'වහ': 1852, 'උඹලග': 362, 'සනව': 1941, 'ටහ': 845, 'කරය': 637, 'දද': 1004, 'ලකණ': 1682, 'මරල': 1421, 'චය': 770, 'ගණ': 686, 'ඳටම': 1190, 'හහහ': 2089, 'හලයන': 2083, 'ආයතනය': 174, 'ලද': 1704, 'කවලම': 666, 'ඔබත': 500, 'ආඩම': 154, 'බරය': 1320, 'මහස': 1449, 'බලක': 1326, 'අග': 4, 'එකගද': 389, 'ජගතය': 780, 'සමන': 1962, 'මඟ': 1371, 'ඳග': 1188, 'වමන': 1800, 'තද': 927, 'ඟල': 763, 'ගතයට': 694, 'ජයව': 804, 'උදව': 332, 'අකම': 1, 'ළන': 2103, 'හස': 2087, 'උඩ': 319, 'යවනව': 1533, 'දග': 991, 'සනය': 1939, 'චරද': 774, 'දරල': 1035, 'මලකඩ': 1424, 'වරන': 1825, 'එලක': 441, 'ආණ': 155, 'පරණ': 1242, 'නටන': 1113, 'ඕකන': 523, 'ගහපන': 750, 'ගහ': 737, 'ඇනල': 216, 'දලන': 1041, 'සමනට': 1963, 'දහ': 1056, 'ආදර': 160, 'ගයක': 712, 'එර': 439, 'මටස': 1379, 'මහරගම': 1446, 'ගඳ': 701, 'එකටය': 396, 'කඹ': 600, 'ඳන': 1191, 'ඇඳග': 218, 'ඉවරන': 286, 'දනවල': 1012, 'වනව': 1790, 'යලද': 1524, 'උඹටත': 359, 'මමන': 1408, 'කථ': 570, 'යනවනම': 1494, 'නනම': 1126, 'හපන': 2061, 'ඩටම': 860, 'ගණන': 687, 'අඳ': 52, 'වහල': 1860, 'නමට': 1138, 'ඩනම': 867, 'ඉඳන': 265, 'සමරන': 1967, 'ආකස': 145, 'සරණය': 1982, 'බබ': 1311, 'ඕය': 531, 'ඇඳ': 217, 'කරලද': 642, 'ඒකවත': 468, 'පපර': 1227, 'පප': 1226, 'තවම': 975, 'එඩ': 411, 'එවපන': 449, 'දරට': 1031, 'හතරපහක': 2036, 'එවන': 448, 'ඇක': 200, 'මතකය': 1388, 'කරනවඅන': 626, 'කලත': 649, 'ෆල': 2119, 'මලක': 1423, 'කරව': 643, 'වස': 1846, 'ධව': 1083, 'රජය': 1580, 'අනන': 48, 'කවද': 656, 'ෆර': 2118, 'වකට': 1745, 'වරදක': 1823, 'ලඟ': 1691, 'රවනත': 1644, 'කටම': 554, 'රවර': 1651, 'සඩන': 1929, 'ඩව': 885, 'අහග': 126, 'යර': 1520, 'ඇඩ': 207, 'වටය': 1766, 'ඒජන': 469, 'යකට': 1461, 'බට': 1295, 'කමය': 598, 'හන': 2054, 'සරහ': 1993, 'අලවල': 104, 'ලවන': 1735, 'මලග': 1425, 'ෆස': 2121, 'යප': 1497, 'එච': 407, 'චරට': 773, 'ඇල': 233, 'කහම': 673, 'ඉඳල': 266, 'වඟ': 1756, 'රඟන': 1573, 'ඔබන': 501, 'ආසවට': 197, 'ආවහම': 188, 'දහසට': 1064, 'එයත': 437, 'සඟවන': 1922, 'රවට': 1641, 'සඟව': 1921, 'ආආආ': 143, 'ෆන': 2116, 'ඕල': 532, 'දවල': 1046, 'හතම': 2031, 'බරයක': 1321, 'ඉම': 271, 'අච': 13, 'ළවට': 2112, 'ගමනක': 707, 'කරග': 610, 'දම': 1016, 'ශපත': 1870, 'ගඟ': 680, 'එකමය': 403, 'කරගත': 611, 'ටව': 838, 'ගහගත': 740, 'ණන': 898, 'තයට': 948, 'යලම': 1526, 'වයසට': 1812, 'කටද': 551, 'හවසම': 2086, 'ගහත': 743, 'තකර': 917, 'රසයන': 1662, 'කහට': 671, 'වලක': 1828, 'මහන': 1440, 'නගරය': 1106, 'ආහ': 198, 'සකම': 1911, 'අතහ': 35, 'ආශ': 189, 'හකකම': 2020, 'බක': 1290, 'එනකන': 424, 'ටද': 820, 'ලවයස': 1736, 'ඇග': 201, 'වදද': 1775, 'මරද': 1417, 'එත': 413, 'ඇයට': 230, 'උගන': 317, 'බලල': 1340, 'බලප': 1334, 'බයය': 1316, 'ඊට': 301, 'ඩම': 873, 'අඩනව': 19, 'පහකට': 1273, 'දවසම': 1051, 'ඊළඟ': 309, 'සහනය': 2015, 'අයට': 84, 'ලමයත': 1721, 'නවද': 1168, 'යපල': 1498, 'වලද': 1836, 'ගටම': 684, 'ඔර': 511, 'ගව': 732, 'එනවල': 429, 'උපර': 343, 'ගය': 711, 'ළඟටම': 2094, 'ඉඳග': 264, 'යඳම': 1496, 'අහම': 133, 'ආයම': 176, 'නවට': 1164, 'නගම': 1104, 'ඩගම': 857, 'ගහම': 751, 'තරහ': 967, 'යහල': 1553, 'ආර': 177, 'ඩග': 856, 'බලය': 1338, 'වඳක': 1792, 'සසර': 2010, 'උදම': 331, 'යමක': 1501, 'කටය': 555, 'ධනය': 1075, 'වටයක': 1767, 'හදලත': 2048, 'කටත': 550, 'යව': 1528, 'සකය': 1913, 'මවත': 1429, 'ඒකම': 465, 'හඩනව': 2026, 'හඩන': 2025, 'තරමටම': 963, 'වගක': 1752, 'ළඟට': 2093, 'අඬන': 23, 'මනට': 1398, 'තනට': 929, 'නප': 1131, 'හඬවන': 2029, 'තවමන': 977, 'සස': 2008, 'පහල': 1279, 'ඊලග': 305, 'ලනය': 1708, 'උපව': 344, 'දත': 1003, 'සබ': 1951, 'අමන': 77, 'මමත': 1406, 'ඔයත': 507, 'යටවත': 1477, 'ඇෆ': 239, 'ලමය': 1720, 'මරනව': 1419, 'බලව': 1342, 'ගප': 702, 'ඒය': 479, 'උවමන': 370, 'ළමය': 2107, 'තලට': 969, 'රඟප': 1574, 'ළඹ': 2108, 'මහල': 1447, 'වලත': 1835, 'තවමත': 976, 'ආසය': 195, 'සරස': 1991, 'හරහ': 2075, 'පමණක': 1231, 'යටත': 1472, 'කමබක': 597, 'කයන': 606, 'කරනය': 624, 'හදවතත': 2053, 'හතරද': 2034, 'කඩල': 564, 'වකම': 1748, 'යබහ': 1499, 'අඟවන': 12, 'සටම': 1927, 'ගතයක': 693, 'තටම': 922, 'තනව': 933, 'ඔළ': 518, 'වදයක': 1779, 'කවත': 655, 'දළද': 1068, 'වද': 1774, 'දනය': 1007, 'ගලවනව': 728, 'නතර': 1122, 'පලම': 1253, 'මචන': 1373, 'කමක': 592, 'බලතල': 1328, 'කරනස': 632, 'ඊළ': 308, 'ඊළම': 311, 'ළක': 2090, 'බරපතල': 1319, 'වරද': 1822, 'සරණ': 1981, 'ණත': 896, 'ඇප': 221, 'අහක': 125, 'වගම': 1754, 'අයටත': 85, 'ටයක': 830, 'දහය': 1059, 'ලගට': 1688, 'ජනපදය': 787, 'උඳ': 336, 'ගවල': 733, 'උපත': 339, 'ණල': 908, 'දසත': 1055, 'ටවල': 841, 'ඇමත': 225, 'දහස': 1062, 'කහ': 670, 'ඇච': 205, 'දගලන': 994, 'යනවම': 1495, 'එදත': 421, 'අදත': 38, 'ඉඳලම': 267, 'රනව': 1611, 'යනවන': 1492, 'ආත': 156, 'හඳට': 2059, 'ඔයල': 510, 'ඉව': 282, 'ඉහ': 296, 'අහලත': 137, 'දඹ': 1020, 'කටවහන': 558, 'ඒකත': 463, 'උඩයන': 325, 'තරඅහසඋඩ': 951, 'ගනන': 699, 'ටක': 812, 'ඒමය': 477, 'යවනක': 1531, 'පදනම': 1220, 'ඔයය': 509, 'යවනවන': 1534, 'ආවට': 182, 'වලටල': 1834, 'රතල': 1600, 'පඩර': 1212, 'සනට': 1937, 'උල': 367, 'නලද': 1157, 'කවකට': 654, 'උඩග': 320, 'දගන': 993, 'පහත': 1275, 'ටයට': 831, 'නගහනන': 1108, 'දඟලනව': 997, 'දඟල': 995, 'නටල': 1115, 'ඇඳන': 219, 'එතනම': 419, 'පටවන': 1208, 'ධවනය': 1085, 'සකලමන': 1915, 'ඇඹර': 228, 'හතර': 2032, 'අනවශ': 50, 'ධකම': 1070, 'යවත': 1529, 'එකකට': 386, 'ඉදන': 258, 'අහසට': 141, 'ෂනය': 1893, 'බඩට': 1300, 'රමණ': 1625, 'ළප': 2106, 'තරයක': 965, 'රයග': 1635, 'නවම': 1172, 'කමන': 596, 'ලකයන': 1685, 'දවසට': 1049, 'ලයට': 1727, 'අහස': 140, 'කටර': 556, 'බඩග': 1299, 'ඒබ': 473, 'රහම': 1670, 'ගලවගන': 727, 'ටස': 842, 'රහත': 1669, 'නහය': 1182, 'අඬප': 25, 'ෂකවර': 1884, 'ගසක': 735, 'තලම': 970, 'සරදම': 1983, 'ඩපත': 870, 'මතකන': 1387, 'නහරක': 1184, 'උඔ': 312, 'නකල': 1100, 'ඇද': 212, 'ආදරය': 162, 'යනම': 1487, 'තග': 920, 'ඒවග': 481, 'ආදරයක': 163, 'එකගව': 390, 'සලකන': 1999, 'ඩට': 859, 'සලකනව': 2000, 'නවයටස': 1175, 'මනම': 1400, 'යලත': 1523, 'ඒමවත': 478, 'කනවකන': 579, 'ගහට': 742, 'කඩන': 562, 'කඩත': 560, 'යලක': 1522, 'ඔෆ': 519, 'නවඒකත': 1161, 'පලව': 1258, 'නවක': 1162, 'රකප': 1562, 'රයට': 1636, 'වයසය': 1813, 'අඹ': 80, 'අගය': 7, 'චරවත': 776, 'ඔතනය': 492, 'තරඟ': 958, 'එනවද': 428, 'එලව': 443, 'පළප': 1283, 'නකට': 1094, 'ඉදල': 261, 'නගත': 1102, 'ගහනවද': 747, 'වළල': 1862, 'ලඟත': 1693, 'ඇට': 206, 'ආපහ': 170, 'ගහනවල': 748, 'ගහලම': 754, 'ශල': 1877, 'කනකන': 575, 'හතරව': 2037, 'කවර': 661, 'ෆට': 2115, 'අහනක': 130, 'යශ': 1544, 'එතන': 417, 'පවස': 1265, 'සමඟ': 1959, 'මහව': 1448, 'ගඟට': 681, 'එකන': 400, 'නවඑත': 1160, 'ඩයක': 875, 'පහරද': 1278, 'ජපක': 794, 'ෂලට': 1906, 'අතර': 32, 'යනද': 1486, 'ඇඟට': 203, 'ඒවත': 483, 'හදවතට': 2052, 'නතක': 1120, 'ඩනග': 865, 'ලයත': 1728, 'වයටත': 1806, 'යමයක': 1509, 'රළ': 1674, 'ගහලල': 755, 'වනම': 1786, 'සමගය': 1958, 'අමතකව': 73, 'කටවල': 557, 'වයනව': 1807, 'යහ': 1547, 'රසවත': 1663, 'ගලහ': 731, 'ටහර': 846, 'ඒවට': 482, 'ඉවසන': 291, 'ඊව': 306, 'රණව': 1595, 'රණය': 1592, 'උපන': 341, 'සප': 1948, 'ඩගමක': 858, 'ආරම': 179, 'වජ': 1760, 'අබ': 66, 'යවරය': 1539, 'වචන': 1757, 'ඉශ': 292, 'කරනවය': 630, 'සනක': 1936, 'අරගලයට': 97, 'ජයම': 802, 'යටමස': 1475, 'බවට': 1347, 'කරදරයක': 620, 'රටටම': 1586, 'ජනවර': 792, 'උර': 365, 'මයන': 1413, 'භක': 1356, 'ඉවරව': 288, 'රවය': 1647, 'අසහන': 123, 'පණ': 1213, 'යමය': 1508, 'අදහසට': 44, 'සකල': 1914, 'නඑතක': 1090, 'යටලමත': 1476, 'ලධ': 1705, 'වසම': 1848, 'ඒදණ': 472, 'ලමකට': 1719, 'උඩලමත': 326, 'මනද': 1399, 'උඩව': 327, 'ගහව': 756, 'ආසනය': 193, 'දඕව': 988, 'මහඒදන': 1435, 'වගය': 1755, 'වචනය': 1758, 'සනයට': 1940, 'නයන': 1152, 'වපත': 1796, 'කරනත': 623, 'යකවර': 1468, 'යකය': 1465, 'මයක': 1412, 'අරගලය': 95, 'ඔනර': 494, 'මගන': 1370, 'උපය': 342, 'උගත': 316, 'රෆ': 1676, 'මහජන': 1437, 'ආනයනය': 168, 'දහසය': 1065, 'දවත': 1043, 'පකරණ': 1199, 'නවකය': 1163, 'උබටත': 349, 'ළග': 2091, 'බරක': 1318, 'හමම': 2065, 'ඇඇ': 199, 'ගලග': 721, 'ණවර': 910, 'රඹ': 1632, 'යනයකට': 1489, 'ඉහලට': 298, 'පටය': 1205, 'උපහ': 345, 'ෂක': 1881, 'අගන': 5, 'වරට': 1817, 'හක': 2019, 'අඬවන': 26, 'ෂයට': 1901, 'රවයට': 1649, 'හදනන': 2040, 'නඉක': 1087, 'වහක': 1853, 'අළ': 142, 'එකටත': 393, 'වලහන': 1842, 'සවයට': 2006, 'සවය': 2005, 'සමරම': 1969, 'ධය': 1079, 'අභයන': 68, 'ලමක': 1718, 'එනක': 423, 'ගසන': 736, 'රතව': 1601, 'ලතම': 1703, 'ෂණ': 1887, 'එට': 410, 'හච': 2022, 'උඹත': 360, 'අහර': 135, 'බලනව': 1333, 'ගහය': 752, 'ඊටපස': 303, 'ටට': 816, 'බයක': 1315, 'කසකස': 669, 'පකයන': 1198, 'කඩවල': 565, 'වටලප': 1769, 'උට': 318, 'දනයක': 1008, 'පමණ': 1230, 'කඩයක': 563, 'රසට': 1657, 'රමණය': 1626, 'එළ': 455, 'ගයන': 716, 'ගයකය': 714, 'ගණනක': 688, 'ඔතන': 490, 'ඔතනට': 491, 'එතනට': 418, 'සයජ': 1979, 'කලබල': 650, 'මරම': 1420, 'පරප': 1247, 'ඔකට': 485, 'එලවන': 444, 'ටඩ': 818, 'මනරම': 1401, 'ළහර': 2113, 'සවස': 2007, 'ජප': 793, 'පලයව': 1257, 'ගලන': 723, 'නරක': 1154, 'ඩද': 863, 'උමත': 356, 'ඒතරම': 471, 'ඳට': 1189, 'බලපන': 1335, 'ලකට': 1681, 'අහවල': 139, 'චපල': 769, 'ළඟ': 2092, 'බග': 1294, 'යවප': 1535, 'පරතර': 1243, 'බලහන': 1344, 'රහට': 1666, 'කණට': 568, 'වඅරක': 1743, 'නඋන': 1089, 'නහක': 1181, 'ලනව': 1710, 'ආසම': 194, 'හනයක': 2056, 'ඉගනගන': 246, 'පහවත': 1280, 'වචනයය': 1759, 'රගන': 1570, 'ගමනය': 708, 'රටම': 1588, 'ඒකටත': 462, 'බකට': 1291, 'අමනව': 78, 'අතක': 29, 'එමටය': 434, 'පතම': 1217, 'දඟලන': 996, 'ඩස': 887, 'ආට': 153, 'ඒමද': 475, 'දපන': 1015, 'සලකට': 1998, 'ලලක': 1732, 'අපත': 58, 'අපහස': 65, 'ඒම': 474, 'හයස': 2070, 'දනද': 1006, 'වදන': 1776, 'නතව': 1123, 'බවක': 1346, 'රරත': 1638, 'තකත': 915, 'ඩත': 862, 'ළයක': 2110, 'ඕව': 533, 'අරහ': 101, 'කලය': 651, 'රකරල': 1567, 'ආස': 191, 'පඩ': 1209, 'නහයවල': 1183, 'සග': 1917, 'ඕනම': 528, 'වදයට': 1780, 'තයන': 949, 'වදය': 1778, 'වධයට': 1782, 'වධකයන': 1781, 'ආශක': 190, 'හරක': 2072, 'එළද': 456, 'අසරණ': 121, 'අදර': 39, 'ඩවල': 886, 'ලඟව': 1695, 'ඈත': 241, 'ඹම': 1454, 'උවත': 369, 'බලනක': 1332, 'මටම': 1377, 'පහන': 1277, 'හඳ': 2058, 'ඒකඒ': 459, 'එකවත': 405, 'එසය': 453, 'වබ': 1797, 'රවන': 1643, 'අයග': 83, 'නනවන': 1128, 'ශයක': 1874, 'ශෂ': 1880, 'ඳවය': 1195, 'ඩකර': 853, 'යවරට': 1538, 'බදව': 1307, 'දවය': 1045, 'යලන': 1525, 'සදහ': 1933, 'එඒක': 382, 'පජ': 1202, 'බබළවනව': 1312, 'රභ': 1620, 'බලලම': 1341, 'තඩ': 925, 'ටමට': 827, 'දහම': 1058, 'ණධර': 897, 'යවපන': 1536, 'අපජල': 56, 'ධත': 1073, 'ටපන': 824, 'ඉදගන': 257, 'පරදන': 1245, 'ඹටය': 1453, 'ලසට': 1740, 'නඟවල': 1110, 'පම': 1229, 'ලඹ': 1722, 'වහන': 1855, 'නඟට': 1109, 'යවශ': 1542, 'උපක': 338, 'අතරම': 33, 'සරයද': 1986, 'නවල': 1176, 'වමර': 1801, 'ඊටත': 302, 'රළට': 1675, 'උඩට': 321, 'රණවක': 1596, 'සරසව': 1992, 'සබරගම': 1953, 'වයඹ': 1808, 'ආසන': 192, 'රථයක': 1605, 'රථය': 1604, 'වනය': 1787, 'ඇරල': 232, 'බලද': 1329, 'අපය': 61, 'බලයට': 1339, 'රකන': 1561, 'ෂම': 1896, 'උබලටත': 354, 'රකම': 1563, 'ෂණය': 1888, 'එබ': 432, 'බම': 1313, 'රවටම': 1642, 'කරවම': 644, 'අදහසක': 43, 'සදහන': 1934, 'සපත': 1949, 'රටත': 1587, 'මඉන': 1359, 'සමත': 1961, 'රකඑප': 1557, 'ණප': 899, 'තකහන': 919, 'ඩප': 869, 'ඩඅභයත': 849, 'යගය': 1470, 'ඊළඟට': 310, 'මහනගර': 1441, 'රකතන': 1558, 'නටවත': 1116, 'කවරය': 664, 'මසන': 1432, 'අවමය': 112, 'රමය': 1628, 'පටලව': 1207, 'මහමග': 1444, 'ඉරහඳ': 277, 'වඩප': 1772, 'ළඟප': 2096, 'තකවත': 918, 'බසය': 1352, 'පටයක': 1206, 'වසන': 1847, 'ණස': 911, 'තප': 935, 'ලඟට': 1692, 'ඳප': 1192, 'ජල': 808, 'ලටම': 1700, 'තනය': 931, 'ලසන': 1741, 'බඳ': 1309, 'දමන': 1019, 'සගව': 1920, 'ජයක': 799, 'යකත': 1464, 'වයව': 1809, 'ෂග': 1885, 'රවයත': 1650, 'දමක': 1017, 'දවන': 1044, 'නගරයක': 1107, 'යයට': 1515, 'ණයග': 904, 'රවස': 1653, 'දහසයට': 1066, 'සහජ': 2013, 'ආගමකට': 148, 'යකටම': 1462, 'ඩර': 881, 'නඉද': 1088, 'තරක': 952, 'ඔච': 486, 'චරම': 775, 'දපක': 1014, 'හප': 2060, 'ශවර': 1878, 'පකය': 1197, 'වලව': 1840, 'ගලද': 722, 'උඩටම': 322, 'හපනව': 2062, 'නමත': 1139, 'සරව': 1990, 'ඌවග': 379, 'ඔත': 489, 'ඉඳක': 263, 'පඩමය': 1210, 'ඌව': 378, 'සඳම': 1944, 'කරලට': 640, 'ණක': 891, 'රසය': 1660, 'බඩත': 1301, 'මහණ': 1438, 'එකගත': 388, 'හඬ': 2027, 'ගමය': 710, 'උඔව': 314, 'උඔල': 313, 'කරනවල': 631, 'වලටද': 1832, 'කමටද': 594, 'අහවරය': 138, 'ඌත': 375, 'ඇම': 224, 'ටයම': 832, 'කපනව': 586, 'මහම': 1443, 'දයඑල': 1023, 'ඕහ': 536, 'වනනක': 1785, 'ටපල': 825, 'රසත': 1658, 'කරනවට': 627, 'ගහගන': 741, 'ඕකම': 524, 'සරය': 1985, 'හලනව': 2080, 'ඔඩ': 488, 'රගත': 1569, 'රමක': 1623, 'යමනක': 1506, 'වයක': 1803, 'ආවම': 185, 'රමකම': 1624, 'ඉලලන': 281, 'පවල': 1264, 'එතකල': 416, 'කවමද': 660, 'අරගත': 93, 'මසයක': 1433, 'උබලට': 353, 'තකටද': 914, 'කවල': 665, 'මහර': 1445, 'ජට': 781, 'ඍජ': 380, 'කශ': 667, 'රසක': 1656, 'යමන': 1505, 'එම': 433, 'චණ': 765, 'ඌය': 376, 'මවප': 1430, 'නබ': 1135, 'මතටත': 1389, 'තටමත': 923, 'කටන': 552, 'කටප': 553, 'වටත': 1763, 'ඇගට': 202, 'මඩකලප': 1382, 'ළධ': 2102, 'නවදබ': 1169, 'යහප': 1550, 'ගලවම': 729, 'වරය': 1826, 'කහන': 672, 'නළවනව': 1186, 'තවට': 972, 'ඕකට': 522, 'සබන': 1952, 'උබත': 350, 'රජක': 1577, 'ළඟන': 2095, 'සකමට': 1912, 'වහම': 1859, 'පනප': 1224, 'ගලවල': 730, 'යනකම': 1485, 'ලඟම': 1694, 'පනය': 1225, 'සමරය': 1970, 'සමරනකල': 1968, 'තහව': 983, 'වලටත': 1831, 'රහක': 1665, 'වනයක': 1788, 'දව': 1042, 'ණවත': 909, 'තටමය': 924, 'ඕකග': 521, 'අගයක': 8, 'සඳක': 1943, 'තහ': 979, 'උඩද': 324, 'අපතයන': 59, 'කරලත': 641, 'වයකට': 1804, 'කරකර': 609, 'බරර': 1324, 'අවබ': 111, 'එයට': 436, 'දස': 1054, 'අපක': 54, 'ෂප': 1894, 'අනභ': 49, 'භවනයත': 1358, 'ෂකල': 1883, 'තහන': 981, 'යටද': 1473, 'අගයන': 9, 'ආදයමක': 159, 'වලටය': 1833, 'ණගන': 893, 'සගන': 1918, 'එජන': 409, 'අරකකකඅප': 90, 'කකක': 539, 'ටගර': 815, 'ණර': 906, 'රඟ': 1572, 'ධකර': 1072, 'හබරල': 2063, 'ෆක': 2114, 'වලපල': 1837, 'මකල': 1367, 'එපය': 431, 'උඹලට': 363, 'කජ': 546, 'තනයක': 932, 'වහනව': 1856, 'බළල': 1355, 'එකදවසක': 399, 'වකටද': 1746, 'දනවටත': 1011, 'සයග': 1978, 'ඳක': 1187, 'නනවස': 1129, 'කරහම': 645, 'පග': 1201, 'කචල': 545, 'මමය': 1409, 'චත': 766, 'හඟ': 2021, 'ඈඈ': 240, 'ටවක': 839, 'ගරන': 718, 'ලකන': 1683, 'රෆය': 1677, 'හදලද': 2049, 'ඉවවත': 289, 'වගනග': 1753, 'නආඩම': 1086, 'යලල': 1527, 'යනවනන': 1493, 'වවත': 1844, 'ටකට': 813, 'සසය': 2009, 'හතරක': 2033, 'වහප': 1857, 'ලෂ': 1738, 'ළදර': 2101, 'පරයන': 1251, 'ආගමට': 150, 'පලස': 1259, 'කලග': 648, 'මකබ': 1365, 'දනව': 1010, 'අරකය': 91, 'යමප': 1507, 'රජග': 1578, 'යනයක': 1488, 'බහර': 1354, 'අයත': 86, 'රජමහ': 1579, 'සලක': 1997, 'හදය': 2046, 'අහපන': 132, 'යහන': 1548, 'ඩයන': 877, 'ජනව': 790, 'අට': 15, 'ඵල': 1287, 'ඉඩපල': 250, 'නයකට': 1146, 'රඳව': 1612, 'කකර': 541, 'ඩයස': 880, 'ධනස': 1077, 'අමර': 79, 'වටට': 1762, 'කරට': 613, 'පනත': 1222, 'ජරත': 807, 'අවනත': 110, 'සමරත': 1966, 'කඳව': 583, 'බලධ': 1330, 'පවසය': 1267, 'ඈහ': 243, 'ලනයමතකද': 1709, 'ලබට': 1714, 'ගමට': 705, 'රදව': 1608, 'සවන': 2004, 'එකටම': 395, 'රකයට': 1565, 'ඉඹ': 272, 'හලක': 2077, 'යඇන': 1457, 'ඩල': 883, 'කපනවම': 587, 'බකඩ': 1292, 'ෂල': 1905, 'පකරන': 1200, 'කවදද': 658, 'පහක': 1272, 'කලයන': 652, 'හලකම': 2078, 'වඳප': 1793, 'රසම': 1659, 'කයට': 604, 'ඟන': 761, 'හරපය': 2074, 'අහගන': 127, 'සමල': 1971, 'හයන': 2069, 'අණ': 22, 'ඇඳල': 220, 'ඇඟම': 204, 'එවර': 451, 'ශනය': 1868, 'වනද': 1784, 'දළ': 1067, 'රතනය': 1599, 'වරත': 1821, 'ලයකට': 1725, 'ඉහත': 297, 'නවය': 1174, 'රදල': 1607, 'වශය': 1845, 'දඹද': 1021, 'රගම': 1571, 'දරම': 1033, 'නපහ': 1134, 'අරම': 100, 'වභ': 1798, 'ථය': 986, 'සමස': 1972, 'මනක': 1397, 'තපල': 937, 'බකරල': 1293, 'එවය': 450, 'එකඑකට': 384, 'සදගම': 1932, 'ඩකරම': 855, 'සරයල': 1987, 'වලකම': 1829, 'තහනම': 982, 'ලවත': 1734, 'ගතහම': 696, 'ටනද': 822, 'මතකද': 1386, 'මලල': 1427, 'තරග': 953, 'තරගයකට': 956, 'ලබය': 1716, 'ඔබව': 504, 'ඩකය': 851, 'යමට': 1503, 'ළත': 2099, 'ධවත': 1084, 'කටකත': 549, 'නවතම': 1167, 'කරනවමන': 629, 'ඒකඒක': 460, 'නපන': 1133, 'බරයග': 1322, 'ඔවරයට': 514, 'ආසවක': 196, 'ඩකයන': 852, 'සහභ': 2016, 'අටකට': 16, 'සමහරක': 1974, 'මකද': 1363, 'පතනව': 1216, 'තරගයක': 955, 'ඩයට': 876, 'ඕවර': 534, 'බඩතඩ': 1302, 'වලය': 1838, 'අරගන': 94, 'අටල': 17, 'කරනවද': 628, 'මටනම': 1376, 'මනසට': 1402, 'හදනවද': 2042, 'ඉරක': 275, 'යඔහ': 1459, 'ජනයක': 789, 'සනත': 1938, 'කගන': 543, 'නමප': 1140, 'ළට': 2097, 'ෆව': 2120, 'ඇබ': 223, 'උනන': 335, 'බලග': 1327, 'හවසට': 2085, 'ගහද': 744, 'නතන': 1121, 'දශකය': 1053, 'ඩයම': 878, 'අයඅද': 82, 'කනත': 577, 'ලඅප': 1678, 'රබලනම': 1619, 'යනකන': 1484, 'එලන': 442, 'සමර': 1965, 'ධම': 1078, 'ජස': 811, 'ගතය': 692, 'දහයග': 1061, 'සරන': 1984, 'එඋන': 381, 'සටහන': 1928, 'කනස': 581, 'මනහර': 1403, 'ඔසව': 516, 'ආම': 171, 'රකථනය': 1560, 'ඕනබ': 527, 'අතගග': 30, 'මරණ': 1416, 'දඬ': 1002, 'යමව': 1510, 'ගතව': 695, 'සඳහන': 1947, 'ජශ': 810, 'ඩහ': 890, 'සකස': 1916, 'ජනවන': 791, 'ආගමන': 151, 'නමස': 1142, 'ඉපදව': 269, 'අගරදග': 10, 'දයත': 1027, 'කවරණයත': 662, 'ටමසර': 828, 'ජපනට': 795, 'දවසටත': 1050, 'ජපස': 796, 'සජ': 1923, 'ඔබටත': 499, 'එතකන': 415, 'ගළවන': 757, 'හඬම': 2028, 'සලසන': 2002, 'බවත': 1348, 'සමය': 1964, 'ලකර': 1686, 'සලමට': 2001, 'කවරනයක': 663, 'නවආම': 1159, 'යවර': 1537, 'ඩසටහන': 888, 'ඔබය': 502, 'ඔබවහන': 505, 'ඟම': 762, 'යහමග': 1552, 'ටළ': 847, 'ආයතනයක': 175, 'ඩසටහනට': 889, 'සඵල': 1950, 'ළව': 2111, 'ආල': 180, 'ඇසට': 236, 'එකද': 398, 'යහළ': 1554, 'ශබ': 1872, 'රතන': 1598, 'පමණමය': 1232, 'තපමණක': 936, 'තබන': 939, 'නඩත': 1118, 'බලහත': 1343, 'ඵලයක': 1289, 'දලක': 1039, 'අසරණයන': 122, 'ෂණයට': 1889, 'අරහත': 102, 'නපත': 1132, 'ජකය': 779, 'නයධරය': 1151, 'නමය': 1141, 'යකර': 1467, 'බවද': 1349, 'ගලයන': 726, 'චනය': 768, 'මමද': 1407, 'ඝරත': 759, 'නයටත': 1148, 'යයන': 1517, 'මටවත': 1378, 'රවයක': 1648, 'තහද': 980, 'පමනක': 1234, 'අමතම': 75, 'රණයට': 1594, 'රජයක': 1581, 'බවය': 1350, 'ඉෂ': 293, 'යසඉස': 1546, 'මකන': 1364, 'ඝණ': 758, 'ඕම': 530, 'නමහහ': 1143, 'කරදරවල': 621, 'අයද': 87, 'පරදම': 1246, 'පවසන': 1266, 'ශත': 1865, 'අමතකය': 72, 'ඹල': 1455, 'මණ': 1383, 'කමටවත': 595, 'ශපලන': 1871, 'කමල': 599, 'ගහක': 738, 'සහර': 2018, 'පඹය': 1235, 'අඩරට': 20, 'පහතරට': 1276, 'වසල': 1851, 'ඇසල': 237, 'ඉහළ': 299, 'ගනනක': 700, 'ඛන': 676, 'සහචරය': 2012, 'කරයග': 638, 'යආගම': 1456, 'හදලව': 2050, 'නකර': 1098, 'හදනවනම': 2044, 'ඔයධර': 508, 'මයඅන': 1411, 'ගමනයකරනහ': 709, 'ලනඅප': 1707, 'මටහ': 1380, 'පරබල': 1248, 'ආගමජ': 149, 'රකථන': 1559, 'ණරත': 907, 'පහට': 1274, 'ණග': 892, 'අරට': 98, 'උව': 368, 'ඨල': 848, 'නකරව': 1099, 'ඉඩම': 251, 'යහම': 1551, 'ඉඩමක': 252, 'සරලවම': 1989, 'ඇතච': 211, 'නයටද': 1149, 'වකද': 1747, 'ඉහළම': 300, 'ධකය': 1071, 'දයද': 1028, 'මදම': 1394, 'ථව': 987, 'ටයර': 833, 'ළණ': 2098, 'එඬ': 412, 'කඩද': 561, 'ලච': 1696, 'ඇඹ': 227, 'අපනයනය': 60, 'ඒකල': 467, 'ඩලය': 884, 'රථ': 1602, 'නකද': 1095, 'කයක': 603, 'අදහන': 41, 'තවයකට': 978, 'මතයන': 1392, 'නඒව': 1092, 'එලවල': 446, 'මහගන': 1436, 'බඩප': 1303, 'ගයකට': 713, 'අහද': 128, 'අජ': 14, 'කබ': 589, 'ලඔබට': 1679, 'කනග': 576, 'ගදප': 697, 'අමතකනම': 71, 'අපහට': 64, 'තරමට': 962, 'ජයගන': 801, 'තරගය': 954, 'කඪ': 566, 'යමසමග': 1512, 'ගණය': 689, 'තරගයට': 957, 'යමකටම': 1502, 'රහණය': 1668, 'වරග': 1816, 'යමශ': 1511, 'රථම': 1603, 'සඳර': 1945, 'ජයලත': 803, 'උළ': 373, 'ෂත': 1890, 'උෂ': 371, 'මළල': 1451, 'ධක': 1069, 'යමත': 1504, 'ලරත': 1730, 'ගතද': 691, 'පථය': 1218, 'වලල': 1839, 'රහණ': 1667, 'ථකය': 985, 'හනය': 2055, 'තභය': 941, 'කලක': 647, 'ජධ': 782, 'අවල': 113, 'හරණය': 2073, 'ෂද': 1891, 'ශවල': 1879, 'අවසර': 117, 'කළහ': 675, 'ළඹමහන': 2109, 'ආනන': 167, 'රචණ': 1575, 'පවරන': 1263, 'ඒඑම': 457, 'රකර': 1566, 'ආවරණය': 187, 'රකය': 1564, 'අමතරව': 76, 'ඩබලන': 872, 'ධයන': 1081, 'ෂටර': 1886, 'දමත': 1018, 'කථන': 571, 'රමරත': 1630, 'යවරයක': 1540, 'ෂෆ': 1909, 'අඛණ': 3, 'වකය': 1749, 'චක': 764, 'ඛය': 677, 'ආවරණ': 186, 'රභවයන': 1621, 'ණභ': 900, 'පනතට': 1223, 'ළඳස': 2105, 'ඩනය': 868, 'ළඳ': 2104}\n"
          ]
        }
      ]
    },
    {
      "cell_type": "code",
      "source": [
        "e = pd.DataFrame(X,columns=count_vector.get_feature_names_out())\n",
        "e"
      ],
      "metadata": {
        "colab": {
          "base_uri": "https://localhost:8080/",
          "height": 423
        },
        "id": "NEAsfMX7u0Fb",
        "outputId": "763ebfed-0411-4773-cbbd-2514a3f13126"
      },
      "execution_count": 26,
      "outputs": [
        {
          "output_type": "execute_result",
          "data": {
            "text/plain": [
              "      අක  අකම  අකව  අඛණ  අග  අගන  අගම  අගය  අගයක  අගයන  ...  ළවට  ළහර  ෆක  ෆට  \\\n",
              "0      0    0    0    0   0    0    0    0     0     0  ...    0    0   0   0   \n",
              "1      0    0    0    0   0    0    0    0     0     0  ...    0    0   0   0   \n",
              "2      0    0    0    0   0    0    0    0     0     0  ...    0    0   0   0   \n",
              "3      0    0    0    0   0    0    0    0     0     0  ...    0    0   0   0   \n",
              "4      0    0    0    0   0    0    0    0     0     0  ...    0    0   0   0   \n",
              "...   ..  ...  ...  ...  ..  ...  ...  ...   ...   ...  ...  ...  ...  ..  ..   \n",
              "1674   0    0    0    0   0    0    0    0     0     0  ...    0    0   0   0   \n",
              "1675   0    0    0    0   0    0    0    0     0     0  ...    0    0   0   0   \n",
              "1676   0    0    0    0   0    0    0    0     0     0  ...    0    0   0   0   \n",
              "1677   0    0    0    0   0    0    0    0     0     0  ...    0    0   0   0   \n",
              "1678   0    0    0    0   0    0    1    0     0     0  ...    0    0   0   0   \n",
              "\n",
              "      ෆන  ෆය  ෆර  ෆල  ෆව  ෆස  \n",
              "0      0   0   0   0   0   0  \n",
              "1      0   0   0   0   0   0  \n",
              "2      0   0   0   0   0   0  \n",
              "3      0   0   0   0   0   0  \n",
              "4      0   0   0   0   0   0  \n",
              "...   ..  ..  ..  ..  ..  ..  \n",
              "1674   0   0   0   0   0   0  \n",
              "1675   0   0   0   0   0   0  \n",
              "1676   0   0   0   0   0   0  \n",
              "1677   0   0   0   0   0   0  \n",
              "1678   0   0   0   0   0   0  \n",
              "\n",
              "[1679 rows x 2122 columns]"
            ],
            "text/html": [
              "\n",
              "  <div id=\"df-d2799c41-6b79-4c4f-ba18-c4cdccc2cc16\">\n",
              "    <div class=\"colab-df-container\">\n",
              "      <div>\n",
              "<style scoped>\n",
              "    .dataframe tbody tr th:only-of-type {\n",
              "        vertical-align: middle;\n",
              "    }\n",
              "\n",
              "    .dataframe tbody tr th {\n",
              "        vertical-align: top;\n",
              "    }\n",
              "\n",
              "    .dataframe thead th {\n",
              "        text-align: right;\n",
              "    }\n",
              "</style>\n",
              "<table border=\"1\" class=\"dataframe\">\n",
              "  <thead>\n",
              "    <tr style=\"text-align: right;\">\n",
              "      <th></th>\n",
              "      <th>අක</th>\n",
              "      <th>අකම</th>\n",
              "      <th>අකව</th>\n",
              "      <th>අඛණ</th>\n",
              "      <th>අග</th>\n",
              "      <th>අගන</th>\n",
              "      <th>අගම</th>\n",
              "      <th>අගය</th>\n",
              "      <th>අගයක</th>\n",
              "      <th>අගයන</th>\n",
              "      <th>...</th>\n",
              "      <th>ළවට</th>\n",
              "      <th>ළහර</th>\n",
              "      <th>ෆක</th>\n",
              "      <th>ෆට</th>\n",
              "      <th>ෆන</th>\n",
              "      <th>ෆය</th>\n",
              "      <th>ෆර</th>\n",
              "      <th>ෆල</th>\n",
              "      <th>ෆව</th>\n",
              "      <th>ෆස</th>\n",
              "    </tr>\n",
              "  </thead>\n",
              "  <tbody>\n",
              "    <tr>\n",
              "      <th>0</th>\n",
              "      <td>0</td>\n",
              "      <td>0</td>\n",
              "      <td>0</td>\n",
              "      <td>0</td>\n",
              "      <td>0</td>\n",
              "      <td>0</td>\n",
              "      <td>0</td>\n",
              "      <td>0</td>\n",
              "      <td>0</td>\n",
              "      <td>0</td>\n",
              "      <td>...</td>\n",
              "      <td>0</td>\n",
              "      <td>0</td>\n",
              "      <td>0</td>\n",
              "      <td>0</td>\n",
              "      <td>0</td>\n",
              "      <td>0</td>\n",
              "      <td>0</td>\n",
              "      <td>0</td>\n",
              "      <td>0</td>\n",
              "      <td>0</td>\n",
              "    </tr>\n",
              "    <tr>\n",
              "      <th>1</th>\n",
              "      <td>0</td>\n",
              "      <td>0</td>\n",
              "      <td>0</td>\n",
              "      <td>0</td>\n",
              "      <td>0</td>\n",
              "      <td>0</td>\n",
              "      <td>0</td>\n",
              "      <td>0</td>\n",
              "      <td>0</td>\n",
              "      <td>0</td>\n",
              "      <td>...</td>\n",
              "      <td>0</td>\n",
              "      <td>0</td>\n",
              "      <td>0</td>\n",
              "      <td>0</td>\n",
              "      <td>0</td>\n",
              "      <td>0</td>\n",
              "      <td>0</td>\n",
              "      <td>0</td>\n",
              "      <td>0</td>\n",
              "      <td>0</td>\n",
              "    </tr>\n",
              "    <tr>\n",
              "      <th>2</th>\n",
              "      <td>0</td>\n",
              "      <td>0</td>\n",
              "      <td>0</td>\n",
              "      <td>0</td>\n",
              "      <td>0</td>\n",
              "      <td>0</td>\n",
              "      <td>0</td>\n",
              "      <td>0</td>\n",
              "      <td>0</td>\n",
              "      <td>0</td>\n",
              "      <td>...</td>\n",
              "      <td>0</td>\n",
              "      <td>0</td>\n",
              "      <td>0</td>\n",
              "      <td>0</td>\n",
              "      <td>0</td>\n",
              "      <td>0</td>\n",
              "      <td>0</td>\n",
              "      <td>0</td>\n",
              "      <td>0</td>\n",
              "      <td>0</td>\n",
              "    </tr>\n",
              "    <tr>\n",
              "      <th>3</th>\n",
              "      <td>0</td>\n",
              "      <td>0</td>\n",
              "      <td>0</td>\n",
              "      <td>0</td>\n",
              "      <td>0</td>\n",
              "      <td>0</td>\n",
              "      <td>0</td>\n",
              "      <td>0</td>\n",
              "      <td>0</td>\n",
              "      <td>0</td>\n",
              "      <td>...</td>\n",
              "      <td>0</td>\n",
              "      <td>0</td>\n",
              "      <td>0</td>\n",
              "      <td>0</td>\n",
              "      <td>0</td>\n",
              "      <td>0</td>\n",
              "      <td>0</td>\n",
              "      <td>0</td>\n",
              "      <td>0</td>\n",
              "      <td>0</td>\n",
              "    </tr>\n",
              "    <tr>\n",
              "      <th>4</th>\n",
              "      <td>0</td>\n",
              "      <td>0</td>\n",
              "      <td>0</td>\n",
              "      <td>0</td>\n",
              "      <td>0</td>\n",
              "      <td>0</td>\n",
              "      <td>0</td>\n",
              "      <td>0</td>\n",
              "      <td>0</td>\n",
              "      <td>0</td>\n",
              "      <td>...</td>\n",
              "      <td>0</td>\n",
              "      <td>0</td>\n",
              "      <td>0</td>\n",
              "      <td>0</td>\n",
              "      <td>0</td>\n",
              "      <td>0</td>\n",
              "      <td>0</td>\n",
              "      <td>0</td>\n",
              "      <td>0</td>\n",
              "      <td>0</td>\n",
              "    </tr>\n",
              "    <tr>\n",
              "      <th>...</th>\n",
              "      <td>...</td>\n",
              "      <td>...</td>\n",
              "      <td>...</td>\n",
              "      <td>...</td>\n",
              "      <td>...</td>\n",
              "      <td>...</td>\n",
              "      <td>...</td>\n",
              "      <td>...</td>\n",
              "      <td>...</td>\n",
              "      <td>...</td>\n",
              "      <td>...</td>\n",
              "      <td>...</td>\n",
              "      <td>...</td>\n",
              "      <td>...</td>\n",
              "      <td>...</td>\n",
              "      <td>...</td>\n",
              "      <td>...</td>\n",
              "      <td>...</td>\n",
              "      <td>...</td>\n",
              "      <td>...</td>\n",
              "      <td>...</td>\n",
              "    </tr>\n",
              "    <tr>\n",
              "      <th>1674</th>\n",
              "      <td>0</td>\n",
              "      <td>0</td>\n",
              "      <td>0</td>\n",
              "      <td>0</td>\n",
              "      <td>0</td>\n",
              "      <td>0</td>\n",
              "      <td>0</td>\n",
              "      <td>0</td>\n",
              "      <td>0</td>\n",
              "      <td>0</td>\n",
              "      <td>...</td>\n",
              "      <td>0</td>\n",
              "      <td>0</td>\n",
              "      <td>0</td>\n",
              "      <td>0</td>\n",
              "      <td>0</td>\n",
              "      <td>0</td>\n",
              "      <td>0</td>\n",
              "      <td>0</td>\n",
              "      <td>0</td>\n",
              "      <td>0</td>\n",
              "    </tr>\n",
              "    <tr>\n",
              "      <th>1675</th>\n",
              "      <td>0</td>\n",
              "      <td>0</td>\n",
              "      <td>0</td>\n",
              "      <td>0</td>\n",
              "      <td>0</td>\n",
              "      <td>0</td>\n",
              "      <td>0</td>\n",
              "      <td>0</td>\n",
              "      <td>0</td>\n",
              "      <td>0</td>\n",
              "      <td>...</td>\n",
              "      <td>0</td>\n",
              "      <td>0</td>\n",
              "      <td>0</td>\n",
              "      <td>0</td>\n",
              "      <td>0</td>\n",
              "      <td>0</td>\n",
              "      <td>0</td>\n",
              "      <td>0</td>\n",
              "      <td>0</td>\n",
              "      <td>0</td>\n",
              "    </tr>\n",
              "    <tr>\n",
              "      <th>1676</th>\n",
              "      <td>0</td>\n",
              "      <td>0</td>\n",
              "      <td>0</td>\n",
              "      <td>0</td>\n",
              "      <td>0</td>\n",
              "      <td>0</td>\n",
              "      <td>0</td>\n",
              "      <td>0</td>\n",
              "      <td>0</td>\n",
              "      <td>0</td>\n",
              "      <td>...</td>\n",
              "      <td>0</td>\n",
              "      <td>0</td>\n",
              "      <td>0</td>\n",
              "      <td>0</td>\n",
              "      <td>0</td>\n",
              "      <td>0</td>\n",
              "      <td>0</td>\n",
              "      <td>0</td>\n",
              "      <td>0</td>\n",
              "      <td>0</td>\n",
              "    </tr>\n",
              "    <tr>\n",
              "      <th>1677</th>\n",
              "      <td>0</td>\n",
              "      <td>0</td>\n",
              "      <td>0</td>\n",
              "      <td>0</td>\n",
              "      <td>0</td>\n",
              "      <td>0</td>\n",
              "      <td>0</td>\n",
              "      <td>0</td>\n",
              "      <td>0</td>\n",
              "      <td>0</td>\n",
              "      <td>...</td>\n",
              "      <td>0</td>\n",
              "      <td>0</td>\n",
              "      <td>0</td>\n",
              "      <td>0</td>\n",
              "      <td>0</td>\n",
              "      <td>0</td>\n",
              "      <td>0</td>\n",
              "      <td>0</td>\n",
              "      <td>0</td>\n",
              "      <td>0</td>\n",
              "    </tr>\n",
              "    <tr>\n",
              "      <th>1678</th>\n",
              "      <td>0</td>\n",
              "      <td>0</td>\n",
              "      <td>0</td>\n",
              "      <td>0</td>\n",
              "      <td>0</td>\n",
              "      <td>0</td>\n",
              "      <td>1</td>\n",
              "      <td>0</td>\n",
              "      <td>0</td>\n",
              "      <td>0</td>\n",
              "      <td>...</td>\n",
              "      <td>0</td>\n",
              "      <td>0</td>\n",
              "      <td>0</td>\n",
              "      <td>0</td>\n",
              "      <td>0</td>\n",
              "      <td>0</td>\n",
              "      <td>0</td>\n",
              "      <td>0</td>\n",
              "      <td>0</td>\n",
              "      <td>0</td>\n",
              "    </tr>\n",
              "  </tbody>\n",
              "</table>\n",
              "<p>1679 rows × 2122 columns</p>\n",
              "</div>\n",
              "      <button class=\"colab-df-convert\" onclick=\"convertToInteractive('df-d2799c41-6b79-4c4f-ba18-c4cdccc2cc16')\"\n",
              "              title=\"Convert this dataframe to an interactive table.\"\n",
              "              style=\"display:none;\">\n",
              "        \n",
              "  <svg xmlns=\"http://www.w3.org/2000/svg\" height=\"24px\"viewBox=\"0 0 24 24\"\n",
              "       width=\"24px\">\n",
              "    <path d=\"M0 0h24v24H0V0z\" fill=\"none\"/>\n",
              "    <path d=\"M18.56 5.44l.94 2.06.94-2.06 2.06-.94-2.06-.94-.94-2.06-.94 2.06-2.06.94zm-11 1L8.5 8.5l.94-2.06 2.06-.94-2.06-.94L8.5 2.5l-.94 2.06-2.06.94zm10 10l.94 2.06.94-2.06 2.06-.94-2.06-.94-.94-2.06-.94 2.06-2.06.94z\"/><path d=\"M17.41 7.96l-1.37-1.37c-.4-.4-.92-.59-1.43-.59-.52 0-1.04.2-1.43.59L10.3 9.45l-7.72 7.72c-.78.78-.78 2.05 0 2.83L4 21.41c.39.39.9.59 1.41.59.51 0 1.02-.2 1.41-.59l7.78-7.78 2.81-2.81c.8-.78.8-2.07 0-2.86zM5.41 20L4 18.59l7.72-7.72 1.47 1.35L5.41 20z\"/>\n",
              "  </svg>\n",
              "      </button>\n",
              "      \n",
              "  <style>\n",
              "    .colab-df-container {\n",
              "      display:flex;\n",
              "      flex-wrap:wrap;\n",
              "      gap: 12px;\n",
              "    }\n",
              "\n",
              "    .colab-df-convert {\n",
              "      background-color: #E8F0FE;\n",
              "      border: none;\n",
              "      border-radius: 50%;\n",
              "      cursor: pointer;\n",
              "      display: none;\n",
              "      fill: #1967D2;\n",
              "      height: 32px;\n",
              "      padding: 0 0 0 0;\n",
              "      width: 32px;\n",
              "    }\n",
              "\n",
              "    .colab-df-convert:hover {\n",
              "      background-color: #E2EBFA;\n",
              "      box-shadow: 0px 1px 2px rgba(60, 64, 67, 0.3), 0px 1px 3px 1px rgba(60, 64, 67, 0.15);\n",
              "      fill: #174EA6;\n",
              "    }\n",
              "\n",
              "    [theme=dark] .colab-df-convert {\n",
              "      background-color: #3B4455;\n",
              "      fill: #D2E3FC;\n",
              "    }\n",
              "\n",
              "    [theme=dark] .colab-df-convert:hover {\n",
              "      background-color: #434B5C;\n",
              "      box-shadow: 0px 1px 3px 1px rgba(0, 0, 0, 0.15);\n",
              "      filter: drop-shadow(0px 1px 2px rgba(0, 0, 0, 0.3));\n",
              "      fill: #FFFFFF;\n",
              "    }\n",
              "  </style>\n",
              "\n",
              "      <script>\n",
              "        const buttonEl =\n",
              "          document.querySelector('#df-d2799c41-6b79-4c4f-ba18-c4cdccc2cc16 button.colab-df-convert');\n",
              "        buttonEl.style.display =\n",
              "          google.colab.kernel.accessAllowed ? 'block' : 'none';\n",
              "\n",
              "        async function convertToInteractive(key) {\n",
              "          const element = document.querySelector('#df-d2799c41-6b79-4c4f-ba18-c4cdccc2cc16');\n",
              "          const dataTable =\n",
              "            await google.colab.kernel.invokeFunction('convertToInteractive',\n",
              "                                                     [key], {});\n",
              "          if (!dataTable) return;\n",
              "\n",
              "          const docLinkHtml = 'Like what you see? Visit the ' +\n",
              "            '<a target=\"_blank\" href=https://colab.research.google.com/notebooks/data_table.ipynb>data table notebook</a>'\n",
              "            + ' to learn more about interactive tables.';\n",
              "          element.innerHTML = '';\n",
              "          dataTable['output_type'] = 'display_data';\n",
              "          await google.colab.output.renderOutput(dataTable, element);\n",
              "          const docLink = document.createElement('div');\n",
              "          docLink.innerHTML = docLinkHtml;\n",
              "          element.appendChild(docLink);\n",
              "        }\n",
              "      </script>\n",
              "    </div>\n",
              "  </div>\n",
              "  "
            ]
          },
          "metadata": {},
          "execution_count": 26
        }
      ]
    },
    {
      "cell_type": "code",
      "source": [
        "from sklearn.preprocessing import LabelEncoder"
      ],
      "metadata": {
        "id": "1lx2tnNYu7gm"
      },
      "execution_count": 27,
      "outputs": []
    },
    {
      "cell_type": "code",
      "source": [
        "# convert classes to number\n",
        "encoder = LabelEncoder()\n",
        "y = encoder.fit_transform(DF['Class'])\n",
        "y"
      ],
      "metadata": {
        "colab": {
          "base_uri": "https://localhost:8080/"
        },
        "id": "6ByUE36nu9aZ",
        "outputId": "e687de30-909f-4e63-8cb5-06deed5d9d30"
      },
      "execution_count": 28,
      "outputs": [
        {
          "output_type": "execute_result",
          "data": {
            "text/plain": [
              "array([0, 0, 0, ..., 2, 2, 2])"
            ]
          },
          "metadata": {},
          "execution_count": 28
        }
      ]
    },
    {
      "cell_type": "code",
      "source": [
        "X.shape"
      ],
      "metadata": {
        "colab": {
          "base_uri": "https://localhost:8080/"
        },
        "id": "uqcB5JO8LTny",
        "outputId": "5db7b8ef-bd46-4a27-a304-9b83dbcd3789"
      },
      "execution_count": 29,
      "outputs": [
        {
          "output_type": "execute_result",
          "data": {
            "text/plain": [
              "(1679, 2122)"
            ]
          },
          "metadata": {},
          "execution_count": 29
        }
      ]
    },
    {
      "cell_type": "code",
      "source": [
        "y.shape"
      ],
      "metadata": {
        "colab": {
          "base_uri": "https://localhost:8080/"
        },
        "id": "up3jAt5gLV1E",
        "outputId": "8bc05a9f-bce9-4062-c732-9677a916ae84"
      },
      "execution_count": 30,
      "outputs": [
        {
          "output_type": "execute_result",
          "data": {
            "text/plain": [
              "(1679,)"
            ]
          },
          "metadata": {},
          "execution_count": 30
        }
      ]
    },
    {
      "cell_type": "code",
      "source": [
        "X_train, X_test, y_train, y_test = train_test_split(X,y, test_size =0.2, random_state=42)"
      ],
      "metadata": {
        "id": "fsUvp7eOvHvZ"
      },
      "execution_count": 31,
      "outputs": []
    },
    {
      "cell_type": "code",
      "source": [
        "print(X_train.shape)\n",
        "print(X_test.shape)\n",
        "print(y_train.shape)\n",
        "print(y_test.shape)"
      ],
      "metadata": {
        "colab": {
          "base_uri": "https://localhost:8080/"
        },
        "id": "CUksujs2DpCN",
        "outputId": "9d238f79-c9c5-43fc-fd19-468fb0de27ca"
      },
      "execution_count": 32,
      "outputs": [
        {
          "output_type": "stream",
          "name": "stdout",
          "text": [
            "(1343, 2122)\n",
            "(336, 2122)\n",
            "(1343,)\n",
            "(336,)\n"
          ]
        }
      ]
    },
    {
      "cell_type": "code",
      "source": [],
      "metadata": {
        "id": "DAy15sP6DyvM"
      },
      "execution_count": 32,
      "outputs": []
    },
    {
      "cell_type": "markdown",
      "source": [
        "# **HYPERPARAMETER FOR RANDOM FOREST FOR**"
      ],
      "metadata": {
        "id": "3MCx0I3xvQ12"
      }
    },
    {
      "cell_type": "code",
      "source": [
        "from sklearn.ensemble import RandomForestClassifier"
      ],
      "metadata": {
        "id": "wTrti9sKvYBB"
      },
      "execution_count": 33,
      "outputs": []
    },
    {
      "cell_type": "code",
      "source": [],
      "metadata": {
        "id": "Cnzf7VIpFQay"
      },
      "execution_count": 33,
      "outputs": []
    },
    {
      "cell_type": "code",
      "source": [
        "rf_hy = RandomForestClassifier(random_state=42, n_jobs=-1, n_estimators=15)\n",
        "rf_hy.fit(X_train, y_train)\n",
        "print(\"Training Accuracy :\" , accuracy_score(y_train, rf_hy.predict(X_train))*100 )\n",
        "\n",
        "predictions2 = rf_hy.predict(X_test)\n",
        "#print(confusion_matrix(Y_test,predictions2))  \n",
        "print(classification_report(y_test,predictions2))  \n",
        "print(\"TEST ACCURACY  : \",accuracy_score(y_test, predictions2)*100)"
      ],
      "metadata": {
        "colab": {
          "base_uri": "https://localhost:8080/"
        },
        "id": "psd03bh1vP7u",
        "outputId": "3f465f17-cc68-4852-df26-7f21ccdc75c1"
      },
      "execution_count": 34,
      "outputs": [
        {
          "output_type": "stream",
          "name": "stdout",
          "text": [
            "Training Accuracy : 98.8830975428146\n",
            "              precision    recall  f1-score   support\n",
            "\n",
            "           0       0.71      0.91      0.80       194\n",
            "           1       0.62      0.52      0.56        31\n",
            "           2       0.74      0.45      0.56        31\n",
            "           3       0.48      0.48      0.48        25\n",
            "           4       0.15      0.07      0.10        29\n",
            "           5       1.00      0.15      0.27        26\n",
            "\n",
            "    accuracy                           0.67       336\n",
            "   macro avg       0.62      0.43      0.46       336\n",
            "weighted avg       0.66      0.67      0.63       336\n",
            "\n",
            "TEST ACCURACY  :  66.96428571428571\n"
          ]
        }
      ]
    },
    {
      "cell_type": "code",
      "source": [
        "print(confusion_matrix(y_test,predictions2)) "
      ],
      "metadata": {
        "id": "FxLE9LYOc7rV",
        "outputId": "e7013962-026f-46f6-9167-ce9f88d25a08",
        "colab": {
          "base_uri": "https://localhost:8080/"
        }
      },
      "execution_count": 35,
      "outputs": [
        {
          "output_type": "stream",
          "name": "stdout",
          "text": [
            "[[177   3   1   7   6   0]\n",
            " [ 11  16   0   2   2   0]\n",
            " [ 12   3  14   1   1   0]\n",
            " [  9   1   3  12   0   0]\n",
            " [ 22   2   0   3   2   0]\n",
            " [ 18   1   1   0   2   4]]\n"
          ]
        }
      ]
    },
    {
      "cell_type": "code",
      "source": [
        "from sklearn.metrics import precision_recall_fscore_support as score\n",
        "precision,recall,fscore,support=score(y_test, predictions2,average='macro')\n",
        "print( 'Precision : {}'.format(precision))\n",
        "print ('Recall    : {}'.format(recall))\n",
        "print ('F-score   : {}'.format(fscore))\n",
        "print ('Support   : {}'.format(support))"
      ],
      "metadata": {
        "colab": {
          "base_uri": "https://localhost:8080/"
        },
        "id": "_LkCynGbB7Q8",
        "outputId": "d812214a-d5cb-4783-e74d-ef0acd1faecb"
      },
      "execution_count": 36,
      "outputs": [
        {
          "output_type": "stream",
          "name": "stdout",
          "text": [
            "Precision : 0.6161527079979838\n",
            "Recall    : 0.4304874567653371\n",
            "F-score   : 0.4604008893565743\n",
            "Support   : None\n"
          ]
        }
      ]
    },
    {
      "cell_type": "code",
      "source": [
        "from sklearn.ensemble import AdaBoostClassifier"
      ],
      "metadata": {
        "id": "Kzi9-bGYVYC1"
      },
      "execution_count": 54,
      "outputs": []
    },
    {
      "cell_type": "code",
      "source": [
        "model = AdaBoostClassifier(base_estimator=rf_hy, random_state=42)\n",
        "model.fit(X_train, y_train)\n",
        "y_pred_adaboost=model.predict(X_test)\n",
        "print(f'Test score {accuracy_score(y_pred_adaboost,y_test)*100}')"
      ],
      "metadata": {
        "id": "7x9WdxT-VCOV",
        "outputId": "77d3c44e-9498-4a1d-abac-b6d360e61020",
        "colab": {
          "base_uri": "https://localhost:8080/"
        }
      },
      "execution_count": 55,
      "outputs": [
        {
          "output_type": "stream",
          "name": "stderr",
          "text": [
            "/usr/local/lib/python3.9/dist-packages/sklearn/ensemble/_base.py:166: FutureWarning: `base_estimator` was renamed to `estimator` in version 1.2 and will be removed in 1.4.\n",
            "  warnings.warn(\n"
          ]
        },
        {
          "output_type": "stream",
          "name": "stdout",
          "text": [
            "Test score 63.69047619047619\n"
          ]
        }
      ]
    },
    {
      "cell_type": "code",
      "source": [
        "from sklearn.ensemble import GradientBoostingClassifier"
      ],
      "metadata": {
        "id": "4gXDm2JXXC9M"
      },
      "execution_count": 59,
      "outputs": []
    },
    {
      "cell_type": "code",
      "source": [
        "model1= GradientBoostingClassifier(learning_rate=0.05,random_state=42)\n",
        "model1.fit(X_train, y_train)\n",
        "y_pred_GBM=model1.predict(X_test)\n",
        "print(f'Test score {accuracy_score(y_pred_GBM,y_test)*100}')"
      ],
      "metadata": {
        "id": "rebkyOJaXJmh",
        "outputId": "cfc5259d-c21c-4852-d26e-072604d7256d",
        "colab": {
          "base_uri": "https://localhost:8080/"
        }
      },
      "execution_count": 61,
      "outputs": [
        {
          "output_type": "stream",
          "name": "stdout",
          "text": [
            "Test score 67.26190476190477\n"
          ]
        }
      ]
    },
    {
      "cell_type": "code",
      "source": [
        "import xgboost as xgb"
      ],
      "metadata": {
        "id": "cJsftk6ZXga7"
      },
      "execution_count": 62,
      "outputs": []
    },
    {
      "cell_type": "code",
      "source": [
        "model2=xgb.XGBClassifier(base_estimator=rf_hy,random_state=42,learning_rate=0.08)\n",
        "model2.fit(X_train, y_train)\n",
        "y_pred_xgboost=model2.predict(X_test)\n",
        "print(f'Test score {accuracy_score(y_pred_xgboost,y_test)*100}')"
      ],
      "metadata": {
        "id": "hFh79a1YXoHN",
        "outputId": "7f56a319-3dc4-4d5d-cf77-4892d41da8bb",
        "colab": {
          "base_uri": "https://localhost:8080/"
        }
      },
      "execution_count": 67,
      "outputs": [
        {
          "output_type": "stream",
          "name": "stdout",
          "text": [
            "[06:31:43] WARNING: ../src/learner.cc:767: \n",
            "Parameters: { \"base_estimator\" } are not used.\n",
            "\n",
            "Test score 69.94047619047619\n"
          ]
        }
      ]
    },
    {
      "cell_type": "code",
      "source": [
        "train_acc = accuracy_score(y_train, rf_hy.predict(X_train))\n",
        "test_acc = accuracy_score(y_test, rf_hy.predict(X_test))\n",
        "\n",
        "# Create a comparison line graph\n",
        "x_labels = ['Training', 'Testing']\n",
        "y_values = [train_acc, test_acc]\n",
        "x = np.arange(len(x_labels))\n",
        "fig, ax = plt.subplots()\n",
        "ax.plot(x, y_values, '-o', label='Random Forest')\n",
        "ax.axhline(y=max(y_values), linestyle='--', color='gray', label='Best Possible')\n",
        "ax.set_xticks(x)\n",
        "ax.set_xticklabels(x_labels)\n",
        "ax.set_ylim([0, 1])\n",
        "ax.set_ylabel('Accuracy')\n",
        "ax.set_title('Random Forest Accuracy')\n",
        "ax.legend()\n",
        "\n",
        "plt.show()\n"
      ],
      "metadata": {
        "id": "bzcEOOa3hDf_",
        "outputId": "26a0f50a-7e6d-4cea-e01e-46144d4e08ad",
        "colab": {
          "base_uri": "https://localhost:8080/",
          "height": 452
        }
      },
      "execution_count": 78,
      "outputs": [
        {
          "output_type": "display_data",
          "data": {
            "text/plain": [
              "<Figure size 640x480 with 1 Axes>"
            ],
            "image/png": "[encoded data removed]"
          },
          "metadata": {}
        }
      ]
    },
    {
      "cell_type": "code",
      "source": [
        "n_trees = [1, 10, 20, 30, 40, 50, 60, 70, 80, 90, 100]\n",
        "train_acc = []\n",
        "test_acc = []\n",
        "\n",
        "for n in n_trees:\n",
        "    rf_hy = RandomForestClassifier(n_estimators=n, random_state=42)\n",
        "    rf_hy.fit(X_train, y_train)\n",
        "    train_acc.append(rf_hy.score(X_train, y_train))\n",
        "    test_acc.append(rf_hy.score(X_test, y_test))\n",
        "\n",
        "# Plot the results\n",
        "plt.plot(n_trees, train_acc, label='Training Accuracy')\n",
        "plt.plot(n_trees, test_acc, label='Testing Accuracy')\n",
        "plt.xlabel('Number of Trees')\n",
        "plt.ylabel('Accuracy')\n",
        "plt.title('Random Forest Accuracy vs. Number of Trees')\n",
        "plt.legend()\n",
        "plt.show()"
      ],
      "metadata": {
        "id": "Jtx2OmBeiTj2",
        "outputId": "00459e35-8d1c-4001-a03a-c049ba000a22",
        "colab": {
          "base_uri": "https://localhost:8080/",
          "height": 472
        }
      },
      "execution_count": 79,
      "outputs": [
        {
          "output_type": "display_data",
          "data": {
            "text/plain": [
              "<Figure size 640x480 with 1 Axes>"
            ],
            "image/png": "[encoded data removed]"
          },
          "metadata": {}
        }
      ]
    },
    {
      "cell_type": "code",
      "source": [
        "rf_hy1 = RandomForestClassifier(n_estimators=100, max_depth=5, max_features=0.5, min_samples_leaf=5, random_state=42)"
      ],
      "metadata": {
        "id": "JybXcAjTMmKM"
      },
      "execution_count": 38,
      "outputs": []
    },
    {
      "cell_type": "markdown",
      "source": [
        "# **SVM**"
      ],
      "metadata": {
        "id": "LKmjCa44vmEs"
      }
    },
    {
      "cell_type": "code",
      "source": [
        "from sklearn.svm import LinearSVC"
      ],
      "metadata": {
        "id": "GwLOBTSZ9AnR"
      },
      "execution_count": 40,
      "outputs": []
    },
    {
      "cell_type": "code",
      "source": [
        "sv = LinearSVC(class_weight={0:0.11 ,1: 0.12 ,2:0.67 ,3: 0.03, 4:0.05 })\n",
        "sv.fit(X_train, y_train)\n",
        "\n",
        "print(\"Training Accuracy :\" , accuracy_score(y_train, sv.predict(X_train))*100 )\n",
        "\n",
        "predictions3 = sv.predict(X_test)\n",
        "#print(confusion_matrix(Y_test,predictions3))  \n",
        "print(classification_report(y_test,predictions3,zero_division=1))  \n",
        "print(\" TEST ACCURACY : \",accuracy_score(y_test, predictions3)*100)"
      ],
      "metadata": {
        "colab": {
          "base_uri": "https://localhost:8080/"
        },
        "id": "e8WoBlT1xMc8",
        "outputId": "8ac05481-ee96-4701-d2a9-1ad3edd948c1"
      },
      "execution_count": 41,
      "outputs": [
        {
          "output_type": "stream",
          "name": "stdout",
          "text": [
            "Training Accuracy : 95.90469099032018\n",
            "              precision    recall  f1-score   support\n",
            "\n",
            "           0       0.76      0.83      0.79       194\n",
            "           1       0.58      0.48      0.53        31\n",
            "           2       0.53      0.58      0.55        31\n",
            "           3       0.92      0.48      0.63        25\n",
            "           4       0.25      0.07      0.11        29\n",
            "           5       0.33      0.54      0.41        26\n",
            "\n",
            "    accuracy                           0.66       336\n",
            "   macro avg       0.56      0.50      0.50       336\n",
            "weighted avg       0.66      0.66      0.65       336\n",
            "\n",
            " TEST ACCURACY :  66.07142857142857\n"
          ]
        }
      ]
    },
    {
      "cell_type": "code",
      "source": [
        "from sklearn.svm import LinearSVC\n",
        "sv = LinearSVC(random_state=42)\n",
        "sv.fit(X_train, y_train)\n",
        "\n",
        "print(\"Training Accuracy :\" , accuracy_score(y_train, sv.predict(X_train))*100 )\n",
        "\n",
        "predictions3 = sv.predict(X_test)\n",
        "#print(confusion_matrix(Y_test,predictions3))  \n",
        "print(classification_report(y_test,predictions3,zero_division=1))  \n",
        "print(\" TEST ACCURACY : \",accuracy_score(y_test, predictions3)*100)"
      ],
      "metadata": {
        "colab": {
          "base_uri": "https://localhost:8080/"
        },
        "id": "kguCIBO5vlhu",
        "outputId": "efd4e759-2677-4056-b651-c6d309deb6cf"
      },
      "execution_count": 42,
      "outputs": [
        {
          "output_type": "stream",
          "name": "stdout",
          "text": [
            "Training Accuracy : 98.73417721518987\n",
            "              precision    recall  f1-score   support\n",
            "\n",
            "           0       0.75      0.84      0.79       194\n",
            "           1       0.67      0.45      0.54        31\n",
            "           2       0.56      0.48      0.52        31\n",
            "           3       0.57      0.52      0.54        25\n",
            "           4       0.18      0.10      0.13        29\n",
            "           5       0.34      0.42      0.38        26\n",
            "\n",
            "    accuracy                           0.65       336\n",
            "   macro avg       0.51      0.47      0.48       336\n",
            "weighted avg       0.63      0.65      0.63       336\n",
            "\n",
            " TEST ACCURACY :  64.88095238095238\n"
          ]
        }
      ]
    },
    {
      "cell_type": "code",
      "source": [
        "import numpy as np"
      ],
      "metadata": {
        "id": "3ADxJskEymsv"
      },
      "execution_count": 43,
      "outputs": []
    },
    {
      "cell_type": "code",
      "source": [
        "from sklearn.preprocessing import StandardScaler\n",
        "scaler = StandardScaler()\n",
        "X_train_scaled = scaler.fit_transform(X_train.astype(np.float32))\n",
        "X_test_scaled = scaler.transform(X_test.astype(np.float32))\n",
        "\n",
        "# y_train_scaled =scaler.fit_transform(y_train.astype(np.float32))\n",
        "# y_test_scaled =scaler.transform(y_test.astype(np.float32))\n",
        "\n",
        "\n",
        "lin_clf = LinearSVC(random_state=42)\n",
        "lin_clf.fit(X_train_scaled, y_train)\n",
        "y_pred = lin_clf.predict(X_train_scaled)\n",
        "print(accuracy_score(y_train, y_pred)*100)"
      ],
      "metadata": {
        "colab": {
          "base_uri": "https://localhost:8080/"
        },
        "id": "dK42B798yOJ6",
        "outputId": "2ddf96f6-0679-4696-f5e4-b59691f9c4a3"
      },
      "execution_count": 44,
      "outputs": [
        {
          "output_type": "stream",
          "name": "stdout",
          "text": [
            "99.6276991809382\n"
          ]
        },
        {
          "output_type": "stream",
          "name": "stderr",
          "text": [
            "/usr/local/lib/python3.9/dist-packages/sklearn/svm/_base.py:1244: ConvergenceWarning: Liblinear failed to converge, increase the number of iterations.\n",
            "  warnings.warn(\n"
          ]
        }
      ]
    },
    {
      "cell_type": "code",
      "source": [
        "from sklearn.svm import SVC\n",
        "svm_clf = SVC(gamma='scale')\n",
        "svm_clf.fit(X_train_scaled[:10000], y_train[:10000]) # We use an SVC with an RBF kernel\n",
        "y_pred = svm_clf.predict(X_train_scaled)\n",
        "print(accuracy_score(y_train, y_pred)*100)"
      ],
      "metadata": {
        "colab": {
          "base_uri": "https://localhost:8080/"
        },
        "id": "jX3pNOkGyrWH",
        "outputId": "a09725a8-b121-47ec-cff6-169122bed42e"
      },
      "execution_count": 45,
      "outputs": [
        {
          "output_type": "stream",
          "name": "stdout",
          "text": [
            "80.56589724497394\n"
          ]
        }
      ]
    },
    {
      "cell_type": "code",
      "source": [
        "from sklearn.model_selection import RandomizedSearchCV\n",
        "from scipy.stats import reciprocal, uniform\n",
        "param_distributions = {\"gamma\": reciprocal(0.001, 0.1), \"C\": uniform(1, 10)}\n",
        "#Adding all values of hyperparameters in a list from which the values of hyperparameter will randomly inserted as hyperparameter"
      ],
      "metadata": {
        "id": "VAXLHB0oywmG"
      },
      "execution_count": 46,
      "outputs": []
    },
    {
      "cell_type": "code",
      "source": [
        "rnd_search_cv = RandomizedSearchCV(svm_clf, param_distributions, n_iter=10, verbose=2, cv=3)\n",
        "rnd_search_cv.fit(X_train_scaled[:1000], y_train[:1000])"
      ],
      "metadata": {
        "colab": {
          "base_uri": "https://localhost:8080/",
          "height": 655
        },
        "id": "aVAeibUVy1VE",
        "outputId": "d05ee19b-3d89-4809-908e-f5d4867aa5f2"
      },
      "execution_count": 47,
      "outputs": [
        {
          "output_type": "stream",
          "name": "stdout",
          "text": [
            "Fitting 3 folds for each of 10 candidates, totalling 30 fits\n",
            "[CV] END ...C=7.681418290703918, gamma=0.0032472628027155007; total time=   4.5s\n",
            "[CV] END ...C=7.681418290703918, gamma=0.0032472628027155007; total time=   2.3s\n",
            "[CV] END ...C=7.681418290703918, gamma=0.0032472628027155007; total time=   3.2s\n",
            "[CV] END ....C=8.466906926189044, gamma=0.003920001498314853; total time=   3.4s\n",
            "[CV] END ....C=8.466906926189044, gamma=0.003920001498314853; total time=   5.1s\n",
            "[CV] END ....C=8.466906926189044, gamma=0.003920001498314853; total time=   3.3s\n",
            "[CV] END ....C=9.551492465149709, gamma=0.019984615881774276; total time=   3.1s\n",
            "[CV] END ....C=9.551492465149709, gamma=0.019984615881774276; total time=   2.2s\n",
            "[CV] END ....C=9.551492465149709, gamma=0.019984615881774276; total time=   2.4s\n",
            "[CV] END .....C=8.146759710373843, gamma=0.02569161190404462; total time=   1.8s\n",
            "[CV] END .....C=8.146759710373843, gamma=0.02569161190404462; total time=   1.5s\n",
            "[CV] END .....C=8.146759710373843, gamma=0.02569161190404462; total time=   1.4s\n",
            "[CV] END ....C=9.785620981765586, gamma=0.009176339058321312; total time=   1.4s\n",
            "[CV] END ....C=9.785620981765586, gamma=0.009176339058321312; total time=   1.5s\n",
            "[CV] END ....C=9.785620981765586, gamma=0.009176339058321312; total time=   1.4s\n",
            "[CV] END ....C=6.805736897344599, gamma=0.002224785741055514; total time=   1.5s\n",
            "[CV] END ....C=6.805736897344599, gamma=0.002224785741055514; total time=   1.8s\n",
            "[CV] END ....C=6.805736897344599, gamma=0.002224785741055514; total time=   1.9s\n",
            "[CV] END ....C=5.334280328391413, gamma=0.049458321486693546; total time=   1.5s\n",
            "[CV] END ....C=5.334280328391413, gamma=0.049458321486693546; total time=   1.5s\n",
            "[CV] END ....C=5.334280328391413, gamma=0.049458321486693546; total time=   1.4s\n",
            "[CV] END .....C=7.606801549623515, gamma=0.03601241557879669; total time=   1.5s\n",
            "[CV] END .....C=7.606801549623515, gamma=0.03601241557879669; total time=   1.6s\n",
            "[CV] END .....C=7.606801549623515, gamma=0.03601241557879669; total time=   1.6s\n",
            "[CV] END ..C=2.9629347672669972, gamma=0.0012958327678976231; total time=   1.9s\n",
            "[CV] END ..C=2.9629347672669972, gamma=0.0012958327678976231; total time=   1.9s\n",
            "[CV] END ..C=2.9629347672669972, gamma=0.0012958327678976231; total time=   1.3s\n",
            "[CV] END ...C=5.196994546857253, gamma=0.0015756266353492072; total time=   1.5s\n",
            "[CV] END ...C=5.196994546857253, gamma=0.0015756266353492072; total time=   1.5s\n",
            "[CV] END ...C=5.196994546857253, gamma=0.0015756266353492072; total time=   1.5s\n"
          ]
        },
        {
          "output_type": "execute_result",
          "data": {
            "text/plain": [
              "RandomizedSearchCV(cv=3, estimator=SVC(),\n",
              "                   param_distributions={'C': <scipy.stats._distn_infrastructure.rv_continuous_frozen object at 0x7fd8c89baee0>,\n",
              "                                        'gamma': <scipy.stats._distn_infrastructure.rv_continuous_frozen object at 0x7fd8c8a8e160>},\n",
              "                   verbose=2)"
            ],
            "text/html": [
              "<style>#sk-container-id-1 {color: black;background-color: white;}#sk-container-id-1 pre{padding: 0;}#sk-container-id-1 div.sk-toggleable {background-color: white;}#sk-container-id-1 label.sk-toggleable__label {cursor: pointer;display: block;width: 100%;margin-bottom: 0;padding: 0.3em;box-sizing: border-box;text-align: center;}#sk-container-id-1 label.sk-toggleable__label-arrow:before {content: \"▸\";float: left;margin-right: 0.25em;color: #696969;}#sk-container-id-1 label.sk-toggleable__label-arrow:hover:before {color: black;}#sk-container-id-1 div.sk-estimator:hover label.sk-toggleable__label-arrow:before {color: black;}#sk-container-id-1 div.sk-toggleable__content {max-height: 0;max-width: 0;overflow: hidden;text-align: left;background-color: #f0f8ff;}#sk-container-id-1 div.sk-toggleable__content pre {margin: 0.2em;color: black;border-radius: 0.25em;background-color: #f0f8ff;}#sk-container-id-1 input.sk-toggleable__control:checked~div.sk-toggleable__content {max-height: 200px;max-width: 100%;overflow: auto;}#sk-container-id-1 input.sk-toggleable__control:checked~label.sk-toggleable__label-arrow:before {content: \"▾\";}#sk-container-id-1 div.sk-estimator input.sk-toggleable__control:checked~label.sk-toggleable__label {background-color: #d4ebff;}#sk-container-id-1 div.sk-label input.sk-toggleable__control:checked~label.sk-toggleable__label {background-color: #d4ebff;}#sk-container-id-1 input.sk-hidden--visually {border: 0;clip: rect(1px 1px 1px 1px);clip: rect(1px, 1px, 1px, 1px);height: 1px;margin: -1px;overflow: hidden;padding: 0;position: absolute;width: 1px;}#sk-container-id-1 div.sk-estimator {font-family: monospace;background-color: #f0f8ff;border: 1px dotted black;border-radius: 0.25em;box-sizing: border-box;margin-bottom: 0.5em;}#sk-container-id-1 div.sk-estimator:hover {background-color: #d4ebff;}#sk-container-id-1 div.sk-parallel-item::after {content: \"\";width: 100%;border-bottom: 1px solid gray;flex-grow: 1;}#sk-container-id-1 div.sk-label:hover label.sk-toggleable__label {background-color: #d4ebff;}#sk-container-id-1 div.sk-serial::before {content: \"\";position: absolute;border-left: 1px solid gray;box-sizing: border-box;top: 0;bottom: 0;left: 50%;z-index: 0;}#sk-container-id-1 div.sk-serial {display: flex;flex-direction: column;align-items: center;background-color: white;padding-right: 0.2em;padding-left: 0.2em;position: relative;}#sk-container-id-1 div.sk-item {position: relative;z-index: 1;}#sk-container-id-1 div.sk-parallel {display: flex;align-items: stretch;justify-content: center;background-color: white;position: relative;}#sk-container-id-1 div.sk-item::before, #sk-container-id-1 div.sk-parallel-item::before {content: \"\";position: absolute;border-left: 1px solid gray;box-sizing: border-box;top: 0;bottom: 0;left: 50%;z-index: -1;}#sk-container-id-1 div.sk-parallel-item {display: flex;flex-direction: column;z-index: 1;position: relative;background-color: white;}#sk-container-id-1 div.sk-parallel-item:first-child::after {align-self: flex-end;width: 50%;}#sk-container-id-1 div.sk-parallel-item:last-child::after {align-self: flex-start;width: 50%;}#sk-container-id-1 div.sk-parallel-item:only-child::after {width: 0;}#sk-container-id-1 div.sk-dashed-wrapped {border: 1px dashed gray;margin: 0 0.4em 0.5em 0.4em;box-sizing: border-box;padding-bottom: 0.4em;background-color: white;}#sk-container-id-1 div.sk-label label {font-family: monospace;font-weight: bold;display: inline-block;line-height: 1.2em;}#sk-container-id-1 div.sk-label-container {text-align: center;}#sk-container-id-1 div.sk-container {/* jupyter's `normalize.less` sets `[hidden] { display: none; }` but bootstrap.min.css set `[hidden] { display: none !important; }` so we also need the `!important` here to be able to override the default hidden behavior on the sphinx rendered scikit-learn.org. See: https://github.com/scikit-learn/scikit-learn/issues/21755 */display: inline-block !important;position: relative;}#sk-container-id-1 div.sk-text-repr-fallback {display: none;}</style><div id=\"sk-container-id-1\" class=\"sk-top-container\"><div class=\"sk-text-repr-fallback\"><pre>RandomizedSearchCV(cv=3, estimator=SVC(),\n",
              "                   param_distributions={&#x27;C&#x27;: &lt;scipy.stats._distn_infrastructure.rv_continuous_frozen object at 0x7fd8c89baee0&gt;,\n",
              "                                        &#x27;gamma&#x27;: &lt;scipy.stats._distn_infrastructure.rv_continuous_frozen object at 0x7fd8c8a8e160&gt;},\n",
              "                   verbose=2)</pre><b>In a Jupyter environment, please rerun this cell to show the HTML representation or trust the notebook. <br />On GitHub, the HTML representation is unable to render, please try loading this page with nbviewer.org.</b></div><div class=\"sk-container\" hidden><div class=\"sk-item sk-dashed-wrapped\"><div class=\"sk-label-container\"><div class=\"sk-label sk-toggleable\"><input class=\"sk-toggleable__control sk-hidden--visually\" id=\"sk-estimator-id-1\" type=\"checkbox\" ><label for=\"sk-estimator-id-1\" class=\"sk-toggleable__label sk-toggleable__label-arrow\">RandomizedSearchCV</label><div class=\"sk-toggleable__content\"><pre>RandomizedSearchCV(cv=3, estimator=SVC(),\n",
              "                   param_distributions={&#x27;C&#x27;: &lt;scipy.stats._distn_infrastructure.rv_continuous_frozen object at 0x7fd8c89baee0&gt;,\n",
              "                                        &#x27;gamma&#x27;: &lt;scipy.stats._distn_infrastructure.rv_continuous_frozen object at 0x7fd8c8a8e160&gt;},\n",
              "                   verbose=2)</pre></div></div></div><div class=\"sk-parallel\"><div class=\"sk-parallel-item\"><div class=\"sk-item\"><div class=\"sk-label-container\"><div class=\"sk-label sk-toggleable\"><input class=\"sk-toggleable__control sk-hidden--visually\" id=\"sk-estimator-id-2\" type=\"checkbox\" ><label for=\"sk-estimator-id-2\" class=\"sk-toggleable__label sk-toggleable__label-arrow\">estimator: SVC</label><div class=\"sk-toggleable__content\"><pre>SVC()</pre></div></div></div><div class=\"sk-serial\"><div class=\"sk-item\"><div class=\"sk-estimator sk-toggleable\"><input class=\"sk-toggleable__control sk-hidden--visually\" id=\"sk-estimator-id-3\" type=\"checkbox\" ><label for=\"sk-estimator-id-3\" class=\"sk-toggleable__label sk-toggleable__label-arrow\">SVC</label><div class=\"sk-toggleable__content\"><pre>SVC()</pre></div></div></div></div></div></div></div></div></div></div>"
            ]
          },
          "metadata": {},
          "execution_count": 47
        }
      ]
    },
    {
      "cell_type": "code",
      "source": [
        "rnd_search_cv.best_estimator_.fit(X_train_scaled, y_train)\n",
        "y_pred = rnd_search_cv.best_estimator_.predict(X_train_scaled)\n",
        "accuracy_score(y_train, y_pred)\n",
        "y_pred = rnd_search_cv.best_estimator_.predict(X_test_scaled)\n",
        "print(accuracy_score(y_test, y_pred)*100)"
      ],
      "metadata": {
        "colab": {
          "base_uri": "https://localhost:8080/"
        },
        "id": "STzgUl8yy5KG",
        "outputId": "a8b9e2bc-ac72-40b6-eb09-a74703ba9824"
      },
      "execution_count": 48,
      "outputs": [
        {
          "output_type": "stream",
          "name": "stdout",
          "text": [
            "60.71428571428571\n"
          ]
        }
      ]
    },
    {
      "cell_type": "markdown",
      "source": [
        "# **HYP DECISION TREE**"
      ],
      "metadata": {
        "id": "cV3T5pP1vzho"
      }
    },
    {
      "cell_type": "code",
      "source": [
        "from sklearn.tree import DecisionTreeClassifier"
      ],
      "metadata": {
        "id": "UzSMLu05wJhC"
      },
      "execution_count": 49,
      "outputs": []
    },
    {
      "cell_type": "code",
      "source": [
        "dt3 = DecisionTreeClassifier( max_leaf_nodes =30, random_state=42)\n",
        "dt3.fit(X_train, y_train)\n",
        "print(\"Training Accuracy :\" , accuracy_score(y_train, dt3.predict(X_train))*100 )\n",
        "\n",
        "predictions4 = dt3.predict(X_test)\n",
        "#print(confusion_matrix(Y_test,predictions4))  \n",
        "print(classification_report(y_test,predictions4,zero_division=1))  \n",
        "print(\"TEST ACCURACY SCORE : \",accuracy_score(y_test, predictions4)*100)"
      ],
      "metadata": {
        "colab": {
          "base_uri": "https://localhost:8080/"
        },
        "id": "A9O7UqbEvzFt",
        "outputId": "b412b11c-3d98-4e52-fc44-7b48b8b1f701"
      },
      "execution_count": 50,
      "outputs": [
        {
          "output_type": "stream",
          "name": "stdout",
          "text": [
            "Training Accuracy : 67.60982874162323\n",
            "              precision    recall  f1-score   support\n",
            "\n",
            "           0       0.67      0.92      0.78       194\n",
            "           1       0.49      0.55      0.52        31\n",
            "           2       0.67      0.19      0.30        31\n",
            "           3       0.73      0.44      0.55        25\n",
            "           4       1.00      0.00      0.00        29\n",
            "           5       0.45      0.19      0.27        26\n",
            "\n",
            "    accuracy                           0.65       336\n",
            "   macro avg       0.67      0.38      0.40       336\n",
            "weighted avg       0.67      0.65      0.59       336\n",
            "\n",
            "TEST ACCURACY SCORE :  64.88095238095238\n"
          ]
        }
      ]
    },
    {
      "cell_type": "markdown",
      "source": [
        "# **Ada Boost Classifier + Decision Tree**"
      ],
      "metadata": {
        "id": "4rW0VgqrwTEQ"
      }
    },
    {
      "cell_type": "code",
      "source": [
        "from sklearn.ensemble import AdaBoostClassifier\n",
        "abc = AdaBoostClassifier(n_estimators= 50, base_estimator= dt3)\n",
        "abc.fit(X_train,y_train)\n",
        "\n",
        "print(\"Training Accuracy :\" , accuracy_score(y_train, abc.predict(X_train))*100)\n",
        "\n",
        "predictions5 = abc.predict(X_test)\n",
        "print(confusion_matrix(y_test,predictions5))\n",
        "print(classification_report(y_test,predictions5))\n",
        "print(\"TEST ACCURACY : \",accuracy_score(y_test, predictions5)*100)"
      ],
      "metadata": {
        "colab": {
          "base_uri": "https://localhost:8080/"
        },
        "id": "s9R4ZSMiwSfm",
        "outputId": "4c266e77-d1a7-48fe-907a-c2b6c3e71939"
      },
      "execution_count": 96,
      "outputs": [
        {
          "output_type": "stream",
          "name": "stderr",
          "text": [
            "/usr/local/lib/python3.9/dist-packages/sklearn/ensemble/_base.py:166: FutureWarning: `base_estimator` was renamed to `estimator` in version 1.2 and will be removed in 1.4.\n",
            "  warnings.warn(\n"
          ]
        },
        {
          "output_type": "stream",
          "name": "stdout",
          "text": [
            "Training Accuracy : 84.43782576321668\n",
            "[[177   2   1   2   9   3]\n",
            " [ 16  12   1   0   2   0]\n",
            " [ 18   3   9   1   0   0]\n",
            " [ 14   0   0  10   1   0]\n",
            " [ 27   0   0   0   2   0]\n",
            " [ 18   0   1   0   1   6]]\n",
            "              precision    recall  f1-score   support\n",
            "\n",
            "           0       0.66      0.91      0.76       194\n",
            "           1       0.71      0.39      0.50        31\n",
            "           2       0.75      0.29      0.42        31\n",
            "           3       0.77      0.40      0.53        25\n",
            "           4       0.13      0.07      0.09        29\n",
            "           5       0.67      0.23      0.34        26\n",
            "\n",
            "    accuracy                           0.64       336\n",
            "   macro avg       0.61      0.38      0.44       336\n",
            "weighted avg       0.63      0.64      0.60       336\n",
            "\n",
            "TEST ACCURACY :  64.28571428571429\n"
          ]
        }
      ]
    },
    {
      "cell_type": "code",
      "source": [
        "from sklearn.neighbors import KNeighborsClassifier"
      ],
      "metadata": {
        "id": "ZQRnfTq1aK4c"
      },
      "execution_count": 81,
      "outputs": []
    },
    {
      "cell_type": "code",
      "source": [
        "from sklearn.neighbors import DistanceMetric\n",
        "dist = DistanceMetric.get_metric('manhattan')"
      ],
      "metadata": {
        "id": "KbaXZndRcJUq",
        "outputId": "a7416ab6-1cc0-4a16-8c91-52c6677a584a",
        "colab": {
          "base_uri": "https://localhost:8080/"
        }
      },
      "execution_count": 82,
      "outputs": [
        {
          "output_type": "stream",
          "name": "stderr",
          "text": [
            "/usr/local/lib/python3.9/dist-packages/sklearn/neighbors/_distance_metric.py:10: FutureWarning: sklearn.neighbors.DistanceMetric has been moved to sklearn.metrics.DistanceMetric in 1.0. This import path will be removed in 1.3\n",
            "  warnings.warn(\n"
          ]
        }
      ]
    },
    {
      "cell_type": "code",
      "source": [
        "knn = KNeighborsClassifier(n_neighbors=11 ,metric='manhattan')"
      ],
      "metadata": {
        "id": "dUPu1vmgaduI"
      },
      "execution_count": 83,
      "outputs": []
    },
    {
      "cell_type": "code",
      "source": [
        "knn.fit(X_train, y_train)"
      ],
      "metadata": {
        "id": "LcMt4GItaiFw",
        "outputId": "3d3735f3-fd45-4e15-dcc2-579522e841f9",
        "colab": {
          "base_uri": "https://localhost:8080/",
          "height": 74
        }
      },
      "execution_count": 84,
      "outputs": [
        {
          "output_type": "execute_result",
          "data": {
            "text/plain": [
              "KNeighborsClassifier(metric='manhattan', n_neighbors=11)"
            ],
            "text/html": [
              "<style>#sk-container-id-2 {color: black;background-color: white;}#sk-container-id-2 pre{padding: 0;}#sk-container-id-2 div.sk-toggleable {background-color: white;}#sk-container-id-2 label.sk-toggleable__label {cursor: pointer;display: block;width: 100%;margin-bottom: 0;padding: 0.3em;box-sizing: border-box;text-align: center;}#sk-container-id-2 label.sk-toggleable__label-arrow:before {content: \"▸\";float: left;margin-right: 0.25em;color: #696969;}#sk-container-id-2 label.sk-toggleable__label-arrow:hover:before {color: black;}#sk-container-id-2 div.sk-estimator:hover label.sk-toggleable__label-arrow:before {color: black;}#sk-container-id-2 div.sk-toggleable__content {max-height: 0;max-width: 0;overflow: hidden;text-align: left;background-color: #f0f8ff;}#sk-container-id-2 div.sk-toggleable__content pre {margin: 0.2em;color: black;border-radius: 0.25em;background-color: #f0f8ff;}#sk-container-id-2 input.sk-toggleable__control:checked~div.sk-toggleable__content {max-height: 200px;max-width: 100%;overflow: auto;}#sk-container-id-2 input.sk-toggleable__control:checked~label.sk-toggleable__label-arrow:before {content: \"▾\";}#sk-container-id-2 div.sk-estimator input.sk-toggleable__control:checked~label.sk-toggleable__label {background-color: #d4ebff;}#sk-container-id-2 div.sk-label input.sk-toggleable__control:checked~label.sk-toggleable__label {background-color: #d4ebff;}#sk-container-id-2 input.sk-hidden--visually {border: 0;clip: rect(1px 1px 1px 1px);clip: rect(1px, 1px, 1px, 1px);height: 1px;margin: -1px;overflow: hidden;padding: 0;position: absolute;width: 1px;}#sk-container-id-2 div.sk-estimator {font-family: monospace;background-color: #f0f8ff;border: 1px dotted black;border-radius: 0.25em;box-sizing: border-box;margin-bottom: 0.5em;}#sk-container-id-2 div.sk-estimator:hover {background-color: #d4ebff;}#sk-container-id-2 div.sk-parallel-item::after {content: \"\";width: 100%;border-bottom: 1px solid gray;flex-grow: 1;}#sk-container-id-2 div.sk-label:hover label.sk-toggleable__label {background-color: #d4ebff;}#sk-container-id-2 div.sk-serial::before {content: \"\";position: absolute;border-left: 1px solid gray;box-sizing: border-box;top: 0;bottom: 0;left: 50%;z-index: 0;}#sk-container-id-2 div.sk-serial {display: flex;flex-direction: column;align-items: center;background-color: white;padding-right: 0.2em;padding-left: 0.2em;position: relative;}#sk-container-id-2 div.sk-item {position: relative;z-index: 1;}#sk-container-id-2 div.sk-parallel {display: flex;align-items: stretch;justify-content: center;background-color: white;position: relative;}#sk-container-id-2 div.sk-item::before, #sk-container-id-2 div.sk-parallel-item::before {content: \"\";position: absolute;border-left: 1px solid gray;box-sizing: border-box;top: 0;bottom: 0;left: 50%;z-index: -1;}#sk-container-id-2 div.sk-parallel-item {display: flex;flex-direction: column;z-index: 1;position: relative;background-color: white;}#sk-container-id-2 div.sk-parallel-item:first-child::after {align-self: flex-end;width: 50%;}#sk-container-id-2 div.sk-parallel-item:last-child::after {align-self: flex-start;width: 50%;}#sk-container-id-2 div.sk-parallel-item:only-child::after {width: 0;}#sk-container-id-2 div.sk-dashed-wrapped {border: 1px dashed gray;margin: 0 0.4em 0.5em 0.4em;box-sizing: border-box;padding-bottom: 0.4em;background-color: white;}#sk-container-id-2 div.sk-label label {font-family: monospace;font-weight: bold;display: inline-block;line-height: 1.2em;}#sk-container-id-2 div.sk-label-container {text-align: center;}#sk-container-id-2 div.sk-container {/* jupyter's `normalize.less` sets `[hidden] { display: none; }` but bootstrap.min.css set `[hidden] { display: none !important; }` so we also need the `!important` here to be able to override the default hidden behavior on the sphinx rendered scikit-learn.org. See: https://github.com/scikit-learn/scikit-learn/issues/21755 */display: inline-block !important;position: relative;}#sk-container-id-2 div.sk-text-repr-fallback {display: none;}</style><div id=\"sk-container-id-2\" class=\"sk-top-container\"><div class=\"sk-text-repr-fallback\"><pre>KNeighborsClassifier(metric=&#x27;manhattan&#x27;, n_neighbors=11)</pre><b>In a Jupyter environment, please rerun this cell to show the HTML representation or trust the notebook. <br />On GitHub, the HTML representation is unable to render, please try loading this page with nbviewer.org.</b></div><div class=\"sk-container\" hidden><div class=\"sk-item\"><div class=\"sk-estimator sk-toggleable\"><input class=\"sk-toggleable__control sk-hidden--visually\" id=\"sk-estimator-id-4\" type=\"checkbox\" checked><label for=\"sk-estimator-id-4\" class=\"sk-toggleable__label sk-toggleable__label-arrow\">KNeighborsClassifier</label><div class=\"sk-toggleable__content\"><pre>KNeighborsClassifier(metric=&#x27;manhattan&#x27;, n_neighbors=11)</pre></div></div></div></div></div>"
            ]
          },
          "metadata": {},
          "execution_count": 84
        }
      ]
    },
    {
      "cell_type": "code",
      "source": [
        "predictions6 = knn.predict(X_test)\n",
        "print(confusion_matrix(y_test,predictions6))\n",
        "print(classification_report(y_test,predictions5))\n",
        "print(\"TEST ACCURACY : \",accuracy_score(y_test, predictions6)*100)"
      ],
      "metadata": {
        "id": "xbOaPga2a6OW",
        "outputId": "6dfb3a2c-c922-486d-bd28-99880c3700b6",
        "colab": {
          "base_uri": "https://localhost:8080/"
        }
      },
      "execution_count": 85,
      "outputs": [
        {
          "output_type": "stream",
          "name": "stdout",
          "text": [
            "[[194   0   0   0   0   0]\n",
            " [ 31   0   0   0   0   0]\n",
            " [ 31   0   0   0   0   0]\n",
            " [ 24   0   0   0   1   0]\n",
            " [ 29   0   0   0   0   0]\n",
            " [ 26   0   0   0   0   0]]\n",
            "              precision    recall  f1-score   support\n",
            "\n",
            "           0       0.64      0.91      0.75       194\n",
            "           1       0.67      0.26      0.37        31\n",
            "           2       0.69      0.29      0.41        31\n",
            "           3       0.69      0.36      0.47        25\n",
            "           4       0.20      0.10      0.14        29\n",
            "           5       0.38      0.12      0.18        26\n",
            "\n",
            "    accuracy                           0.62       336\n",
            "   macro avg       0.54      0.34      0.39       336\n",
            "weighted avg       0.59      0.62      0.57       336\n",
            "\n",
            "TEST ACCURACY :  57.738095238095234\n"
          ]
        }
      ]
    },
    {
      "cell_type": "code",
      "source": [
        "full_text= 'ඝරසරප චිත්‍රපටය පහළ  තියෙන    එකෙන් කරගන්න    මුහුණ  මුහුණ සමග දහඩිය'"
      ],
      "metadata": {
        "id": "aga9lvDaNA_k"
      },
      "execution_count": 86,
      "outputs": []
    },
    {
      "cell_type": "code",
      "source": [
        "A=[]\n",
        "A.append(full_text)\n",
        "A"
      ],
      "metadata": {
        "colab": {
          "base_uri": "https://localhost:8080/"
        },
        "id": "B4ZLd1tRNLi0",
        "outputId": "3146e94b-4c92-4f9a-92a8-9739535e89e3"
      },
      "execution_count": 87,
      "outputs": [
        {
          "output_type": "execute_result",
          "data": {
            "text/plain": [
              "['ඝරසරප චිත්\\u200dරපටය පහළ  තියෙන    එකෙන් කරගන්න    මුහුණ  මුහුණ සමග දහඩිය']"
            ]
          },
          "metadata": {},
          "execution_count": 87
        }
      ]
    },
    {
      "cell_type": "code",
      "source": [
        "test_vector = count_vector.transform(A)\n",
        "test_vector = test_vector.toarray()"
      ],
      "metadata": {
        "id": "2eqiHyPTNTQm"
      },
      "execution_count": 88,
      "outputs": []
    },
    {
      "cell_type": "code",
      "source": [
        "encoder = LabelEncoder()\n",
        "y = encoder.fit_transform(DF['Class'])\n",
        "y"
      ],
      "metadata": {
        "colab": {
          "base_uri": "https://localhost:8080/"
        },
        "id": "sHjhcJAkO2Sl",
        "outputId": "a8aca287-420e-46be-ab7f-5af36f34e626"
      },
      "execution_count": 89,
      "outputs": [
        {
          "output_type": "execute_result",
          "data": {
            "text/plain": [
              "array([0, 0, 0, ..., 2, 2, 2])"
            ]
          },
          "metadata": {},
          "execution_count": 89
        }
      ]
    },
    {
      "cell_type": "code",
      "source": [
        "text_predict_class = encoder.inverse_transform(rf_hy.predict(test_vector))\n",
        "print(A[0], 'is: ',text_predict_class[0])"
      ],
      "metadata": {
        "colab": {
          "base_uri": "https://localhost:8080/"
        },
        "id": "71JuCmmfNWd7",
        "outputId": "226b368d-b64f-4fd1-85f1-2d025e3ecf76"
      },
      "execution_count": 90,
      "outputs": [
        {
          "output_type": "stream",
          "name": "stdout",
          "text": [
            "ඝරසරප චිත්‍රපටය පහළ  තියෙන    එකෙන් කරගන්න    මුහුණ  මුහුණ සමග දහඩිය is:  Neutral\n"
          ]
        }
      ]
    },
    {
      "cell_type": "code",
      "source": [],
      "metadata": {
        "id": "Fj0WeRrFNz1K"
      },
      "execution_count": 90,
      "outputs": []
    },
    {
      "cell_type": "code",
      "source": [
        "import pickle\n",
        "from sklearn.preprocessing import LabelEncoder # to convert classes to number \n",
        "encoder = LabelEncoder()"
      ],
      "metadata": {
        "id": "dN8qN415NO1A"
      },
      "execution_count": 91,
      "outputs": []
    }
  ]
}